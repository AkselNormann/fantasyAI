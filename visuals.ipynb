{
 "cells": [
  {
   "cell_type": "code",
   "execution_count": 18,
   "metadata": {},
   "outputs": [],
   "source": [
    "import json\n",
    "import numpy as np\n",
    "import pandas as pd\n",
    "import plotly.express as px\n",
    "import variables\n",
    "import plotly.graph_objects as go\n",
    "\n"
   ]
  },
  {
   "cell_type": "code",
   "execution_count": 19,
   "metadata": {},
   "outputs": [],
   "source": [
    "# load players for data visualisation\n",
    "with open(f'data/final_players_sorted.json', 'r') as f:\n",
    "    org_players = json.load(f)\n",
    "with open(f'data/teams_cleaned.json', 'r') as f:\n",
    "    org_teams = json.load(f)\n",
    "    \n",
    "players = org_players[:]\n",
    "for player in players:\n",
    "    player['points'] = 0\n",
    "    for season in player['seasons']:\n",
    "        player['points'] += season['effective_total_points'] * season['season_factor']\n",
    "    player['cost'] = player['seasons'][0]['now_cost']\n",
    "    player['pc'] = player['points'] / player['seasons'][0]['now_cost']\n",
    "    if player['pc'] < 0:\n",
    "        player['pc'] = 0\n",
    "        \n",
    "        "
   ]
  },
  {
   "cell_type": "code",
   "execution_count": 20,
   "metadata": {},
   "outputs": [],
   "source": [
    "# load players for data visualisation\n",
    "with open(f'data/final_players_sorted.json', 'r') as f:\n",
    "    org_players = json.load(f)\n",
    "    \n",
    "players = org_players[:]\n",
    "for player in players:\n",
    "    player['points'] = 0\n",
    "    for season in player['seasons']:\n",
    "        player['points'] += season['effective_total_points'] * season['season_factor']\n",
    "    player['cost'] = player['seasons'][0]['now_cost']\n",
    "    player['pc'] = player['points'] / player['seasons'][0]['now_cost']\n",
    "    if player['pc'] < 0:\n",
    "        player['pc'] = 0\n",
    "\n"
   ]
  },
  {
   "cell_type": "code",
   "execution_count": 21,
   "metadata": {},
   "outputs": [],
   "source": [
    "# calculate some entities to compare\n",
    "forward_effective_points = np.mean([player['points'] for player in players if player['position'] == 'Forward'])\n",
    "forward_effective_points_per_cost = np.mean([player['pc'] for player in players if player['position'] == 'Forward'])\n",
    "forward_cost = np.mean([player['seasons'][0]['now_cost'] for player in players if player['position'] == 'Forward'])\n",
    "\n",
    "midfielder_effective_points = np.mean([player['points'] for player in players if player['position'] == 'Midfielder'])\n",
    "midfielder_effective_points_per_cost = np.mean([player['pc'] for player in players if player['position'] == 'Midfielder'])\n",
    "midfielder_cost = np.mean([player['seasons'][0]['now_cost'] for player in players if player['position'] == 'Midfielder'])\n",
    "\n",
    "defender_effective_points = np.mean([player['points'] for player in players if player['position'] == 'Defender'])\n",
    "defender_effective_points_per_cost = np.mean([player['pc'] for player in players if player['position'] == 'Defender'])\n",
    "defender_cost = np.mean([player['seasons'][0]['now_cost'] for player in players if player['position'] == 'Defender'])\n",
    "\n",
    "goalkeeper_effective_points = np.mean([player['points'] for player in players if player['position'] == 'Goalkeeper'])\n",
    "goalkeeper_effective_points_per_cost = np.mean([player['pc'] for player in players if player['position'] == 'Goalkeeper'])\n",
    "goalkeeper_cost = np.mean([player['seasons'][0]['now_cost'] for player in players if player['position'] == 'Goalkeeper'])\n",
    "\n"
   ]
  },
  {
   "cell_type": "code",
   "execution_count": 22,
   "metadata": {},
   "outputs": [
    {
     "data": {
      "application/vnd.plotly.v1+json": {
       "config": {
        "plotlyServerURL": "https://plot.ly"
       },
       "data": [
        {
         "customdata": [
          [
           "sergio agüero"
          ],
          [
           "teemu pukki"
          ],
          [
           "pierre-emerick aubameyang"
          ],
          [
           "tammy abraham"
          ],
          [
           "jamie vardy"
          ],
          [
           "roberto firmino"
          ],
          [
           "harry kane"
          ],
          [
           "callum wilson"
          ],
          [
           "sébastien haller"
          ],
          [
           "ashley barnes"
          ],
          [
           "alexandre lacazette"
          ],
          [
           "raúl jiménez"
          ],
          [
           "marcus rashford"
          ],
          [
           "joshua king"
          ],
          [
           "jordan ayew"
          ],
          [
           "wesley moraes"
          ],
          [
           "danny ings"
          ],
          [
           "andre gray"
          ],
          [
           "javier hernández balcázar"
          ],
          [
           "divock origi"
          ],
          [
           "gabriel fernando de jesus"
          ],
          [
           "billy sharp"
          ],
          [
           "diogo jota"
          ],
          [
           "joelinton cássio apolinário de lira"
          ],
          [
           "chris wood"
          ],
          [
           "gerard deulofeu"
          ],
          [
           "glenn murray"
          ],
          [
           "neal maupay"
          ],
          [
           "troy deeney"
          ],
          [
           "moise kean"
          ],
          [
           "oliver mcburnie"
          ],
          [
           "dominic calvert-lewin"
          ],
          [
           "michy batshuayi"
          ],
          [
           "florin andone"
          ],
          [
           "olivier giroud"
          ],
          [
           "shane long"
          ],
          [
           "dominic solanke"
          ],
          [
           "jürgen locadia"
          ],
          [
           "christian benteke"
          ],
          [
           "danny welbeck"
          ],
          [
           "isaac success ajayi"
          ],
          [
           "michael obafemi"
          ],
          [
           "jay rodriguez"
          ],
          [
           "yoshinori muto"
          ],
          [
           "jonathan kodjia"
          ],
          [
           "lys mousset"
          ],
          [
           "gabriel teodoro martinelli silva"
          ],
          [
           "dennis srbeny"
          ],
          [
           "josip drmic"
          ],
          [
           "che adams"
          ],
          [
           "connor wickham"
          ],
          [
           "david mcgoldrick"
          ],
          [
           "mason greenwood"
          ],
          [
           "aaron connolly"
          ],
          [
           "patrick cutrone"
          ]
         ],
         "hoverlabel": {
          "namelength": 0
         },
         "hovertemplate": "Position=Forward<br>Points=%{x}<br>Teams=%{y}<br>Points per Cost=%{marker.size}<br>full_name=%{customdata[0]}",
         "legendgroup": "Position=Forward",
         "marker": {
          "color": "#636efa",
          "size": [
           6.6339066339066335,
           4.142857142857143,
           6.586363636363637,
           2.9166666666666665,
           6.771141336487284,
           5.626038781163435,
           4.943181818181818,
           7.024886877828054,
           2.2666666666666666,
           5.597014925373134,
           5.709686450167974,
           7.403474903474903,
           4.467408585055644,
           5.392628205128204,
           2.57459505541347,
           1.1666666666666667,
           4.1190476190476195,
           3.697996918335901,
           4.2407407407407405,
           2.2545454545454544,
           2.3412563667232598,
           1.1864406779661016,
           5.7335907335907335,
           0.847457627118644,
           4.433370247323736,
           5.6722689075630255,
           5.147783251231528,
           0.8333333333333334,
           4.257703081232493,
           0.4411764705882353,
           0.6779661016949152,
           2.872664059104737,
           1.9154228855721391,
           1.016,
           1.394686907020873,
           2.808641975308642,
           0.1984126984126984,
           1.1177248677248677,
           0.6101694915254237,
           0.6666666666666666,
           0.2869897959183673,
           0.5142857142857142,
           0,
           0.23611111111111108,
           0,
           0.2933673469387755,
           0,
           0,
           0,
           0,
           0.25,
           0,
           0,
           0,
           0
          ],
          "sizemode": "area",
          "sizeref": 0.025457875457875458,
          "symbol": "circle"
         },
         "mode": "markers",
         "name": "Position=Forward",
         "showlegend": true,
         "type": "scatter",
         "x": [
          80.27027027027026,
          29,
          72.45,
          21,
          60.263157894736835,
          53.44736842105263,
          54.375,
          54.79411764705882,
          17,
          37.5,
          53.67105263157895,
          54.785714285714285,
          37.972972972972975,
          34.51282051282051,
          13.130434782608695,
          7,
          24.714285714285715,
          21.818181818181817,
          25.444444444444443,
          12.4,
          22.241935483870968,
          7,
          36.12162162162162,
          5,
          27.930232558139533,
          35.73529411764706,
          29.857142857142858,
          5,
          26.823529411764707,
          3,
          4,
          16.94871794871795,
          12.833333333333332,
          5.08,
          9.483870967741936,
          13.481481481481481,
          1.0714285714285714,
          6.035714285714286,
          3.6,
          4,
          1.40625,
          2.571428571428571,
          0,
          1.275,
          0,
          1.4375,
          0,
          0,
          0,
          0,
          1.125,
          0,
          0,
          0,
          0
         ],
         "xaxis": "x",
         "y": [
          "Man City",
          "Norwich",
          "Arsenal",
          "Chelsea",
          "Leicester",
          "Liverpool",
          "Spurs",
          "Bournemouth",
          "West Ham",
          "Burnley",
          "Arsenal",
          "Wolves",
          "Man Utd",
          "Bournemouth",
          "Crystal Palace",
          "Aston Villa",
          "Southampton",
          "Watford",
          "West Ham",
          "Liverpool",
          "Man City",
          "Sheffield Utd",
          "Wolves",
          "Newcastle",
          "Burnley",
          "Watford",
          "Brighton",
          "Brighton",
          "Watford",
          "Everton",
          "Sheffield Utd",
          "Everton",
          "Chelsea",
          "Brighton",
          "Chelsea",
          "Southampton",
          "Bournemouth",
          "Brighton",
          "Crystal Palace",
          "Watford",
          "Watford",
          "Southampton",
          "Burnley",
          "Newcastle",
          "Aston Villa",
          "Sheffield Utd",
          "Arsenal",
          "Norwich",
          "Norwich",
          "Southampton",
          "Crystal Palace",
          "Sheffield Utd",
          "Man Utd",
          "Brighton",
          "Wolves"
         ],
         "yaxis": "y"
        },
        {
         "customdata": [
          [
           "raheem sterling"
          ],
          [
           "mohamed salah"
          ],
          [
           "sadio mané"
          ],
          [
           "kevin de bruyne"
          ],
          [
           "david silva"
          ],
          [
           "richarlison de andrade"
          ],
          [
           "mason mount"
          ],
          [
           "todd cantwell"
          ],
          [
           "daniel james"
          ],
          [
           "anthony martial"
          ],
          [
           "gylfi sigurdsson"
          ],
          [
           "riyad mahrez"
          ],
          [
           "harry wilson"
          ],
          [
           "christian eriksen"
          ],
          [
           "lucas rodrigues moura da silva"
          ],
          [
           "heung-min son"
          ],
          [
           "ryan fraser"
          ],
          [
           "paul pogba"
          ],
          [
           "tanguy ndombele"
          ],
          [
           "bernardo mota veiga de carvalho e silva"
          ],
          [
           "erik lamela"
          ],
          [
           "john mcginn"
          ],
          [
           "james maddison"
          ],
          [
           "youri tielemans"
          ],
          [
           "nathan redmond"
          ],
          [
           "johann berg gudmundsson"
          ],
          [
           "douglas luiz soares de paulo"
          ],
          [
           "daniel ceballos fernández"
          ],
          [
           "callum robinson"
          ],
          [
           "dwight mcneil"
          ],
          [
           "bernard anício caldeira duarte"
          ],
          [
           "felipe anderson pereira gomes"
          ],
          [
           "will hughes"
          ],
          [
           "alex iwobi"
          ],
          [
           "mark noble"
          ],
          [
           "joão filipe iria santos moutinho"
          ],
          [
           "christian pulisic"
          ],
          [
           "manuel lanzini"
          ],
          [
           "jeffrey schlupp"
          ],
          [
           "ayoze pérez"
          ],
          [
           "michail antonio"
          ],
          [
           "emiliano buendía"
          ],
          [
           "wilfred ndidi"
          ],
          [
           "ashley westwood"
          ],
          [
           "luka milivojevic"
          ],
          [
           "rúben diogo da silva neves"
          ],
          [
           "james milner"
          ],
          [
           "anwar el ghazi"
          ],
          [
           "pedro rodríguez ledesma"
          ],
          [
           "andros townsend"
          ],
          [
           "jack grealish"
          ],
          [
           "lucas torreira"
          ],
          [
           "scott mctominay"
          ],
          [
           "pascal groß"
          ],
          [
           "wilfried zaha"
          ],
          [
           "james mcarthur"
          ],
          [
           "leandro trossard"
          ],
          [
           "georginio wijnaldum"
          ],
          [
           "moussa sissoko"
          ],
          [
           "isaac hayden"
          ],
          [
           "jonjo shelvey"
          ],
          [
           "nicolas pépé"
          ],
          [
           "jorge luiz frello filho"
          ],
          [
           "ilkay gündogan"
          ],
          [
           "josé ignacio peleteiro romallo"
          ],
          [
           "fabio henrique tavares"
          ],
          [
           "andriy yarmolenko"
          ],
          [
           "henrikh mkhitaryan"
          ],
          [
           "bamidele alli"
          ],
          [
           "mateo kovacic"
          ],
          [
           "willian borges da silva"
          ],
          [
           "harvey barnes"
          ],
          [
           "solomon march"
          ],
          [
           "matteo guendouzi"
          ],
          [
           "ross barkley"
          ],
          [
           "rodrigo hernandez"
          ],
          [
           "davy pröpper"
          ],
          [
           "n'golo kanté"
          ],
          [
           "theo walcott"
          ],
          [
           "jack cork"
          ],
          [
           "roberto pereyra"
          ],
          [
           "xherdan shaqiri"
          ],
          [
           "christian atsu"
          ],
          [
           "james ward-prowse"
          ],
          [
           "granit xhaka"
          ],
          [
           "jordan henderson"
          ],
          [
           "sean longstaff"
          ],
          [
           "jean-philippe gbamin"
          ],
          [
           "tom trybull"
          ],
          [
           "joseph willock"
          ],
          [
           "sofiane boufal"
          ],
          [
           "moussa djenepo"
          ],
          [
           "cheikhou kouyaté"
          ],
          [
           "andreas pereira"
          ],
          [
           "abdoulaye doucouré"
          ],
          [
           "fernando luiz rosa"
          ],
          [
           "leander dendoncker"
          ],
          [
           "jesse lingard"
          ],
          [
           "jeff hendrick"
          ],
          [
           "dale stephens"
          ],
          [
           "oliver norwood"
          ],
          [
           "pierre-emile højbjerg"
          ],
          [
           "hamza choudhury"
          ],
          [
           "demarai gray"
          ],
          [
           "declan rice"
          ],
          [
           "andré filipe tavares gomes"
          ],
          [
           "juan mata"
          ],
          [
           "jefferson lerma"
          ],
          [
           "stuart armstrong"
          ],
          [
           "aaron mooy"
          ],
          [
           "robert snodgrass"
          ],
          [
           "max meyer"
          ],
          [
           "philip billing"
          ],
          [
           "jordon ibe"
          ],
          [
           "harry winks"
          ],
          [
           "phil foden"
          ],
          [
           "andrew surman"
          ],
          [
           "aaron lennon"
          ],
          [
           "sung-yueng ki"
          ],
          [
           "etienne capoue"
          ],
          [
           "oliver skipp"
          ],
          [
           "morgan schneiderlin"
          ],
          [
           "miguel almirón"
          ],
          [
           "marco stiepermann"
          ],
          [
           "oriol romeu vidal"
          ],
          [
           "marc albrighton"
          ],
          [
           "tom cleverley"
          ],
          [
           "morgan gibbs-white"
          ],
          [
           "adama traoré"
          ],
          [
           "nampalys mendy"
          ],
          [
           "georges-kévin nkoudou"
          ],
          [
           "nemanja matic"
          ],
          [
           "reiss nelson"
          ],
          [
           "adam lallana"
          ],
          [
           "tom davies"
          ],
          [
           "domingos quina"
          ],
          [
           "jack wilshere"
          ],
          [
           "moritz leitner"
          ],
          [
           "conor hourihane"
          ],
          [
           "keinan davis"
          ],
          [
           "henri lansbury"
          ],
          [
           "giovani lo celso"
          ],
          [
           "billy gilmour"
          ],
          [
           "mario vrancic"
          ],
          [
           "onel hernández"
          ],
          [
           "kenny mclean"
          ],
          [
           "alexander tettey"
          ],
          [
           "ibrahim amadou"
          ],
          [
           "luke freeman"
          ],
          [
           "carlos sánchez"
          ],
          [
           "alex oxlade-chamberlain"
          ],
          [
           "nathaniel chalobah"
          ],
          [
           "pablo fornals"
          ],
          [
           "ravel morrison"
          ],
          [
           "ben osborn"
          ],
          [
           "dennis praet"
          ],
          [
           "allan saint-maximin"
          ],
          [
           "ismaïla sarr"
          ],
          [
           "mahmoud ahmed ibrahim hassan"
          ],
          [
           "john fleck"
          ],
          [
           "james mccarthy"
          ],
          [
           "pedro lomba neto"
          ]
         ],
         "hoverlabel": {
          "namelength": 0
         },
         "hovertemplate": "Position=Midfielder<br>Points=%{x}<br>Teams=%{y}<br>Points per Cost=%{marker.size}<br>full_name=%{customdata[0]}",
         "legendgroup": "Position=Midfielder",
         "marker": {
          "color": "#EF553B",
          "size": [
           7.449721865639709,
           7.885714285714287,
           7.121739130434783,
           2.9835847382431226,
           6.1315315315315315,
           6.1019149626744555,
           2.1875,
           2.7083333333333335,
           2.295081967213115,
           5.487012987012987,
           6.672771672771673,
           4.0910815939278935,
           1.8333333333333333,
           5.270979020979021,
           5.220077220077219,
           5.40829346092504,
           6.85583822570124,
           6.131221719457013,
           1.6666666666666667,
           5.552268244575938,
           3.760869565217391,
           1.6071428571428572,
           4.929577464788733,
           3.2720588235294117,
           5.3155245838172664,
           4.127604166666667,
           1.7391304347826089,
           1.5789473684210527,
           1.6981132075471699,
           3.293333333333333,
           2.82995951417004,
           5.919732441471572,
           3.4545454545454546,
           4.3128721942281265,
           4.887878787878789,
           4.562770562770563,
           0.8,
           1.758241758241758,
           4.231404958677686,
           5.383064516129032,
           4.48671497584541,
           0.8333333333333334,
           2.3571428571428568,
           3.9132553606237814,
           5.906862745098039,
           3.438228438228438,
           4.877450980392156,
           0.9090909090909091,
           4.2272727272727275,
           4.923325262308313,
           0.6666666666666666,
           2.7082184225041366,
           1.9600000000000002,
           2.8249336870026522,
           4.862700228832952,
           4.14021164021164,
           0.8333333333333334,
           3.6270396270396272,
           2.1818181818181817,
           2.835249042145594,
           1.911111111111111,
           0.3191489361702127,
           2.204878048780488,
           4.929919137466307,
           0.6779661016949152,
           1.7840909090909092,
           1.5254237288135593,
           3.623188405797101,
           2.8044871794871793,
           1.4343434343434343,
           3.330612244897959,
           1.6324710080285458,
           3.1344845630559917,
           0.1403508771929824,
           3.1810344827586206,
           0.36363636363636365,
           1.5941176470588236,
           4.252631578947367,
           3.237688237688238,
           1.28,
           4.489942528735632,
           4.114285714285714,
           1.4320987654320985,
           3.4519774011299433,
           2.7517361111111107,
           2.04040404040404,
           1.0846153846153848,
           0.2040816326530612,
           0.2222222222222222,
           0.2,
           0.5454545454545454,
           0.5555555555555555,
           1.5433673469387754,
           0.9666666666666668,
           4.047303271441202,
           2.2798742138364783,
           1.3236714975845412,
           2.313508064516129,
           1.7059483726150393,
           0.9084967320261437,
           0.2,
           2.530612244897959,
           0.45299145299145294,
           2.7493261455525606,
           2.2824919441460794,
           1.1051373954599761,
           2.379807692307692,
           1.3025210084033614,
           2.667824074074074,
           2.1700680272108843,
           2.361111111111111,
           1.4725209080047788,
           0.8193548387096774,
           0.738581146744412,
           0.5818181818181819,
           0.8760107816711591,
           0.18367346938775508,
           0.8571428571428573,
           0.5800214822771214,
           1.105442176870748,
           0.17777777777777778,
           0.3333333333333333,
           0.5447941888619855,
           0,
           0.29523809523809524,
           1.7314814814814814,
           0.6632653061224489,
           0.5895691609977324,
           0.90625,
           0.5381944444444444,
           0.15,
           0.40229885057471265,
           0,
           0.3934624697336562,
           0,
           0.691358024691358,
           0.4081632653061224,
           0,
           0,
           0,
           0,
           0,
           0,
           0,
           0,
           0,
           0,
           0,
           0,
           0,
           0,
           0,
           0,
           0,
           0,
           0,
           0,
           0,
           0,
           0,
           0,
           0
          ],
          "sizemode": "area",
          "sizeref": 0.025457875457875458,
          "symbol": "circle"
         },
         "mode": "markers",
         "name": "Position=Midfielder",
         "showlegend": true,
         "type": "scatter",
         "x": [
          91.63157894736842,
          98.57142857142858,
          81.9,
          29.239130434782606,
          45.986486486486484,
          48.205128205128204,
          14,
          13,
          14,
          42.25,
          52.04761904761905,
          34.774193548387096,
          11,
          46.38461538461539,
          38.628571428571426,
          51.37878787878788,
          50.04761904761905,
          52.11538461538461,
          10,
          43.307692307692314,
          22.565217391304348,
          9,
          35,
          20.941176470588236,
          33.48780487804878,
          24.765625,
          8,
          9,
          9,
          19.759999999999998,
          18.39473684210526,
          40.84615384615385,
          19,
          25.445945945945947,
          24.43939393939394,
          25.095238095238095,
          6,
          11.428571428571427,
          23.272727272727273,
          33.375,
          30.958333333333332,
          5,
          11.785714285714285,
          21.13157894736842,
          40.166666666666664,
          18.91025641025641,
          26.338235294117645,
          5,
          29.590909090909093,
          29.047619047619047,
          4,
          13.27027027027027,
          9.8,
          18.36206896551724,
          33.55263157894737,
          22.357142857142858,
          5,
          19.94871794871795,
          10.909090909090908,
          12.758620689655173,
          9.555555555555555,
          3,
          11.02439024390244,
          26.128571428571426,
          4,
          9.8125,
          9,
          25,
          23.557692307692307,
          7.888888888888888,
          23.314285714285713,
          9.631578947368421,
          15.35897435897436,
          0.6315789473684208,
          18.45,
          2,
          7.970588235294118,
          21.26315789473684,
          20.397435897435898,
          6.4,
          26.041666666666664,
          25.919999999999998,
          7.7333333333333325,
          20.366666666666667,
          14.859375,
          11.222222222222221,
          5.423076923076923,
          1,
          1,
          1,
          3,
          3,
          7.5625,
          4.833333333333334,
          23.474358974358974,
          12.083333333333334,
          5.9565217391304355,
          14.806451612903226,
          9.212121212121213,
          4.088235294117647,
          1,
          12.399999999999999,
          2.0384615384615383,
          14.571428571428571,
          11.18421052631579,
          5.967741935483871,
          15.23076923076923,
          6.382352941176471,
          14.40625,
          10.633333333333333,
          12.75,
          7.951612903225806,
          4.096774193548387,
          3.619047619047619,
          3.2000000000000006,
          4.642857142857143,
          0.9,
          4.200000000000001,
          2.8421052631578947,
          5.416666666666666,
          0.8,
          1.5,
          3.2142857142857144,
          0,
          1.3285714285714285,
          9.35,
          3.25,
          2.888888888888889,
          4.53125,
          2.421875,
          0.75,
          1.9310344827586208,
          0,
          2.3214285714285716,
          -0.47058823529411764,
          3.1111111111111107,
          2,
          -1,
          0,
          0,
          0,
          0,
          0,
          0,
          0,
          0,
          0,
          0,
          0,
          0,
          0,
          -0.9,
          0,
          0,
          0,
          0,
          0,
          0,
          -3,
          -1,
          -0.8333333333333333,
          -1
         ],
         "xaxis": "x",
         "y": [
          "Man City",
          "Liverpool",
          "Liverpool",
          "Man City",
          "Man City",
          "Everton",
          "Chelsea",
          "Norwich",
          "Man Utd",
          "Man Utd",
          "Everton",
          "Man City",
          "Bournemouth",
          "Spurs",
          "Spurs",
          "Spurs",
          "Bournemouth",
          "Man Utd",
          "Spurs",
          "Man City",
          "Spurs",
          "Aston Villa",
          "Leicester",
          "Leicester",
          "Southampton",
          "Burnley",
          "Aston Villa",
          "Arsenal",
          "Sheffield Utd",
          "Burnley",
          "Everton",
          "West Ham",
          "Watford",
          "Everton",
          "West Ham",
          "Wolves",
          "Chelsea",
          "West Ham",
          "Crystal Palace",
          "Leicester",
          "West Ham",
          "Norwich",
          "Leicester",
          "Burnley",
          "Crystal Palace",
          "Wolves",
          "Liverpool",
          "Aston Villa",
          "Chelsea",
          "Crystal Palace",
          "Aston Villa",
          "Arsenal",
          "Man Utd",
          "Brighton",
          "Crystal Palace",
          "Crystal Palace",
          "Brighton",
          "Liverpool",
          "Spurs",
          "Newcastle",
          "Newcastle",
          "Arsenal",
          "Chelsea",
          "Man City",
          "Aston Villa",
          "Liverpool",
          "West Ham",
          "Arsenal",
          "Spurs",
          "Chelsea",
          "Chelsea",
          "Leicester",
          "Brighton",
          "Arsenal",
          "Chelsea",
          "Man City",
          "Brighton",
          "Chelsea",
          "Everton",
          "Burnley",
          "Watford",
          "Liverpool",
          "Newcastle",
          "Southampton",
          "Arsenal",
          "Liverpool",
          "Newcastle",
          "Everton",
          "Norwich",
          "Arsenal",
          "Southampton",
          "Southampton",
          "Crystal Palace",
          "Man Utd",
          "Watford",
          "Man City",
          "Wolves",
          "Man Utd",
          "Burnley",
          "Brighton",
          "Sheffield Utd",
          "Southampton",
          "Leicester",
          "Leicester",
          "West Ham",
          "Everton",
          "Man Utd",
          "Bournemouth",
          "Southampton",
          "Brighton",
          "West Ham",
          "Crystal Palace",
          "Bournemouth",
          "Bournemouth",
          "Spurs",
          "Man City",
          "Bournemouth",
          "Burnley",
          "Newcastle",
          "Watford",
          "Spurs",
          "Everton",
          "Newcastle",
          "Norwich",
          "Southampton",
          "Leicester",
          "Watford",
          "Wolves",
          "Wolves",
          "Leicester",
          "Spurs",
          "Man Utd",
          "Arsenal",
          "Liverpool",
          "Everton",
          "Watford",
          "West Ham",
          "Norwich",
          "Aston Villa",
          "Aston Villa",
          "Aston Villa",
          "Spurs",
          "Chelsea",
          "Norwich",
          "Norwich",
          "Norwich",
          "Norwich",
          "Norwich",
          "Sheffield Utd",
          "West Ham",
          "Liverpool",
          "Watford",
          "West Ham",
          "Sheffield Utd",
          "Sheffield Utd",
          "Leicester",
          "Newcastle",
          "Watford",
          "Aston Villa",
          "Sheffield Utd",
          "Crystal Palace",
          "Wolves"
         ],
         "yaxis": "y"
        },
        {
         "customdata": [
          [
           "trent alexander-arnold"
          ],
          [
           "lucas digne"
          ],
          [
           "virgil van dijk"
          ],
          [
           "patrick van aanholt"
          ],
          [
           "andrew robertson"
          ],
          [
           "kyle walker"
          ],
          [
           "erik pieters"
          ],
          [
           "aymeric laporte"
          ],
          [
           "michael keane"
          ],
          [
           "ricardo domingos barbosa pereira"
          ],
          [
           "john lundstram"
          ],
          [
           "fabian schär"
          ],
          [
           "joel matip"
          ],
          [
           "seamus coleman"
          ],
          [
           "jannik vestergaard"
          ],
          [
           "willy boly"
          ],
          [
           "marcos alonso"
          ],
          [
           "yerry mina"
          ],
          [
           "matt doherty"
          ],
          [
           "benjamin chilwell"
          ],
          [
           "enda stevens"
          ],
          [
           "george baldock"
          ],
          [
           "oleksandr zinchenko"
          ],
          [
           "ainsley maitland-niles"
          ],
          [
           "john stones"
          ],
          [
           "tyrone mings"
          ],
          [
           "césar azpilicueta"
          ],
          [
           "nacho monreal"
          ],
          [
           "joel ward"
          ],
          [
           "bjorn engels"
          ],
          [
           "jonny evans"
          ],
          [
           "david luiz moreira marinho"
          ],
          [
           "arthur masuaku"
          ],
          [
           "aaron wan-bissaka"
          ],
          [
           "shane duffy"
          ],
          [
           "nicolás otamendi"
          ],
          [
           "martin kelly"
          ],
          [
           "chris mepham"
          ],
          [
           "luke shaw"
          ],
          [
           "jonathan castro otto"
          ],
          [
           "lewis dunk"
          ],
          [
           "matt ritchie"
          ],
          [
           "jamaal lascelles"
          ],
          [
           "çaglar söyüncü"
          ],
          [
           "james tarkowski"
          ],
          [
           "sokratis papastathopoulos"
          ],
          [
           "kevin danso"
          ],
          [
           "harry maguire"
          ],
          [
           "issa diop"
          ],
          [
           "calum chambers"
          ],
          [
           "romain saïss"
          ],
          [
           "frédéric guilbert"
          ],
          [
           "victor lindelöf"
          ],
          [
           "conor coady"
          ],
          [
           "ben mee"
          ],
          [
           "emil krafth"
          ],
          [
           "scott dann"
          ],
          [
           "paul dummett"
          ],
          [
           "toby alderweireld"
          ],
          [
           "ahmed el mohamady"
          ],
          [
           "neil taylor"
          ],
          [
           "nathan aké"
          ],
          [
           "ryan bennett"
          ],
          [
           "sead kolasinac"
          ],
          [
           "gary cahill"
          ],
          [
           "angelo ogbonna"
          ],
          [
           "jack o'connell"
          ],
          [
           "john egan"
          ],
          [
           "chris basham"
          ],
          [
           "jan bednarek"
          ],
          [
           "jan vertonghen"
          ],
          [
           "ryan fredericks"
          ],
          [
           "mamadou sakho"
          ],
          [
           "matthew lowton"
          ],
          [
           "ben davies"
          ],
          [
           "joseph gomez"
          ],
          [
           "danny rose"
          ],
          [
           "wes morgan"
          ],
          [
           "dan burn"
          ],
          [
           "davinson sánchez"
          ],
          [
           "steve cook"
          ],
          [
           "charlie daniels"
          ],
          [
           "cédric soares"
          ],
          [
           "kurt zouma"
          ],
          [
           "kyle walker-peters"
          ],
          [
           "adam smith"
          ],
          [
           "daryl janmaat"
          ],
          [
           "javier manquillo"
          ],
          [
           "josé holebas"
          ],
          [
           "ashley young"
          ],
          [
           "federico fernández"
          ],
          [
           "jamal lewis"
          ],
          [
           "jack stephens"
          ],
          [
           "craig cathcart"
          ],
          [
           "francisco femenía far"
          ],
          [
           "yan valery"
          ],
          [
           "phil jagielka"
          ],
          [
           "andreas christensen"
          ],
          [
           "ryan bertrand"
          ],
          [
           "maya yoshida"
          ],
          [
           "diego rico"
          ],
          [
           "fikayo tomori"
          ],
          [
           "mason holgate"
          ],
          [
           "christoph zimmermann"
          ],
          [
           "sam byram"
          ],
          [
           "joão pedro cavaco cancelo"
          ],
          [
           "emerson palmieri dos santos"
          ],
          [
           "jetro willems"
          ],
          [
           "christian fuchs"
          ],
          [
           "martín montoya"
          ],
          [
           "christian kabasele"
          ],
          [
           "bernardo fernandes da silva junior"
          ],
          [
           "ben godfrey"
          ],
          [
           "craig dawson"
          ],
          [
           "grant hanley"
          ],
          [
           "maximillian aarons"
          ]
         ],
         "hoverlabel": {
          "namelength": 0
         },
         "hovertemplate": "Position=Defender<br>Points=%{x}<br>Teams=%{y}<br>Points per Cost=%{marker.size}<br>full_name=%{customdata[0]}",
         "legendgroup": "Position=Defender",
         "marker": {
          "color": "#00cc96",
          "size": [
           9.088775074690568,
           7.976040353089535,
           10.183150183150182,
           7.11607142857143,
           9.51449275362319,
           7.130630630630631,
           2.173913043478261,
           7.744391025641025,
           5.914004914004914,
           6.326923076923077,
           2.380952380952381,
           5.285714285714286,
           4.725925925925925,
           5.8402203856749315,
           1.9481481481481482,
           5.290000000000001,
           7.734375,
           1.9905462184873952,
           5.91869918699187,
           4.717348927875244,
           1.4,
           1.5555555555555556,
           2.0138888888888893,
           1.647058823529412,
           3.9407407407407407,
           1.2222222222222223,
           6.194511702986278,
           3.528,
           1.5151515151515151,
           1.1111111111111112,
           3.3428571428571425,
           6.831812255541069,
           1.9017094017094014,
           4.37995337995338,
           4.560526315789473,
           3.306878306878306,
           1.2984218077474896,
           1.2430555555555556,
           3.1741898148148144,
           3.5454545454545454,
           2.673913043478261,
           3.6111111111111103,
           3.728395061728395,
           1.0222222222222221,
           2.623076923076923,
           1.6344827586206896,
           0.8888888888888888,
           2.8597402597402595,
           2.5735735735735736,
           0.5656565656565656,
           2.37012987012987,
           0.45454545454545453,
           2.412854030501089,
           1.9571428571428569,
           0.6720930232558139,
           0.6666666666666666,
           1.0740740740740742,
           2.177777777777778,
           3.1445221445221447,
           0.2222222222222222,
           0.2222222222222222,
           3.7269193391642372,
           1.9894736842105263,
           3.0626780626780623,
           0.6666666666666666,
           0.7654320987654322,
           0.4444444444444444,
           0.4444444444444444,
           0.4444444444444444,
           0.47619047619047616,
           2.06726825266612,
           1.1871345029239766,
           3.2785714285714285,
           0,
           1.6677115987460815,
           2.440087145969499,
           2.73939393939394,
           3.4782608695652173,
           0.2222222222222222,
           2.242424242424242,
           1.8142857142857143,
           0.608695652173913,
           1.8367346938775508,
           3.690016547159405,
           1.0884353741496597,
           1.7279693486590038,
           1.7224880382775116,
           2.4545454545454546,
           3.2123655913978495,
           1.290509259259259,
           1.3365800865800865,
           0,
           0.5363636363636363,
           1.9772727272727268,
           1.34297520661157,
           0.945839874411303,
           1.1931818181818181,
           0.2,
           0.533751962323391,
           0.8911483253588517,
           0,
           0,
           0,
           0,
           0,
           0,
           0,
           0,
           0,
           0,
           0,
           0,
           0,
           0,
           0,
           0
          ],
          "sizemode": "area",
          "sizeref": 0.025457875457875458,
          "symbol": "circle"
         },
         "mode": "markers",
         "name": "Position=Defender",
         "showlegend": true,
         "type": "scatter",
         "x": [
          64.53030303030303,
          48.65384615384616,
          66.19047619047619,
          39.85,
          65.65,
          42.78378378378379,
          10,
          49.56410256410256,
          32.527027027027025,
          37.96153846153846,
          10,
          26.428571428571427,
          25.52,
          32.121212121212125,
          9.74074074074074,
          26.450000000000003,
          47.953125,
          11.147058823529413,
          35.51219512195122,
          25.473684210526315,
          7,
          7,
          11.277777777777779,
          8.4,
          21.28,
          5.5,
          36.547619047619044,
          17.64,
          6.818181818181818,
          5,
          16.71428571428571,
          40.307692307692314,
          8.557692307692307,
          24.08974358974359,
          22.802631578947366,
          17.857142857142854,
          5.3235294117647065,
          5.59375,
          17.140625,
          19.5,
          12.3,
          19.499999999999996,
          16.77777777777778,
          4.6,
          13.115384615384615,
          8.172413793103448,
          4,
          15.728571428571428,
          11.58108108108108,
          2.5454545454545454,
          10.428571428571429,
          2,
          13.029411764705882,
          9.785714285714285,
          3.3604651162790695,
          3,
          4.833333333333334,
          9.8,
          17.294871794871796,
          1,
          1,
          18.261904761904763,
          9.947368421052632,
          16.538461538461537,
          3,
          3.4444444444444446,
          2,
          2,
          2,
          2.142857142857143,
          10.956521739130435,
          5.342105263157895,
          16.392857142857142,
          -1.36,
          9.172413793103448,
          13.176470588235293,
          15.06666666666667,
          15.304347826086957,
          1,
          12.333333333333332,
          9.071428571428571,
          2.7391304347826084,
          9,
          18.081081081081084,
          5.333333333333333,
          7.775862068965517,
          7.578947368421052,
          10.8,
          15.419354838709678,
          6.96875,
          5.880952380952381,
          0,
          2.36,
          8.7,
          5.909090909090909,
          4.634615384615385,
          5.25,
          1,
          2.615384615384616,
          3.921052631578948,
          -3.6666666666666665,
          -1,
          -1.6666666666666667,
          0,
          0,
          0,
          -0.7857142857142854,
          0,
          -0.5,
          -1.7241379310344827,
          -0.9545454545454546,
          -1.4583333333333333,
          -4,
          -3,
          -5,
          -6
         ],
         "xaxis": "x",
         "y": [
          "Liverpool",
          "Everton",
          "Liverpool",
          "Crystal Palace",
          "Liverpool",
          "Man City",
          "Burnley",
          "Man City",
          "Everton",
          "Leicester",
          "Sheffield Utd",
          "Newcastle",
          "Liverpool",
          "Everton",
          "Southampton",
          "Wolves",
          "Chelsea",
          "Everton",
          "Wolves",
          "Leicester",
          "Sheffield Utd",
          "Sheffield Utd",
          "Man City",
          "Arsenal",
          "Man City",
          "Aston Villa",
          "Chelsea",
          "Arsenal",
          "Crystal Palace",
          "Aston Villa",
          "Leicester",
          "Arsenal",
          "West Ham",
          "Man Utd",
          "Brighton",
          "Man City",
          "Crystal Palace",
          "Bournemouth",
          "Man Utd",
          "Wolves",
          "Brighton",
          "Newcastle",
          "Newcastle",
          "Leicester",
          "Burnley",
          "Arsenal",
          "Southampton",
          "Man Utd",
          "West Ham",
          "Arsenal",
          "Wolves",
          "Aston Villa",
          "Man Utd",
          "Wolves",
          "Burnley",
          "Newcastle",
          "Crystal Palace",
          "Newcastle",
          "Spurs",
          "Aston Villa",
          "Aston Villa",
          "Bournemouth",
          "Wolves",
          "Arsenal",
          "Crystal Palace",
          "West Ham",
          "Sheffield Utd",
          "Sheffield Utd",
          "Sheffield Utd",
          "Southampton",
          "Spurs",
          "West Ham",
          "Crystal Palace",
          "Burnley",
          "Spurs",
          "Liverpool",
          "Spurs",
          "Leicester",
          "Brighton",
          "Spurs",
          "Bournemouth",
          "Bournemouth",
          "Southampton",
          "Chelsea",
          "Spurs",
          "Bournemouth",
          "Watford",
          "Newcastle",
          "Watford",
          "Man Utd",
          "Newcastle",
          "Norwich",
          "Southampton",
          "Watford",
          "Watford",
          "Southampton",
          "Sheffield Utd",
          "Chelsea",
          "Southampton",
          "Southampton",
          "Bournemouth",
          "Chelsea",
          "Everton",
          "Norwich",
          "Norwich",
          "Man City",
          "Chelsea",
          "Newcastle",
          "Leicester",
          "Brighton",
          "Watford",
          "Brighton",
          "Norwich",
          "Watford",
          "Norwich",
          "Norwich"
         ],
         "yaxis": "y"
        },
        {
         "customdata": [
          [
           "ederson santana de moraes"
          ],
          [
           "jordan pickford"
          ],
          [
           "rui pedro dos santos patrício"
          ],
          [
           "hugo lloris"
          ],
          [
           "nick pope"
          ],
          [
           "bernd leno"
          ],
          [
           "lukasz fabianski"
          ],
          [
           "david de gea"
          ],
          [
           "vicente guaita"
          ],
          [
           "alisson ramses becker"
          ],
          [
           "martin dubravka"
          ],
          [
           "dean henderson"
          ],
          [
           "kasper schmeichel"
          ],
          [
           "angus gunn"
          ],
          [
           "ben foster"
          ],
          [
           "mathew ryan"
          ],
          [
           "tom heaton"
          ],
          [
           "adrián san miguel del castillo"
          ],
          [
           "kepa arrizabalaga"
          ],
          [
           "aaron ramsdale"
          ],
          [
           "tim krul"
          ]
         ],
         "hoverlabel": {
          "namelength": 0
         },
         "hovertemplate": "Position=Goalkeeper<br>Points=%{x}<br>Teams=%{y}<br>Points per Cost=%{marker.size}<br>full_name=%{customdata[0]}",
         "legendgroup": "Position=Goalkeeper",
         "marker": {
          "color": "#ab63fa",
          "size": [
           7.704918032786885,
           7.648809523809525,
           5.184122429459589,
           6.707616707616707,
           1.5217391304347827,
           4.488888888888889,
           6.60952380952381,
           4.238945578231293,
           4.316666666666667,
           8.399646330680813,
           5.534883720930233,
           1.3333333333333333,
           4.5285714285714285,
           2.888888888888889,
           5.228377065111759,
           3.9816933638443937,
           2.357487922705314,
           1.0869565217391306,
           5.427272727272728,
           0,
           0
          ],
          "sizemode": "area",
          "sizeref": 0.025457875457875458,
          "symbol": "circle"
         },
         "mode": "markers",
         "name": "Position=Goalkeeper",
         "showlegend": true,
         "type": "scatter",
         "x": [
          47,
          42.833333333333336,
          26.439024390243905,
          36.89189189189189,
          7,
          22.444444444444443,
          33.04761904761905,
          23.73809523809524,
          21.583333333333336,
          48.717948717948715,
          27.674418604651162,
          6,
          22.642857142857142,
          13,
          25.61904761904762,
          18.31578947368421,
          10.608695652173912,
          5,
          29.85,
          0,
          -1
         ],
         "xaxis": "x",
         "y": [
          "Man City",
          "Everton",
          "Wolves",
          "Spurs",
          "Burnley",
          "Arsenal",
          "West Ham",
          "Man Utd",
          "Crystal Palace",
          "Liverpool",
          "Newcastle",
          "Sheffield Utd",
          "Leicester",
          "Southampton",
          "Watford",
          "Brighton",
          "Aston Villa",
          "Liverpool",
          "Chelsea",
          "Bournemouth",
          "Norwich"
         ],
         "yaxis": "y"
        }
       ],
       "layout": {
        "height": 600,
        "legend": {
         "itemsizing": "constant",
         "tracegroupgap": 0
        },
        "margin": {
         "t": 60
        },
        "template": {
         "data": {
          "bar": [
           {
            "error_x": {
             "color": "#2a3f5f"
            },
            "error_y": {
             "color": "#2a3f5f"
            },
            "marker": {
             "line": {
              "color": "#E5ECF6",
              "width": 0.5
             }
            },
            "type": "bar"
           }
          ],
          "barpolar": [
           {
            "marker": {
             "line": {
              "color": "#E5ECF6",
              "width": 0.5
             }
            },
            "type": "barpolar"
           }
          ],
          "carpet": [
           {
            "aaxis": {
             "endlinecolor": "#2a3f5f",
             "gridcolor": "white",
             "linecolor": "white",
             "minorgridcolor": "white",
             "startlinecolor": "#2a3f5f"
            },
            "baxis": {
             "endlinecolor": "#2a3f5f",
             "gridcolor": "white",
             "linecolor": "white",
             "minorgridcolor": "white",
             "startlinecolor": "#2a3f5f"
            },
            "type": "carpet"
           }
          ],
          "choropleth": [
           {
            "colorbar": {
             "outlinewidth": 0,
             "ticks": ""
            },
            "type": "choropleth"
           }
          ],
          "contour": [
           {
            "colorbar": {
             "outlinewidth": 0,
             "ticks": ""
            },
            "colorscale": [
             [
              0,
              "#0d0887"
             ],
             [
              0.1111111111111111,
              "#46039f"
             ],
             [
              0.2222222222222222,
              "#7201a8"
             ],
             [
              0.3333333333333333,
              "#9c179e"
             ],
             [
              0.4444444444444444,
              "#bd3786"
             ],
             [
              0.5555555555555556,
              "#d8576b"
             ],
             [
              0.6666666666666666,
              "#ed7953"
             ],
             [
              0.7777777777777778,
              "#fb9f3a"
             ],
             [
              0.8888888888888888,
              "#fdca26"
             ],
             [
              1,
              "#f0f921"
             ]
            ],
            "type": "contour"
           }
          ],
          "contourcarpet": [
           {
            "colorbar": {
             "outlinewidth": 0,
             "ticks": ""
            },
            "type": "contourcarpet"
           }
          ],
          "heatmap": [
           {
            "colorbar": {
             "outlinewidth": 0,
             "ticks": ""
            },
            "colorscale": [
             [
              0,
              "#0d0887"
             ],
             [
              0.1111111111111111,
              "#46039f"
             ],
             [
              0.2222222222222222,
              "#7201a8"
             ],
             [
              0.3333333333333333,
              "#9c179e"
             ],
             [
              0.4444444444444444,
              "#bd3786"
             ],
             [
              0.5555555555555556,
              "#d8576b"
             ],
             [
              0.6666666666666666,
              "#ed7953"
             ],
             [
              0.7777777777777778,
              "#fb9f3a"
             ],
             [
              0.8888888888888888,
              "#fdca26"
             ],
             [
              1,
              "#f0f921"
             ]
            ],
            "type": "heatmap"
           }
          ],
          "heatmapgl": [
           {
            "colorbar": {
             "outlinewidth": 0,
             "ticks": ""
            },
            "colorscale": [
             [
              0,
              "#0d0887"
             ],
             [
              0.1111111111111111,
              "#46039f"
             ],
             [
              0.2222222222222222,
              "#7201a8"
             ],
             [
              0.3333333333333333,
              "#9c179e"
             ],
             [
              0.4444444444444444,
              "#bd3786"
             ],
             [
              0.5555555555555556,
              "#d8576b"
             ],
             [
              0.6666666666666666,
              "#ed7953"
             ],
             [
              0.7777777777777778,
              "#fb9f3a"
             ],
             [
              0.8888888888888888,
              "#fdca26"
             ],
             [
              1,
              "#f0f921"
             ]
            ],
            "type": "heatmapgl"
           }
          ],
          "histogram": [
           {
            "marker": {
             "colorbar": {
              "outlinewidth": 0,
              "ticks": ""
             }
            },
            "type": "histogram"
           }
          ],
          "histogram2d": [
           {
            "colorbar": {
             "outlinewidth": 0,
             "ticks": ""
            },
            "colorscale": [
             [
              0,
              "#0d0887"
             ],
             [
              0.1111111111111111,
              "#46039f"
             ],
             [
              0.2222222222222222,
              "#7201a8"
             ],
             [
              0.3333333333333333,
              "#9c179e"
             ],
             [
              0.4444444444444444,
              "#bd3786"
             ],
             [
              0.5555555555555556,
              "#d8576b"
             ],
             [
              0.6666666666666666,
              "#ed7953"
             ],
             [
              0.7777777777777778,
              "#fb9f3a"
             ],
             [
              0.8888888888888888,
              "#fdca26"
             ],
             [
              1,
              "#f0f921"
             ]
            ],
            "type": "histogram2d"
           }
          ],
          "histogram2dcontour": [
           {
            "colorbar": {
             "outlinewidth": 0,
             "ticks": ""
            },
            "colorscale": [
             [
              0,
              "#0d0887"
             ],
             [
              0.1111111111111111,
              "#46039f"
             ],
             [
              0.2222222222222222,
              "#7201a8"
             ],
             [
              0.3333333333333333,
              "#9c179e"
             ],
             [
              0.4444444444444444,
              "#bd3786"
             ],
             [
              0.5555555555555556,
              "#d8576b"
             ],
             [
              0.6666666666666666,
              "#ed7953"
             ],
             [
              0.7777777777777778,
              "#fb9f3a"
             ],
             [
              0.8888888888888888,
              "#fdca26"
             ],
             [
              1,
              "#f0f921"
             ]
            ],
            "type": "histogram2dcontour"
           }
          ],
          "mesh3d": [
           {
            "colorbar": {
             "outlinewidth": 0,
             "ticks": ""
            },
            "type": "mesh3d"
           }
          ],
          "parcoords": [
           {
            "line": {
             "colorbar": {
              "outlinewidth": 0,
              "ticks": ""
             }
            },
            "type": "parcoords"
           }
          ],
          "scatter": [
           {
            "marker": {
             "colorbar": {
              "outlinewidth": 0,
              "ticks": ""
             }
            },
            "type": "scatter"
           }
          ],
          "scatter3d": [
           {
            "line": {
             "colorbar": {
              "outlinewidth": 0,
              "ticks": ""
             }
            },
            "marker": {
             "colorbar": {
              "outlinewidth": 0,
              "ticks": ""
             }
            },
            "type": "scatter3d"
           }
          ],
          "scattercarpet": [
           {
            "marker": {
             "colorbar": {
              "outlinewidth": 0,
              "ticks": ""
             }
            },
            "type": "scattercarpet"
           }
          ],
          "scattergeo": [
           {
            "marker": {
             "colorbar": {
              "outlinewidth": 0,
              "ticks": ""
             }
            },
            "type": "scattergeo"
           }
          ],
          "scattergl": [
           {
            "marker": {
             "colorbar": {
              "outlinewidth": 0,
              "ticks": ""
             }
            },
            "type": "scattergl"
           }
          ],
          "scattermapbox": [
           {
            "marker": {
             "colorbar": {
              "outlinewidth": 0,
              "ticks": ""
             }
            },
            "type": "scattermapbox"
           }
          ],
          "scatterpolar": [
           {
            "marker": {
             "colorbar": {
              "outlinewidth": 0,
              "ticks": ""
             }
            },
            "type": "scatterpolar"
           }
          ],
          "scatterpolargl": [
           {
            "marker": {
             "colorbar": {
              "outlinewidth": 0,
              "ticks": ""
             }
            },
            "type": "scatterpolargl"
           }
          ],
          "scatterternary": [
           {
            "marker": {
             "colorbar": {
              "outlinewidth": 0,
              "ticks": ""
             }
            },
            "type": "scatterternary"
           }
          ],
          "surface": [
           {
            "colorbar": {
             "outlinewidth": 0,
             "ticks": ""
            },
            "colorscale": [
             [
              0,
              "#0d0887"
             ],
             [
              0.1111111111111111,
              "#46039f"
             ],
             [
              0.2222222222222222,
              "#7201a8"
             ],
             [
              0.3333333333333333,
              "#9c179e"
             ],
             [
              0.4444444444444444,
              "#bd3786"
             ],
             [
              0.5555555555555556,
              "#d8576b"
             ],
             [
              0.6666666666666666,
              "#ed7953"
             ],
             [
              0.7777777777777778,
              "#fb9f3a"
             ],
             [
              0.8888888888888888,
              "#fdca26"
             ],
             [
              1,
              "#f0f921"
             ]
            ],
            "type": "surface"
           }
          ],
          "table": [
           {
            "cells": {
             "fill": {
              "color": "#EBF0F8"
             },
             "line": {
              "color": "white"
             }
            },
            "header": {
             "fill": {
              "color": "#C8D4E3"
             },
             "line": {
              "color": "white"
             }
            },
            "type": "table"
           }
          ]
         },
         "layout": {
          "annotationdefaults": {
           "arrowcolor": "#2a3f5f",
           "arrowhead": 0,
           "arrowwidth": 1
          },
          "colorscale": {
           "diverging": [
            [
             0,
             "#8e0152"
            ],
            [
             0.1,
             "#c51b7d"
            ],
            [
             0.2,
             "#de77ae"
            ],
            [
             0.3,
             "#f1b6da"
            ],
            [
             0.4,
             "#fde0ef"
            ],
            [
             0.5,
             "#f7f7f7"
            ],
            [
             0.6,
             "#e6f5d0"
            ],
            [
             0.7,
             "#b8e186"
            ],
            [
             0.8,
             "#7fbc41"
            ],
            [
             0.9,
             "#4d9221"
            ],
            [
             1,
             "#276419"
            ]
           ],
           "sequential": [
            [
             0,
             "#0d0887"
            ],
            [
             0.1111111111111111,
             "#46039f"
            ],
            [
             0.2222222222222222,
             "#7201a8"
            ],
            [
             0.3333333333333333,
             "#9c179e"
            ],
            [
             0.4444444444444444,
             "#bd3786"
            ],
            [
             0.5555555555555556,
             "#d8576b"
            ],
            [
             0.6666666666666666,
             "#ed7953"
            ],
            [
             0.7777777777777778,
             "#fb9f3a"
            ],
            [
             0.8888888888888888,
             "#fdca26"
            ],
            [
             1,
             "#f0f921"
            ]
           ],
           "sequentialminus": [
            [
             0,
             "#0d0887"
            ],
            [
             0.1111111111111111,
             "#46039f"
            ],
            [
             0.2222222222222222,
             "#7201a8"
            ],
            [
             0.3333333333333333,
             "#9c179e"
            ],
            [
             0.4444444444444444,
             "#bd3786"
            ],
            [
             0.5555555555555556,
             "#d8576b"
            ],
            [
             0.6666666666666666,
             "#ed7953"
            ],
            [
             0.7777777777777778,
             "#fb9f3a"
            ],
            [
             0.8888888888888888,
             "#fdca26"
            ],
            [
             1,
             "#f0f921"
            ]
           ]
          },
          "colorway": [
           "#636efa",
           "#EF553B",
           "#00cc96",
           "#ab63fa",
           "#FFA15A",
           "#19d3f3",
           "#FF6692",
           "#B6E880",
           "#FF97FF",
           "#FECB52"
          ],
          "font": {
           "color": "#2a3f5f"
          },
          "geo": {
           "bgcolor": "white",
           "lakecolor": "white",
           "landcolor": "#E5ECF6",
           "showlakes": true,
           "showland": true,
           "subunitcolor": "white"
          },
          "hoverlabel": {
           "align": "left"
          },
          "hovermode": "closest",
          "mapbox": {
           "style": "light"
          },
          "paper_bgcolor": "white",
          "plot_bgcolor": "#E5ECF6",
          "polar": {
           "angularaxis": {
            "gridcolor": "white",
            "linecolor": "white",
            "ticks": ""
           },
           "bgcolor": "#E5ECF6",
           "radialaxis": {
            "gridcolor": "white",
            "linecolor": "white",
            "ticks": ""
           }
          },
          "scene": {
           "xaxis": {
            "backgroundcolor": "#E5ECF6",
            "gridcolor": "white",
            "gridwidth": 2,
            "linecolor": "white",
            "showbackground": true,
            "ticks": "",
            "zerolinecolor": "white"
           },
           "yaxis": {
            "backgroundcolor": "#E5ECF6",
            "gridcolor": "white",
            "gridwidth": 2,
            "linecolor": "white",
            "showbackground": true,
            "ticks": "",
            "zerolinecolor": "white"
           },
           "zaxis": {
            "backgroundcolor": "#E5ECF6",
            "gridcolor": "white",
            "gridwidth": 2,
            "linecolor": "white",
            "showbackground": true,
            "ticks": "",
            "zerolinecolor": "white"
           }
          },
          "shapedefaults": {
           "line": {
            "color": "#2a3f5f"
           }
          },
          "ternary": {
           "aaxis": {
            "gridcolor": "white",
            "linecolor": "white",
            "ticks": ""
           },
           "baxis": {
            "gridcolor": "white",
            "linecolor": "white",
            "ticks": ""
           },
           "bgcolor": "#E5ECF6",
           "caxis": {
            "gridcolor": "white",
            "linecolor": "white",
            "ticks": ""
           }
          },
          "title": {
           "x": 0.05
          },
          "xaxis": {
           "automargin": true,
           "gridcolor": "white",
           "linecolor": "white",
           "ticks": "",
           "zerolinecolor": "white",
           "zerolinewidth": 2
          },
          "yaxis": {
           "automargin": true,
           "gridcolor": "white",
           "linecolor": "white",
           "ticks": "",
           "zerolinecolor": "white",
           "zerolinewidth": 2
          }
         }
        },
        "title": {
         "text": "Teams and their points"
        },
        "xaxis": {
         "anchor": "y",
         "domain": [
          0,
          0.98
         ],
         "title": {
          "text": "Points"
         }
        },
        "yaxis": {
         "anchor": "x",
         "domain": [
          0,
          1
         ],
         "title": {
          "text": "Teams"
         }
        }
       }
      },
      "text/html": [
       "<div>\n",
       "        \n",
       "        \n",
       "            <div id=\"5858ba53-413b-4257-9f5d-0e70f6eaef86\" class=\"plotly-graph-div\" style=\"height:600px; width:100%;\"></div>\n",
       "            <script type=\"text/javascript\">\n",
       "                require([\"plotly\"], function(Plotly) {\n",
       "                    window.PLOTLYENV=window.PLOTLYENV || {};\n",
       "                    \n",
       "                if (document.getElementById(\"5858ba53-413b-4257-9f5d-0e70f6eaef86\")) {\n",
       "                    Plotly.newPlot(\n",
       "                        '5858ba53-413b-4257-9f5d-0e70f6eaef86',\n",
       "                        [{\"customdata\": [[\"sergio ag\\u00fcero\"], [\"teemu pukki\"], [\"pierre-emerick aubameyang\"], [\"tammy abraham\"], [\"jamie vardy\"], [\"roberto firmino\"], [\"harry kane\"], [\"callum wilson\"], [\"s\\u00e9bastien haller\"], [\"ashley barnes\"], [\"alexandre lacazette\"], [\"ra\\u00fal jim\\u00e9nez\"], [\"marcus rashford\"], [\"joshua king\"], [\"jordan ayew\"], [\"wesley moraes\"], [\"danny ings\"], [\"andre gray\"], [\"javier hern\\u00e1ndez balc\\u00e1zar\"], [\"divock origi\"], [\"gabriel fernando de jesus\"], [\"billy sharp\"], [\"diogo jota\"], [\"joelinton c\\u00e1ssio apolin\\u00e1rio de lira\"], [\"chris wood\"], [\"gerard deulofeu\"], [\"glenn murray\"], [\"neal maupay\"], [\"troy deeney\"], [\"moise kean\"], [\"oliver mcburnie\"], [\"dominic calvert-lewin\"], [\"michy batshuayi\"], [\"florin andone\"], [\"olivier giroud\"], [\"shane long\"], [\"dominic solanke\"], [\"j\\u00fcrgen locadia\"], [\"christian benteke\"], [\"danny welbeck\"], [\"isaac success ajayi\"], [\"michael obafemi\"], [\"jay rodriguez\"], [\"yoshinori muto\"], [\"jonathan kodjia\"], [\"lys mousset\"], [\"gabriel teodoro martinelli silva\"], [\"dennis srbeny\"], [\"josip drmic\"], [\"che adams\"], [\"connor wickham\"], [\"david mcgoldrick\"], [\"mason greenwood\"], [\"aaron connolly\"], [\"patrick cutrone\"]], \"hoverlabel\": {\"namelength\": 0}, \"hovertemplate\": \"Position=Forward<br>Points=%{x}<br>Teams=%{y}<br>Points per Cost=%{marker.size}<br>full_name=%{customdata[0]}\", \"legendgroup\": \"Position=Forward\", \"marker\": {\"color\": \"#636efa\", \"size\": [6.6339066339066335, 4.142857142857143, 6.586363636363637, 2.9166666666666665, 6.771141336487284, 5.626038781163435, 4.943181818181818, 7.024886877828054, 2.2666666666666666, 5.597014925373134, 5.709686450167974, 7.403474903474903, 4.467408585055644, 5.392628205128204, 2.57459505541347, 1.1666666666666667, 4.1190476190476195, 3.697996918335901, 4.2407407407407405, 2.2545454545454544, 2.3412563667232598, 1.1864406779661016, 5.7335907335907335, 0.847457627118644, 4.433370247323736, 5.6722689075630255, 5.147783251231528, 0.8333333333333334, 4.257703081232493, 0.4411764705882353, 0.6779661016949152, 2.872664059104737, 1.9154228855721391, 1.016, 1.394686907020873, 2.808641975308642, 0.1984126984126984, 1.1177248677248677, 0.6101694915254237, 0.6666666666666666, 0.2869897959183673, 0.5142857142857142, 0.0, 0.23611111111111108, 0.0, 0.2933673469387755, 0.0, 0.0, 0.0, 0.0, 0.25, 0.0, 0.0, 0.0, 0.0], \"sizemode\": \"area\", \"sizeref\": 0.025457875457875458, \"symbol\": \"circle\"}, \"mode\": \"markers\", \"name\": \"Position=Forward\", \"showlegend\": true, \"type\": \"scatter\", \"x\": [80.27027027027026, 29.0, 72.45, 21.0, 60.263157894736835, 53.44736842105263, 54.375, 54.79411764705882, 17.0, 37.5, 53.67105263157895, 54.785714285714285, 37.972972972972975, 34.51282051282051, 13.130434782608695, 7.0, 24.714285714285715, 21.818181818181817, 25.444444444444443, 12.4, 22.241935483870968, 7.0, 36.12162162162162, 5.0, 27.930232558139533, 35.73529411764706, 29.857142857142858, 5.0, 26.823529411764707, 3.0, 4.0, 16.94871794871795, 12.833333333333332, 5.08, 9.483870967741936, 13.481481481481481, 1.0714285714285714, 6.035714285714286, 3.6, 4.0, 1.40625, 2.571428571428571, 0.0, 1.275, 0.0, 1.4375, 0.0, 0.0, 0.0, 0.0, 1.125, 0.0, 0.0, 0.0, 0.0], \"xaxis\": \"x\", \"y\": [\"Man City\", \"Norwich\", \"Arsenal\", \"Chelsea\", \"Leicester\", \"Liverpool\", \"Spurs\", \"Bournemouth\", \"West Ham\", \"Burnley\", \"Arsenal\", \"Wolves\", \"Man Utd\", \"Bournemouth\", \"Crystal Palace\", \"Aston Villa\", \"Southampton\", \"Watford\", \"West Ham\", \"Liverpool\", \"Man City\", \"Sheffield Utd\", \"Wolves\", \"Newcastle\", \"Burnley\", \"Watford\", \"Brighton\", \"Brighton\", \"Watford\", \"Everton\", \"Sheffield Utd\", \"Everton\", \"Chelsea\", \"Brighton\", \"Chelsea\", \"Southampton\", \"Bournemouth\", \"Brighton\", \"Crystal Palace\", \"Watford\", \"Watford\", \"Southampton\", \"Burnley\", \"Newcastle\", \"Aston Villa\", \"Sheffield Utd\", \"Arsenal\", \"Norwich\", \"Norwich\", \"Southampton\", \"Crystal Palace\", \"Sheffield Utd\", \"Man Utd\", \"Brighton\", \"Wolves\"], \"yaxis\": \"y\"}, {\"customdata\": [[\"raheem sterling\"], [\"mohamed salah\"], [\"sadio man\\u00e9\"], [\"kevin de bruyne\"], [\"david silva\"], [\"richarlison de andrade\"], [\"mason mount\"], [\"todd cantwell\"], [\"daniel james\"], [\"anthony martial\"], [\"gylfi sigurdsson\"], [\"riyad mahrez\"], [\"harry wilson\"], [\"christian eriksen\"], [\"lucas rodrigues moura da silva\"], [\"heung-min son\"], [\"ryan fraser\"], [\"paul pogba\"], [\"tanguy ndombele\"], [\"bernardo mota veiga de carvalho e silva\"], [\"erik lamela\"], [\"john mcginn\"], [\"james maddison\"], [\"youri tielemans\"], [\"nathan redmond\"], [\"johann berg gudmundsson\"], [\"douglas luiz soares de paulo\"], [\"daniel ceballos fern\\u00e1ndez\"], [\"callum robinson\"], [\"dwight mcneil\"], [\"bernard an\\u00edcio caldeira duarte\"], [\"felipe anderson pereira gomes\"], [\"will hughes\"], [\"alex iwobi\"], [\"mark noble\"], [\"jo\\u00e3o filipe iria santos moutinho\"], [\"christian pulisic\"], [\"manuel lanzini\"], [\"jeffrey schlupp\"], [\"ayoze p\\u00e9rez\"], [\"michail antonio\"], [\"emiliano buend\\u00eda\"], [\"wilfred ndidi\"], [\"ashley westwood\"], [\"luka milivojevic\"], [\"r\\u00faben diogo da silva neves\"], [\"james milner\"], [\"anwar el ghazi\"], [\"pedro rodr\\u00edguez ledesma\"], [\"andros townsend\"], [\"jack grealish\"], [\"lucas torreira\"], [\"scott mctominay\"], [\"pascal gro\\u00df\"], [\"wilfried zaha\"], [\"james mcarthur\"], [\"leandro trossard\"], [\"georginio wijnaldum\"], [\"moussa sissoko\"], [\"isaac hayden\"], [\"jonjo shelvey\"], [\"nicolas p\\u00e9p\\u00e9\"], [\"jorge luiz frello filho\"], [\"ilkay g\\u00fcndogan\"], [\"jos\\u00e9 ignacio peleteiro romallo\"], [\"fabio henrique tavares\"], [\"andriy yarmolenko\"], [\"henrikh mkhitaryan\"], [\"bamidele alli\"], [\"mateo kovacic\"], [\"willian borges da silva\"], [\"harvey barnes\"], [\"solomon march\"], [\"matteo guendouzi\"], [\"ross barkley\"], [\"rodrigo hernandez\"], [\"davy pr\\u00f6pper\"], [\"n'golo kant\\u00e9\"], [\"theo walcott\"], [\"jack cork\"], [\"roberto pereyra\"], [\"xherdan shaqiri\"], [\"christian atsu\"], [\"james ward-prowse\"], [\"granit xhaka\"], [\"jordan henderson\"], [\"sean longstaff\"], [\"jean-philippe gbamin\"], [\"tom trybull\"], [\"joseph willock\"], [\"sofiane boufal\"], [\"moussa djenepo\"], [\"cheikhou kouyat\\u00e9\"], [\"andreas pereira\"], [\"abdoulaye doucour\\u00e9\"], [\"fernando luiz rosa\"], [\"leander dendoncker\"], [\"jesse lingard\"], [\"jeff hendrick\"], [\"dale stephens\"], [\"oliver norwood\"], [\"pierre-emile h\\u00f8jbjerg\"], [\"hamza choudhury\"], [\"demarai gray\"], [\"declan rice\"], [\"andr\\u00e9 filipe tavares gomes\"], [\"juan mata\"], [\"jefferson lerma\"], [\"stuart armstrong\"], [\"aaron mooy\"], [\"robert snodgrass\"], [\"max meyer\"], [\"philip billing\"], [\"jordon ibe\"], [\"harry winks\"], [\"phil foden\"], [\"andrew surman\"], [\"aaron lennon\"], [\"sung-yueng ki\"], [\"etienne capoue\"], [\"oliver skipp\"], [\"morgan schneiderlin\"], [\"miguel almir\\u00f3n\"], [\"marco stiepermann\"], [\"oriol romeu vidal\"], [\"marc albrighton\"], [\"tom cleverley\"], [\"morgan gibbs-white\"], [\"adama traor\\u00e9\"], [\"nampalys mendy\"], [\"georges-k\\u00e9vin nkoudou\"], [\"nemanja matic\"], [\"reiss nelson\"], [\"adam lallana\"], [\"tom davies\"], [\"domingos quina\"], [\"jack wilshere\"], [\"moritz leitner\"], [\"conor hourihane\"], [\"keinan davis\"], [\"henri lansbury\"], [\"giovani lo celso\"], [\"billy gilmour\"], [\"mario vrancic\"], [\"onel hern\\u00e1ndez\"], [\"kenny mclean\"], [\"alexander tettey\"], [\"ibrahim amadou\"], [\"luke freeman\"], [\"carlos s\\u00e1nchez\"], [\"alex oxlade-chamberlain\"], [\"nathaniel chalobah\"], [\"pablo fornals\"], [\"ravel morrison\"], [\"ben osborn\"], [\"dennis praet\"], [\"allan saint-maximin\"], [\"isma\\u00efla sarr\"], [\"mahmoud ahmed ibrahim hassan\"], [\"john fleck\"], [\"james mccarthy\"], [\"pedro lomba neto\"]], \"hoverlabel\": {\"namelength\": 0}, \"hovertemplate\": \"Position=Midfielder<br>Points=%{x}<br>Teams=%{y}<br>Points per Cost=%{marker.size}<br>full_name=%{customdata[0]}\", \"legendgroup\": \"Position=Midfielder\", \"marker\": {\"color\": \"#EF553B\", \"size\": [7.449721865639709, 7.885714285714287, 7.121739130434783, 2.9835847382431226, 6.1315315315315315, 6.1019149626744555, 2.1875, 2.7083333333333335, 2.295081967213115, 5.487012987012987, 6.672771672771673, 4.0910815939278935, 1.8333333333333333, 5.270979020979021, 5.220077220077219, 5.40829346092504, 6.85583822570124, 6.131221719457013, 1.6666666666666667, 5.552268244575938, 3.760869565217391, 1.6071428571428572, 4.929577464788733, 3.2720588235294117, 5.3155245838172664, 4.127604166666667, 1.7391304347826089, 1.5789473684210527, 1.6981132075471699, 3.293333333333333, 2.82995951417004, 5.919732441471572, 3.4545454545454546, 4.3128721942281265, 4.887878787878789, 4.562770562770563, 0.8, 1.758241758241758, 4.231404958677686, 5.383064516129032, 4.48671497584541, 0.8333333333333334, 2.3571428571428568, 3.9132553606237814, 5.906862745098039, 3.438228438228438, 4.877450980392156, 0.9090909090909091, 4.2272727272727275, 4.923325262308313, 0.6666666666666666, 2.7082184225041366, 1.9600000000000002, 2.8249336870026522, 4.862700228832952, 4.14021164021164, 0.8333333333333334, 3.6270396270396272, 2.1818181818181817, 2.835249042145594, 1.911111111111111, 0.3191489361702127, 2.204878048780488, 4.929919137466307, 0.6779661016949152, 1.7840909090909092, 1.5254237288135593, 3.623188405797101, 2.8044871794871793, 1.4343434343434343, 3.330612244897959, 1.6324710080285458, 3.1344845630559917, 0.1403508771929824, 3.1810344827586206, 0.36363636363636365, 1.5941176470588236, 4.252631578947367, 3.237688237688238, 1.28, 4.489942528735632, 4.114285714285714, 1.4320987654320985, 3.4519774011299433, 2.7517361111111107, 2.04040404040404, 1.0846153846153848, 0.2040816326530612, 0.2222222222222222, 0.2, 0.5454545454545454, 0.5555555555555555, 1.5433673469387754, 0.9666666666666668, 4.047303271441202, 2.2798742138364783, 1.3236714975845412, 2.313508064516129, 1.7059483726150393, 0.9084967320261437, 0.2, 2.530612244897959, 0.45299145299145294, 2.7493261455525606, 2.2824919441460794, 1.1051373954599761, 2.379807692307692, 1.3025210084033614, 2.667824074074074, 2.1700680272108843, 2.361111111111111, 1.4725209080047788, 0.8193548387096774, 0.738581146744412, 0.5818181818181819, 0.8760107816711591, 0.18367346938775508, 0.8571428571428573, 0.5800214822771214, 1.105442176870748, 0.17777777777777778, 0.3333333333333333, 0.5447941888619855, 0.0, 0.29523809523809524, 1.7314814814814814, 0.6632653061224489, 0.5895691609977324, 0.90625, 0.5381944444444444, 0.15, 0.40229885057471265, 0.0, 0.3934624697336562, 0.0, 0.691358024691358, 0.4081632653061224, 0.0, 0.0, 0.0, 0.0, 0.0, 0.0, 0.0, 0.0, 0.0, 0.0, 0.0, 0.0, 0.0, 0.0, 0.0, 0.0, 0.0, 0.0, 0.0, 0.0, 0.0, 0.0, 0.0, 0.0, 0.0], \"sizemode\": \"area\", \"sizeref\": 0.025457875457875458, \"symbol\": \"circle\"}, \"mode\": \"markers\", \"name\": \"Position=Midfielder\", \"showlegend\": true, \"type\": \"scatter\", \"x\": [91.63157894736842, 98.57142857142858, 81.9, 29.239130434782606, 45.986486486486484, 48.205128205128204, 14.0, 13.0, 14.0, 42.25, 52.04761904761905, 34.774193548387096, 11.0, 46.38461538461539, 38.628571428571426, 51.37878787878788, 50.04761904761905, 52.11538461538461, 10.0, 43.307692307692314, 22.565217391304348, 9.0, 35.0, 20.941176470588236, 33.48780487804878, 24.765625, 8.0, 9.0, 9.0, 19.759999999999998, 18.39473684210526, 40.84615384615385, 19.0, 25.445945945945947, 24.43939393939394, 25.095238095238095, 6.0, 11.428571428571427, 23.272727272727273, 33.375, 30.958333333333332, 5.0, 11.785714285714285, 21.13157894736842, 40.166666666666664, 18.91025641025641, 26.338235294117645, 5.0, 29.590909090909093, 29.047619047619047, 4.0, 13.27027027027027, 9.8, 18.36206896551724, 33.55263157894737, 22.357142857142858, 5.0, 19.94871794871795, 10.909090909090908, 12.758620689655173, 9.555555555555555, 3.0, 11.02439024390244, 26.128571428571426, 4.0, 9.8125, 9.0, 25.0, 23.557692307692307, 7.888888888888888, 23.314285714285713, 9.631578947368421, 15.35897435897436, 0.6315789473684208, 18.45, 2.0, 7.970588235294118, 21.26315789473684, 20.397435897435898, 6.4, 26.041666666666664, 25.919999999999998, 7.7333333333333325, 20.366666666666667, 14.859375, 11.222222222222221, 5.423076923076923, 1.0, 1.0, 1.0, 3.0, 3.0, 7.5625, 4.833333333333334, 23.474358974358974, 12.083333333333334, 5.9565217391304355, 14.806451612903226, 9.212121212121213, 4.088235294117647, 1.0, 12.399999999999999, 2.0384615384615383, 14.571428571428571, 11.18421052631579, 5.967741935483871, 15.23076923076923, 6.382352941176471, 14.40625, 10.633333333333333, 12.75, 7.951612903225806, 4.096774193548387, 3.619047619047619, 3.2000000000000006, 4.642857142857143, 0.9, 4.200000000000001, 2.8421052631578947, 5.416666666666666, 0.8, 1.5, 3.2142857142857144, 0.0, 1.3285714285714285, 9.35, 3.25, 2.888888888888889, 4.53125, 2.421875, 0.75, 1.9310344827586208, 0.0, 2.3214285714285716, -0.47058823529411764, 3.1111111111111107, 2.0, -1.0, 0.0, 0.0, 0.0, 0.0, 0.0, 0.0, 0.0, 0.0, 0.0, 0.0, 0.0, 0.0, 0.0, -0.9, 0.0, 0.0, 0.0, 0.0, 0.0, 0.0, -3.0, -1.0, -0.8333333333333333, -1.0], \"xaxis\": \"x\", \"y\": [\"Man City\", \"Liverpool\", \"Liverpool\", \"Man City\", \"Man City\", \"Everton\", \"Chelsea\", \"Norwich\", \"Man Utd\", \"Man Utd\", \"Everton\", \"Man City\", \"Bournemouth\", \"Spurs\", \"Spurs\", \"Spurs\", \"Bournemouth\", \"Man Utd\", \"Spurs\", \"Man City\", \"Spurs\", \"Aston Villa\", \"Leicester\", \"Leicester\", \"Southampton\", \"Burnley\", \"Aston Villa\", \"Arsenal\", \"Sheffield Utd\", \"Burnley\", \"Everton\", \"West Ham\", \"Watford\", \"Everton\", \"West Ham\", \"Wolves\", \"Chelsea\", \"West Ham\", \"Crystal Palace\", \"Leicester\", \"West Ham\", \"Norwich\", \"Leicester\", \"Burnley\", \"Crystal Palace\", \"Wolves\", \"Liverpool\", \"Aston Villa\", \"Chelsea\", \"Crystal Palace\", \"Aston Villa\", \"Arsenal\", \"Man Utd\", \"Brighton\", \"Crystal Palace\", \"Crystal Palace\", \"Brighton\", \"Liverpool\", \"Spurs\", \"Newcastle\", \"Newcastle\", \"Arsenal\", \"Chelsea\", \"Man City\", \"Aston Villa\", \"Liverpool\", \"West Ham\", \"Arsenal\", \"Spurs\", \"Chelsea\", \"Chelsea\", \"Leicester\", \"Brighton\", \"Arsenal\", \"Chelsea\", \"Man City\", \"Brighton\", \"Chelsea\", \"Everton\", \"Burnley\", \"Watford\", \"Liverpool\", \"Newcastle\", \"Southampton\", \"Arsenal\", \"Liverpool\", \"Newcastle\", \"Everton\", \"Norwich\", \"Arsenal\", \"Southampton\", \"Southampton\", \"Crystal Palace\", \"Man Utd\", \"Watford\", \"Man City\", \"Wolves\", \"Man Utd\", \"Burnley\", \"Brighton\", \"Sheffield Utd\", \"Southampton\", \"Leicester\", \"Leicester\", \"West Ham\", \"Everton\", \"Man Utd\", \"Bournemouth\", \"Southampton\", \"Brighton\", \"West Ham\", \"Crystal Palace\", \"Bournemouth\", \"Bournemouth\", \"Spurs\", \"Man City\", \"Bournemouth\", \"Burnley\", \"Newcastle\", \"Watford\", \"Spurs\", \"Everton\", \"Newcastle\", \"Norwich\", \"Southampton\", \"Leicester\", \"Watford\", \"Wolves\", \"Wolves\", \"Leicester\", \"Spurs\", \"Man Utd\", \"Arsenal\", \"Liverpool\", \"Everton\", \"Watford\", \"West Ham\", \"Norwich\", \"Aston Villa\", \"Aston Villa\", \"Aston Villa\", \"Spurs\", \"Chelsea\", \"Norwich\", \"Norwich\", \"Norwich\", \"Norwich\", \"Norwich\", \"Sheffield Utd\", \"West Ham\", \"Liverpool\", \"Watford\", \"West Ham\", \"Sheffield Utd\", \"Sheffield Utd\", \"Leicester\", \"Newcastle\", \"Watford\", \"Aston Villa\", \"Sheffield Utd\", \"Crystal Palace\", \"Wolves\"], \"yaxis\": \"y\"}, {\"customdata\": [[\"trent alexander-arnold\"], [\"lucas digne\"], [\"virgil van dijk\"], [\"patrick van aanholt\"], [\"andrew robertson\"], [\"kyle walker\"], [\"erik pieters\"], [\"aymeric laporte\"], [\"michael keane\"], [\"ricardo domingos barbosa pereira\"], [\"john lundstram\"], [\"fabian sch\\u00e4r\"], [\"joel matip\"], [\"seamus coleman\"], [\"jannik vestergaard\"], [\"willy boly\"], [\"marcos alonso\"], [\"yerry mina\"], [\"matt doherty\"], [\"benjamin chilwell\"], [\"enda stevens\"], [\"george baldock\"], [\"oleksandr zinchenko\"], [\"ainsley maitland-niles\"], [\"john stones\"], [\"tyrone mings\"], [\"c\\u00e9sar azpilicueta\"], [\"nacho monreal\"], [\"joel ward\"], [\"bjorn engels\"], [\"jonny evans\"], [\"david luiz moreira marinho\"], [\"arthur masuaku\"], [\"aaron wan-bissaka\"], [\"shane duffy\"], [\"nicol\\u00e1s otamendi\"], [\"martin kelly\"], [\"chris mepham\"], [\"luke shaw\"], [\"jonathan castro otto\"], [\"lewis dunk\"], [\"matt ritchie\"], [\"jamaal lascelles\"], [\"\\u00e7aglar s\\u00f6y\\u00fcnc\\u00fc\"], [\"james tarkowski\"], [\"sokratis papastathopoulos\"], [\"kevin danso\"], [\"harry maguire\"], [\"issa diop\"], [\"calum chambers\"], [\"romain sa\\u00efss\"], [\"fr\\u00e9d\\u00e9ric guilbert\"], [\"victor lindel\\u00f6f\"], [\"conor coady\"], [\"ben mee\"], [\"emil krafth\"], [\"scott dann\"], [\"paul dummett\"], [\"toby alderweireld\"], [\"ahmed el mohamady\"], [\"neil taylor\"], [\"nathan ak\\u00e9\"], [\"ryan bennett\"], [\"sead kolasinac\"], [\"gary cahill\"], [\"angelo ogbonna\"], [\"jack o'connell\"], [\"john egan\"], [\"chris basham\"], [\"jan bednarek\"], [\"jan vertonghen\"], [\"ryan fredericks\"], [\"mamadou sakho\"], [\"matthew lowton\"], [\"ben davies\"], [\"joseph gomez\"], [\"danny rose\"], [\"wes morgan\"], [\"dan burn\"], [\"davinson s\\u00e1nchez\"], [\"steve cook\"], [\"charlie daniels\"], [\"c\\u00e9dric soares\"], [\"kurt zouma\"], [\"kyle walker-peters\"], [\"adam smith\"], [\"daryl janmaat\"], [\"javier manquillo\"], [\"jos\\u00e9 holebas\"], [\"ashley young\"], [\"federico fern\\u00e1ndez\"], [\"jamal lewis\"], [\"jack stephens\"], [\"craig cathcart\"], [\"francisco femen\\u00eda far\"], [\"yan valery\"], [\"phil jagielka\"], [\"andreas christensen\"], [\"ryan bertrand\"], [\"maya yoshida\"], [\"diego rico\"], [\"fikayo tomori\"], [\"mason holgate\"], [\"christoph zimmermann\"], [\"sam byram\"], [\"jo\\u00e3o pedro cavaco cancelo\"], [\"emerson palmieri dos santos\"], [\"jetro willems\"], [\"christian fuchs\"], [\"mart\\u00edn montoya\"], [\"christian kabasele\"], [\"bernardo fernandes da silva junior\"], [\"ben godfrey\"], [\"craig dawson\"], [\"grant hanley\"], [\"maximillian aarons\"]], \"hoverlabel\": {\"namelength\": 0}, \"hovertemplate\": \"Position=Defender<br>Points=%{x}<br>Teams=%{y}<br>Points per Cost=%{marker.size}<br>full_name=%{customdata[0]}\", \"legendgroup\": \"Position=Defender\", \"marker\": {\"color\": \"#00cc96\", \"size\": [9.088775074690568, 7.976040353089535, 10.183150183150182, 7.11607142857143, 9.51449275362319, 7.130630630630631, 2.173913043478261, 7.744391025641025, 5.914004914004914, 6.326923076923077, 2.380952380952381, 5.285714285714286, 4.725925925925925, 5.8402203856749315, 1.9481481481481482, 5.290000000000001, 7.734375, 1.9905462184873952, 5.91869918699187, 4.717348927875244, 1.4, 1.5555555555555556, 2.0138888888888893, 1.647058823529412, 3.9407407407407407, 1.2222222222222223, 6.194511702986278, 3.528, 1.5151515151515151, 1.1111111111111112, 3.3428571428571425, 6.831812255541069, 1.9017094017094014, 4.37995337995338, 4.560526315789473, 3.306878306878306, 1.2984218077474896, 1.2430555555555556, 3.1741898148148144, 3.5454545454545454, 2.673913043478261, 3.6111111111111103, 3.728395061728395, 1.0222222222222221, 2.623076923076923, 1.6344827586206896, 0.8888888888888888, 2.8597402597402595, 2.5735735735735736, 0.5656565656565656, 2.37012987012987, 0.45454545454545453, 2.412854030501089, 1.9571428571428569, 0.6720930232558139, 0.6666666666666666, 1.0740740740740742, 2.177777777777778, 3.1445221445221447, 0.2222222222222222, 0.2222222222222222, 3.7269193391642372, 1.9894736842105263, 3.0626780626780623, 0.6666666666666666, 0.7654320987654322, 0.4444444444444444, 0.4444444444444444, 0.4444444444444444, 0.47619047619047616, 2.06726825266612, 1.1871345029239766, 3.2785714285714285, 0.0, 1.6677115987460815, 2.440087145969499, 2.73939393939394, 3.4782608695652173, 0.2222222222222222, 2.242424242424242, 1.8142857142857143, 0.608695652173913, 1.8367346938775508, 3.690016547159405, 1.0884353741496597, 1.7279693486590038, 1.7224880382775116, 2.4545454545454546, 3.2123655913978495, 1.290509259259259, 1.3365800865800865, 0.0, 0.5363636363636363, 1.9772727272727268, 1.34297520661157, 0.945839874411303, 1.1931818181818181, 0.2, 0.533751962323391, 0.8911483253588517, 0.0, 0.0, 0.0, 0.0, 0.0, 0.0, 0.0, 0.0, 0.0, 0.0, 0.0, 0.0, 0.0, 0.0, 0.0, 0.0], \"sizemode\": \"area\", \"sizeref\": 0.025457875457875458, \"symbol\": \"circle\"}, \"mode\": \"markers\", \"name\": \"Position=Defender\", \"showlegend\": true, \"type\": \"scatter\", \"x\": [64.53030303030303, 48.65384615384616, 66.19047619047619, 39.85, 65.65, 42.78378378378379, 10.0, 49.56410256410256, 32.527027027027025, 37.96153846153846, 10.0, 26.428571428571427, 25.52, 32.121212121212125, 9.74074074074074, 26.450000000000003, 47.953125, 11.147058823529413, 35.51219512195122, 25.473684210526315, 7.0, 7.0, 11.277777777777779, 8.4, 21.28, 5.5, 36.547619047619044, 17.64, 6.818181818181818, 5.0, 16.71428571428571, 40.307692307692314, 8.557692307692307, 24.08974358974359, 22.802631578947366, 17.857142857142854, 5.3235294117647065, 5.59375, 17.140625, 19.5, 12.3, 19.499999999999996, 16.77777777777778, 4.6, 13.115384615384615, 8.172413793103448, 4.0, 15.728571428571428, 11.58108108108108, 2.5454545454545454, 10.428571428571429, 2.0, 13.029411764705882, 9.785714285714285, 3.3604651162790695, 3.0, 4.833333333333334, 9.8, 17.294871794871796, 1.0, 1.0, 18.261904761904763, 9.947368421052632, 16.538461538461537, 3.0, 3.4444444444444446, 2.0, 2.0, 2.0, 2.142857142857143, 10.956521739130435, 5.342105263157895, 16.392857142857142, -1.36, 9.172413793103448, 13.176470588235293, 15.06666666666667, 15.304347826086957, 1.0, 12.333333333333332, 9.071428571428571, 2.7391304347826084, 9.0, 18.081081081081084, 5.333333333333333, 7.775862068965517, 7.578947368421052, 10.8, 15.419354838709678, 6.96875, 5.880952380952381, 0.0, 2.36, 8.7, 5.909090909090909, 4.634615384615385, 5.25, 1.0, 2.615384615384616, 3.921052631578948, -3.6666666666666665, -1.0, -1.6666666666666667, 0.0, 0.0, 0.0, -0.7857142857142854, 0.0, -0.5, -1.7241379310344827, -0.9545454545454546, -1.4583333333333333, -4.0, -3.0, -5.0, -6.0], \"xaxis\": \"x\", \"y\": [\"Liverpool\", \"Everton\", \"Liverpool\", \"Crystal Palace\", \"Liverpool\", \"Man City\", \"Burnley\", \"Man City\", \"Everton\", \"Leicester\", \"Sheffield Utd\", \"Newcastle\", \"Liverpool\", \"Everton\", \"Southampton\", \"Wolves\", \"Chelsea\", \"Everton\", \"Wolves\", \"Leicester\", \"Sheffield Utd\", \"Sheffield Utd\", \"Man City\", \"Arsenal\", \"Man City\", \"Aston Villa\", \"Chelsea\", \"Arsenal\", \"Crystal Palace\", \"Aston Villa\", \"Leicester\", \"Arsenal\", \"West Ham\", \"Man Utd\", \"Brighton\", \"Man City\", \"Crystal Palace\", \"Bournemouth\", \"Man Utd\", \"Wolves\", \"Brighton\", \"Newcastle\", \"Newcastle\", \"Leicester\", \"Burnley\", \"Arsenal\", \"Southampton\", \"Man Utd\", \"West Ham\", \"Arsenal\", \"Wolves\", \"Aston Villa\", \"Man Utd\", \"Wolves\", \"Burnley\", \"Newcastle\", \"Crystal Palace\", \"Newcastle\", \"Spurs\", \"Aston Villa\", \"Aston Villa\", \"Bournemouth\", \"Wolves\", \"Arsenal\", \"Crystal Palace\", \"West Ham\", \"Sheffield Utd\", \"Sheffield Utd\", \"Sheffield Utd\", \"Southampton\", \"Spurs\", \"West Ham\", \"Crystal Palace\", \"Burnley\", \"Spurs\", \"Liverpool\", \"Spurs\", \"Leicester\", \"Brighton\", \"Spurs\", \"Bournemouth\", \"Bournemouth\", \"Southampton\", \"Chelsea\", \"Spurs\", \"Bournemouth\", \"Watford\", \"Newcastle\", \"Watford\", \"Man Utd\", \"Newcastle\", \"Norwich\", \"Southampton\", \"Watford\", \"Watford\", \"Southampton\", \"Sheffield Utd\", \"Chelsea\", \"Southampton\", \"Southampton\", \"Bournemouth\", \"Chelsea\", \"Everton\", \"Norwich\", \"Norwich\", \"Man City\", \"Chelsea\", \"Newcastle\", \"Leicester\", \"Brighton\", \"Watford\", \"Brighton\", \"Norwich\", \"Watford\", \"Norwich\", \"Norwich\"], \"yaxis\": \"y\"}, {\"customdata\": [[\"ederson santana de moraes\"], [\"jordan pickford\"], [\"rui pedro dos santos patr\\u00edcio\"], [\"hugo lloris\"], [\"nick pope\"], [\"bernd leno\"], [\"lukasz fabianski\"], [\"david de gea\"], [\"vicente guaita\"], [\"alisson ramses becker\"], [\"martin dubravka\"], [\"dean henderson\"], [\"kasper schmeichel\"], [\"angus gunn\"], [\"ben foster\"], [\"mathew ryan\"], [\"tom heaton\"], [\"adri\\u00e1n san miguel del castillo\"], [\"kepa arrizabalaga\"], [\"aaron ramsdale\"], [\"tim krul\"]], \"hoverlabel\": {\"namelength\": 0}, \"hovertemplate\": \"Position=Goalkeeper<br>Points=%{x}<br>Teams=%{y}<br>Points per Cost=%{marker.size}<br>full_name=%{customdata[0]}\", \"legendgroup\": \"Position=Goalkeeper\", \"marker\": {\"color\": \"#ab63fa\", \"size\": [7.704918032786885, 7.648809523809525, 5.184122429459589, 6.707616707616707, 1.5217391304347827, 4.488888888888889, 6.60952380952381, 4.238945578231293, 4.316666666666667, 8.399646330680813, 5.534883720930233, 1.3333333333333333, 4.5285714285714285, 2.888888888888889, 5.228377065111759, 3.9816933638443937, 2.357487922705314, 1.0869565217391306, 5.427272727272728, 0.0, 0.0], \"sizemode\": \"area\", \"sizeref\": 0.025457875457875458, \"symbol\": \"circle\"}, \"mode\": \"markers\", \"name\": \"Position=Goalkeeper\", \"showlegend\": true, \"type\": \"scatter\", \"x\": [47.0, 42.833333333333336, 26.439024390243905, 36.89189189189189, 7.0, 22.444444444444443, 33.04761904761905, 23.73809523809524, 21.583333333333336, 48.717948717948715, 27.674418604651162, 6.0, 22.642857142857142, 13.0, 25.61904761904762, 18.31578947368421, 10.608695652173912, 5.0, 29.85, 0.0, -1.0], \"xaxis\": \"x\", \"y\": [\"Man City\", \"Everton\", \"Wolves\", \"Spurs\", \"Burnley\", \"Arsenal\", \"West Ham\", \"Man Utd\", \"Crystal Palace\", \"Liverpool\", \"Newcastle\", \"Sheffield Utd\", \"Leicester\", \"Southampton\", \"Watford\", \"Brighton\", \"Aston Villa\", \"Liverpool\", \"Chelsea\", \"Bournemouth\", \"Norwich\"], \"yaxis\": \"y\"}],\n",
       "                        {\"height\": 600, \"legend\": {\"itemsizing\": \"constant\", \"tracegroupgap\": 0}, \"margin\": {\"t\": 60}, \"template\": {\"data\": {\"bar\": [{\"error_x\": {\"color\": \"#2a3f5f\"}, \"error_y\": {\"color\": \"#2a3f5f\"}, \"marker\": {\"line\": {\"color\": \"#E5ECF6\", \"width\": 0.5}}, \"type\": \"bar\"}], \"barpolar\": [{\"marker\": {\"line\": {\"color\": \"#E5ECF6\", \"width\": 0.5}}, \"type\": \"barpolar\"}], \"carpet\": [{\"aaxis\": {\"endlinecolor\": \"#2a3f5f\", \"gridcolor\": \"white\", \"linecolor\": \"white\", \"minorgridcolor\": \"white\", \"startlinecolor\": \"#2a3f5f\"}, \"baxis\": {\"endlinecolor\": \"#2a3f5f\", \"gridcolor\": \"white\", \"linecolor\": \"white\", \"minorgridcolor\": \"white\", \"startlinecolor\": \"#2a3f5f\"}, \"type\": \"carpet\"}], \"choropleth\": [{\"colorbar\": {\"outlinewidth\": 0, \"ticks\": \"\"}, \"type\": \"choropleth\"}], \"contour\": [{\"colorbar\": {\"outlinewidth\": 0, \"ticks\": \"\"}, \"colorscale\": [[0.0, \"#0d0887\"], [0.1111111111111111, \"#46039f\"], [0.2222222222222222, \"#7201a8\"], [0.3333333333333333, \"#9c179e\"], [0.4444444444444444, \"#bd3786\"], [0.5555555555555556, \"#d8576b\"], [0.6666666666666666, \"#ed7953\"], [0.7777777777777778, \"#fb9f3a\"], [0.8888888888888888, \"#fdca26\"], [1.0, \"#f0f921\"]], \"type\": \"contour\"}], \"contourcarpet\": [{\"colorbar\": {\"outlinewidth\": 0, \"ticks\": \"\"}, \"type\": \"contourcarpet\"}], \"heatmap\": [{\"colorbar\": {\"outlinewidth\": 0, \"ticks\": \"\"}, \"colorscale\": [[0.0, \"#0d0887\"], [0.1111111111111111, \"#46039f\"], [0.2222222222222222, \"#7201a8\"], [0.3333333333333333, \"#9c179e\"], [0.4444444444444444, \"#bd3786\"], [0.5555555555555556, \"#d8576b\"], [0.6666666666666666, \"#ed7953\"], [0.7777777777777778, \"#fb9f3a\"], [0.8888888888888888, \"#fdca26\"], [1.0, \"#f0f921\"]], \"type\": \"heatmap\"}], \"heatmapgl\": [{\"colorbar\": {\"outlinewidth\": 0, \"ticks\": \"\"}, \"colorscale\": [[0.0, \"#0d0887\"], [0.1111111111111111, \"#46039f\"], [0.2222222222222222, \"#7201a8\"], [0.3333333333333333, \"#9c179e\"], [0.4444444444444444, \"#bd3786\"], [0.5555555555555556, \"#d8576b\"], [0.6666666666666666, \"#ed7953\"], [0.7777777777777778, \"#fb9f3a\"], [0.8888888888888888, \"#fdca26\"], [1.0, \"#f0f921\"]], \"type\": \"heatmapgl\"}], \"histogram\": [{\"marker\": {\"colorbar\": {\"outlinewidth\": 0, \"ticks\": \"\"}}, \"type\": \"histogram\"}], \"histogram2d\": [{\"colorbar\": {\"outlinewidth\": 0, \"ticks\": \"\"}, \"colorscale\": [[0.0, \"#0d0887\"], [0.1111111111111111, \"#46039f\"], [0.2222222222222222, \"#7201a8\"], [0.3333333333333333, \"#9c179e\"], [0.4444444444444444, \"#bd3786\"], [0.5555555555555556, \"#d8576b\"], [0.6666666666666666, \"#ed7953\"], [0.7777777777777778, \"#fb9f3a\"], [0.8888888888888888, \"#fdca26\"], [1.0, \"#f0f921\"]], \"type\": \"histogram2d\"}], \"histogram2dcontour\": [{\"colorbar\": {\"outlinewidth\": 0, \"ticks\": \"\"}, \"colorscale\": [[0.0, \"#0d0887\"], [0.1111111111111111, \"#46039f\"], [0.2222222222222222, \"#7201a8\"], [0.3333333333333333, \"#9c179e\"], [0.4444444444444444, \"#bd3786\"], [0.5555555555555556, \"#d8576b\"], [0.6666666666666666, \"#ed7953\"], [0.7777777777777778, \"#fb9f3a\"], [0.8888888888888888, \"#fdca26\"], [1.0, \"#f0f921\"]], \"type\": \"histogram2dcontour\"}], \"mesh3d\": [{\"colorbar\": {\"outlinewidth\": 0, \"ticks\": \"\"}, \"type\": \"mesh3d\"}], \"parcoords\": [{\"line\": {\"colorbar\": {\"outlinewidth\": 0, \"ticks\": \"\"}}, \"type\": \"parcoords\"}], \"scatter\": [{\"marker\": {\"colorbar\": {\"outlinewidth\": 0, \"ticks\": \"\"}}, \"type\": \"scatter\"}], \"scatter3d\": [{\"line\": {\"colorbar\": {\"outlinewidth\": 0, \"ticks\": \"\"}}, \"marker\": {\"colorbar\": {\"outlinewidth\": 0, \"ticks\": \"\"}}, \"type\": \"scatter3d\"}], \"scattercarpet\": [{\"marker\": {\"colorbar\": {\"outlinewidth\": 0, \"ticks\": \"\"}}, \"type\": \"scattercarpet\"}], \"scattergeo\": [{\"marker\": {\"colorbar\": {\"outlinewidth\": 0, \"ticks\": \"\"}}, \"type\": \"scattergeo\"}], \"scattergl\": [{\"marker\": {\"colorbar\": {\"outlinewidth\": 0, \"ticks\": \"\"}}, \"type\": \"scattergl\"}], \"scattermapbox\": [{\"marker\": {\"colorbar\": {\"outlinewidth\": 0, \"ticks\": \"\"}}, \"type\": \"scattermapbox\"}], \"scatterpolar\": [{\"marker\": {\"colorbar\": {\"outlinewidth\": 0, \"ticks\": \"\"}}, \"type\": \"scatterpolar\"}], \"scatterpolargl\": [{\"marker\": {\"colorbar\": {\"outlinewidth\": 0, \"ticks\": \"\"}}, \"type\": \"scatterpolargl\"}], \"scatterternary\": [{\"marker\": {\"colorbar\": {\"outlinewidth\": 0, \"ticks\": \"\"}}, \"type\": \"scatterternary\"}], \"surface\": [{\"colorbar\": {\"outlinewidth\": 0, \"ticks\": \"\"}, \"colorscale\": [[0.0, \"#0d0887\"], [0.1111111111111111, \"#46039f\"], [0.2222222222222222, \"#7201a8\"], [0.3333333333333333, \"#9c179e\"], [0.4444444444444444, \"#bd3786\"], [0.5555555555555556, \"#d8576b\"], [0.6666666666666666, \"#ed7953\"], [0.7777777777777778, \"#fb9f3a\"], [0.8888888888888888, \"#fdca26\"], [1.0, \"#f0f921\"]], \"type\": \"surface\"}], \"table\": [{\"cells\": {\"fill\": {\"color\": \"#EBF0F8\"}, \"line\": {\"color\": \"white\"}}, \"header\": {\"fill\": {\"color\": \"#C8D4E3\"}, \"line\": {\"color\": \"white\"}}, \"type\": \"table\"}]}, \"layout\": {\"annotationdefaults\": {\"arrowcolor\": \"#2a3f5f\", \"arrowhead\": 0, \"arrowwidth\": 1}, \"colorscale\": {\"diverging\": [[0, \"#8e0152\"], [0.1, \"#c51b7d\"], [0.2, \"#de77ae\"], [0.3, \"#f1b6da\"], [0.4, \"#fde0ef\"], [0.5, \"#f7f7f7\"], [0.6, \"#e6f5d0\"], [0.7, \"#b8e186\"], [0.8, \"#7fbc41\"], [0.9, \"#4d9221\"], [1, \"#276419\"]], \"sequential\": [[0.0, \"#0d0887\"], [0.1111111111111111, \"#46039f\"], [0.2222222222222222, \"#7201a8\"], [0.3333333333333333, \"#9c179e\"], [0.4444444444444444, \"#bd3786\"], [0.5555555555555556, \"#d8576b\"], [0.6666666666666666, \"#ed7953\"], [0.7777777777777778, \"#fb9f3a\"], [0.8888888888888888, \"#fdca26\"], [1.0, \"#f0f921\"]], \"sequentialminus\": [[0.0, \"#0d0887\"], [0.1111111111111111, \"#46039f\"], [0.2222222222222222, \"#7201a8\"], [0.3333333333333333, \"#9c179e\"], [0.4444444444444444, \"#bd3786\"], [0.5555555555555556, \"#d8576b\"], [0.6666666666666666, \"#ed7953\"], [0.7777777777777778, \"#fb9f3a\"], [0.8888888888888888, \"#fdca26\"], [1.0, \"#f0f921\"]]}, \"colorway\": [\"#636efa\", \"#EF553B\", \"#00cc96\", \"#ab63fa\", \"#FFA15A\", \"#19d3f3\", \"#FF6692\", \"#B6E880\", \"#FF97FF\", \"#FECB52\"], \"font\": {\"color\": \"#2a3f5f\"}, \"geo\": {\"bgcolor\": \"white\", \"lakecolor\": \"white\", \"landcolor\": \"#E5ECF6\", \"showlakes\": true, \"showland\": true, \"subunitcolor\": \"white\"}, \"hoverlabel\": {\"align\": \"left\"}, \"hovermode\": \"closest\", \"mapbox\": {\"style\": \"light\"}, \"paper_bgcolor\": \"white\", \"plot_bgcolor\": \"#E5ECF6\", \"polar\": {\"angularaxis\": {\"gridcolor\": \"white\", \"linecolor\": \"white\", \"ticks\": \"\"}, \"bgcolor\": \"#E5ECF6\", \"radialaxis\": {\"gridcolor\": \"white\", \"linecolor\": \"white\", \"ticks\": \"\"}}, \"scene\": {\"xaxis\": {\"backgroundcolor\": \"#E5ECF6\", \"gridcolor\": \"white\", \"gridwidth\": 2, \"linecolor\": \"white\", \"showbackground\": true, \"ticks\": \"\", \"zerolinecolor\": \"white\"}, \"yaxis\": {\"backgroundcolor\": \"#E5ECF6\", \"gridcolor\": \"white\", \"gridwidth\": 2, \"linecolor\": \"white\", \"showbackground\": true, \"ticks\": \"\", \"zerolinecolor\": \"white\"}, \"zaxis\": {\"backgroundcolor\": \"#E5ECF6\", \"gridcolor\": \"white\", \"gridwidth\": 2, \"linecolor\": \"white\", \"showbackground\": true, \"ticks\": \"\", \"zerolinecolor\": \"white\"}}, \"shapedefaults\": {\"line\": {\"color\": \"#2a3f5f\"}}, \"ternary\": {\"aaxis\": {\"gridcolor\": \"white\", \"linecolor\": \"white\", \"ticks\": \"\"}, \"baxis\": {\"gridcolor\": \"white\", \"linecolor\": \"white\", \"ticks\": \"\"}, \"bgcolor\": \"#E5ECF6\", \"caxis\": {\"gridcolor\": \"white\", \"linecolor\": \"white\", \"ticks\": \"\"}}, \"title\": {\"x\": 0.05}, \"xaxis\": {\"automargin\": true, \"gridcolor\": \"white\", \"linecolor\": \"white\", \"ticks\": \"\", \"zerolinecolor\": \"white\", \"zerolinewidth\": 2}, \"yaxis\": {\"automargin\": true, \"gridcolor\": \"white\", \"linecolor\": \"white\", \"ticks\": \"\", \"zerolinecolor\": \"white\", \"zerolinewidth\": 2}}}, \"title\": {\"text\": \"Teams and their points\"}, \"xaxis\": {\"anchor\": \"y\", \"domain\": [0.0, 0.98], \"title\": {\"text\": \"Points\"}}, \"yaxis\": {\"anchor\": \"x\", \"domain\": [0.0, 1.0], \"title\": {\"text\": \"Teams\"}}},\n",
       "                        {\"responsive\": true}\n",
       "                    ).then(function(){\n",
       "                            \n",
       "var gd = document.getElementById('5858ba53-413b-4257-9f5d-0e70f6eaef86');\n",
       "var x = new MutationObserver(function (mutations, observer) {{\n",
       "        var display = window.getComputedStyle(gd).display;\n",
       "        if (!display || display === 'none') {{\n",
       "            console.log([gd, 'removed!']);\n",
       "            Plotly.purge(gd);\n",
       "            observer.disconnect();\n",
       "        }}\n",
       "}});\n",
       "\n",
       "// Listen for the removal of the full notebook cells\n",
       "var notebookContainer = gd.closest('#notebook-container');\n",
       "if (notebookContainer) {{\n",
       "    x.observe(notebookContainer, {childList: true});\n",
       "}}\n",
       "\n",
       "// Listen for the clearing of the current output cell\n",
       "var outputEl = gd.closest('.output');\n",
       "if (outputEl) {{\n",
       "    x.observe(outputEl, {childList: true});\n",
       "}}\n",
       "\n",
       "                        })\n",
       "                };\n",
       "                });\n",
       "            </script>\n",
       "        </div>"
      ]
     },
     "metadata": {},
     "output_type": "display_data"
    }
   ],
   "source": [
    "# load players into a dataframe\n",
    "players = pd.DataFrame(players)\n",
    "# players based on effective points for each team\n",
    "fig = px.scatter(players, y='team_name', x='points', color='position', hover_data=['full_name'], size = 'pc', labels={'team_name':'Teams', 'points':'Points', 'position':'Position', 'pc':'Points per Cost'})\n",
    "fig.update_layout(title='Teams and their points')\n",
    "fig.show()\n",
    "\n"
   ]
  },
  {
   "cell_type": "code",
   "execution_count": 23,
   "metadata": {},
   "outputs": [
    {
     "data": {
      "application/vnd.plotly.v1+json": {
       "config": {
        "plotlyServerURL": "https://plot.ly"
       },
       "data": [
        {
         "customdata": [
          [
           "sergio agüero",
           21.554
          ],
          [
           "teemu pukki",
           21
          ],
          [
           "pierre-emerick aubameyang",
           21.45
          ],
          [
           "tammy abraham",
           20
          ],
          [
           "jamie vardy",
           18.447
          ],
          [
           "roberto firmino",
           18.553
          ],
          [
           "harry kane",
           20.438
          ],
          [
           "callum wilson",
           20.441
          ],
          [
           "sébastien haller",
           18
          ],
          [
           "ashley barnes",
           19.549
          ],
          [
           "alexandre lacazette",
           18.842
          ],
          [
           "raúl jiménez",
           17.905
          ],
          [
           "marcus rashford",
           17.446
          ],
          [
           "joshua king",
           18.897
          ],
          [
           "jordan ayew",
           16.696
          ],
          [
           "wesley moraes",
           19
          ],
          [
           "danny ings",
           17
          ],
          [
           "andre gray",
           16.561
          ],
          [
           "javier hernández balcázar",
           15.463
          ],
          [
           "divock origi",
           15
          ],
          [
           "gabriel fernando de jesus",
           16.935
          ],
          [
           "billy sharp",
           15
          ],
          [
           "diogo jota",
           14.676
          ],
          [
           "joelinton cássio apolinário de lira",
           16
          ],
          [
           "chris wood",
           16.721
          ],
          [
           "gerard deulofeu",
           13.529
          ],
          [
           "glenn murray",
           13.619
          ],
          [
           "neal maupay",
           14
          ],
          [
           "troy deeney",
           14.353
          ],
          [
           "moise kean",
           16
          ],
          [
           "oliver mcburnie",
           14
          ],
          [
           "dominic calvert-lewin",
           15.795
          ],
          [
           "michy batshuayi",
           15.667
          ],
          [
           "florin andone",
           14.44
          ],
          [
           "olivier giroud",
           14.258
          ],
          [
           "shane long",
           12.407
          ],
          [
           "dominic solanke",
           13.786
          ],
          [
           "jürgen locadia",
           12.321
          ],
          [
           "christian benteke",
           12
          ],
          [
           "danny welbeck",
           11.6
          ],
          [
           "isaac success ajayi",
           12.344
          ],
          [
           "michael obafemi",
           11.714
          ],
          [
           "jay rodriguez",
           12
          ],
          [
           "yoshinori muto",
           12.125
          ],
          [
           "jonathan kodjia",
           12
          ],
          [
           "lys mousset",
           11.917
          ],
          [
           "gabriel teodoro martinelli silva",
           12
          ],
          [
           "dennis srbeny",
           12
          ],
          [
           "josip drmic",
           12
          ],
          [
           "che adams",
           12
          ],
          [
           "connor wickham",
           11.5
          ],
          [
           "david mcgoldrick",
           11
          ],
          [
           "mason greenwood",
           10.214
          ],
          [
           "aaron connolly",
           10
          ],
          [
           "patrick cutrone",
           10
          ]
         ],
         "hoverlabel": {
          "namelength": 0
         },
         "hovertemplate": "Position=Forward<br>Points per Cost=%{marker.size}<br>Teams=%{y}<br>full_name=%{customdata[0]}<br>value_points=%{customdata[1]}",
         "legendgroup": "Position=Forward",
         "marker": {
          "color": "#636efa",
          "size": [
           6.6339066339066335,
           4.142857142857143,
           6.586363636363637,
           2.9166666666666665,
           6.771141336487284,
           5.626038781163435,
           4.943181818181818,
           7.024886877828054,
           2.2666666666666666,
           5.597014925373134,
           5.709686450167974,
           7.403474903474903,
           4.467408585055644,
           5.392628205128204,
           2.57459505541347,
           1.1666666666666667,
           4.1190476190476195,
           3.697996918335901,
           4.2407407407407405,
           2.2545454545454544,
           2.3412563667232598,
           1.1864406779661016,
           5.7335907335907335,
           0.847457627118644,
           4.433370247323736,
           5.6722689075630255,
           5.147783251231528,
           0.8333333333333334,
           4.257703081232493,
           0.4411764705882353,
           0.6779661016949152,
           2.872664059104737,
           1.9154228855721391,
           1.016,
           1.394686907020873,
           2.808641975308642,
           0.1984126984126984,
           1.1177248677248677,
           0.6101694915254237,
           0.6666666666666666,
           0.2869897959183673,
           0.5142857142857142,
           0,
           0.23611111111111108,
           0,
           0.2933673469387755,
           0,
           0,
           0,
           0,
           0.25,
           0,
           0,
           0,
           0
          ],
          "sizemode": "area",
          "sizeref": 0.025457875457875458,
          "symbol": "circle"
         },
         "mode": "markers",
         "name": "Position=Forward",
         "showlegend": true,
         "type": "scatter",
         "x": [
          6.6339066339066335,
          4.142857142857143,
          6.586363636363637,
          2.9166666666666665,
          6.771141336487284,
          5.626038781163435,
          4.943181818181818,
          7.024886877828054,
          2.2666666666666666,
          5.597014925373134,
          5.709686450167974,
          7.403474903474903,
          4.467408585055644,
          5.392628205128204,
          2.57459505541347,
          1.1666666666666667,
          4.1190476190476195,
          3.697996918335901,
          4.2407407407407405,
          2.2545454545454544,
          2.3412563667232598,
          1.1864406779661016,
          5.7335907335907335,
          0.847457627118644,
          4.433370247323736,
          5.6722689075630255,
          5.147783251231528,
          0.8333333333333334,
          4.257703081232493,
          0.4411764705882353,
          0.6779661016949152,
          2.872664059104737,
          1.9154228855721391,
          1.016,
          1.394686907020873,
          2.808641975308642,
          0.1984126984126984,
          1.1177248677248677,
          0.6101694915254237,
          0.6666666666666666,
          0.2869897959183673,
          0.5142857142857142,
          0,
          0.23611111111111108,
          0,
          0.2933673469387755,
          0,
          0,
          0,
          0,
          0.25,
          0,
          0,
          0,
          0
         ],
         "xaxis": "x",
         "y": [
          "Man City",
          "Norwich",
          "Arsenal",
          "Chelsea",
          "Leicester",
          "Liverpool",
          "Spurs",
          "Bournemouth",
          "West Ham",
          "Burnley",
          "Arsenal",
          "Wolves",
          "Man Utd",
          "Bournemouth",
          "Crystal Palace",
          "Aston Villa",
          "Southampton",
          "Watford",
          "West Ham",
          "Liverpool",
          "Man City",
          "Sheffield Utd",
          "Wolves",
          "Newcastle",
          "Burnley",
          "Watford",
          "Brighton",
          "Brighton",
          "Watford",
          "Everton",
          "Sheffield Utd",
          "Everton",
          "Chelsea",
          "Brighton",
          "Chelsea",
          "Southampton",
          "Bournemouth",
          "Brighton",
          "Crystal Palace",
          "Watford",
          "Watford",
          "Southampton",
          "Burnley",
          "Newcastle",
          "Aston Villa",
          "Sheffield Utd",
          "Arsenal",
          "Norwich",
          "Norwich",
          "Southampton",
          "Crystal Palace",
          "Sheffield Utd",
          "Man Utd",
          "Brighton",
          "Wolves"
         ],
         "yaxis": "y"
        },
        {
         "customdata": [
          [
           "raheem sterling",
           21.447
          ],
          [
           "mohamed salah",
           20
          ],
          [
           "sadio mané",
           18.9
          ],
          [
           "kevin de bruyne",
           20.348
          ],
          [
           "david silva",
           20
          ],
          [
           "richarlison de andrade",
           20
          ],
          [
           "mason mount",
           20
          ],
          [
           "todd cantwell",
           20
          ],
          [
           "daniel james",
           18
          ],
          [
           "anthony martial",
           17.55
          ],
          [
           "gylfi sigurdsson",
           19.357
          ],
          [
           "riyad mahrez",
           17.435
          ],
          [
           "harry wilson",
           19
          ],
          [
           "christian eriksen",
           18.897
          ],
          [
           "lucas rodrigues moura da silva",
           19.457
          ],
          [
           "heung-min son",
           19.409
          ],
          [
           "ryan fraser",
           19.357
          ],
          [
           "paul pogba",
           17.346
          ],
          [
           "tanguy ndombele",
           19
          ],
          [
           "bernardo mota veiga de carvalho e silva",
           18.385
          ],
          [
           "erik lamela",
           18.587
          ],
          [
           "john mcginn",
           19
          ],
          [
           "james maddison",
           17.45
          ],
          [
           "youri tielemans",
           17.765
          ],
          [
           "nathan redmond",
           17.463
          ],
          [
           "johann berg gudmundsson",
           19
          ],
          [
           "douglas luiz soares de paulo",
           19
          ],
          [
           "daniel ceballos fernández",
           17
          ],
          [
           "callum robinson",
           17
          ],
          [
           "dwight mcneil",
           19
          ],
          [
           "bernard anício caldeira duarte",
           19
          ],
          [
           "felipe anderson pereira gomes",
           16.923
          ],
          [
           "will hughes",
           16.556
          ],
          [
           "alex iwobi",
           17.473
          ],
          [
           "mark noble",
           17
          ],
          [
           "joão filipe iria santos moutinho",
           17
          ],
          [
           "christian pulisic",
           19
          ],
          [
           "manuel lanzini",
           16.643
          ],
          [
           "jeffrey schlupp",
           16.545
          ],
          [
           "ayoze pérez",
           16.925
          ],
          [
           "michail antonio",
           15.833
          ],
          [
           "emiliano buendía",
           18
          ],
          [
           "wilfred ndidi",
           16.536
          ],
          [
           "ashley westwood",
           18.447
          ],
          [
           "luka milivojevic",
           14.714
          ],
          [
           "rúben diogo da silva neves",
           16.449
          ],
          [
           "james milner",
           14.912
          ],
          [
           "anwar el ghazi",
           17
          ],
          [
           "pedro rodríguez ledesma",
           16.348
          ],
          [
           "andros townsend",
           15.81
          ],
          [
           "jack grealish",
           18
          ],
          [
           "lucas torreira",
           16.919
          ],
          [
           "scott mctominay",
           16.2
          ],
          [
           "pascal groß",
           15.293
          ],
          [
           "wilfried zaha",
           14.684
          ],
          [
           "james mcarthur",
           16.452
          ],
          [
           "leandro trossard",
           16
          ],
          [
           "georginio wijnaldum",
           16.449
          ],
          [
           "moussa sissoko",
           18
          ],
          [
           "isaac hayden",
           16
          ],
          [
           "jonjo shelvey",
           16.111
          ],
          [
           "nicolas pépé",
           18
          ],
          [
           "jorge luiz frello filho",
           18
          ],
          [
           "ilkay gündogan",
           15.1
          ],
          [
           "josé ignacio peleteiro romallo",
           16
          ],
          [
           "fabio henrique tavares",
           16
          ],
          [
           "andriy yarmolenko",
           15
          ],
          [
           "henrikh mkhitaryan",
           15.125
          ],
          [
           "bamidele alli",
           15.365
          ],
          [
           "mateo kovacic",
           17.556
          ],
          [
           "willian borges da silva",
           15.2
          ],
          [
           "harvey barnes",
           15.263
          ],
          [
           "solomon march",
           16.449
          ],
          [
           "matteo guendouzi",
           16.763
          ],
          [
           "ross barkley",
           15.8
          ],
          [
           "rodrigo hernandez",
           18
          ],
          [
           "davy pröpper",
           16
          ],
          [
           "n'golo kanté",
           15.316
          ],
          [
           "theo walcott",
           14.846
          ],
          [
           "jack cork",
           18
          ],
          [
           "roberto pereyra",
           14.292
          ],
          [
           "xherdan shaqiri",
           12.88
          ],
          [
           "christian atsu",
           15.533
          ],
          [
           "james ward-prowse",
           14.167
          ],
          [
           "granit xhaka",
           16.266
          ],
          [
           "jordan henderson",
           16
          ],
          [
           "sean longstaff",
           16
          ],
          [
           "jean-philippe gbamin",
           18
          ],
          [
           "tom trybull",
           18
          ],
          [
           "joseph willock",
           17.8
          ],
          [
           "sofiane boufal",
           14
          ],
          [
           "moussa djenepo",
           14
          ],
          [
           "cheikhou kouyaté",
           16
          ],
          [
           "andreas pereira",
           14.417
          ],
          [
           "abdoulaye doucouré",
           14.244
          ],
          [
           "fernando luiz rosa",
           14.9
          ],
          [
           "leander dendoncker",
           16
          ],
          [
           "jesse lingard",
           14.177
          ],
          [
           "jeff hendrick",
           14.909
          ],
          [
           "dale stephens",
           16
          ],
          [
           "oliver norwood",
           16
          ],
          [
           "pierre-emile højbjerg",
           13.771
          ],
          [
           "hamza choudhury",
           16
          ],
          [
           "demarai gray",
           12.914
          ],
          [
           "declan rice",
           13.789
          ],
          [
           "andré filipe tavares gomes",
           15.742
          ],
          [
           "juan mata",
           12.538
          ],
          [
           "jefferson lerma",
           15.765
          ],
          [
           "stuart armstrong",
           12.719
          ],
          [
           "aaron mooy",
           12.9
          ],
          [
           "robert snodgrass",
           12.75
          ],
          [
           "max meyer",
           13.403
          ],
          [
           "philip billing",
           15.742
          ],
          [
           "jordon ibe",
           14.262
          ],
          [
           "harry winks",
           15.733
          ],
          [
           "phil foden",
           13.857
          ],
          [
           "andrew surman",
           14.7
          ],
          [
           "aaron lennon",
           14.4
          ],
          [
           "sung-yueng ki",
           13.895
          ],
          [
           "etienne capoue",
           13.833
          ],
          [
           "oliver skipp",
           14
          ],
          [
           "morgan schneiderlin",
           15.312
          ],
          [
           "miguel almirón",
           13.429
          ],
          [
           "marco stiepermann",
           14
          ],
          [
           "oriol romeu vidal",
           13.771
          ],
          [
           "marc albrighton",
           12.25
          ],
          [
           "tom cleverley",
           13.219
          ],
          [
           "morgan gibbs-white",
           12.963
          ],
          [
           "adama traoré",
           12.266
          ],
          [
           "nampalys mendy",
           12.906
          ],
          [
           "georges-kévin nkoudou",
           13
          ],
          [
           "nemanja matic",
           12.897
          ],
          [
           "reiss nelson",
           13
          ],
          [
           "adam lallana",
           12.321
          ],
          [
           "tom davies",
           12.941
          ],
          [
           "domingos quina",
           12.222
          ],
          [
           "jack wilshere",
           12
          ],
          [
           "moritz leitner",
           14
          ],
          [
           "conor hourihane",
           12
          ],
          [
           "keinan davis",
           12
          ],
          [
           "henri lansbury",
           12
          ],
          [
           "giovani lo celso",
           12
          ],
          [
           "billy gilmour",
           12
          ],
          [
           "mario vrancic",
           12
          ],
          [
           "onel hernández",
           12
          ],
          [
           "kenny mclean",
           12
          ],
          [
           "alexander tettey",
           12
          ],
          [
           "ibrahim amadou",
           12
          ],
          [
           "luke freeman",
           12
          ],
          [
           "carlos sánchez",
           10.35
          ],
          [
           "alex oxlade-chamberlain",
           10
          ],
          [
           "nathaniel chalobah",
           10.45
          ],
          [
           "pablo fornals",
           10
          ],
          [
           "ravel morrison",
           10
          ],
          [
           "ben osborn",
           10
          ],
          [
           "dennis praet",
           10
          ],
          [
           "allan saint-maximin",
           10
          ],
          [
           "ismaïla sarr",
           10
          ],
          [
           "mahmoud ahmed ibrahim hassan",
           14
          ],
          [
           "john fleck",
           11
          ],
          [
           "james mccarthy",
           10
          ],
          [
           "pedro lomba neto",
           10
          ]
         ],
         "hoverlabel": {
          "namelength": 0
         },
         "hovertemplate": "Position=Midfielder<br>Points per Cost=%{marker.size}<br>Teams=%{y}<br>full_name=%{customdata[0]}<br>value_points=%{customdata[1]}",
         "legendgroup": "Position=Midfielder",
         "marker": {
          "color": "#EF553B",
          "size": [
           7.449721865639709,
           7.885714285714287,
           7.121739130434783,
           2.9835847382431226,
           6.1315315315315315,
           6.1019149626744555,
           2.1875,
           2.7083333333333335,
           2.295081967213115,
           5.487012987012987,
           6.672771672771673,
           4.0910815939278935,
           1.8333333333333333,
           5.270979020979021,
           5.220077220077219,
           5.40829346092504,
           6.85583822570124,
           6.131221719457013,
           1.6666666666666667,
           5.552268244575938,
           3.760869565217391,
           1.6071428571428572,
           4.929577464788733,
           3.2720588235294117,
           5.3155245838172664,
           4.127604166666667,
           1.7391304347826089,
           1.5789473684210527,
           1.6981132075471699,
           3.293333333333333,
           2.82995951417004,
           5.919732441471572,
           3.4545454545454546,
           4.3128721942281265,
           4.887878787878789,
           4.562770562770563,
           0.8,
           1.758241758241758,
           4.231404958677686,
           5.383064516129032,
           4.48671497584541,
           0.8333333333333334,
           2.3571428571428568,
           3.9132553606237814,
           5.906862745098039,
           3.438228438228438,
           4.877450980392156,
           0.9090909090909091,
           4.2272727272727275,
           4.923325262308313,
           0.6666666666666666,
           2.7082184225041366,
           1.9600000000000002,
           2.8249336870026522,
           4.862700228832952,
           4.14021164021164,
           0.8333333333333334,
           3.6270396270396272,
           2.1818181818181817,
           2.835249042145594,
           1.911111111111111,
           0.3191489361702127,
           2.204878048780488,
           4.929919137466307,
           0.6779661016949152,
           1.7840909090909092,
           1.5254237288135593,
           3.623188405797101,
           2.8044871794871793,
           1.4343434343434343,
           3.330612244897959,
           1.6324710080285458,
           3.1344845630559917,
           0.1403508771929824,
           3.1810344827586206,
           0.36363636363636365,
           1.5941176470588236,
           4.252631578947367,
           3.237688237688238,
           1.28,
           4.489942528735632,
           4.114285714285714,
           1.4320987654320985,
           3.4519774011299433,
           2.7517361111111107,
           2.04040404040404,
           1.0846153846153848,
           0.2040816326530612,
           0.2222222222222222,
           0.2,
           0.5454545454545454,
           0.5555555555555555,
           1.5433673469387754,
           0.9666666666666668,
           4.047303271441202,
           2.2798742138364783,
           1.3236714975845412,
           2.313508064516129,
           1.7059483726150393,
           0.9084967320261437,
           0.2,
           2.530612244897959,
           0.45299145299145294,
           2.7493261455525606,
           2.2824919441460794,
           1.1051373954599761,
           2.379807692307692,
           1.3025210084033614,
           2.667824074074074,
           2.1700680272108843,
           2.361111111111111,
           1.4725209080047788,
           0.8193548387096774,
           0.738581146744412,
           0.5818181818181819,
           0.8760107816711591,
           0.18367346938775508,
           0.8571428571428573,
           0.5800214822771214,
           1.105442176870748,
           0.17777777777777778,
           0.3333333333333333,
           0.5447941888619855,
           0,
           0.29523809523809524,
           1.7314814814814814,
           0.6632653061224489,
           0.5895691609977324,
           0.90625,
           0.5381944444444444,
           0.15,
           0.40229885057471265,
           0,
           0.3934624697336562,
           0,
           0.691358024691358,
           0.4081632653061224,
           0,
           0,
           0,
           0,
           0,
           0,
           0,
           0,
           0,
           0,
           0,
           0,
           0,
           0,
           0,
           0,
           0,
           0,
           0,
           0,
           0,
           0,
           0,
           0,
           0
          ],
          "sizemode": "area",
          "sizeref": 0.025457875457875458,
          "symbol": "circle"
         },
         "mode": "markers",
         "name": "Position=Midfielder",
         "showlegend": true,
         "type": "scatter",
         "x": [
          7.449721865639709,
          7.885714285714287,
          7.121739130434783,
          2.9835847382431226,
          6.1315315315315315,
          6.1019149626744555,
          2.1875,
          2.7083333333333335,
          2.295081967213115,
          5.487012987012987,
          6.672771672771673,
          4.0910815939278935,
          1.8333333333333333,
          5.270979020979021,
          5.220077220077219,
          5.40829346092504,
          6.85583822570124,
          6.131221719457013,
          1.6666666666666667,
          5.552268244575938,
          3.760869565217391,
          1.6071428571428572,
          4.929577464788733,
          3.2720588235294117,
          5.3155245838172664,
          4.127604166666667,
          1.7391304347826089,
          1.5789473684210527,
          1.6981132075471699,
          3.293333333333333,
          2.82995951417004,
          5.919732441471572,
          3.4545454545454546,
          4.3128721942281265,
          4.887878787878789,
          4.562770562770563,
          0.8,
          1.758241758241758,
          4.231404958677686,
          5.383064516129032,
          4.48671497584541,
          0.8333333333333334,
          2.3571428571428568,
          3.9132553606237814,
          5.906862745098039,
          3.438228438228438,
          4.877450980392156,
          0.9090909090909091,
          4.2272727272727275,
          4.923325262308313,
          0.6666666666666666,
          2.7082184225041366,
          1.9600000000000002,
          2.8249336870026522,
          4.862700228832952,
          4.14021164021164,
          0.8333333333333334,
          3.6270396270396272,
          2.1818181818181817,
          2.835249042145594,
          1.911111111111111,
          0.3191489361702127,
          2.204878048780488,
          4.929919137466307,
          0.6779661016949152,
          1.7840909090909092,
          1.5254237288135593,
          3.623188405797101,
          2.8044871794871793,
          1.4343434343434343,
          3.330612244897959,
          1.6324710080285458,
          3.1344845630559917,
          0.1403508771929824,
          3.1810344827586206,
          0.36363636363636365,
          1.5941176470588236,
          4.252631578947367,
          3.237688237688238,
          1.28,
          4.489942528735632,
          4.114285714285714,
          1.4320987654320985,
          3.4519774011299433,
          2.7517361111111107,
          2.04040404040404,
          1.0846153846153848,
          0.2040816326530612,
          0.2222222222222222,
          0.2,
          0.5454545454545454,
          0.5555555555555555,
          1.5433673469387754,
          0.9666666666666668,
          4.047303271441202,
          2.2798742138364783,
          1.3236714975845412,
          2.313508064516129,
          1.7059483726150393,
          0.9084967320261437,
          0.2,
          2.530612244897959,
          0.45299145299145294,
          2.7493261455525606,
          2.2824919441460794,
          1.1051373954599761,
          2.379807692307692,
          1.3025210084033614,
          2.667824074074074,
          2.1700680272108843,
          2.361111111111111,
          1.4725209080047788,
          0.8193548387096774,
          0.738581146744412,
          0.5818181818181819,
          0.8760107816711591,
          0.18367346938775508,
          0.8571428571428573,
          0.5800214822771214,
          1.105442176870748,
          0.17777777777777778,
          0.3333333333333333,
          0.5447941888619855,
          0,
          0.29523809523809524,
          1.7314814814814814,
          0.6632653061224489,
          0.5895691609977324,
          0.90625,
          0.5381944444444444,
          0.15,
          0.40229885057471265,
          0,
          0.3934624697336562,
          0,
          0.691358024691358,
          0.4081632653061224,
          0,
          0,
          0,
          0,
          0,
          0,
          0,
          0,
          0,
          0,
          0,
          0,
          0,
          0,
          0,
          0,
          0,
          0,
          0,
          0,
          0,
          0,
          0,
          0,
          0
         ],
         "xaxis": "x",
         "y": [
          "Man City",
          "Liverpool",
          "Liverpool",
          "Man City",
          "Man City",
          "Everton",
          "Chelsea",
          "Norwich",
          "Man Utd",
          "Man Utd",
          "Everton",
          "Man City",
          "Bournemouth",
          "Spurs",
          "Spurs",
          "Spurs",
          "Bournemouth",
          "Man Utd",
          "Spurs",
          "Man City",
          "Spurs",
          "Aston Villa",
          "Leicester",
          "Leicester",
          "Southampton",
          "Burnley",
          "Aston Villa",
          "Arsenal",
          "Sheffield Utd",
          "Burnley",
          "Everton",
          "West Ham",
          "Watford",
          "Everton",
          "West Ham",
          "Wolves",
          "Chelsea",
          "West Ham",
          "Crystal Palace",
          "Leicester",
          "West Ham",
          "Norwich",
          "Leicester",
          "Burnley",
          "Crystal Palace",
          "Wolves",
          "Liverpool",
          "Aston Villa",
          "Chelsea",
          "Crystal Palace",
          "Aston Villa",
          "Arsenal",
          "Man Utd",
          "Brighton",
          "Crystal Palace",
          "Crystal Palace",
          "Brighton",
          "Liverpool",
          "Spurs",
          "Newcastle",
          "Newcastle",
          "Arsenal",
          "Chelsea",
          "Man City",
          "Aston Villa",
          "Liverpool",
          "West Ham",
          "Arsenal",
          "Spurs",
          "Chelsea",
          "Chelsea",
          "Leicester",
          "Brighton",
          "Arsenal",
          "Chelsea",
          "Man City",
          "Brighton",
          "Chelsea",
          "Everton",
          "Burnley",
          "Watford",
          "Liverpool",
          "Newcastle",
          "Southampton",
          "Arsenal",
          "Liverpool",
          "Newcastle",
          "Everton",
          "Norwich",
          "Arsenal",
          "Southampton",
          "Southampton",
          "Crystal Palace",
          "Man Utd",
          "Watford",
          "Man City",
          "Wolves",
          "Man Utd",
          "Burnley",
          "Brighton",
          "Sheffield Utd",
          "Southampton",
          "Leicester",
          "Leicester",
          "West Ham",
          "Everton",
          "Man Utd",
          "Bournemouth",
          "Southampton",
          "Brighton",
          "West Ham",
          "Crystal Palace",
          "Bournemouth",
          "Bournemouth",
          "Spurs",
          "Man City",
          "Bournemouth",
          "Burnley",
          "Newcastle",
          "Watford",
          "Spurs",
          "Everton",
          "Newcastle",
          "Norwich",
          "Southampton",
          "Leicester",
          "Watford",
          "Wolves",
          "Wolves",
          "Leicester",
          "Spurs",
          "Man Utd",
          "Arsenal",
          "Liverpool",
          "Everton",
          "Watford",
          "West Ham",
          "Norwich",
          "Aston Villa",
          "Aston Villa",
          "Aston Villa",
          "Spurs",
          "Chelsea",
          "Norwich",
          "Norwich",
          "Norwich",
          "Norwich",
          "Norwich",
          "Sheffield Utd",
          "West Ham",
          "Liverpool",
          "Watford",
          "West Ham",
          "Sheffield Utd",
          "Sheffield Utd",
          "Leicester",
          "Newcastle",
          "Watford",
          "Aston Villa",
          "Sheffield Utd",
          "Crystal Palace",
          "Wolves"
         ],
         "yaxis": "y"
        },
        {
         "customdata": [
          [
           "trent alexander-arnold",
           18.439
          ],
          [
           "lucas digne",
           20
          ],
          [
           "virgil van dijk",
           17.905
          ],
          [
           "patrick van aanholt",
           18
          ],
          [
           "andrew robertson",
           17.8
          ],
          [
           "kyle walker",
           19.446
          ],
          [
           "erik pieters",
           19
          ],
          [
           "aymeric laporte",
           19.346
          ],
          [
           "michael keane",
           19.446
          ],
          [
           "ricardo domingos barbosa pereira",
           17.449
          ],
          [
           "john lundstram",
           17
          ],
          [
           "fabian schär",
           17
          ],
          [
           "joel matip",
           17
          ],
          [
           "seamus coleman",
           18.879
          ],
          [
           "jannik vestergaard",
           17.148
          ],
          [
           "willy boly",
           17
          ],
          [
           "marcos alonso",
           16.359
          ],
          [
           "yerry mina",
           18.618
          ],
          [
           "matt doherty",
           16.927
          ],
          [
           "benjamin chilwell",
           17
          ],
          [
           "enda stevens",
           17
          ],
          [
           "george baldock",
           17
          ],
          [
           "oleksandr zinchenko",
           18.611
          ],
          [
           "ainsley maitland-niles",
           18.6
          ],
          [
           "john stones",
           18.48
          ],
          [
           "tyrone mings",
           17.333
          ],
          [
           "césar azpilicueta",
           16.714
          ],
          [
           "nacho monreal",
           18.44
          ],
          [
           "joel ward",
           15.409
          ],
          [
           "bjorn engels",
           18
          ],
          [
           "jonny evans",
           17
          ],
          [
           "david luiz moreira marinho",
           16.769
          ],
          [
           "arthur masuaku",
           16.558
          ],
          [
           "aaron wan-bissaka",
           16.449
          ],
          [
           "shane duffy",
           16.461
          ],
          [
           "nicolás otamendi",
           18.429
          ],
          [
           "martin kelly",
           16.618
          ],
          [
           "chris mepham",
           18
          ],
          [
           "luke shaw",
           16.453
          ],
          [
           "jonathan castro otto",
           16.458
          ],
          [
           "lewis dunk",
           16
          ],
          [
           "matt ritchie",
           16.461
          ],
          [
           "jamaal lascelles",
           16.444
          ],
          [
           "çaglar söyüncü",
           15.5
          ],
          [
           "james tarkowski",
           18
          ],
          [
           "sokratis papastathopoulos",
           18
          ],
          [
           "kevin danso",
           16
          ],
          [
           "harry maguire",
           16.443
          ],
          [
           "issa diop",
           16
          ],
          [
           "calum chambers",
           18
          ],
          [
           "romain saïss",
           14.905
          ],
          [
           "frédéric guilbert",
           18
          ],
          [
           "victor lindelöf",
           16
          ],
          [
           "conor coady",
           16
          ],
          [
           "ben mee",
           18
          ],
          [
           "emil krafth",
           16
          ],
          [
           "scott dann",
           16
          ],
          [
           "paul dummett",
           16
          ],
          [
           "toby alderweireld",
           16.244
          ],
          [
           "ahmed el mohamady",
           18
          ],
          [
           "neil taylor",
           18
          ],
          [
           "nathan aké",
           16.262
          ],
          [
           "ryan bennett",
           16
          ],
          [
           "sead kolasinac",
           15.231
          ],
          [
           "gary cahill",
           14.5
          ],
          [
           "angelo ogbonna",
           16
          ],
          [
           "jack o'connell",
           16
          ],
          [
           "john egan",
           16
          ],
          [
           "chris basham",
           16
          ],
          [
           "jan bednarek",
           16
          ],
          [
           "jan vertonghen",
           15.913
          ],
          [
           "ryan fredericks",
           16
          ],
          [
           "mamadou sakho",
           13.375
          ],
          [
           "matthew lowton",
           16.32
          ],
          [
           "ben davies",
           14.897
          ],
          [
           "joseph gomez",
           13.882
          ],
          [
           "danny rose",
           16.167
          ],
          [
           "wes morgan",
           13.348
          ],
          [
           "dan burn",
           16
          ],
          [
           "davinson sánchez",
           16.13
          ],
          [
           "steve cook",
           15.771
          ],
          [
           "charlie daniels",
           15.826
          ],
          [
           "cédric soares",
           13.895
          ],
          [
           "kurt zouma",
           16.162
          ],
          [
           "kyle walker-peters",
           15.333
          ],
          [
           "adam smith",
           15.724
          ],
          [
           "daryl janmaat",
           13.895
          ],
          [
           "javier manquillo",
           12.7
          ],
          [
           "josé holebas",
           14.258
          ],
          [
           "ashley young",
           13.875
          ],
          [
           "federico fernández",
           12.714
          ],
          [
           "jamal lewis",
           14
          ],
          [
           "jack stephens",
           13.92
          ],
          [
           "craig cathcart",
           13.8
          ],
          [
           "francisco femenía far",
           13.758
          ],
          [
           "yan valery",
           13.769
          ],
          [
           "phil jagielka",
           12.188
          ],
          [
           "andreas christensen",
           15.455
          ],
          [
           "ryan bertrand",
           13.846
          ],
          [
           "maya yoshida",
           12.684
          ],
          [
           "diego rico",
           13.542
          ],
          [
           "fikayo tomori",
           14
          ],
          [
           "mason holgate",
           12.833
          ],
          [
           "christoph zimmermann",
           12
          ],
          [
           "sam byram",
           12
          ],
          [
           "joão pedro cavaco cancelo",
           12
          ],
          [
           "emerson palmieri dos santos",
           15.429
          ],
          [
           "jetro willems",
           12
          ],
          [
           "christian fuchs",
           12
          ],
          [
           "martín montoya",
           12
          ],
          [
           "christian kabasele",
           12
          ],
          [
           "bernardo fernandes da silva junior",
           10.917
          ],
          [
           "ben godfrey",
           14
          ],
          [
           "craig dawson",
           12
          ],
          [
           "grant hanley",
           14
          ],
          [
           "maximillian aarons",
           14
          ]
         ],
         "hoverlabel": {
          "namelength": 0
         },
         "hovertemplate": "Position=Defender<br>Points per Cost=%{marker.size}<br>Teams=%{y}<br>full_name=%{customdata[0]}<br>value_points=%{customdata[1]}",
         "legendgroup": "Position=Defender",
         "marker": {
          "color": "#00cc96",
          "size": [
           9.088775074690568,
           7.976040353089535,
           10.183150183150182,
           7.11607142857143,
           9.51449275362319,
           7.130630630630631,
           2.173913043478261,
           7.744391025641025,
           5.914004914004914,
           6.326923076923077,
           2.380952380952381,
           5.285714285714286,
           4.725925925925925,
           5.8402203856749315,
           1.9481481481481482,
           5.290000000000001,
           7.734375,
           1.9905462184873952,
           5.91869918699187,
           4.717348927875244,
           1.4,
           1.5555555555555556,
           2.0138888888888893,
           1.647058823529412,
           3.9407407407407407,
           1.2222222222222223,
           6.194511702986278,
           3.528,
           1.5151515151515151,
           1.1111111111111112,
           3.3428571428571425,
           6.831812255541069,
           1.9017094017094014,
           4.37995337995338,
           4.560526315789473,
           3.306878306878306,
           1.2984218077474896,
           1.2430555555555556,
           3.1741898148148144,
           3.5454545454545454,
           2.673913043478261,
           3.6111111111111103,
           3.728395061728395,
           1.0222222222222221,
           2.623076923076923,
           1.6344827586206896,
           0.8888888888888888,
           2.8597402597402595,
           2.5735735735735736,
           0.5656565656565656,
           2.37012987012987,
           0.45454545454545453,
           2.412854030501089,
           1.9571428571428569,
           0.6720930232558139,
           0.6666666666666666,
           1.0740740740740742,
           2.177777777777778,
           3.1445221445221447,
           0.2222222222222222,
           0.2222222222222222,
           3.7269193391642372,
           1.9894736842105263,
           3.0626780626780623,
           0.6666666666666666,
           0.7654320987654322,
           0.4444444444444444,
           0.4444444444444444,
           0.4444444444444444,
           0.47619047619047616,
           2.06726825266612,
           1.1871345029239766,
           3.2785714285714285,
           0,
           1.6677115987460815,
           2.440087145969499,
           2.73939393939394,
           3.4782608695652173,
           0.2222222222222222,
           2.242424242424242,
           1.8142857142857143,
           0.608695652173913,
           1.8367346938775508,
           3.690016547159405,
           1.0884353741496597,
           1.7279693486590038,
           1.7224880382775116,
           2.4545454545454546,
           3.2123655913978495,
           1.290509259259259,
           1.3365800865800865,
           0,
           0.5363636363636363,
           1.9772727272727268,
           1.34297520661157,
           0.945839874411303,
           1.1931818181818181,
           0.2,
           0.533751962323391,
           0.8911483253588517,
           0,
           0,
           0,
           0,
           0,
           0,
           0,
           0,
           0,
           0,
           0,
           0,
           0,
           0,
           0,
           0
          ],
          "sizemode": "area",
          "sizeref": 0.025457875457875458,
          "symbol": "circle"
         },
         "mode": "markers",
         "name": "Position=Defender",
         "showlegend": true,
         "type": "scatter",
         "x": [
          9.088775074690568,
          7.976040353089535,
          10.183150183150182,
          7.11607142857143,
          9.51449275362319,
          7.130630630630631,
          2.173913043478261,
          7.744391025641025,
          5.914004914004914,
          6.326923076923077,
          2.380952380952381,
          5.285714285714286,
          4.725925925925925,
          5.8402203856749315,
          1.9481481481481482,
          5.290000000000001,
          7.734375,
          1.9905462184873952,
          5.91869918699187,
          4.717348927875244,
          1.4,
          1.5555555555555556,
          2.0138888888888893,
          1.647058823529412,
          3.9407407407407407,
          1.2222222222222223,
          6.194511702986278,
          3.528,
          1.5151515151515151,
          1.1111111111111112,
          3.3428571428571425,
          6.831812255541069,
          1.9017094017094014,
          4.37995337995338,
          4.560526315789473,
          3.306878306878306,
          1.2984218077474896,
          1.2430555555555556,
          3.1741898148148144,
          3.5454545454545454,
          2.673913043478261,
          3.6111111111111103,
          3.728395061728395,
          1.0222222222222221,
          2.623076923076923,
          1.6344827586206896,
          0.8888888888888888,
          2.8597402597402595,
          2.5735735735735736,
          0.5656565656565656,
          2.37012987012987,
          0.45454545454545453,
          2.412854030501089,
          1.9571428571428569,
          0.6720930232558139,
          0.6666666666666666,
          1.0740740740740742,
          2.177777777777778,
          3.1445221445221447,
          0.2222222222222222,
          0.2222222222222222,
          3.7269193391642372,
          1.9894736842105263,
          3.0626780626780623,
          0.6666666666666666,
          0.7654320987654322,
          0.4444444444444444,
          0.4444444444444444,
          0.4444444444444444,
          0.47619047619047616,
          2.06726825266612,
          1.1871345029239766,
          3.2785714285714285,
          0,
          1.6677115987460815,
          2.440087145969499,
          2.73939393939394,
          3.4782608695652173,
          0.2222222222222222,
          2.242424242424242,
          1.8142857142857143,
          0.608695652173913,
          1.8367346938775508,
          3.690016547159405,
          1.0884353741496597,
          1.7279693486590038,
          1.7224880382775116,
          2.4545454545454546,
          3.2123655913978495,
          1.290509259259259,
          1.3365800865800865,
          0,
          0.5363636363636363,
          1.9772727272727268,
          1.34297520661157,
          0.945839874411303,
          1.1931818181818181,
          0.2,
          0.533751962323391,
          0.8911483253588517,
          0,
          0,
          0,
          0,
          0,
          0,
          0,
          0,
          0,
          0,
          0,
          0,
          0,
          0,
          0,
          0
         ],
         "xaxis": "x",
         "y": [
          "Liverpool",
          "Everton",
          "Liverpool",
          "Crystal Palace",
          "Liverpool",
          "Man City",
          "Burnley",
          "Man City",
          "Everton",
          "Leicester",
          "Sheffield Utd",
          "Newcastle",
          "Liverpool",
          "Everton",
          "Southampton",
          "Wolves",
          "Chelsea",
          "Everton",
          "Wolves",
          "Leicester",
          "Sheffield Utd",
          "Sheffield Utd",
          "Man City",
          "Arsenal",
          "Man City",
          "Aston Villa",
          "Chelsea",
          "Arsenal",
          "Crystal Palace",
          "Aston Villa",
          "Leicester",
          "Arsenal",
          "West Ham",
          "Man Utd",
          "Brighton",
          "Man City",
          "Crystal Palace",
          "Bournemouth",
          "Man Utd",
          "Wolves",
          "Brighton",
          "Newcastle",
          "Newcastle",
          "Leicester",
          "Burnley",
          "Arsenal",
          "Southampton",
          "Man Utd",
          "West Ham",
          "Arsenal",
          "Wolves",
          "Aston Villa",
          "Man Utd",
          "Wolves",
          "Burnley",
          "Newcastle",
          "Crystal Palace",
          "Newcastle",
          "Spurs",
          "Aston Villa",
          "Aston Villa",
          "Bournemouth",
          "Wolves",
          "Arsenal",
          "Crystal Palace",
          "West Ham",
          "Sheffield Utd",
          "Sheffield Utd",
          "Sheffield Utd",
          "Southampton",
          "Spurs",
          "West Ham",
          "Crystal Palace",
          "Burnley",
          "Spurs",
          "Liverpool",
          "Spurs",
          "Leicester",
          "Brighton",
          "Spurs",
          "Bournemouth",
          "Bournemouth",
          "Southampton",
          "Chelsea",
          "Spurs",
          "Bournemouth",
          "Watford",
          "Newcastle",
          "Watford",
          "Man Utd",
          "Newcastle",
          "Norwich",
          "Southampton",
          "Watford",
          "Watford",
          "Southampton",
          "Sheffield Utd",
          "Chelsea",
          "Southampton",
          "Southampton",
          "Bournemouth",
          "Chelsea",
          "Everton",
          "Norwich",
          "Norwich",
          "Man City",
          "Chelsea",
          "Newcastle",
          "Leicester",
          "Brighton",
          "Watford",
          "Brighton",
          "Norwich",
          "Watford",
          "Norwich",
          "Norwich"
         ],
         "yaxis": "y"
        },
        {
         "customdata": [
          [
           "ederson santana de moraes",
           19.905
          ],
          [
           "jordan pickford",
           19.452
          ],
          [
           "rui pedro dos santos patrício",
           17.549
          ],
          [
           "hugo lloris",
           18.892
          ],
          [
           "nick pope",
           19
          ],
          [
           "bernd leno",
           19
          ],
          [
           "lukasz fabianski",
           16.905
          ],
          [
           "david de gea",
           17
          ],
          [
           "vicente guaita",
           17
          ],
          [
           "alisson ramses becker",
           14.385
          ],
          [
           "martin dubravka",
           16.453
          ],
          [
           "dean henderson",
           17
          ],
          [
           "kasper schmeichel",
           16.452
          ],
          [
           "angus gunn",
           16.625
          ],
          [
           "ben foster",
           16.452
          ],
          [
           "mathew ryan",
           16.447
          ],
          [
           "tom heaton",
           18
          ],
          [
           "adrián san miguel del castillo",
           16
          ],
          [
           "kepa arrizabalaga",
           16.7
          ],
          [
           "aaron ramsdale",
           14
          ],
          [
           "tim krul",
           14
          ]
         ],
         "hoverlabel": {
          "namelength": 0
         },
         "hovertemplate": "Position=Goalkeeper<br>Points per Cost=%{marker.size}<br>Teams=%{y}<br>full_name=%{customdata[0]}<br>value_points=%{customdata[1]}",
         "legendgroup": "Position=Goalkeeper",
         "marker": {
          "color": "#ab63fa",
          "size": [
           7.704918032786885,
           7.648809523809525,
           5.184122429459589,
           6.707616707616707,
           1.5217391304347827,
           4.488888888888889,
           6.60952380952381,
           4.238945578231293,
           4.316666666666667,
           8.399646330680813,
           5.534883720930233,
           1.3333333333333333,
           4.5285714285714285,
           2.888888888888889,
           5.228377065111759,
           3.9816933638443937,
           2.357487922705314,
           1.0869565217391306,
           5.427272727272728,
           0,
           0
          ],
          "sizemode": "area",
          "sizeref": 0.025457875457875458,
          "symbol": "circle"
         },
         "mode": "markers",
         "name": "Position=Goalkeeper",
         "showlegend": true,
         "type": "scatter",
         "x": [
          7.704918032786885,
          7.648809523809525,
          5.184122429459589,
          6.707616707616707,
          1.5217391304347827,
          4.488888888888889,
          6.60952380952381,
          4.238945578231293,
          4.316666666666667,
          8.399646330680813,
          5.534883720930233,
          1.3333333333333333,
          4.5285714285714285,
          2.888888888888889,
          5.228377065111759,
          3.9816933638443937,
          2.357487922705314,
          1.0869565217391306,
          5.427272727272728,
          0,
          0
         ],
         "xaxis": "x",
         "y": [
          "Man City",
          "Everton",
          "Wolves",
          "Spurs",
          "Burnley",
          "Arsenal",
          "West Ham",
          "Man Utd",
          "Crystal Palace",
          "Liverpool",
          "Newcastle",
          "Sheffield Utd",
          "Leicester",
          "Southampton",
          "Watford",
          "Brighton",
          "Aston Villa",
          "Liverpool",
          "Chelsea",
          "Bournemouth",
          "Norwich"
         ],
         "yaxis": "y"
        }
       ],
       "layout": {
        "height": 600,
        "legend": {
         "itemsizing": "constant",
         "tracegroupgap": 0
        },
        "margin": {
         "t": 60
        },
        "template": {
         "data": {
          "bar": [
           {
            "error_x": {
             "color": "#2a3f5f"
            },
            "error_y": {
             "color": "#2a3f5f"
            },
            "marker": {
             "line": {
              "color": "#E5ECF6",
              "width": 0.5
             }
            },
            "type": "bar"
           }
          ],
          "barpolar": [
           {
            "marker": {
             "line": {
              "color": "#E5ECF6",
              "width": 0.5
             }
            },
            "type": "barpolar"
           }
          ],
          "carpet": [
           {
            "aaxis": {
             "endlinecolor": "#2a3f5f",
             "gridcolor": "white",
             "linecolor": "white",
             "minorgridcolor": "white",
             "startlinecolor": "#2a3f5f"
            },
            "baxis": {
             "endlinecolor": "#2a3f5f",
             "gridcolor": "white",
             "linecolor": "white",
             "minorgridcolor": "white",
             "startlinecolor": "#2a3f5f"
            },
            "type": "carpet"
           }
          ],
          "choropleth": [
           {
            "colorbar": {
             "outlinewidth": 0,
             "ticks": ""
            },
            "type": "choropleth"
           }
          ],
          "contour": [
           {
            "colorbar": {
             "outlinewidth": 0,
             "ticks": ""
            },
            "colorscale": [
             [
              0,
              "#0d0887"
             ],
             [
              0.1111111111111111,
              "#46039f"
             ],
             [
              0.2222222222222222,
              "#7201a8"
             ],
             [
              0.3333333333333333,
              "#9c179e"
             ],
             [
              0.4444444444444444,
              "#bd3786"
             ],
             [
              0.5555555555555556,
              "#d8576b"
             ],
             [
              0.6666666666666666,
              "#ed7953"
             ],
             [
              0.7777777777777778,
              "#fb9f3a"
             ],
             [
              0.8888888888888888,
              "#fdca26"
             ],
             [
              1,
              "#f0f921"
             ]
            ],
            "type": "contour"
           }
          ],
          "contourcarpet": [
           {
            "colorbar": {
             "outlinewidth": 0,
             "ticks": ""
            },
            "type": "contourcarpet"
           }
          ],
          "heatmap": [
           {
            "colorbar": {
             "outlinewidth": 0,
             "ticks": ""
            },
            "colorscale": [
             [
              0,
              "#0d0887"
             ],
             [
              0.1111111111111111,
              "#46039f"
             ],
             [
              0.2222222222222222,
              "#7201a8"
             ],
             [
              0.3333333333333333,
              "#9c179e"
             ],
             [
              0.4444444444444444,
              "#bd3786"
             ],
             [
              0.5555555555555556,
              "#d8576b"
             ],
             [
              0.6666666666666666,
              "#ed7953"
             ],
             [
              0.7777777777777778,
              "#fb9f3a"
             ],
             [
              0.8888888888888888,
              "#fdca26"
             ],
             [
              1,
              "#f0f921"
             ]
            ],
            "type": "heatmap"
           }
          ],
          "heatmapgl": [
           {
            "colorbar": {
             "outlinewidth": 0,
             "ticks": ""
            },
            "colorscale": [
             [
              0,
              "#0d0887"
             ],
             [
              0.1111111111111111,
              "#46039f"
             ],
             [
              0.2222222222222222,
              "#7201a8"
             ],
             [
              0.3333333333333333,
              "#9c179e"
             ],
             [
              0.4444444444444444,
              "#bd3786"
             ],
             [
              0.5555555555555556,
              "#d8576b"
             ],
             [
              0.6666666666666666,
              "#ed7953"
             ],
             [
              0.7777777777777778,
              "#fb9f3a"
             ],
             [
              0.8888888888888888,
              "#fdca26"
             ],
             [
              1,
              "#f0f921"
             ]
            ],
            "type": "heatmapgl"
           }
          ],
          "histogram": [
           {
            "marker": {
             "colorbar": {
              "outlinewidth": 0,
              "ticks": ""
             }
            },
            "type": "histogram"
           }
          ],
          "histogram2d": [
           {
            "colorbar": {
             "outlinewidth": 0,
             "ticks": ""
            },
            "colorscale": [
             [
              0,
              "#0d0887"
             ],
             [
              0.1111111111111111,
              "#46039f"
             ],
             [
              0.2222222222222222,
              "#7201a8"
             ],
             [
              0.3333333333333333,
              "#9c179e"
             ],
             [
              0.4444444444444444,
              "#bd3786"
             ],
             [
              0.5555555555555556,
              "#d8576b"
             ],
             [
              0.6666666666666666,
              "#ed7953"
             ],
             [
              0.7777777777777778,
              "#fb9f3a"
             ],
             [
              0.8888888888888888,
              "#fdca26"
             ],
             [
              1,
              "#f0f921"
             ]
            ],
            "type": "histogram2d"
           }
          ],
          "histogram2dcontour": [
           {
            "colorbar": {
             "outlinewidth": 0,
             "ticks": ""
            },
            "colorscale": [
             [
              0,
              "#0d0887"
             ],
             [
              0.1111111111111111,
              "#46039f"
             ],
             [
              0.2222222222222222,
              "#7201a8"
             ],
             [
              0.3333333333333333,
              "#9c179e"
             ],
             [
              0.4444444444444444,
              "#bd3786"
             ],
             [
              0.5555555555555556,
              "#d8576b"
             ],
             [
              0.6666666666666666,
              "#ed7953"
             ],
             [
              0.7777777777777778,
              "#fb9f3a"
             ],
             [
              0.8888888888888888,
              "#fdca26"
             ],
             [
              1,
              "#f0f921"
             ]
            ],
            "type": "histogram2dcontour"
           }
          ],
          "mesh3d": [
           {
            "colorbar": {
             "outlinewidth": 0,
             "ticks": ""
            },
            "type": "mesh3d"
           }
          ],
          "parcoords": [
           {
            "line": {
             "colorbar": {
              "outlinewidth": 0,
              "ticks": ""
             }
            },
            "type": "parcoords"
           }
          ],
          "scatter": [
           {
            "marker": {
             "colorbar": {
              "outlinewidth": 0,
              "ticks": ""
             }
            },
            "type": "scatter"
           }
          ],
          "scatter3d": [
           {
            "line": {
             "colorbar": {
              "outlinewidth": 0,
              "ticks": ""
             }
            },
            "marker": {
             "colorbar": {
              "outlinewidth": 0,
              "ticks": ""
             }
            },
            "type": "scatter3d"
           }
          ],
          "scattercarpet": [
           {
            "marker": {
             "colorbar": {
              "outlinewidth": 0,
              "ticks": ""
             }
            },
            "type": "scattercarpet"
           }
          ],
          "scattergeo": [
           {
            "marker": {
             "colorbar": {
              "outlinewidth": 0,
              "ticks": ""
             }
            },
            "type": "scattergeo"
           }
          ],
          "scattergl": [
           {
            "marker": {
             "colorbar": {
              "outlinewidth": 0,
              "ticks": ""
             }
            },
            "type": "scattergl"
           }
          ],
          "scattermapbox": [
           {
            "marker": {
             "colorbar": {
              "outlinewidth": 0,
              "ticks": ""
             }
            },
            "type": "scattermapbox"
           }
          ],
          "scatterpolar": [
           {
            "marker": {
             "colorbar": {
              "outlinewidth": 0,
              "ticks": ""
             }
            },
            "type": "scatterpolar"
           }
          ],
          "scatterpolargl": [
           {
            "marker": {
             "colorbar": {
              "outlinewidth": 0,
              "ticks": ""
             }
            },
            "type": "scatterpolargl"
           }
          ],
          "scatterternary": [
           {
            "marker": {
             "colorbar": {
              "outlinewidth": 0,
              "ticks": ""
             }
            },
            "type": "scatterternary"
           }
          ],
          "surface": [
           {
            "colorbar": {
             "outlinewidth": 0,
             "ticks": ""
            },
            "colorscale": [
             [
              0,
              "#0d0887"
             ],
             [
              0.1111111111111111,
              "#46039f"
             ],
             [
              0.2222222222222222,
              "#7201a8"
             ],
             [
              0.3333333333333333,
              "#9c179e"
             ],
             [
              0.4444444444444444,
              "#bd3786"
             ],
             [
              0.5555555555555556,
              "#d8576b"
             ],
             [
              0.6666666666666666,
              "#ed7953"
             ],
             [
              0.7777777777777778,
              "#fb9f3a"
             ],
             [
              0.8888888888888888,
              "#fdca26"
             ],
             [
              1,
              "#f0f921"
             ]
            ],
            "type": "surface"
           }
          ],
          "table": [
           {
            "cells": {
             "fill": {
              "color": "#EBF0F8"
             },
             "line": {
              "color": "white"
             }
            },
            "header": {
             "fill": {
              "color": "#C8D4E3"
             },
             "line": {
              "color": "white"
             }
            },
            "type": "table"
           }
          ]
         },
         "layout": {
          "annotationdefaults": {
           "arrowcolor": "#2a3f5f",
           "arrowhead": 0,
           "arrowwidth": 1
          },
          "colorscale": {
           "diverging": [
            [
             0,
             "#8e0152"
            ],
            [
             0.1,
             "#c51b7d"
            ],
            [
             0.2,
             "#de77ae"
            ],
            [
             0.3,
             "#f1b6da"
            ],
            [
             0.4,
             "#fde0ef"
            ],
            [
             0.5,
             "#f7f7f7"
            ],
            [
             0.6,
             "#e6f5d0"
            ],
            [
             0.7,
             "#b8e186"
            ],
            [
             0.8,
             "#7fbc41"
            ],
            [
             0.9,
             "#4d9221"
            ],
            [
             1,
             "#276419"
            ]
           ],
           "sequential": [
            [
             0,
             "#0d0887"
            ],
            [
             0.1111111111111111,
             "#46039f"
            ],
            [
             0.2222222222222222,
             "#7201a8"
            ],
            [
             0.3333333333333333,
             "#9c179e"
            ],
            [
             0.4444444444444444,
             "#bd3786"
            ],
            [
             0.5555555555555556,
             "#d8576b"
            ],
            [
             0.6666666666666666,
             "#ed7953"
            ],
            [
             0.7777777777777778,
             "#fb9f3a"
            ],
            [
             0.8888888888888888,
             "#fdca26"
            ],
            [
             1,
             "#f0f921"
            ]
           ],
           "sequentialminus": [
            [
             0,
             "#0d0887"
            ],
            [
             0.1111111111111111,
             "#46039f"
            ],
            [
             0.2222222222222222,
             "#7201a8"
            ],
            [
             0.3333333333333333,
             "#9c179e"
            ],
            [
             0.4444444444444444,
             "#bd3786"
            ],
            [
             0.5555555555555556,
             "#d8576b"
            ],
            [
             0.6666666666666666,
             "#ed7953"
            ],
            [
             0.7777777777777778,
             "#fb9f3a"
            ],
            [
             0.8888888888888888,
             "#fdca26"
            ],
            [
             1,
             "#f0f921"
            ]
           ]
          },
          "colorway": [
           "#636efa",
           "#EF553B",
           "#00cc96",
           "#ab63fa",
           "#FFA15A",
           "#19d3f3",
           "#FF6692",
           "#B6E880",
           "#FF97FF",
           "#FECB52"
          ],
          "font": {
           "color": "#2a3f5f"
          },
          "geo": {
           "bgcolor": "white",
           "lakecolor": "white",
           "landcolor": "#E5ECF6",
           "showlakes": true,
           "showland": true,
           "subunitcolor": "white"
          },
          "hoverlabel": {
           "align": "left"
          },
          "hovermode": "closest",
          "mapbox": {
           "style": "light"
          },
          "paper_bgcolor": "white",
          "plot_bgcolor": "#E5ECF6",
          "polar": {
           "angularaxis": {
            "gridcolor": "white",
            "linecolor": "white",
            "ticks": ""
           },
           "bgcolor": "#E5ECF6",
           "radialaxis": {
            "gridcolor": "white",
            "linecolor": "white",
            "ticks": ""
           }
          },
          "scene": {
           "xaxis": {
            "backgroundcolor": "#E5ECF6",
            "gridcolor": "white",
            "gridwidth": 2,
            "linecolor": "white",
            "showbackground": true,
            "ticks": "",
            "zerolinecolor": "white"
           },
           "yaxis": {
            "backgroundcolor": "#E5ECF6",
            "gridcolor": "white",
            "gridwidth": 2,
            "linecolor": "white",
            "showbackground": true,
            "ticks": "",
            "zerolinecolor": "white"
           },
           "zaxis": {
            "backgroundcolor": "#E5ECF6",
            "gridcolor": "white",
            "gridwidth": 2,
            "linecolor": "white",
            "showbackground": true,
            "ticks": "",
            "zerolinecolor": "white"
           }
          },
          "shapedefaults": {
           "line": {
            "color": "#2a3f5f"
           }
          },
          "ternary": {
           "aaxis": {
            "gridcolor": "white",
            "linecolor": "white",
            "ticks": ""
           },
           "baxis": {
            "gridcolor": "white",
            "linecolor": "white",
            "ticks": ""
           },
           "bgcolor": "#E5ECF6",
           "caxis": {
            "gridcolor": "white",
            "linecolor": "white",
            "ticks": ""
           }
          },
          "title": {
           "x": 0.05
          },
          "xaxis": {
           "automargin": true,
           "gridcolor": "white",
           "linecolor": "white",
           "ticks": "",
           "zerolinecolor": "white",
           "zerolinewidth": 2
          },
          "yaxis": {
           "automargin": true,
           "gridcolor": "white",
           "linecolor": "white",
           "ticks": "",
           "zerolinecolor": "white",
           "zerolinewidth": 2
          }
         }
        },
        "title": {
         "text": "Teams and their points per cost"
        },
        "xaxis": {
         "anchor": "y",
         "domain": [
          0,
          0.98
         ],
         "title": {
          "text": "Points per Cost"
         }
        },
        "yaxis": {
         "anchor": "x",
         "domain": [
          0,
          1
         ],
         "title": {
          "text": "Teams"
         }
        }
       }
      },
      "text/html": [
       "<div>\n",
       "        \n",
       "        \n",
       "            <div id=\"f6cbb3b0-7cce-4cef-aef9-38fc32ddc139\" class=\"plotly-graph-div\" style=\"height:600px; width:100%;\"></div>\n",
       "            <script type=\"text/javascript\">\n",
       "                require([\"plotly\"], function(Plotly) {\n",
       "                    window.PLOTLYENV=window.PLOTLYENV || {};\n",
       "                    \n",
       "                if (document.getElementById(\"f6cbb3b0-7cce-4cef-aef9-38fc32ddc139\")) {\n",
       "                    Plotly.newPlot(\n",
       "                        'f6cbb3b0-7cce-4cef-aef9-38fc32ddc139',\n",
       "                        [{\"customdata\": [[\"sergio ag\\u00fcero\", 21.554], [\"teemu pukki\", 21.0], [\"pierre-emerick aubameyang\", 21.45], [\"tammy abraham\", 20.0], [\"jamie vardy\", 18.447], [\"roberto firmino\", 18.553], [\"harry kane\", 20.438], [\"callum wilson\", 20.441], [\"s\\u00e9bastien haller\", 18.0], [\"ashley barnes\", 19.549], [\"alexandre lacazette\", 18.842], [\"ra\\u00fal jim\\u00e9nez\", 17.905], [\"marcus rashford\", 17.446], [\"joshua king\", 18.897], [\"jordan ayew\", 16.696], [\"wesley moraes\", 19.0], [\"danny ings\", 17.0], [\"andre gray\", 16.561], [\"javier hern\\u00e1ndez balc\\u00e1zar\", 15.463], [\"divock origi\", 15.0], [\"gabriel fernando de jesus\", 16.935], [\"billy sharp\", 15.0], [\"diogo jota\", 14.676], [\"joelinton c\\u00e1ssio apolin\\u00e1rio de lira\", 16.0], [\"chris wood\", 16.721], [\"gerard deulofeu\", 13.529], [\"glenn murray\", 13.619], [\"neal maupay\", 14.0], [\"troy deeney\", 14.353], [\"moise kean\", 16.0], [\"oliver mcburnie\", 14.0], [\"dominic calvert-lewin\", 15.795], [\"michy batshuayi\", 15.667], [\"florin andone\", 14.44], [\"olivier giroud\", 14.258], [\"shane long\", 12.407], [\"dominic solanke\", 13.786], [\"j\\u00fcrgen locadia\", 12.321], [\"christian benteke\", 12.0], [\"danny welbeck\", 11.6], [\"isaac success ajayi\", 12.344], [\"michael obafemi\", 11.714], [\"jay rodriguez\", 12.0], [\"yoshinori muto\", 12.125], [\"jonathan kodjia\", 12.0], [\"lys mousset\", 11.917], [\"gabriel teodoro martinelli silva\", 12.0], [\"dennis srbeny\", 12.0], [\"josip drmic\", 12.0], [\"che adams\", 12.0], [\"connor wickham\", 11.5], [\"david mcgoldrick\", 11.0], [\"mason greenwood\", 10.214], [\"aaron connolly\", 10.0], [\"patrick cutrone\", 10.0]], \"hoverlabel\": {\"namelength\": 0}, \"hovertemplate\": \"Position=Forward<br>Points per Cost=%{marker.size}<br>Teams=%{y}<br>full_name=%{customdata[0]}<br>value_points=%{customdata[1]}\", \"legendgroup\": \"Position=Forward\", \"marker\": {\"color\": \"#636efa\", \"size\": [6.6339066339066335, 4.142857142857143, 6.586363636363637, 2.9166666666666665, 6.771141336487284, 5.626038781163435, 4.943181818181818, 7.024886877828054, 2.2666666666666666, 5.597014925373134, 5.709686450167974, 7.403474903474903, 4.467408585055644, 5.392628205128204, 2.57459505541347, 1.1666666666666667, 4.1190476190476195, 3.697996918335901, 4.2407407407407405, 2.2545454545454544, 2.3412563667232598, 1.1864406779661016, 5.7335907335907335, 0.847457627118644, 4.433370247323736, 5.6722689075630255, 5.147783251231528, 0.8333333333333334, 4.257703081232493, 0.4411764705882353, 0.6779661016949152, 2.872664059104737, 1.9154228855721391, 1.016, 1.394686907020873, 2.808641975308642, 0.1984126984126984, 1.1177248677248677, 0.6101694915254237, 0.6666666666666666, 0.2869897959183673, 0.5142857142857142, 0.0, 0.23611111111111108, 0.0, 0.2933673469387755, 0.0, 0.0, 0.0, 0.0, 0.25, 0.0, 0.0, 0.0, 0.0], \"sizemode\": \"area\", \"sizeref\": 0.025457875457875458, \"symbol\": \"circle\"}, \"mode\": \"markers\", \"name\": \"Position=Forward\", \"showlegend\": true, \"type\": \"scatter\", \"x\": [6.6339066339066335, 4.142857142857143, 6.586363636363637, 2.9166666666666665, 6.771141336487284, 5.626038781163435, 4.943181818181818, 7.024886877828054, 2.2666666666666666, 5.597014925373134, 5.709686450167974, 7.403474903474903, 4.467408585055644, 5.392628205128204, 2.57459505541347, 1.1666666666666667, 4.1190476190476195, 3.697996918335901, 4.2407407407407405, 2.2545454545454544, 2.3412563667232598, 1.1864406779661016, 5.7335907335907335, 0.847457627118644, 4.433370247323736, 5.6722689075630255, 5.147783251231528, 0.8333333333333334, 4.257703081232493, 0.4411764705882353, 0.6779661016949152, 2.872664059104737, 1.9154228855721391, 1.016, 1.394686907020873, 2.808641975308642, 0.1984126984126984, 1.1177248677248677, 0.6101694915254237, 0.6666666666666666, 0.2869897959183673, 0.5142857142857142, 0.0, 0.23611111111111108, 0.0, 0.2933673469387755, 0.0, 0.0, 0.0, 0.0, 0.25, 0.0, 0.0, 0.0, 0.0], \"xaxis\": \"x\", \"y\": [\"Man City\", \"Norwich\", \"Arsenal\", \"Chelsea\", \"Leicester\", \"Liverpool\", \"Spurs\", \"Bournemouth\", \"West Ham\", \"Burnley\", \"Arsenal\", \"Wolves\", \"Man Utd\", \"Bournemouth\", \"Crystal Palace\", \"Aston Villa\", \"Southampton\", \"Watford\", \"West Ham\", \"Liverpool\", \"Man City\", \"Sheffield Utd\", \"Wolves\", \"Newcastle\", \"Burnley\", \"Watford\", \"Brighton\", \"Brighton\", \"Watford\", \"Everton\", \"Sheffield Utd\", \"Everton\", \"Chelsea\", \"Brighton\", \"Chelsea\", \"Southampton\", \"Bournemouth\", \"Brighton\", \"Crystal Palace\", \"Watford\", \"Watford\", \"Southampton\", \"Burnley\", \"Newcastle\", \"Aston Villa\", \"Sheffield Utd\", \"Arsenal\", \"Norwich\", \"Norwich\", \"Southampton\", \"Crystal Palace\", \"Sheffield Utd\", \"Man Utd\", \"Brighton\", \"Wolves\"], \"yaxis\": \"y\"}, {\"customdata\": [[\"raheem sterling\", 21.447], [\"mohamed salah\", 20.0], [\"sadio man\\u00e9\", 18.9], [\"kevin de bruyne\", 20.348], [\"david silva\", 20.0], [\"richarlison de andrade\", 20.0], [\"mason mount\", 20.0], [\"todd cantwell\", 20.0], [\"daniel james\", 18.0], [\"anthony martial\", 17.55], [\"gylfi sigurdsson\", 19.357], [\"riyad mahrez\", 17.435], [\"harry wilson\", 19.0], [\"christian eriksen\", 18.897], [\"lucas rodrigues moura da silva\", 19.457], [\"heung-min son\", 19.409], [\"ryan fraser\", 19.357], [\"paul pogba\", 17.346], [\"tanguy ndombele\", 19.0], [\"bernardo mota veiga de carvalho e silva\", 18.385], [\"erik lamela\", 18.587], [\"john mcginn\", 19.0], [\"james maddison\", 17.45], [\"youri tielemans\", 17.765], [\"nathan redmond\", 17.463], [\"johann berg gudmundsson\", 19.0], [\"douglas luiz soares de paulo\", 19.0], [\"daniel ceballos fern\\u00e1ndez\", 17.0], [\"callum robinson\", 17.0], [\"dwight mcneil\", 19.0], [\"bernard an\\u00edcio caldeira duarte\", 19.0], [\"felipe anderson pereira gomes\", 16.923], [\"will hughes\", 16.556], [\"alex iwobi\", 17.473], [\"mark noble\", 17.0], [\"jo\\u00e3o filipe iria santos moutinho\", 17.0], [\"christian pulisic\", 19.0], [\"manuel lanzini\", 16.643], [\"jeffrey schlupp\", 16.545], [\"ayoze p\\u00e9rez\", 16.925], [\"michail antonio\", 15.833], [\"emiliano buend\\u00eda\", 18.0], [\"wilfred ndidi\", 16.536], [\"ashley westwood\", 18.447], [\"luka milivojevic\", 14.714], [\"r\\u00faben diogo da silva neves\", 16.449], [\"james milner\", 14.912], [\"anwar el ghazi\", 17.0], [\"pedro rodr\\u00edguez ledesma\", 16.348], [\"andros townsend\", 15.81], [\"jack grealish\", 18.0], [\"lucas torreira\", 16.919], [\"scott mctominay\", 16.2], [\"pascal gro\\u00df\", 15.293], [\"wilfried zaha\", 14.684], [\"james mcarthur\", 16.452], [\"leandro trossard\", 16.0], [\"georginio wijnaldum\", 16.449], [\"moussa sissoko\", 18.0], [\"isaac hayden\", 16.0], [\"jonjo shelvey\", 16.111], [\"nicolas p\\u00e9p\\u00e9\", 18.0], [\"jorge luiz frello filho\", 18.0], [\"ilkay g\\u00fcndogan\", 15.1], [\"jos\\u00e9 ignacio peleteiro romallo\", 16.0], [\"fabio henrique tavares\", 16.0], [\"andriy yarmolenko\", 15.0], [\"henrikh mkhitaryan\", 15.125], [\"bamidele alli\", 15.365], [\"mateo kovacic\", 17.556], [\"willian borges da silva\", 15.2], [\"harvey barnes\", 15.263], [\"solomon march\", 16.449], [\"matteo guendouzi\", 16.763], [\"ross barkley\", 15.8], [\"rodrigo hernandez\", 18.0], [\"davy pr\\u00f6pper\", 16.0], [\"n'golo kant\\u00e9\", 15.316], [\"theo walcott\", 14.846], [\"jack cork\", 18.0], [\"roberto pereyra\", 14.292], [\"xherdan shaqiri\", 12.88], [\"christian atsu\", 15.533], [\"james ward-prowse\", 14.167], [\"granit xhaka\", 16.266], [\"jordan henderson\", 16.0], [\"sean longstaff\", 16.0], [\"jean-philippe gbamin\", 18.0], [\"tom trybull\", 18.0], [\"joseph willock\", 17.8], [\"sofiane boufal\", 14.0], [\"moussa djenepo\", 14.0], [\"cheikhou kouyat\\u00e9\", 16.0], [\"andreas pereira\", 14.417], [\"abdoulaye doucour\\u00e9\", 14.244], [\"fernando luiz rosa\", 14.9], [\"leander dendoncker\", 16.0], [\"jesse lingard\", 14.177], [\"jeff hendrick\", 14.909], [\"dale stephens\", 16.0], [\"oliver norwood\", 16.0], [\"pierre-emile h\\u00f8jbjerg\", 13.771], [\"hamza choudhury\", 16.0], [\"demarai gray\", 12.914], [\"declan rice\", 13.789], [\"andr\\u00e9 filipe tavares gomes\", 15.742], [\"juan mata\", 12.538], [\"jefferson lerma\", 15.765], [\"stuart armstrong\", 12.719], [\"aaron mooy\", 12.9], [\"robert snodgrass\", 12.75], [\"max meyer\", 13.403], [\"philip billing\", 15.742], [\"jordon ibe\", 14.262], [\"harry winks\", 15.733], [\"phil foden\", 13.857], [\"andrew surman\", 14.7], [\"aaron lennon\", 14.4], [\"sung-yueng ki\", 13.895], [\"etienne capoue\", 13.833], [\"oliver skipp\", 14.0], [\"morgan schneiderlin\", 15.312], [\"miguel almir\\u00f3n\", 13.429], [\"marco stiepermann\", 14.0], [\"oriol romeu vidal\", 13.771], [\"marc albrighton\", 12.25], [\"tom cleverley\", 13.219], [\"morgan gibbs-white\", 12.963], [\"adama traor\\u00e9\", 12.266], [\"nampalys mendy\", 12.906], [\"georges-k\\u00e9vin nkoudou\", 13.0], [\"nemanja matic\", 12.897], [\"reiss nelson\", 13.0], [\"adam lallana\", 12.321], [\"tom davies\", 12.941], [\"domingos quina\", 12.222], [\"jack wilshere\", 12.0], [\"moritz leitner\", 14.0], [\"conor hourihane\", 12.0], [\"keinan davis\", 12.0], [\"henri lansbury\", 12.0], [\"giovani lo celso\", 12.0], [\"billy gilmour\", 12.0], [\"mario vrancic\", 12.0], [\"onel hern\\u00e1ndez\", 12.0], [\"kenny mclean\", 12.0], [\"alexander tettey\", 12.0], [\"ibrahim amadou\", 12.0], [\"luke freeman\", 12.0], [\"carlos s\\u00e1nchez\", 10.35], [\"alex oxlade-chamberlain\", 10.0], [\"nathaniel chalobah\", 10.45], [\"pablo fornals\", 10.0], [\"ravel morrison\", 10.0], [\"ben osborn\", 10.0], [\"dennis praet\", 10.0], [\"allan saint-maximin\", 10.0], [\"isma\\u00efla sarr\", 10.0], [\"mahmoud ahmed ibrahim hassan\", 14.0], [\"john fleck\", 11.0], [\"james mccarthy\", 10.0], [\"pedro lomba neto\", 10.0]], \"hoverlabel\": {\"namelength\": 0}, \"hovertemplate\": \"Position=Midfielder<br>Points per Cost=%{marker.size}<br>Teams=%{y}<br>full_name=%{customdata[0]}<br>value_points=%{customdata[1]}\", \"legendgroup\": \"Position=Midfielder\", \"marker\": {\"color\": \"#EF553B\", \"size\": [7.449721865639709, 7.885714285714287, 7.121739130434783, 2.9835847382431226, 6.1315315315315315, 6.1019149626744555, 2.1875, 2.7083333333333335, 2.295081967213115, 5.487012987012987, 6.672771672771673, 4.0910815939278935, 1.8333333333333333, 5.270979020979021, 5.220077220077219, 5.40829346092504, 6.85583822570124, 6.131221719457013, 1.6666666666666667, 5.552268244575938, 3.760869565217391, 1.6071428571428572, 4.929577464788733, 3.2720588235294117, 5.3155245838172664, 4.127604166666667, 1.7391304347826089, 1.5789473684210527, 1.6981132075471699, 3.293333333333333, 2.82995951417004, 5.919732441471572, 3.4545454545454546, 4.3128721942281265, 4.887878787878789, 4.562770562770563, 0.8, 1.758241758241758, 4.231404958677686, 5.383064516129032, 4.48671497584541, 0.8333333333333334, 2.3571428571428568, 3.9132553606237814, 5.906862745098039, 3.438228438228438, 4.877450980392156, 0.9090909090909091, 4.2272727272727275, 4.923325262308313, 0.6666666666666666, 2.7082184225041366, 1.9600000000000002, 2.8249336870026522, 4.862700228832952, 4.14021164021164, 0.8333333333333334, 3.6270396270396272, 2.1818181818181817, 2.835249042145594, 1.911111111111111, 0.3191489361702127, 2.204878048780488, 4.929919137466307, 0.6779661016949152, 1.7840909090909092, 1.5254237288135593, 3.623188405797101, 2.8044871794871793, 1.4343434343434343, 3.330612244897959, 1.6324710080285458, 3.1344845630559917, 0.1403508771929824, 3.1810344827586206, 0.36363636363636365, 1.5941176470588236, 4.252631578947367, 3.237688237688238, 1.28, 4.489942528735632, 4.114285714285714, 1.4320987654320985, 3.4519774011299433, 2.7517361111111107, 2.04040404040404, 1.0846153846153848, 0.2040816326530612, 0.2222222222222222, 0.2, 0.5454545454545454, 0.5555555555555555, 1.5433673469387754, 0.9666666666666668, 4.047303271441202, 2.2798742138364783, 1.3236714975845412, 2.313508064516129, 1.7059483726150393, 0.9084967320261437, 0.2, 2.530612244897959, 0.45299145299145294, 2.7493261455525606, 2.2824919441460794, 1.1051373954599761, 2.379807692307692, 1.3025210084033614, 2.667824074074074, 2.1700680272108843, 2.361111111111111, 1.4725209080047788, 0.8193548387096774, 0.738581146744412, 0.5818181818181819, 0.8760107816711591, 0.18367346938775508, 0.8571428571428573, 0.5800214822771214, 1.105442176870748, 0.17777777777777778, 0.3333333333333333, 0.5447941888619855, 0.0, 0.29523809523809524, 1.7314814814814814, 0.6632653061224489, 0.5895691609977324, 0.90625, 0.5381944444444444, 0.15, 0.40229885057471265, 0.0, 0.3934624697336562, 0.0, 0.691358024691358, 0.4081632653061224, 0.0, 0.0, 0.0, 0.0, 0.0, 0.0, 0.0, 0.0, 0.0, 0.0, 0.0, 0.0, 0.0, 0.0, 0.0, 0.0, 0.0, 0.0, 0.0, 0.0, 0.0, 0.0, 0.0, 0.0, 0.0], \"sizemode\": \"area\", \"sizeref\": 0.025457875457875458, \"symbol\": \"circle\"}, \"mode\": \"markers\", \"name\": \"Position=Midfielder\", \"showlegend\": true, \"type\": \"scatter\", \"x\": [7.449721865639709, 7.885714285714287, 7.121739130434783, 2.9835847382431226, 6.1315315315315315, 6.1019149626744555, 2.1875, 2.7083333333333335, 2.295081967213115, 5.487012987012987, 6.672771672771673, 4.0910815939278935, 1.8333333333333333, 5.270979020979021, 5.220077220077219, 5.40829346092504, 6.85583822570124, 6.131221719457013, 1.6666666666666667, 5.552268244575938, 3.760869565217391, 1.6071428571428572, 4.929577464788733, 3.2720588235294117, 5.3155245838172664, 4.127604166666667, 1.7391304347826089, 1.5789473684210527, 1.6981132075471699, 3.293333333333333, 2.82995951417004, 5.919732441471572, 3.4545454545454546, 4.3128721942281265, 4.887878787878789, 4.562770562770563, 0.8, 1.758241758241758, 4.231404958677686, 5.383064516129032, 4.48671497584541, 0.8333333333333334, 2.3571428571428568, 3.9132553606237814, 5.906862745098039, 3.438228438228438, 4.877450980392156, 0.9090909090909091, 4.2272727272727275, 4.923325262308313, 0.6666666666666666, 2.7082184225041366, 1.9600000000000002, 2.8249336870026522, 4.862700228832952, 4.14021164021164, 0.8333333333333334, 3.6270396270396272, 2.1818181818181817, 2.835249042145594, 1.911111111111111, 0.3191489361702127, 2.204878048780488, 4.929919137466307, 0.6779661016949152, 1.7840909090909092, 1.5254237288135593, 3.623188405797101, 2.8044871794871793, 1.4343434343434343, 3.330612244897959, 1.6324710080285458, 3.1344845630559917, 0.1403508771929824, 3.1810344827586206, 0.36363636363636365, 1.5941176470588236, 4.252631578947367, 3.237688237688238, 1.28, 4.489942528735632, 4.114285714285714, 1.4320987654320985, 3.4519774011299433, 2.7517361111111107, 2.04040404040404, 1.0846153846153848, 0.2040816326530612, 0.2222222222222222, 0.2, 0.5454545454545454, 0.5555555555555555, 1.5433673469387754, 0.9666666666666668, 4.047303271441202, 2.2798742138364783, 1.3236714975845412, 2.313508064516129, 1.7059483726150393, 0.9084967320261437, 0.2, 2.530612244897959, 0.45299145299145294, 2.7493261455525606, 2.2824919441460794, 1.1051373954599761, 2.379807692307692, 1.3025210084033614, 2.667824074074074, 2.1700680272108843, 2.361111111111111, 1.4725209080047788, 0.8193548387096774, 0.738581146744412, 0.5818181818181819, 0.8760107816711591, 0.18367346938775508, 0.8571428571428573, 0.5800214822771214, 1.105442176870748, 0.17777777777777778, 0.3333333333333333, 0.5447941888619855, 0.0, 0.29523809523809524, 1.7314814814814814, 0.6632653061224489, 0.5895691609977324, 0.90625, 0.5381944444444444, 0.15, 0.40229885057471265, 0.0, 0.3934624697336562, 0.0, 0.691358024691358, 0.4081632653061224, 0.0, 0.0, 0.0, 0.0, 0.0, 0.0, 0.0, 0.0, 0.0, 0.0, 0.0, 0.0, 0.0, 0.0, 0.0, 0.0, 0.0, 0.0, 0.0, 0.0, 0.0, 0.0, 0.0, 0.0, 0.0], \"xaxis\": \"x\", \"y\": [\"Man City\", \"Liverpool\", \"Liverpool\", \"Man City\", \"Man City\", \"Everton\", \"Chelsea\", \"Norwich\", \"Man Utd\", \"Man Utd\", \"Everton\", \"Man City\", \"Bournemouth\", \"Spurs\", \"Spurs\", \"Spurs\", \"Bournemouth\", \"Man Utd\", \"Spurs\", \"Man City\", \"Spurs\", \"Aston Villa\", \"Leicester\", \"Leicester\", \"Southampton\", \"Burnley\", \"Aston Villa\", \"Arsenal\", \"Sheffield Utd\", \"Burnley\", \"Everton\", \"West Ham\", \"Watford\", \"Everton\", \"West Ham\", \"Wolves\", \"Chelsea\", \"West Ham\", \"Crystal Palace\", \"Leicester\", \"West Ham\", \"Norwich\", \"Leicester\", \"Burnley\", \"Crystal Palace\", \"Wolves\", \"Liverpool\", \"Aston Villa\", \"Chelsea\", \"Crystal Palace\", \"Aston Villa\", \"Arsenal\", \"Man Utd\", \"Brighton\", \"Crystal Palace\", \"Crystal Palace\", \"Brighton\", \"Liverpool\", \"Spurs\", \"Newcastle\", \"Newcastle\", \"Arsenal\", \"Chelsea\", \"Man City\", \"Aston Villa\", \"Liverpool\", \"West Ham\", \"Arsenal\", \"Spurs\", \"Chelsea\", \"Chelsea\", \"Leicester\", \"Brighton\", \"Arsenal\", \"Chelsea\", \"Man City\", \"Brighton\", \"Chelsea\", \"Everton\", \"Burnley\", \"Watford\", \"Liverpool\", \"Newcastle\", \"Southampton\", \"Arsenal\", \"Liverpool\", \"Newcastle\", \"Everton\", \"Norwich\", \"Arsenal\", \"Southampton\", \"Southampton\", \"Crystal Palace\", \"Man Utd\", \"Watford\", \"Man City\", \"Wolves\", \"Man Utd\", \"Burnley\", \"Brighton\", \"Sheffield Utd\", \"Southampton\", \"Leicester\", \"Leicester\", \"West Ham\", \"Everton\", \"Man Utd\", \"Bournemouth\", \"Southampton\", \"Brighton\", \"West Ham\", \"Crystal Palace\", \"Bournemouth\", \"Bournemouth\", \"Spurs\", \"Man City\", \"Bournemouth\", \"Burnley\", \"Newcastle\", \"Watford\", \"Spurs\", \"Everton\", \"Newcastle\", \"Norwich\", \"Southampton\", \"Leicester\", \"Watford\", \"Wolves\", \"Wolves\", \"Leicester\", \"Spurs\", \"Man Utd\", \"Arsenal\", \"Liverpool\", \"Everton\", \"Watford\", \"West Ham\", \"Norwich\", \"Aston Villa\", \"Aston Villa\", \"Aston Villa\", \"Spurs\", \"Chelsea\", \"Norwich\", \"Norwich\", \"Norwich\", \"Norwich\", \"Norwich\", \"Sheffield Utd\", \"West Ham\", \"Liverpool\", \"Watford\", \"West Ham\", \"Sheffield Utd\", \"Sheffield Utd\", \"Leicester\", \"Newcastle\", \"Watford\", \"Aston Villa\", \"Sheffield Utd\", \"Crystal Palace\", \"Wolves\"], \"yaxis\": \"y\"}, {\"customdata\": [[\"trent alexander-arnold\", 18.439], [\"lucas digne\", 20.0], [\"virgil van dijk\", 17.905], [\"patrick van aanholt\", 18.0], [\"andrew robertson\", 17.8], [\"kyle walker\", 19.446], [\"erik pieters\", 19.0], [\"aymeric laporte\", 19.346], [\"michael keane\", 19.446], [\"ricardo domingos barbosa pereira\", 17.449], [\"john lundstram\", 17.0], [\"fabian sch\\u00e4r\", 17.0], [\"joel matip\", 17.0], [\"seamus coleman\", 18.879], [\"jannik vestergaard\", 17.148], [\"willy boly\", 17.0], [\"marcos alonso\", 16.359], [\"yerry mina\", 18.618], [\"matt doherty\", 16.927], [\"benjamin chilwell\", 17.0], [\"enda stevens\", 17.0], [\"george baldock\", 17.0], [\"oleksandr zinchenko\", 18.611], [\"ainsley maitland-niles\", 18.6], [\"john stones\", 18.48], [\"tyrone mings\", 17.333], [\"c\\u00e9sar azpilicueta\", 16.714], [\"nacho monreal\", 18.44], [\"joel ward\", 15.409], [\"bjorn engels\", 18.0], [\"jonny evans\", 17.0], [\"david luiz moreira marinho\", 16.769], [\"arthur masuaku\", 16.558], [\"aaron wan-bissaka\", 16.449], [\"shane duffy\", 16.461], [\"nicol\\u00e1s otamendi\", 18.429], [\"martin kelly\", 16.618], [\"chris mepham\", 18.0], [\"luke shaw\", 16.453], [\"jonathan castro otto\", 16.458], [\"lewis dunk\", 16.0], [\"matt ritchie\", 16.461], [\"jamaal lascelles\", 16.444], [\"\\u00e7aglar s\\u00f6y\\u00fcnc\\u00fc\", 15.5], [\"james tarkowski\", 18.0], [\"sokratis papastathopoulos\", 18.0], [\"kevin danso\", 16.0], [\"harry maguire\", 16.443], [\"issa diop\", 16.0], [\"calum chambers\", 18.0], [\"romain sa\\u00efss\", 14.905], [\"fr\\u00e9d\\u00e9ric guilbert\", 18.0], [\"victor lindel\\u00f6f\", 16.0], [\"conor coady\", 16.0], [\"ben mee\", 18.0], [\"emil krafth\", 16.0], [\"scott dann\", 16.0], [\"paul dummett\", 16.0], [\"toby alderweireld\", 16.244], [\"ahmed el mohamady\", 18.0], [\"neil taylor\", 18.0], [\"nathan ak\\u00e9\", 16.262], [\"ryan bennett\", 16.0], [\"sead kolasinac\", 15.231], [\"gary cahill\", 14.5], [\"angelo ogbonna\", 16.0], [\"jack o'connell\", 16.0], [\"john egan\", 16.0], [\"chris basham\", 16.0], [\"jan bednarek\", 16.0], [\"jan vertonghen\", 15.913], [\"ryan fredericks\", 16.0], [\"mamadou sakho\", 13.375], [\"matthew lowton\", 16.32], [\"ben davies\", 14.897], [\"joseph gomez\", 13.882], [\"danny rose\", 16.167], [\"wes morgan\", 13.348], [\"dan burn\", 16.0], [\"davinson s\\u00e1nchez\", 16.13], [\"steve cook\", 15.771], [\"charlie daniels\", 15.826], [\"c\\u00e9dric soares\", 13.895], [\"kurt zouma\", 16.162], [\"kyle walker-peters\", 15.333], [\"adam smith\", 15.724], [\"daryl janmaat\", 13.895], [\"javier manquillo\", 12.7], [\"jos\\u00e9 holebas\", 14.258], [\"ashley young\", 13.875], [\"federico fern\\u00e1ndez\", 12.714], [\"jamal lewis\", 14.0], [\"jack stephens\", 13.92], [\"craig cathcart\", 13.8], [\"francisco femen\\u00eda far\", 13.758], [\"yan valery\", 13.769], [\"phil jagielka\", 12.188], [\"andreas christensen\", 15.455], [\"ryan bertrand\", 13.846], [\"maya yoshida\", 12.684], [\"diego rico\", 13.542], [\"fikayo tomori\", 14.0], [\"mason holgate\", 12.833], [\"christoph zimmermann\", 12.0], [\"sam byram\", 12.0], [\"jo\\u00e3o pedro cavaco cancelo\", 12.0], [\"emerson palmieri dos santos\", 15.429], [\"jetro willems\", 12.0], [\"christian fuchs\", 12.0], [\"mart\\u00edn montoya\", 12.0], [\"christian kabasele\", 12.0], [\"bernardo fernandes da silva junior\", 10.917], [\"ben godfrey\", 14.0], [\"craig dawson\", 12.0], [\"grant hanley\", 14.0], [\"maximillian aarons\", 14.0]], \"hoverlabel\": {\"namelength\": 0}, \"hovertemplate\": \"Position=Defender<br>Points per Cost=%{marker.size}<br>Teams=%{y}<br>full_name=%{customdata[0]}<br>value_points=%{customdata[1]}\", \"legendgroup\": \"Position=Defender\", \"marker\": {\"color\": \"#00cc96\", \"size\": [9.088775074690568, 7.976040353089535, 10.183150183150182, 7.11607142857143, 9.51449275362319, 7.130630630630631, 2.173913043478261, 7.744391025641025, 5.914004914004914, 6.326923076923077, 2.380952380952381, 5.285714285714286, 4.725925925925925, 5.8402203856749315, 1.9481481481481482, 5.290000000000001, 7.734375, 1.9905462184873952, 5.91869918699187, 4.717348927875244, 1.4, 1.5555555555555556, 2.0138888888888893, 1.647058823529412, 3.9407407407407407, 1.2222222222222223, 6.194511702986278, 3.528, 1.5151515151515151, 1.1111111111111112, 3.3428571428571425, 6.831812255541069, 1.9017094017094014, 4.37995337995338, 4.560526315789473, 3.306878306878306, 1.2984218077474896, 1.2430555555555556, 3.1741898148148144, 3.5454545454545454, 2.673913043478261, 3.6111111111111103, 3.728395061728395, 1.0222222222222221, 2.623076923076923, 1.6344827586206896, 0.8888888888888888, 2.8597402597402595, 2.5735735735735736, 0.5656565656565656, 2.37012987012987, 0.45454545454545453, 2.412854030501089, 1.9571428571428569, 0.6720930232558139, 0.6666666666666666, 1.0740740740740742, 2.177777777777778, 3.1445221445221447, 0.2222222222222222, 0.2222222222222222, 3.7269193391642372, 1.9894736842105263, 3.0626780626780623, 0.6666666666666666, 0.7654320987654322, 0.4444444444444444, 0.4444444444444444, 0.4444444444444444, 0.47619047619047616, 2.06726825266612, 1.1871345029239766, 3.2785714285714285, 0.0, 1.6677115987460815, 2.440087145969499, 2.73939393939394, 3.4782608695652173, 0.2222222222222222, 2.242424242424242, 1.8142857142857143, 0.608695652173913, 1.8367346938775508, 3.690016547159405, 1.0884353741496597, 1.7279693486590038, 1.7224880382775116, 2.4545454545454546, 3.2123655913978495, 1.290509259259259, 1.3365800865800865, 0.0, 0.5363636363636363, 1.9772727272727268, 1.34297520661157, 0.945839874411303, 1.1931818181818181, 0.2, 0.533751962323391, 0.8911483253588517, 0.0, 0.0, 0.0, 0.0, 0.0, 0.0, 0.0, 0.0, 0.0, 0.0, 0.0, 0.0, 0.0, 0.0, 0.0, 0.0], \"sizemode\": \"area\", \"sizeref\": 0.025457875457875458, \"symbol\": \"circle\"}, \"mode\": \"markers\", \"name\": \"Position=Defender\", \"showlegend\": true, \"type\": \"scatter\", \"x\": [9.088775074690568, 7.976040353089535, 10.183150183150182, 7.11607142857143, 9.51449275362319, 7.130630630630631, 2.173913043478261, 7.744391025641025, 5.914004914004914, 6.326923076923077, 2.380952380952381, 5.285714285714286, 4.725925925925925, 5.8402203856749315, 1.9481481481481482, 5.290000000000001, 7.734375, 1.9905462184873952, 5.91869918699187, 4.717348927875244, 1.4, 1.5555555555555556, 2.0138888888888893, 1.647058823529412, 3.9407407407407407, 1.2222222222222223, 6.194511702986278, 3.528, 1.5151515151515151, 1.1111111111111112, 3.3428571428571425, 6.831812255541069, 1.9017094017094014, 4.37995337995338, 4.560526315789473, 3.306878306878306, 1.2984218077474896, 1.2430555555555556, 3.1741898148148144, 3.5454545454545454, 2.673913043478261, 3.6111111111111103, 3.728395061728395, 1.0222222222222221, 2.623076923076923, 1.6344827586206896, 0.8888888888888888, 2.8597402597402595, 2.5735735735735736, 0.5656565656565656, 2.37012987012987, 0.45454545454545453, 2.412854030501089, 1.9571428571428569, 0.6720930232558139, 0.6666666666666666, 1.0740740740740742, 2.177777777777778, 3.1445221445221447, 0.2222222222222222, 0.2222222222222222, 3.7269193391642372, 1.9894736842105263, 3.0626780626780623, 0.6666666666666666, 0.7654320987654322, 0.4444444444444444, 0.4444444444444444, 0.4444444444444444, 0.47619047619047616, 2.06726825266612, 1.1871345029239766, 3.2785714285714285, 0.0, 1.6677115987460815, 2.440087145969499, 2.73939393939394, 3.4782608695652173, 0.2222222222222222, 2.242424242424242, 1.8142857142857143, 0.608695652173913, 1.8367346938775508, 3.690016547159405, 1.0884353741496597, 1.7279693486590038, 1.7224880382775116, 2.4545454545454546, 3.2123655913978495, 1.290509259259259, 1.3365800865800865, 0.0, 0.5363636363636363, 1.9772727272727268, 1.34297520661157, 0.945839874411303, 1.1931818181818181, 0.2, 0.533751962323391, 0.8911483253588517, 0.0, 0.0, 0.0, 0.0, 0.0, 0.0, 0.0, 0.0, 0.0, 0.0, 0.0, 0.0, 0.0, 0.0, 0.0, 0.0], \"xaxis\": \"x\", \"y\": [\"Liverpool\", \"Everton\", \"Liverpool\", \"Crystal Palace\", \"Liverpool\", \"Man City\", \"Burnley\", \"Man City\", \"Everton\", \"Leicester\", \"Sheffield Utd\", \"Newcastle\", \"Liverpool\", \"Everton\", \"Southampton\", \"Wolves\", \"Chelsea\", \"Everton\", \"Wolves\", \"Leicester\", \"Sheffield Utd\", \"Sheffield Utd\", \"Man City\", \"Arsenal\", \"Man City\", \"Aston Villa\", \"Chelsea\", \"Arsenal\", \"Crystal Palace\", \"Aston Villa\", \"Leicester\", \"Arsenal\", \"West Ham\", \"Man Utd\", \"Brighton\", \"Man City\", \"Crystal Palace\", \"Bournemouth\", \"Man Utd\", \"Wolves\", \"Brighton\", \"Newcastle\", \"Newcastle\", \"Leicester\", \"Burnley\", \"Arsenal\", \"Southampton\", \"Man Utd\", \"West Ham\", \"Arsenal\", \"Wolves\", \"Aston Villa\", \"Man Utd\", \"Wolves\", \"Burnley\", \"Newcastle\", \"Crystal Palace\", \"Newcastle\", \"Spurs\", \"Aston Villa\", \"Aston Villa\", \"Bournemouth\", \"Wolves\", \"Arsenal\", \"Crystal Palace\", \"West Ham\", \"Sheffield Utd\", \"Sheffield Utd\", \"Sheffield Utd\", \"Southampton\", \"Spurs\", \"West Ham\", \"Crystal Palace\", \"Burnley\", \"Spurs\", \"Liverpool\", \"Spurs\", \"Leicester\", \"Brighton\", \"Spurs\", \"Bournemouth\", \"Bournemouth\", \"Southampton\", \"Chelsea\", \"Spurs\", \"Bournemouth\", \"Watford\", \"Newcastle\", \"Watford\", \"Man Utd\", \"Newcastle\", \"Norwich\", \"Southampton\", \"Watford\", \"Watford\", \"Southampton\", \"Sheffield Utd\", \"Chelsea\", \"Southampton\", \"Southampton\", \"Bournemouth\", \"Chelsea\", \"Everton\", \"Norwich\", \"Norwich\", \"Man City\", \"Chelsea\", \"Newcastle\", \"Leicester\", \"Brighton\", \"Watford\", \"Brighton\", \"Norwich\", \"Watford\", \"Norwich\", \"Norwich\"], \"yaxis\": \"y\"}, {\"customdata\": [[\"ederson santana de moraes\", 19.905], [\"jordan pickford\", 19.452], [\"rui pedro dos santos patr\\u00edcio\", 17.549], [\"hugo lloris\", 18.892], [\"nick pope\", 19.0], [\"bernd leno\", 19.0], [\"lukasz fabianski\", 16.905], [\"david de gea\", 17.0], [\"vicente guaita\", 17.0], [\"alisson ramses becker\", 14.385], [\"martin dubravka\", 16.453], [\"dean henderson\", 17.0], [\"kasper schmeichel\", 16.452], [\"angus gunn\", 16.625], [\"ben foster\", 16.452], [\"mathew ryan\", 16.447], [\"tom heaton\", 18.0], [\"adri\\u00e1n san miguel del castillo\", 16.0], [\"kepa arrizabalaga\", 16.7], [\"aaron ramsdale\", 14.0], [\"tim krul\", 14.0]], \"hoverlabel\": {\"namelength\": 0}, \"hovertemplate\": \"Position=Goalkeeper<br>Points per Cost=%{marker.size}<br>Teams=%{y}<br>full_name=%{customdata[0]}<br>value_points=%{customdata[1]}\", \"legendgroup\": \"Position=Goalkeeper\", \"marker\": {\"color\": \"#ab63fa\", \"size\": [7.704918032786885, 7.648809523809525, 5.184122429459589, 6.707616707616707, 1.5217391304347827, 4.488888888888889, 6.60952380952381, 4.238945578231293, 4.316666666666667, 8.399646330680813, 5.534883720930233, 1.3333333333333333, 4.5285714285714285, 2.888888888888889, 5.228377065111759, 3.9816933638443937, 2.357487922705314, 1.0869565217391306, 5.427272727272728, 0.0, 0.0], \"sizemode\": \"area\", \"sizeref\": 0.025457875457875458, \"symbol\": \"circle\"}, \"mode\": \"markers\", \"name\": \"Position=Goalkeeper\", \"showlegend\": true, \"type\": \"scatter\", \"x\": [7.704918032786885, 7.648809523809525, 5.184122429459589, 6.707616707616707, 1.5217391304347827, 4.488888888888889, 6.60952380952381, 4.238945578231293, 4.316666666666667, 8.399646330680813, 5.534883720930233, 1.3333333333333333, 4.5285714285714285, 2.888888888888889, 5.228377065111759, 3.9816933638443937, 2.357487922705314, 1.0869565217391306, 5.427272727272728, 0.0, 0.0], \"xaxis\": \"x\", \"y\": [\"Man City\", \"Everton\", \"Wolves\", \"Spurs\", \"Burnley\", \"Arsenal\", \"West Ham\", \"Man Utd\", \"Crystal Palace\", \"Liverpool\", \"Newcastle\", \"Sheffield Utd\", \"Leicester\", \"Southampton\", \"Watford\", \"Brighton\", \"Aston Villa\", \"Liverpool\", \"Chelsea\", \"Bournemouth\", \"Norwich\"], \"yaxis\": \"y\"}],\n",
       "                        {\"height\": 600, \"legend\": {\"itemsizing\": \"constant\", \"tracegroupgap\": 0}, \"margin\": {\"t\": 60}, \"template\": {\"data\": {\"bar\": [{\"error_x\": {\"color\": \"#2a3f5f\"}, \"error_y\": {\"color\": \"#2a3f5f\"}, \"marker\": {\"line\": {\"color\": \"#E5ECF6\", \"width\": 0.5}}, \"type\": \"bar\"}], \"barpolar\": [{\"marker\": {\"line\": {\"color\": \"#E5ECF6\", \"width\": 0.5}}, \"type\": \"barpolar\"}], \"carpet\": [{\"aaxis\": {\"endlinecolor\": \"#2a3f5f\", \"gridcolor\": \"white\", \"linecolor\": \"white\", \"minorgridcolor\": \"white\", \"startlinecolor\": \"#2a3f5f\"}, \"baxis\": {\"endlinecolor\": \"#2a3f5f\", \"gridcolor\": \"white\", \"linecolor\": \"white\", \"minorgridcolor\": \"white\", \"startlinecolor\": \"#2a3f5f\"}, \"type\": \"carpet\"}], \"choropleth\": [{\"colorbar\": {\"outlinewidth\": 0, \"ticks\": \"\"}, \"type\": \"choropleth\"}], \"contour\": [{\"colorbar\": {\"outlinewidth\": 0, \"ticks\": \"\"}, \"colorscale\": [[0.0, \"#0d0887\"], [0.1111111111111111, \"#46039f\"], [0.2222222222222222, \"#7201a8\"], [0.3333333333333333, \"#9c179e\"], [0.4444444444444444, \"#bd3786\"], [0.5555555555555556, \"#d8576b\"], [0.6666666666666666, \"#ed7953\"], [0.7777777777777778, \"#fb9f3a\"], [0.8888888888888888, \"#fdca26\"], [1.0, \"#f0f921\"]], \"type\": \"contour\"}], \"contourcarpet\": [{\"colorbar\": {\"outlinewidth\": 0, \"ticks\": \"\"}, \"type\": \"contourcarpet\"}], \"heatmap\": [{\"colorbar\": {\"outlinewidth\": 0, \"ticks\": \"\"}, \"colorscale\": [[0.0, \"#0d0887\"], [0.1111111111111111, \"#46039f\"], [0.2222222222222222, \"#7201a8\"], [0.3333333333333333, \"#9c179e\"], [0.4444444444444444, \"#bd3786\"], [0.5555555555555556, \"#d8576b\"], [0.6666666666666666, \"#ed7953\"], [0.7777777777777778, \"#fb9f3a\"], [0.8888888888888888, \"#fdca26\"], [1.0, \"#f0f921\"]], \"type\": \"heatmap\"}], \"heatmapgl\": [{\"colorbar\": {\"outlinewidth\": 0, \"ticks\": \"\"}, \"colorscale\": [[0.0, \"#0d0887\"], [0.1111111111111111, \"#46039f\"], [0.2222222222222222, \"#7201a8\"], [0.3333333333333333, \"#9c179e\"], [0.4444444444444444, \"#bd3786\"], [0.5555555555555556, \"#d8576b\"], [0.6666666666666666, \"#ed7953\"], [0.7777777777777778, \"#fb9f3a\"], [0.8888888888888888, \"#fdca26\"], [1.0, \"#f0f921\"]], \"type\": \"heatmapgl\"}], \"histogram\": [{\"marker\": {\"colorbar\": {\"outlinewidth\": 0, \"ticks\": \"\"}}, \"type\": \"histogram\"}], \"histogram2d\": [{\"colorbar\": {\"outlinewidth\": 0, \"ticks\": \"\"}, \"colorscale\": [[0.0, \"#0d0887\"], [0.1111111111111111, \"#46039f\"], [0.2222222222222222, \"#7201a8\"], [0.3333333333333333, \"#9c179e\"], [0.4444444444444444, \"#bd3786\"], [0.5555555555555556, \"#d8576b\"], [0.6666666666666666, \"#ed7953\"], [0.7777777777777778, \"#fb9f3a\"], [0.8888888888888888, \"#fdca26\"], [1.0, \"#f0f921\"]], \"type\": \"histogram2d\"}], \"histogram2dcontour\": [{\"colorbar\": {\"outlinewidth\": 0, \"ticks\": \"\"}, \"colorscale\": [[0.0, \"#0d0887\"], [0.1111111111111111, \"#46039f\"], [0.2222222222222222, \"#7201a8\"], [0.3333333333333333, \"#9c179e\"], [0.4444444444444444, \"#bd3786\"], [0.5555555555555556, \"#d8576b\"], [0.6666666666666666, \"#ed7953\"], [0.7777777777777778, \"#fb9f3a\"], [0.8888888888888888, \"#fdca26\"], [1.0, \"#f0f921\"]], \"type\": \"histogram2dcontour\"}], \"mesh3d\": [{\"colorbar\": {\"outlinewidth\": 0, \"ticks\": \"\"}, \"type\": \"mesh3d\"}], \"parcoords\": [{\"line\": {\"colorbar\": {\"outlinewidth\": 0, \"ticks\": \"\"}}, \"type\": \"parcoords\"}], \"scatter\": [{\"marker\": {\"colorbar\": {\"outlinewidth\": 0, \"ticks\": \"\"}}, \"type\": \"scatter\"}], \"scatter3d\": [{\"line\": {\"colorbar\": {\"outlinewidth\": 0, \"ticks\": \"\"}}, \"marker\": {\"colorbar\": {\"outlinewidth\": 0, \"ticks\": \"\"}}, \"type\": \"scatter3d\"}], \"scattercarpet\": [{\"marker\": {\"colorbar\": {\"outlinewidth\": 0, \"ticks\": \"\"}}, \"type\": \"scattercarpet\"}], \"scattergeo\": [{\"marker\": {\"colorbar\": {\"outlinewidth\": 0, \"ticks\": \"\"}}, \"type\": \"scattergeo\"}], \"scattergl\": [{\"marker\": {\"colorbar\": {\"outlinewidth\": 0, \"ticks\": \"\"}}, \"type\": \"scattergl\"}], \"scattermapbox\": [{\"marker\": {\"colorbar\": {\"outlinewidth\": 0, \"ticks\": \"\"}}, \"type\": \"scattermapbox\"}], \"scatterpolar\": [{\"marker\": {\"colorbar\": {\"outlinewidth\": 0, \"ticks\": \"\"}}, \"type\": \"scatterpolar\"}], \"scatterpolargl\": [{\"marker\": {\"colorbar\": {\"outlinewidth\": 0, \"ticks\": \"\"}}, \"type\": \"scatterpolargl\"}], \"scatterternary\": [{\"marker\": {\"colorbar\": {\"outlinewidth\": 0, \"ticks\": \"\"}}, \"type\": \"scatterternary\"}], \"surface\": [{\"colorbar\": {\"outlinewidth\": 0, \"ticks\": \"\"}, \"colorscale\": [[0.0, \"#0d0887\"], [0.1111111111111111, \"#46039f\"], [0.2222222222222222, \"#7201a8\"], [0.3333333333333333, \"#9c179e\"], [0.4444444444444444, \"#bd3786\"], [0.5555555555555556, \"#d8576b\"], [0.6666666666666666, \"#ed7953\"], [0.7777777777777778, \"#fb9f3a\"], [0.8888888888888888, \"#fdca26\"], [1.0, \"#f0f921\"]], \"type\": \"surface\"}], \"table\": [{\"cells\": {\"fill\": {\"color\": \"#EBF0F8\"}, \"line\": {\"color\": \"white\"}}, \"header\": {\"fill\": {\"color\": \"#C8D4E3\"}, \"line\": {\"color\": \"white\"}}, \"type\": \"table\"}]}, \"layout\": {\"annotationdefaults\": {\"arrowcolor\": \"#2a3f5f\", \"arrowhead\": 0, \"arrowwidth\": 1}, \"colorscale\": {\"diverging\": [[0, \"#8e0152\"], [0.1, \"#c51b7d\"], [0.2, \"#de77ae\"], [0.3, \"#f1b6da\"], [0.4, \"#fde0ef\"], [0.5, \"#f7f7f7\"], [0.6, \"#e6f5d0\"], [0.7, \"#b8e186\"], [0.8, \"#7fbc41\"], [0.9, \"#4d9221\"], [1, \"#276419\"]], \"sequential\": [[0.0, \"#0d0887\"], [0.1111111111111111, \"#46039f\"], [0.2222222222222222, \"#7201a8\"], [0.3333333333333333, \"#9c179e\"], [0.4444444444444444, \"#bd3786\"], [0.5555555555555556, \"#d8576b\"], [0.6666666666666666, \"#ed7953\"], [0.7777777777777778, \"#fb9f3a\"], [0.8888888888888888, \"#fdca26\"], [1.0, \"#f0f921\"]], \"sequentialminus\": [[0.0, \"#0d0887\"], [0.1111111111111111, \"#46039f\"], [0.2222222222222222, \"#7201a8\"], [0.3333333333333333, \"#9c179e\"], [0.4444444444444444, \"#bd3786\"], [0.5555555555555556, \"#d8576b\"], [0.6666666666666666, \"#ed7953\"], [0.7777777777777778, \"#fb9f3a\"], [0.8888888888888888, \"#fdca26\"], [1.0, \"#f0f921\"]]}, \"colorway\": [\"#636efa\", \"#EF553B\", \"#00cc96\", \"#ab63fa\", \"#FFA15A\", \"#19d3f3\", \"#FF6692\", \"#B6E880\", \"#FF97FF\", \"#FECB52\"], \"font\": {\"color\": \"#2a3f5f\"}, \"geo\": {\"bgcolor\": \"white\", \"lakecolor\": \"white\", \"landcolor\": \"#E5ECF6\", \"showlakes\": true, \"showland\": true, \"subunitcolor\": \"white\"}, \"hoverlabel\": {\"align\": \"left\"}, \"hovermode\": \"closest\", \"mapbox\": {\"style\": \"light\"}, \"paper_bgcolor\": \"white\", \"plot_bgcolor\": \"#E5ECF6\", \"polar\": {\"angularaxis\": {\"gridcolor\": \"white\", \"linecolor\": \"white\", \"ticks\": \"\"}, \"bgcolor\": \"#E5ECF6\", \"radialaxis\": {\"gridcolor\": \"white\", \"linecolor\": \"white\", \"ticks\": \"\"}}, \"scene\": {\"xaxis\": {\"backgroundcolor\": \"#E5ECF6\", \"gridcolor\": \"white\", \"gridwidth\": 2, \"linecolor\": \"white\", \"showbackground\": true, \"ticks\": \"\", \"zerolinecolor\": \"white\"}, \"yaxis\": {\"backgroundcolor\": \"#E5ECF6\", \"gridcolor\": \"white\", \"gridwidth\": 2, \"linecolor\": \"white\", \"showbackground\": true, \"ticks\": \"\", \"zerolinecolor\": \"white\"}, \"zaxis\": {\"backgroundcolor\": \"#E5ECF6\", \"gridcolor\": \"white\", \"gridwidth\": 2, \"linecolor\": \"white\", \"showbackground\": true, \"ticks\": \"\", \"zerolinecolor\": \"white\"}}, \"shapedefaults\": {\"line\": {\"color\": \"#2a3f5f\"}}, \"ternary\": {\"aaxis\": {\"gridcolor\": \"white\", \"linecolor\": \"white\", \"ticks\": \"\"}, \"baxis\": {\"gridcolor\": \"white\", \"linecolor\": \"white\", \"ticks\": \"\"}, \"bgcolor\": \"#E5ECF6\", \"caxis\": {\"gridcolor\": \"white\", \"linecolor\": \"white\", \"ticks\": \"\"}}, \"title\": {\"x\": 0.05}, \"xaxis\": {\"automargin\": true, \"gridcolor\": \"white\", \"linecolor\": \"white\", \"ticks\": \"\", \"zerolinecolor\": \"white\", \"zerolinewidth\": 2}, \"yaxis\": {\"automargin\": true, \"gridcolor\": \"white\", \"linecolor\": \"white\", \"ticks\": \"\", \"zerolinecolor\": \"white\", \"zerolinewidth\": 2}}}, \"title\": {\"text\": \"Teams and their points per cost\"}, \"xaxis\": {\"anchor\": \"y\", \"domain\": [0.0, 0.98], \"title\": {\"text\": \"Points per Cost\"}}, \"yaxis\": {\"anchor\": \"x\", \"domain\": [0.0, 1.0], \"title\": {\"text\": \"Teams\"}}},\n",
       "                        {\"responsive\": true}\n",
       "                    ).then(function(){\n",
       "                            \n",
       "var gd = document.getElementById('f6cbb3b0-7cce-4cef-aef9-38fc32ddc139');\n",
       "var x = new MutationObserver(function (mutations, observer) {{\n",
       "        var display = window.getComputedStyle(gd).display;\n",
       "        if (!display || display === 'none') {{\n",
       "            console.log([gd, 'removed!']);\n",
       "            Plotly.purge(gd);\n",
       "            observer.disconnect();\n",
       "        }}\n",
       "}});\n",
       "\n",
       "// Listen for the removal of the full notebook cells\n",
       "var notebookContainer = gd.closest('#notebook-container');\n",
       "if (notebookContainer) {{\n",
       "    x.observe(notebookContainer, {childList: true});\n",
       "}}\n",
       "\n",
       "// Listen for the clearing of the current output cell\n",
       "var outputEl = gd.closest('.output');\n",
       "if (outputEl) {{\n",
       "    x.observe(outputEl, {childList: true});\n",
       "}}\n",
       "\n",
       "                        })\n",
       "                };\n",
       "                });\n",
       "            </script>\n",
       "        </div>"
      ]
     },
     "metadata": {},
     "output_type": "display_data"
    }
   ],
   "source": [
    "# players based on effective points per cost for each team\n",
    "fig = px.scatter(players, y='team_name', x='pc', color='position', hover_data=['full_name','value_points'], size = 'pc', labels={'team_name':'Teams', 'points':'Points', 'position':'Position', 'pc':'Points per Cost'})\n",
    "fig.update_layout(title='Teams and their points per cost')\n",
    "fig.show()\n",
    "\n"
   ]
  },
  {
   "cell_type": "code",
   "execution_count": 24,
   "metadata": {},
   "outputs": [
    {
     "data": {
      "application/vnd.plotly.v1+json": {
       "config": {
        "plotlyServerURL": "https://plot.ly"
       },
       "data": [
        {
         "customdata": [
          [
           "sergio agüero"
          ],
          [
           "raheem sterling"
          ],
          [
           "kevin de bruyne"
          ],
          [
           "david silva"
          ],
          [
           "ederson santana de moraes"
          ],
          [
           "kyle walker"
          ],
          [
           "riyad mahrez"
          ],
          [
           "aymeric laporte"
          ],
          [
           "bernardo mota veiga de carvalho e silva"
          ],
          [
           "oleksandr zinchenko"
          ],
          [
           "john stones"
          ],
          [
           "gabriel fernando de jesus"
          ],
          [
           "nicolás otamendi"
          ],
          [
           "ilkay gündogan"
          ],
          [
           "rodrigo hernandez"
          ],
          [
           "fernando luiz rosa"
          ],
          [
           "phil foden"
          ],
          [
           "joão pedro cavaco cancelo"
          ]
         ],
         "hoverlabel": {
          "namelength": 0
         },
         "hovertemplate": "team_name=Man City<br>Position=%{x}<br>Points=%{y}<br>Points per Cost=%{marker.size}<br>full_name=%{customdata[0]}",
         "legendgroup": "team_name=Man City",
         "marker": {
          "color": "#636efa",
          "size": [
           6.6339066339066335,
           7.449721865639709,
           2.9835847382431226,
           6.1315315315315315,
           7.704918032786885,
           7.130630630630631,
           4.0910815939278935,
           7.744391025641025,
           5.552268244575938,
           2.0138888888888893,
           3.9407407407407407,
           2.3412563667232598,
           3.306878306878306,
           4.929919137466307,
           0.36363636363636365,
           2.2798742138364783,
           0.8760107816711591,
           0
          ],
          "sizemode": "area",
          "sizeref": 0.025457875457875458,
          "symbol": "circle"
         },
         "mode": "markers",
         "name": "team_name=Man City",
         "showlegend": true,
         "type": "scatter",
         "x": [
          "Forward",
          "Midfielder",
          "Midfielder",
          "Midfielder",
          "Goalkeeper",
          "Defender",
          "Midfielder",
          "Defender",
          "Midfielder",
          "Defender",
          "Defender",
          "Forward",
          "Defender",
          "Midfielder",
          "Midfielder",
          "Midfielder",
          "Midfielder",
          "Defender"
         ],
         "xaxis": "x",
         "y": [
          80.27027027027026,
          91.63157894736842,
          29.239130434782606,
          45.986486486486484,
          47,
          42.78378378378379,
          34.774193548387096,
          49.56410256410256,
          43.307692307692314,
          11.277777777777779,
          21.28,
          22.241935483870968,
          17.857142857142854,
          26.128571428571426,
          2,
          12.083333333333334,
          4.642857142857143,
          0
         ],
         "yaxis": "y"
        },
        {
         "customdata": [
          [
           "mohamed salah"
          ],
          [
           "sadio mané"
          ],
          [
           "roberto firmino"
          ],
          [
           "trent alexander-arnold"
          ],
          [
           "virgil van dijk"
          ],
          [
           "andrew robertson"
          ],
          [
           "joel matip"
          ],
          [
           "alisson ramses becker"
          ],
          [
           "divock origi"
          ],
          [
           "james milner"
          ],
          [
           "adrián san miguel del castillo"
          ],
          [
           "georginio wijnaldum"
          ],
          [
           "fabio henrique tavares"
          ],
          [
           "xherdan shaqiri"
          ],
          [
           "jordan henderson"
          ],
          [
           "joseph gomez"
          ],
          [
           "adam lallana"
          ],
          [
           "alex oxlade-chamberlain"
          ]
         ],
         "hoverlabel": {
          "namelength": 0
         },
         "hovertemplate": "team_name=Liverpool<br>Position=%{x}<br>Points=%{y}<br>Points per Cost=%{marker.size}<br>full_name=%{customdata[0]}",
         "legendgroup": "team_name=Liverpool",
         "marker": {
          "color": "#EF553B",
          "size": [
           7.885714285714287,
           7.121739130434783,
           5.626038781163435,
           9.088775074690568,
           10.183150183150182,
           9.51449275362319,
           4.725925925925925,
           8.399646330680813,
           2.2545454545454544,
           4.877450980392156,
           1.0869565217391306,
           3.6270396270396272,
           1.7840909090909092,
           4.114285714285714,
           2.04040404040404,
           2.440087145969499,
           0.3934624697336562,
           0
          ],
          "sizemode": "area",
          "sizeref": 0.025457875457875458,
          "symbol": "circle"
         },
         "mode": "markers",
         "name": "team_name=Liverpool",
         "showlegend": true,
         "type": "scatter",
         "x": [
          "Midfielder",
          "Midfielder",
          "Forward",
          "Defender",
          "Defender",
          "Defender",
          "Defender",
          "Goalkeeper",
          "Forward",
          "Midfielder",
          "Goalkeeper",
          "Midfielder",
          "Midfielder",
          "Midfielder",
          "Midfielder",
          "Defender",
          "Midfielder",
          "Midfielder"
         ],
         "xaxis": "x",
         "y": [
          98.57142857142858,
          81.9,
          53.44736842105263,
          64.53030303030303,
          66.19047619047619,
          65.65,
          25.52,
          48.717948717948715,
          12.4,
          26.338235294117645,
          5,
          19.94871794871795,
          9.8125,
          25.919999999999998,
          11.222222222222221,
          13.176470588235293,
          2.3214285714285716,
          0
         ],
         "yaxis": "y"
        },
        {
         "customdata": [
          [
           "teemu pukki"
          ],
          [
           "todd cantwell"
          ],
          [
           "emiliano buendía"
          ],
          [
           "tom trybull"
          ],
          [
           "jamal lewis"
          ],
          [
           "marco stiepermann"
          ],
          [
           "tim krul"
          ],
          [
           "moritz leitner"
          ],
          [
           "christoph zimmermann"
          ],
          [
           "dennis srbeny"
          ],
          [
           "mario vrancic"
          ],
          [
           "onel hernández"
          ],
          [
           "kenny mclean"
          ],
          [
           "alexander tettey"
          ],
          [
           "josip drmic"
          ],
          [
           "sam byram"
          ],
          [
           "ibrahim amadou"
          ],
          [
           "ben godfrey"
          ],
          [
           "grant hanley"
          ],
          [
           "maximillian aarons"
          ]
         ],
         "hoverlabel": {
          "namelength": 0
         },
         "hovertemplate": "team_name=Norwich<br>Position=%{x}<br>Points=%{y}<br>Points per Cost=%{marker.size}<br>full_name=%{customdata[0]}",
         "legendgroup": "team_name=Norwich",
         "marker": {
          "color": "#00cc96",
          "size": [
           4.142857142857143,
           2.7083333333333335,
           0.8333333333333334,
           0.2222222222222222,
           0,
           0,
           0,
           0,
           0,
           0,
           0,
           0,
           0,
           0,
           0,
           0,
           0,
           0,
           0,
           0
          ],
          "sizemode": "area",
          "sizeref": 0.025457875457875458,
          "symbol": "circle"
         },
         "mode": "markers",
         "name": "team_name=Norwich",
         "showlegend": true,
         "type": "scatter",
         "x": [
          "Forward",
          "Midfielder",
          "Midfielder",
          "Midfielder",
          "Defender",
          "Midfielder",
          "Goalkeeper",
          "Midfielder",
          "Defender",
          "Forward",
          "Midfielder",
          "Midfielder",
          "Midfielder",
          "Midfielder",
          "Forward",
          "Defender",
          "Midfielder",
          "Defender",
          "Defender",
          "Defender"
         ],
         "xaxis": "x",
         "y": [
          29,
          13,
          5,
          1,
          0,
          0,
          -1,
          -1,
          0,
          0,
          0,
          0,
          0,
          0,
          0,
          0,
          0,
          -4,
          -5,
          -6
         ],
         "yaxis": "y"
        },
        {
         "customdata": [
          [
           "pierre-emerick aubameyang"
          ],
          [
           "alexandre lacazette"
          ],
          [
           "daniel ceballos fernández"
          ],
          [
           "bernd leno"
          ],
          [
           "ainsley maitland-niles"
          ],
          [
           "nacho monreal"
          ],
          [
           "david luiz moreira marinho"
          ],
          [
           "lucas torreira"
          ],
          [
           "nicolas pépé"
          ],
          [
           "sokratis papastathopoulos"
          ],
          [
           "henrikh mkhitaryan"
          ],
          [
           "calum chambers"
          ],
          [
           "matteo guendouzi"
          ],
          [
           "granit xhaka"
          ],
          [
           "sead kolasinac"
          ],
          [
           "joseph willock"
          ],
          [
           "reiss nelson"
          ],
          [
           "gabriel teodoro martinelli silva"
          ]
         ],
         "hoverlabel": {
          "namelength": 0
         },
         "hovertemplate": "team_name=Arsenal<br>Position=%{x}<br>Points=%{y}<br>Points per Cost=%{marker.size}<br>full_name=%{customdata[0]}",
         "legendgroup": "team_name=Arsenal",
         "marker": {
          "color": "#ab63fa",
          "size": [
           6.586363636363637,
           5.709686450167974,
           1.5789473684210527,
           4.488888888888889,
           1.647058823529412,
           3.528,
           6.831812255541069,
           2.7082184225041366,
           0.3191489361702127,
           1.6344827586206896,
           3.623188405797101,
           0.5656565656565656,
           0.1403508771929824,
           2.7517361111111107,
           3.0626780626780623,
           0.2,
           0,
           0
          ],
          "sizemode": "area",
          "sizeref": 0.025457875457875458,
          "symbol": "circle"
         },
         "mode": "markers",
         "name": "team_name=Arsenal",
         "showlegend": true,
         "type": "scatter",
         "x": [
          "Forward",
          "Forward",
          "Midfielder",
          "Goalkeeper",
          "Defender",
          "Defender",
          "Defender",
          "Midfielder",
          "Midfielder",
          "Defender",
          "Midfielder",
          "Defender",
          "Midfielder",
          "Midfielder",
          "Defender",
          "Midfielder",
          "Midfielder",
          "Forward"
         ],
         "xaxis": "x",
         "y": [
          72.45,
          53.67105263157895,
          9,
          22.444444444444443,
          8.4,
          17.64,
          40.307692307692314,
          13.27027027027027,
          3,
          8.172413793103448,
          25,
          2.5454545454545454,
          0.6315789473684208,
          14.859375,
          16.538461538461537,
          1,
          0,
          0
         ],
         "yaxis": "y"
        },
        {
         "customdata": [
          [
           "tammy abraham"
          ],
          [
           "mason mount"
          ],
          [
           "marcos alonso"
          ],
          [
           "christian pulisic"
          ],
          [
           "césar azpilicueta"
          ],
          [
           "pedro rodríguez ledesma"
          ],
          [
           "kepa arrizabalaga"
          ],
          [
           "jorge luiz frello filho"
          ],
          [
           "mateo kovacic"
          ],
          [
           "willian borges da silva"
          ],
          [
           "ross barkley"
          ],
          [
           "n'golo kanté"
          ],
          [
           "michy batshuayi"
          ],
          [
           "olivier giroud"
          ],
          [
           "kurt zouma"
          ],
          [
           "andreas christensen"
          ],
          [
           "fikayo tomori"
          ],
          [
           "billy gilmour"
          ],
          [
           "emerson palmieri dos santos"
          ]
         ],
         "hoverlabel": {
          "namelength": 0
         },
         "hovertemplate": "team_name=Chelsea<br>Position=%{x}<br>Points=%{y}<br>Points per Cost=%{marker.size}<br>full_name=%{customdata[0]}",
         "legendgroup": "team_name=Chelsea",
         "marker": {
          "color": "#FFA15A",
          "size": [
           2.9166666666666665,
           2.1875,
           7.734375,
           0.8,
           6.194511702986278,
           4.2272727272727275,
           5.427272727272728,
           2.204878048780488,
           1.4343434343434343,
           3.330612244897959,
           3.1810344827586206,
           4.252631578947367,
           1.9154228855721391,
           1.394686907020873,
           3.690016547159405,
           0.2,
           0,
           0,
           0
          ],
          "sizemode": "area",
          "sizeref": 0.025457875457875458,
          "symbol": "circle"
         },
         "mode": "markers",
         "name": "team_name=Chelsea",
         "showlegend": true,
         "type": "scatter",
         "x": [
          "Forward",
          "Midfielder",
          "Defender",
          "Midfielder",
          "Defender",
          "Midfielder",
          "Goalkeeper",
          "Midfielder",
          "Midfielder",
          "Midfielder",
          "Midfielder",
          "Midfielder",
          "Forward",
          "Forward",
          "Defender",
          "Defender",
          "Defender",
          "Midfielder",
          "Defender"
         ],
         "xaxis": "x",
         "y": [
          21,
          14,
          47.953125,
          6,
          36.547619047619044,
          29.590909090909093,
          29.85,
          11.02439024390244,
          7.888888888888888,
          23.314285714285713,
          18.45,
          21.26315789473684,
          12.833333333333332,
          9.483870967741936,
          18.081081081081084,
          1,
          -1,
          0,
          -0.7857142857142854
         ],
         "yaxis": "y"
        },
        {
         "customdata": [
          [
           "jamie vardy"
          ],
          [
           "ricardo domingos barbosa pereira"
          ],
          [
           "james maddison"
          ],
          [
           "youri tielemans"
          ],
          [
           "benjamin chilwell"
          ],
          [
           "ayoze pérez"
          ],
          [
           "kasper schmeichel"
          ],
          [
           "jonny evans"
          ],
          [
           "wilfred ndidi"
          ],
          [
           "çaglar söyüncü"
          ],
          [
           "harvey barnes"
          ],
          [
           "wes morgan"
          ],
          [
           "hamza choudhury"
          ],
          [
           "demarai gray"
          ],
          [
           "marc albrighton"
          ],
          [
           "nampalys mendy"
          ],
          [
           "christian fuchs"
          ],
          [
           "dennis praet"
          ]
         ],
         "hoverlabel": {
          "namelength": 0
         },
         "hovertemplate": "team_name=Leicester<br>Position=%{x}<br>Points=%{y}<br>Points per Cost=%{marker.size}<br>full_name=%{customdata[0]}",
         "legendgroup": "team_name=Leicester",
         "marker": {
          "color": "#19d3f3",
          "size": [
           6.771141336487284,
           6.326923076923077,
           4.929577464788733,
           3.2720588235294117,
           4.717348927875244,
           5.383064516129032,
           4.5285714285714285,
           3.3428571428571425,
           2.3571428571428568,
           1.0222222222222221,
           1.6324710080285458,
           3.4782608695652173,
           0.45299145299145294,
           2.7493261455525606,
           1.7314814814814814,
           0.5381944444444444,
           0,
           0
          ],
          "sizemode": "area",
          "sizeref": 0.025457875457875458,
          "symbol": "circle"
         },
         "mode": "markers",
         "name": "team_name=Leicester",
         "showlegend": true,
         "type": "scatter",
         "x": [
          "Forward",
          "Defender",
          "Midfielder",
          "Midfielder",
          "Defender",
          "Midfielder",
          "Goalkeeper",
          "Defender",
          "Midfielder",
          "Defender",
          "Midfielder",
          "Defender",
          "Midfielder",
          "Midfielder",
          "Midfielder",
          "Midfielder",
          "Defender",
          "Midfielder"
         ],
         "xaxis": "x",
         "y": [
          60.263157894736835,
          37.96153846153846,
          35,
          20.941176470588236,
          25.473684210526315,
          33.375,
          22.642857142857142,
          16.71428571428571,
          11.785714285714285,
          4.6,
          9.631578947368421,
          15.304347826086957,
          2.0384615384615383,
          14.571428571428571,
          9.35,
          2.421875,
          -0.5,
          0
         ],
         "yaxis": "y"
        },
        {
         "customdata": [
          [
           "harry kane"
          ],
          [
           "christian eriksen"
          ],
          [
           "lucas rodrigues moura da silva"
          ],
          [
           "heung-min son"
          ],
          [
           "tanguy ndombele"
          ],
          [
           "erik lamela"
          ],
          [
           "hugo lloris"
          ],
          [
           "moussa sissoko"
          ],
          [
           "bamidele alli"
          ],
          [
           "toby alderweireld"
          ],
          [
           "jan vertonghen"
          ],
          [
           "ben davies"
          ],
          [
           "danny rose"
          ],
          [
           "davinson sánchez"
          ],
          [
           "kyle walker-peters"
          ],
          [
           "harry winks"
          ],
          [
           "oliver skipp"
          ],
          [
           "georges-kévin nkoudou"
          ],
          [
           "giovani lo celso"
          ]
         ],
         "hoverlabel": {
          "namelength": 0
         },
         "hovertemplate": "team_name=Spurs<br>Position=%{x}<br>Points=%{y}<br>Points per Cost=%{marker.size}<br>full_name=%{customdata[0]}",
         "legendgroup": "team_name=Spurs",
         "marker": {
          "color": "#FF6692",
          "size": [
           4.943181818181818,
           5.270979020979021,
           5.220077220077219,
           5.40829346092504,
           1.6666666666666667,
           3.760869565217391,
           6.707616707616707,
           2.1818181818181817,
           2.8044871794871793,
           3.1445221445221447,
           2.06726825266612,
           1.6677115987460815,
           2.73939393939394,
           2.242424242424242,
           1.0884353741496597,
           0.5818181818181819,
           0.17777777777777778,
           0.15,
           0
          ],
          "sizemode": "area",
          "sizeref": 0.025457875457875458,
          "symbol": "circle"
         },
         "mode": "markers",
         "name": "team_name=Spurs",
         "showlegend": true,
         "type": "scatter",
         "x": [
          "Forward",
          "Midfielder",
          "Midfielder",
          "Midfielder",
          "Midfielder",
          "Midfielder",
          "Goalkeeper",
          "Midfielder",
          "Midfielder",
          "Defender",
          "Defender",
          "Defender",
          "Defender",
          "Defender",
          "Defender",
          "Midfielder",
          "Midfielder",
          "Midfielder",
          "Midfielder"
         ],
         "xaxis": "x",
         "y": [
          54.375,
          46.38461538461539,
          38.628571428571426,
          51.37878787878788,
          10,
          22.565217391304348,
          36.89189189189189,
          10.909090909090908,
          23.557692307692307,
          17.294871794871796,
          10.956521739130435,
          9.172413793103448,
          15.06666666666667,
          12.333333333333332,
          5.333333333333333,
          3.2000000000000006,
          0.8,
          0.75,
          0
         ],
         "yaxis": "y"
        },
        {
         "customdata": [
          [
           "callum wilson"
          ],
          [
           "harry wilson"
          ],
          [
           "ryan fraser"
          ],
          [
           "joshua king"
          ],
          [
           "chris mepham"
          ],
          [
           "nathan aké"
          ],
          [
           "steve cook"
          ],
          [
           "charlie daniels"
          ],
          [
           "jefferson lerma"
          ],
          [
           "adam smith"
          ],
          [
           "philip billing"
          ],
          [
           "jordon ibe"
          ],
          [
           "andrew surman"
          ],
          [
           "dominic solanke"
          ],
          [
           "aaron ramsdale"
          ],
          [
           "diego rico"
          ]
         ],
         "hoverlabel": {
          "namelength": 0
         },
         "hovertemplate": "team_name=Bournemouth<br>Position=%{x}<br>Points=%{y}<br>Points per Cost=%{marker.size}<br>full_name=%{customdata[0]}",
         "legendgroup": "team_name=Bournemouth",
         "marker": {
          "color": "#B6E880",
          "size": [
           7.024886877828054,
           1.8333333333333333,
           6.85583822570124,
           5.392628205128204,
           1.2430555555555556,
           3.7269193391642372,
           1.8142857142857143,
           0.608695652173913,
           1.3025210084033614,
           1.7279693486590038,
           0.8193548387096774,
           0.738581146744412,
           0.18367346938775508,
           0.1984126984126984,
           0,
           0
          ],
          "sizemode": "area",
          "sizeref": 0.025457875457875458,
          "symbol": "circle"
         },
         "mode": "markers",
         "name": "team_name=Bournemouth",
         "showlegend": true,
         "type": "scatter",
         "x": [
          "Forward",
          "Midfielder",
          "Midfielder",
          "Forward",
          "Defender",
          "Defender",
          "Defender",
          "Defender",
          "Midfielder",
          "Defender",
          "Midfielder",
          "Midfielder",
          "Midfielder",
          "Forward",
          "Goalkeeper",
          "Defender"
         ],
         "xaxis": "x",
         "y": [
          54.79411764705882,
          11,
          50.04761904761905,
          34.51282051282051,
          5.59375,
          18.261904761904763,
          9.071428571428571,
          2.7391304347826084,
          6.382352941176471,
          7.775862068965517,
          4.096774193548387,
          3.619047619047619,
          0.9,
          1.0714285714285714,
          0,
          -3.6666666666666665
         ],
         "yaxis": "y"
        },
        {
         "customdata": [
          [
           "sébastien haller"
          ],
          [
           "felipe anderson pereira gomes"
          ],
          [
           "lukasz fabianski"
          ],
          [
           "mark noble"
          ],
          [
           "manuel lanzini"
          ],
          [
           "javier hernández balcázar"
          ],
          [
           "michail antonio"
          ],
          [
           "arthur masuaku"
          ],
          [
           "andriy yarmolenko"
          ],
          [
           "issa diop"
          ],
          [
           "angelo ogbonna"
          ],
          [
           "ryan fredericks"
          ],
          [
           "declan rice"
          ],
          [
           "robert snodgrass"
          ],
          [
           "jack wilshere"
          ],
          [
           "carlos sánchez"
          ],
          [
           "pablo fornals"
          ]
         ],
         "hoverlabel": {
          "namelength": 0
         },
         "hovertemplate": "team_name=West Ham<br>Position=%{x}<br>Points=%{y}<br>Points per Cost=%{marker.size}<br>full_name=%{customdata[0]}",
         "legendgroup": "team_name=West Ham",
         "marker": {
          "color": "#FF97FF",
          "size": [
           2.2666666666666666,
           5.919732441471572,
           6.60952380952381,
           4.887878787878789,
           1.758241758241758,
           4.2407407407407405,
           4.48671497584541,
           1.9017094017094014,
           1.5254237288135593,
           2.5735735735735736,
           0.7654320987654322,
           1.1871345029239766,
           2.2824919441460794,
           2.361111111111111,
           0.4081632653061224,
           0,
           0
          ],
          "sizemode": "area",
          "sizeref": 0.025457875457875458,
          "symbol": "circle"
         },
         "mode": "markers",
         "name": "team_name=West Ham",
         "showlegend": true,
         "type": "scatter",
         "x": [
          "Forward",
          "Midfielder",
          "Goalkeeper",
          "Midfielder",
          "Midfielder",
          "Forward",
          "Midfielder",
          "Defender",
          "Midfielder",
          "Defender",
          "Defender",
          "Defender",
          "Midfielder",
          "Midfielder",
          "Midfielder",
          "Midfielder",
          "Midfielder"
         ],
         "xaxis": "x",
         "y": [
          17,
          40.84615384615385,
          33.04761904761905,
          24.43939393939394,
          11.428571428571427,
          25.444444444444443,
          30.958333333333332,
          8.557692307692307,
          9,
          11.58108108108108,
          3.4444444444444446,
          5.342105263157895,
          11.18421052631579,
          12.75,
          2,
          0,
          0
         ],
         "yaxis": "y"
        },
        {
         "customdata": [
          [
           "lucas digne"
          ],
          [
           "richarlison de andrade"
          ],
          [
           "gylfi sigurdsson"
          ],
          [
           "jordan pickford"
          ],
          [
           "michael keane"
          ],
          [
           "seamus coleman"
          ],
          [
           "bernard anício caldeira duarte"
          ],
          [
           "yerry mina"
          ],
          [
           "alex iwobi"
          ],
          [
           "moise kean"
          ],
          [
           "theo walcott"
          ],
          [
           "dominic calvert-lewin"
          ],
          [
           "jean-philippe gbamin"
          ],
          [
           "andré filipe tavares gomes"
          ],
          [
           "morgan schneiderlin"
          ],
          [
           "tom davies"
          ],
          [
           "mason holgate"
          ]
         ],
         "hoverlabel": {
          "namelength": 0
         },
         "hovertemplate": "team_name=Everton<br>Position=%{x}<br>Points=%{y}<br>Points per Cost=%{marker.size}<br>full_name=%{customdata[0]}",
         "legendgroup": "team_name=Everton",
         "marker": {
          "color": "#FECB52",
          "size": [
           7.976040353089535,
           6.1019149626744555,
           6.672771672771673,
           7.648809523809525,
           5.914004914004914,
           5.8402203856749315,
           2.82995951417004,
           1.9905462184873952,
           4.3128721942281265,
           0.4411764705882353,
           3.237688237688238,
           2.872664059104737,
           0.2040816326530612,
           1.1051373954599761,
           0.3333333333333333,
           0,
           0
          ],
          "sizemode": "area",
          "sizeref": 0.025457875457875458,
          "symbol": "circle"
         },
         "mode": "markers",
         "name": "team_name=Everton",
         "showlegend": true,
         "type": "scatter",
         "x": [
          "Defender",
          "Midfielder",
          "Midfielder",
          "Goalkeeper",
          "Defender",
          "Defender",
          "Midfielder",
          "Defender",
          "Midfielder",
          "Forward",
          "Midfielder",
          "Forward",
          "Midfielder",
          "Midfielder",
          "Midfielder",
          "Midfielder",
          "Defender"
         ],
         "xaxis": "x",
         "y": [
          48.65384615384616,
          48.205128205128204,
          52.04761904761905,
          42.833333333333336,
          32.527027027027025,
          32.121212121212125,
          18.39473684210526,
          11.147058823529413,
          25.445945945945947,
          3,
          20.397435897435898,
          16.94871794871795,
          1,
          5.967741935483871,
          1.5,
          -0.47058823529411764,
          -1.6666666666666667
         ],
         "yaxis": "y"
        },
        {
         "customdata": [
          [
           "ashley barnes"
          ],
          [
           "erik pieters"
          ],
          [
           "johann berg gudmundsson"
          ],
          [
           "dwight mcneil"
          ],
          [
           "nick pope"
          ],
          [
           "ashley westwood"
          ],
          [
           "chris wood"
          ],
          [
           "james tarkowski"
          ],
          [
           "jack cork"
          ],
          [
           "ben mee"
          ],
          [
           "jeff hendrick"
          ],
          [
           "matthew lowton"
          ],
          [
           "aaron lennon"
          ],
          [
           "jay rodriguez"
          ]
         ],
         "hoverlabel": {
          "namelength": 0
         },
         "hovertemplate": "team_name=Burnley<br>Position=%{x}<br>Points=%{y}<br>Points per Cost=%{marker.size}<br>full_name=%{customdata[0]}",
         "legendgroup": "team_name=Burnley",
         "marker": {
          "color": "#636efa",
          "size": [
           5.597014925373134,
           2.173913043478261,
           4.127604166666667,
           3.293333333333333,
           1.5217391304347827,
           3.9132553606237814,
           4.433370247323736,
           2.623076923076923,
           1.28,
           0.6720930232558139,
           1.7059483726150393,
           0,
           0.8571428571428573,
           0
          ],
          "sizemode": "area",
          "sizeref": 0.025457875457875458,
          "symbol": "circle"
         },
         "mode": "markers",
         "name": "team_name=Burnley",
         "showlegend": true,
         "type": "scatter",
         "x": [
          "Forward",
          "Defender",
          "Midfielder",
          "Midfielder",
          "Goalkeeper",
          "Midfielder",
          "Forward",
          "Defender",
          "Midfielder",
          "Defender",
          "Midfielder",
          "Defender",
          "Midfielder",
          "Forward"
         ],
         "xaxis": "x",
         "y": [
          37.5,
          10,
          24.765625,
          19.759999999999998,
          7,
          21.13157894736842,
          27.930232558139533,
          13.115384615384615,
          6.4,
          3.3604651162790695,
          9.212121212121213,
          -1.36,
          4.200000000000001,
          0
         ],
         "yaxis": "y"
        },
        {
         "customdata": [
          [
           "patrick van aanholt"
          ],
          [
           "jordan ayew"
          ],
          [
           "vicente guaita"
          ],
          [
           "jeffrey schlupp"
          ],
          [
           "joel ward"
          ],
          [
           "luka milivojevic"
          ],
          [
           "andros townsend"
          ],
          [
           "martin kelly"
          ],
          [
           "wilfried zaha"
          ],
          [
           "james mcarthur"
          ],
          [
           "scott dann"
          ],
          [
           "gary cahill"
          ],
          [
           "cheikhou kouyaté"
          ],
          [
           "mamadou sakho"
          ],
          [
           "max meyer"
          ],
          [
           "christian benteke"
          ],
          [
           "connor wickham"
          ],
          [
           "james mccarthy"
          ]
         ],
         "hoverlabel": {
          "namelength": 0
         },
         "hovertemplate": "team_name=Crystal Palace<br>Position=%{x}<br>Points=%{y}<br>Points per Cost=%{marker.size}<br>full_name=%{customdata[0]}",
         "legendgroup": "team_name=Crystal Palace",
         "marker": {
          "color": "#EF553B",
          "size": [
           7.11607142857143,
           2.57459505541347,
           4.316666666666667,
           4.231404958677686,
           1.5151515151515151,
           5.906862745098039,
           4.923325262308313,
           1.2984218077474896,
           4.862700228832952,
           4.14021164021164,
           1.0740740740740742,
           0.6666666666666666,
           1.5433673469387754,
           3.2785714285714285,
           1.4725209080047788,
           0.6101694915254237,
           0.25,
           0
          ],
          "sizemode": "area",
          "sizeref": 0.025457875457875458,
          "symbol": "circle"
         },
         "mode": "markers",
         "name": "team_name=Crystal Palace",
         "showlegend": true,
         "type": "scatter",
         "x": [
          "Defender",
          "Forward",
          "Goalkeeper",
          "Midfielder",
          "Defender",
          "Midfielder",
          "Midfielder",
          "Defender",
          "Midfielder",
          "Midfielder",
          "Defender",
          "Defender",
          "Midfielder",
          "Defender",
          "Midfielder",
          "Forward",
          "Forward",
          "Midfielder"
         ],
         "xaxis": "x",
         "y": [
          39.85,
          13.130434782608695,
          21.583333333333336,
          23.272727272727273,
          6.818181818181818,
          40.166666666666664,
          29.047619047619047,
          5.3235294117647065,
          33.55263157894737,
          22.357142857142858,
          4.833333333333334,
          3,
          7.5625,
          16.392857142857142,
          7.951612903225806,
          3.6,
          1.125,
          -0.8333333333333333
         ],
         "yaxis": "y"
        },
        {
         "customdata": [
          [
           "raúl jiménez"
          ],
          [
           "rui pedro dos santos patrício"
          ],
          [
           "willy boly"
          ],
          [
           "matt doherty"
          ],
          [
           "joão filipe iria santos moutinho"
          ],
          [
           "rúben diogo da silva neves"
          ],
          [
           "diogo jota"
          ],
          [
           "jonathan castro otto"
          ],
          [
           "romain saïss"
          ],
          [
           "conor coady"
          ],
          [
           "ryan bennett"
          ],
          [
           "leander dendoncker"
          ],
          [
           "morgan gibbs-white"
          ],
          [
           "adama traoré"
          ],
          [
           "patrick cutrone"
          ],
          [
           "pedro lomba neto"
          ]
         ],
         "hoverlabel": {
          "namelength": 0
         },
         "hovertemplate": "team_name=Wolves<br>Position=%{x}<br>Points=%{y}<br>Points per Cost=%{marker.size}<br>full_name=%{customdata[0]}",
         "legendgroup": "team_name=Wolves",
         "marker": {
          "color": "#00cc96",
          "size": [
           7.403474903474903,
           5.184122429459589,
           5.290000000000001,
           5.91869918699187,
           4.562770562770563,
           3.438228438228438,
           5.7335907335907335,
           3.5454545454545454,
           2.37012987012987,
           1.9571428571428569,
           1.9894736842105263,
           1.3236714975845412,
           0.5895691609977324,
           0.90625,
           0,
           0
          ],
          "sizemode": "area",
          "sizeref": 0.025457875457875458,
          "symbol": "circle"
         },
         "mode": "markers",
         "name": "team_name=Wolves",
         "showlegend": true,
         "type": "scatter",
         "x": [
          "Forward",
          "Goalkeeper",
          "Defender",
          "Defender",
          "Midfielder",
          "Midfielder",
          "Forward",
          "Defender",
          "Defender",
          "Defender",
          "Defender",
          "Midfielder",
          "Midfielder",
          "Midfielder",
          "Forward",
          "Midfielder"
         ],
         "xaxis": "x",
         "y": [
          54.785714285714285,
          26.439024390243905,
          26.450000000000003,
          35.51219512195122,
          25.095238095238095,
          18.91025641025641,
          36.12162162162162,
          19.5,
          10.428571428571429,
          9.785714285714285,
          9.947368421052632,
          5.9565217391304355,
          2.888888888888889,
          4.53125,
          0,
          -1
         ],
         "yaxis": "y"
        },
        {
         "customdata": [
          [
           "daniel james"
          ],
          [
           "anthony martial"
          ],
          [
           "marcus rashford"
          ],
          [
           "paul pogba"
          ],
          [
           "david de gea"
          ],
          [
           "aaron wan-bissaka"
          ],
          [
           "scott mctominay"
          ],
          [
           "luke shaw"
          ],
          [
           "harry maguire"
          ],
          [
           "victor lindelöf"
          ],
          [
           "andreas pereira"
          ],
          [
           "jesse lingard"
          ],
          [
           "juan mata"
          ],
          [
           "ashley young"
          ],
          [
           "nemanja matic"
          ],
          [
           "mason greenwood"
          ]
         ],
         "hoverlabel": {
          "namelength": 0
         },
         "hovertemplate": "team_name=Man Utd<br>Position=%{x}<br>Points=%{y}<br>Points per Cost=%{marker.size}<br>full_name=%{customdata[0]}",
         "legendgroup": "team_name=Man Utd",
         "marker": {
          "color": "#ab63fa",
          "size": [
           2.295081967213115,
           5.487012987012987,
           4.467408585055644,
           6.131221719457013,
           4.238945578231293,
           4.37995337995338,
           1.9600000000000002,
           3.1741898148148144,
           2.8597402597402595,
           2.412854030501089,
           0.9666666666666668,
           2.313508064516129,
           2.379807692307692,
           1.290509259259259,
           0.40229885057471265,
           0
          ],
          "sizemode": "area",
          "sizeref": 0.025457875457875458,
          "symbol": "circle"
         },
         "mode": "markers",
         "name": "team_name=Man Utd",
         "showlegend": true,
         "type": "scatter",
         "x": [
          "Midfielder",
          "Midfielder",
          "Forward",
          "Midfielder",
          "Goalkeeper",
          "Defender",
          "Midfielder",
          "Defender",
          "Defender",
          "Defender",
          "Midfielder",
          "Midfielder",
          "Midfielder",
          "Defender",
          "Midfielder",
          "Forward"
         ],
         "xaxis": "x",
         "y": [
          14,
          42.25,
          37.972972972972975,
          52.11538461538461,
          23.73809523809524,
          24.08974358974359,
          9.8,
          17.140625,
          15.728571428571428,
          13.029411764705882,
          4.833333333333334,
          14.806451612903226,
          15.23076923076923,
          6.96875,
          1.9310344827586208,
          0
         ],
         "yaxis": "y"
        },
        {
         "customdata": [
          [
           "john mcginn"
          ],
          [
           "douglas luiz soares de paulo"
          ],
          [
           "wesley moraes"
          ],
          [
           "tyrone mings"
          ],
          [
           "bjorn engels"
          ],
          [
           "anwar el ghazi"
          ],
          [
           "jack grealish"
          ],
          [
           "tom heaton"
          ],
          [
           "josé ignacio peleteiro romallo"
          ],
          [
           "frédéric guilbert"
          ],
          [
           "ahmed el mohamady"
          ],
          [
           "neil taylor"
          ],
          [
           "jonathan kodjia"
          ],
          [
           "conor hourihane"
          ],
          [
           "keinan davis"
          ],
          [
           "henri lansbury"
          ],
          [
           "mahmoud ahmed ibrahim hassan"
          ]
         ],
         "hoverlabel": {
          "namelength": 0
         },
         "hovertemplate": "team_name=Aston Villa<br>Position=%{x}<br>Points=%{y}<br>Points per Cost=%{marker.size}<br>full_name=%{customdata[0]}",
         "legendgroup": "team_name=Aston Villa",
         "marker": {
          "color": "#FFA15A",
          "size": [
           1.6071428571428572,
           1.7391304347826089,
           1.1666666666666667,
           1.2222222222222223,
           1.1111111111111112,
           0.9090909090909091,
           0.6666666666666666,
           2.357487922705314,
           0.6779661016949152,
           0.45454545454545453,
           0.2222222222222222,
           0.2222222222222222,
           0,
           0,
           0,
           0,
           0
          ],
          "sizemode": "area",
          "sizeref": 0.025457875457875458,
          "symbol": "circle"
         },
         "mode": "markers",
         "name": "team_name=Aston Villa",
         "showlegend": true,
         "type": "scatter",
         "x": [
          "Midfielder",
          "Midfielder",
          "Forward",
          "Defender",
          "Defender",
          "Midfielder",
          "Midfielder",
          "Goalkeeper",
          "Midfielder",
          "Defender",
          "Defender",
          "Defender",
          "Forward",
          "Midfielder",
          "Midfielder",
          "Midfielder",
          "Midfielder"
         ],
         "xaxis": "x",
         "y": [
          9,
          8,
          7,
          5.5,
          5,
          5,
          4,
          10.608695652173912,
          4,
          2,
          1,
          1,
          0,
          0,
          0,
          0,
          -3
         ],
         "yaxis": "y"
        },
        {
         "customdata": [
          [
           "john lundstram"
          ],
          [
           "callum robinson"
          ],
          [
           "enda stevens"
          ],
          [
           "george baldock"
          ],
          [
           "dean henderson"
          ],
          [
           "billy sharp"
          ],
          [
           "oliver mcburnie"
          ],
          [
           "jack o'connell"
          ],
          [
           "john egan"
          ],
          [
           "chris basham"
          ],
          [
           "oliver norwood"
          ],
          [
           "phil jagielka"
          ],
          [
           "lys mousset"
          ],
          [
           "luke freeman"
          ],
          [
           "david mcgoldrick"
          ],
          [
           "ravel morrison"
          ],
          [
           "ben osborn"
          ],
          [
           "john fleck"
          ]
         ],
         "hoverlabel": {
          "namelength": 0
         },
         "hovertemplate": "team_name=Sheffield Utd<br>Position=%{x}<br>Points=%{y}<br>Points per Cost=%{marker.size}<br>full_name=%{customdata[0]}",
         "legendgroup": "team_name=Sheffield Utd",
         "marker": {
          "color": "#19d3f3",
          "size": [
           2.380952380952381,
           1.6981132075471699,
           1.4,
           1.5555555555555556,
           1.3333333333333333,
           1.1864406779661016,
           0.6779661016949152,
           0.4444444444444444,
           0.4444444444444444,
           0.4444444444444444,
           0.2,
           1.1931818181818181,
           0.2933673469387755,
           0,
           0,
           0,
           0,
           0
          ],
          "sizemode": "area",
          "sizeref": 0.025457875457875458,
          "symbol": "circle"
         },
         "mode": "markers",
         "name": "team_name=Sheffield Utd",
         "showlegend": true,
         "type": "scatter",
         "x": [
          "Defender",
          "Midfielder",
          "Defender",
          "Defender",
          "Goalkeeper",
          "Forward",
          "Forward",
          "Defender",
          "Defender",
          "Defender",
          "Midfielder",
          "Defender",
          "Forward",
          "Midfielder",
          "Forward",
          "Midfielder",
          "Midfielder",
          "Midfielder"
         ],
         "xaxis": "x",
         "y": [
          10,
          9,
          7,
          7,
          6,
          7,
          4,
          2,
          2,
          2,
          1,
          5.25,
          1.4375,
          0,
          0,
          0,
          0,
          -1
         ],
         "yaxis": "y"
        },
        {
         "customdata": [
          [
           "nathan redmond"
          ],
          [
           "jannik vestergaard"
          ],
          [
           "danny ings"
          ],
          [
           "angus gunn"
          ],
          [
           "kevin danso"
          ],
          [
           "james ward-prowse"
          ],
          [
           "sofiane boufal"
          ],
          [
           "moussa djenepo"
          ],
          [
           "jan bednarek"
          ],
          [
           "pierre-emile højbjerg"
          ],
          [
           "cédric soares"
          ],
          [
           "shane long"
          ],
          [
           "stuart armstrong"
          ],
          [
           "oriol romeu vidal"
          ],
          [
           "jack stephens"
          ],
          [
           "yan valery"
          ],
          [
           "ryan bertrand"
          ],
          [
           "maya yoshida"
          ],
          [
           "michael obafemi"
          ],
          [
           "che adams"
          ]
         ],
         "hoverlabel": {
          "namelength": 0
         },
         "hovertemplate": "team_name=Southampton<br>Position=%{x}<br>Points=%{y}<br>Points per Cost=%{marker.size}<br>full_name=%{customdata[0]}",
         "legendgroup": "team_name=Southampton",
         "marker": {
          "color": "#FF6692",
          "size": [
           5.3155245838172664,
           1.9481481481481482,
           4.1190476190476195,
           2.888888888888889,
           0.8888888888888888,
           3.4519774011299433,
           0.5454545454545454,
           0.5555555555555555,
           0.47619047619047616,
           2.530612244897959,
           1.8367346938775508,
           2.808641975308642,
           2.667824074074074,
           0.29523809523809524,
           0.5363636363636363,
           0.945839874411303,
           0.533751962323391,
           0.8911483253588517,
           0.5142857142857142,
           0
          ],
          "sizemode": "area",
          "sizeref": 0.025457875457875458,
          "symbol": "circle"
         },
         "mode": "markers",
         "name": "team_name=Southampton",
         "showlegend": true,
         "type": "scatter",
         "x": [
          "Midfielder",
          "Defender",
          "Forward",
          "Goalkeeper",
          "Defender",
          "Midfielder",
          "Midfielder",
          "Midfielder",
          "Defender",
          "Midfielder",
          "Defender",
          "Forward",
          "Midfielder",
          "Midfielder",
          "Defender",
          "Defender",
          "Defender",
          "Defender",
          "Forward",
          "Forward"
         ],
         "xaxis": "x",
         "y": [
          33.48780487804878,
          9.74074074074074,
          24.714285714285715,
          13,
          4,
          20.366666666666667,
          3,
          3,
          2.142857142857143,
          12.399999999999999,
          9,
          13.481481481481481,
          14.40625,
          1.3285714285714285,
          2.36,
          4.634615384615385,
          2.615384615384616,
          3.921052631578948,
          2.571428571428571,
          0
         ],
         "yaxis": "y"
        },
        {
         "customdata": [
          [
           "fabian schär"
          ],
          [
           "martin dubravka"
          ],
          [
           "joelinton cássio apolinário de lira"
          ],
          [
           "matt ritchie"
          ],
          [
           "jamaal lascelles"
          ],
          [
           "isaac hayden"
          ],
          [
           "jonjo shelvey"
          ],
          [
           "emil krafth"
          ],
          [
           "christian atsu"
          ],
          [
           "paul dummett"
          ],
          [
           "sean longstaff"
          ],
          [
           "javier manquillo"
          ],
          [
           "sung-yueng ki"
          ],
          [
           "federico fernández"
          ],
          [
           "miguel almirón"
          ],
          [
           "yoshinori muto"
          ],
          [
           "jetro willems"
          ],
          [
           "allan saint-maximin"
          ]
         ],
         "hoverlabel": {
          "namelength": 0
         },
         "hovertemplate": "team_name=Newcastle<br>Position=%{x}<br>Points=%{y}<br>Points per Cost=%{marker.size}<br>full_name=%{customdata[0]}",
         "legendgroup": "team_name=Newcastle",
         "marker": {
          "color": "#B6E880",
          "size": [
           5.285714285714286,
           5.534883720930233,
           0.847457627118644,
           3.6111111111111103,
           3.728395061728395,
           2.835249042145594,
           1.911111111111111,
           0.6666666666666666,
           1.4320987654320985,
           2.177777777777778,
           1.0846153846153848,
           2.4545454545454546,
           0.5800214822771214,
           1.3365800865800865,
           0.5447941888619855,
           0.23611111111111108,
           0,
           0
          ],
          "sizemode": "area",
          "sizeref": 0.025457875457875458,
          "symbol": "circle"
         },
         "mode": "markers",
         "name": "team_name=Newcastle",
         "showlegend": true,
         "type": "scatter",
         "x": [
          "Defender",
          "Goalkeeper",
          "Forward",
          "Defender",
          "Defender",
          "Midfielder",
          "Midfielder",
          "Defender",
          "Midfielder",
          "Defender",
          "Midfielder",
          "Defender",
          "Midfielder",
          "Defender",
          "Midfielder",
          "Forward",
          "Defender",
          "Midfielder"
         ],
         "xaxis": "x",
         "y": [
          26.428571428571427,
          27.674418604651162,
          5,
          19.499999999999996,
          16.77777777777778,
          12.758620689655173,
          9.555555555555555,
          3,
          7.7333333333333325,
          9.8,
          5.423076923076923,
          10.8,
          2.8421052631578947,
          5.880952380952381,
          3.2142857142857144,
          1.275,
          0,
          0
         ],
         "yaxis": "y"
        },
        {
         "customdata": [
          [
           "will hughes"
          ],
          [
           "andre gray"
          ],
          [
           "ben foster"
          ],
          [
           "gerard deulofeu"
          ],
          [
           "troy deeney"
          ],
          [
           "roberto pereyra"
          ],
          [
           "abdoulaye doucouré"
          ],
          [
           "daryl janmaat"
          ],
          [
           "josé holebas"
          ],
          [
           "etienne capoue"
          ],
          [
           "tom cleverley"
          ],
          [
           "craig cathcart"
          ],
          [
           "francisco femenía far"
          ],
          [
           "domingos quina"
          ],
          [
           "danny welbeck"
          ],
          [
           "isaac success ajayi"
          ],
          [
           "christian kabasele"
          ],
          [
           "nathaniel chalobah"
          ],
          [
           "ismaïla sarr"
          ],
          [
           "craig dawson"
          ]
         ],
         "hoverlabel": {
          "namelength": 0
         },
         "hovertemplate": "team_name=Watford<br>Position=%{x}<br>Points=%{y}<br>Points per Cost=%{marker.size}<br>full_name=%{customdata[0]}",
         "legendgroup": "team_name=Watford",
         "marker": {
          "color": "#FF97FF",
          "size": [
           3.4545454545454546,
           3.697996918335901,
           5.228377065111759,
           5.6722689075630255,
           4.257703081232493,
           4.489942528735632,
           4.047303271441202,
           1.7224880382775116,
           3.2123655913978495,
           1.105442176870748,
           0.6632653061224489,
           1.9772727272727268,
           1.34297520661157,
           0.691358024691358,
           0.6666666666666666,
           0.2869897959183673,
           0,
           0,
           0,
           0
          ],
          "sizemode": "area",
          "sizeref": 0.025457875457875458,
          "symbol": "circle"
         },
         "mode": "markers",
         "name": "team_name=Watford",
         "showlegend": true,
         "type": "scatter",
         "x": [
          "Midfielder",
          "Forward",
          "Goalkeeper",
          "Forward",
          "Forward",
          "Midfielder",
          "Midfielder",
          "Defender",
          "Defender",
          "Midfielder",
          "Midfielder",
          "Defender",
          "Defender",
          "Midfielder",
          "Forward",
          "Forward",
          "Defender",
          "Midfielder",
          "Midfielder",
          "Defender"
         ],
         "xaxis": "x",
         "y": [
          19,
          21.818181818181817,
          25.61904761904762,
          35.73529411764706,
          26.823529411764707,
          26.041666666666664,
          23.474358974358974,
          7.578947368421052,
          15.419354838709678,
          5.416666666666666,
          3.25,
          8.7,
          5.909090909090909,
          3.1111111111111107,
          4,
          1.40625,
          -0.9545454545454546,
          -0.9,
          0,
          -3
         ],
         "yaxis": "y"
        },
        {
         "customdata": [
          [
           "shane duffy"
          ],
          [
           "mathew ryan"
          ],
          [
           "pascal groß"
          ],
          [
           "leandro trossard"
          ],
          [
           "lewis dunk"
          ],
          [
           "glenn murray"
          ],
          [
           "neal maupay"
          ],
          [
           "solomon march"
          ],
          [
           "davy pröpper"
          ],
          [
           "dale stephens"
          ],
          [
           "dan burn"
          ],
          [
           "florin andone"
          ],
          [
           "aaron mooy"
          ],
          [
           "jürgen locadia"
          ],
          [
           "martín montoya"
          ],
          [
           "aaron connolly"
          ],
          [
           "bernardo fernandes da silva junior"
          ]
         ],
         "hoverlabel": {
          "namelength": 0
         },
         "hovertemplate": "team_name=Brighton<br>Position=%{x}<br>Points=%{y}<br>Points per Cost=%{marker.size}<br>full_name=%{customdata[0]}",
         "legendgroup": "team_name=Brighton",
         "marker": {
          "color": "#FECB52",
          "size": [
           4.560526315789473,
           3.9816933638443937,
           2.8249336870026522,
           0.8333333333333334,
           2.673913043478261,
           5.147783251231528,
           0.8333333333333334,
           3.1344845630559917,
           1.5941176470588236,
           0.9084967320261437,
           0.2222222222222222,
           1.016,
           2.1700680272108843,
           1.1177248677248677,
           0,
           0,
           0
          ],
          "sizemode": "area",
          "sizeref": 0.025457875457875458,
          "symbol": "circle"
         },
         "mode": "markers",
         "name": "team_name=Brighton",
         "showlegend": true,
         "type": "scatter",
         "x": [
          "Defender",
          "Goalkeeper",
          "Midfielder",
          "Midfielder",
          "Defender",
          "Forward",
          "Forward",
          "Midfielder",
          "Midfielder",
          "Midfielder",
          "Defender",
          "Forward",
          "Midfielder",
          "Forward",
          "Defender",
          "Forward",
          "Defender"
         ],
         "xaxis": "x",
         "y": [
          22.802631578947366,
          18.31578947368421,
          18.36206896551724,
          5,
          12.3,
          29.857142857142858,
          5,
          15.35897435897436,
          7.970588235294118,
          4.088235294117647,
          1,
          5.08,
          10.633333333333333,
          6.035714285714286,
          -1.7241379310344827,
          0,
          -1.4583333333333333
         ],
         "yaxis": "y"
        }
       ],
       "layout": {
        "height": 600,
        "legend": {
         "itemsizing": "constant",
         "tracegroupgap": 0
        },
        "margin": {
         "t": 60
        },
        "template": {
         "data": {
          "bar": [
           {
            "error_x": {
             "color": "#2a3f5f"
            },
            "error_y": {
             "color": "#2a3f5f"
            },
            "marker": {
             "line": {
              "color": "#E5ECF6",
              "width": 0.5
             }
            },
            "type": "bar"
           }
          ],
          "barpolar": [
           {
            "marker": {
             "line": {
              "color": "#E5ECF6",
              "width": 0.5
             }
            },
            "type": "barpolar"
           }
          ],
          "carpet": [
           {
            "aaxis": {
             "endlinecolor": "#2a3f5f",
             "gridcolor": "white",
             "linecolor": "white",
             "minorgridcolor": "white",
             "startlinecolor": "#2a3f5f"
            },
            "baxis": {
             "endlinecolor": "#2a3f5f",
             "gridcolor": "white",
             "linecolor": "white",
             "minorgridcolor": "white",
             "startlinecolor": "#2a3f5f"
            },
            "type": "carpet"
           }
          ],
          "choropleth": [
           {
            "colorbar": {
             "outlinewidth": 0,
             "ticks": ""
            },
            "type": "choropleth"
           }
          ],
          "contour": [
           {
            "colorbar": {
             "outlinewidth": 0,
             "ticks": ""
            },
            "colorscale": [
             [
              0,
              "#0d0887"
             ],
             [
              0.1111111111111111,
              "#46039f"
             ],
             [
              0.2222222222222222,
              "#7201a8"
             ],
             [
              0.3333333333333333,
              "#9c179e"
             ],
             [
              0.4444444444444444,
              "#bd3786"
             ],
             [
              0.5555555555555556,
              "#d8576b"
             ],
             [
              0.6666666666666666,
              "#ed7953"
             ],
             [
              0.7777777777777778,
              "#fb9f3a"
             ],
             [
              0.8888888888888888,
              "#fdca26"
             ],
             [
              1,
              "#f0f921"
             ]
            ],
            "type": "contour"
           }
          ],
          "contourcarpet": [
           {
            "colorbar": {
             "outlinewidth": 0,
             "ticks": ""
            },
            "type": "contourcarpet"
           }
          ],
          "heatmap": [
           {
            "colorbar": {
             "outlinewidth": 0,
             "ticks": ""
            },
            "colorscale": [
             [
              0,
              "#0d0887"
             ],
             [
              0.1111111111111111,
              "#46039f"
             ],
             [
              0.2222222222222222,
              "#7201a8"
             ],
             [
              0.3333333333333333,
              "#9c179e"
             ],
             [
              0.4444444444444444,
              "#bd3786"
             ],
             [
              0.5555555555555556,
              "#d8576b"
             ],
             [
              0.6666666666666666,
              "#ed7953"
             ],
             [
              0.7777777777777778,
              "#fb9f3a"
             ],
             [
              0.8888888888888888,
              "#fdca26"
             ],
             [
              1,
              "#f0f921"
             ]
            ],
            "type": "heatmap"
           }
          ],
          "heatmapgl": [
           {
            "colorbar": {
             "outlinewidth": 0,
             "ticks": ""
            },
            "colorscale": [
             [
              0,
              "#0d0887"
             ],
             [
              0.1111111111111111,
              "#46039f"
             ],
             [
              0.2222222222222222,
              "#7201a8"
             ],
             [
              0.3333333333333333,
              "#9c179e"
             ],
             [
              0.4444444444444444,
              "#bd3786"
             ],
             [
              0.5555555555555556,
              "#d8576b"
             ],
             [
              0.6666666666666666,
              "#ed7953"
             ],
             [
              0.7777777777777778,
              "#fb9f3a"
             ],
             [
              0.8888888888888888,
              "#fdca26"
             ],
             [
              1,
              "#f0f921"
             ]
            ],
            "type": "heatmapgl"
           }
          ],
          "histogram": [
           {
            "marker": {
             "colorbar": {
              "outlinewidth": 0,
              "ticks": ""
             }
            },
            "type": "histogram"
           }
          ],
          "histogram2d": [
           {
            "colorbar": {
             "outlinewidth": 0,
             "ticks": ""
            },
            "colorscale": [
             [
              0,
              "#0d0887"
             ],
             [
              0.1111111111111111,
              "#46039f"
             ],
             [
              0.2222222222222222,
              "#7201a8"
             ],
             [
              0.3333333333333333,
              "#9c179e"
             ],
             [
              0.4444444444444444,
              "#bd3786"
             ],
             [
              0.5555555555555556,
              "#d8576b"
             ],
             [
              0.6666666666666666,
              "#ed7953"
             ],
             [
              0.7777777777777778,
              "#fb9f3a"
             ],
             [
              0.8888888888888888,
              "#fdca26"
             ],
             [
              1,
              "#f0f921"
             ]
            ],
            "type": "histogram2d"
           }
          ],
          "histogram2dcontour": [
           {
            "colorbar": {
             "outlinewidth": 0,
             "ticks": ""
            },
            "colorscale": [
             [
              0,
              "#0d0887"
             ],
             [
              0.1111111111111111,
              "#46039f"
             ],
             [
              0.2222222222222222,
              "#7201a8"
             ],
             [
              0.3333333333333333,
              "#9c179e"
             ],
             [
              0.4444444444444444,
              "#bd3786"
             ],
             [
              0.5555555555555556,
              "#d8576b"
             ],
             [
              0.6666666666666666,
              "#ed7953"
             ],
             [
              0.7777777777777778,
              "#fb9f3a"
             ],
             [
              0.8888888888888888,
              "#fdca26"
             ],
             [
              1,
              "#f0f921"
             ]
            ],
            "type": "histogram2dcontour"
           }
          ],
          "mesh3d": [
           {
            "colorbar": {
             "outlinewidth": 0,
             "ticks": ""
            },
            "type": "mesh3d"
           }
          ],
          "parcoords": [
           {
            "line": {
             "colorbar": {
              "outlinewidth": 0,
              "ticks": ""
             }
            },
            "type": "parcoords"
           }
          ],
          "scatter": [
           {
            "marker": {
             "colorbar": {
              "outlinewidth": 0,
              "ticks": ""
             }
            },
            "type": "scatter"
           }
          ],
          "scatter3d": [
           {
            "line": {
             "colorbar": {
              "outlinewidth": 0,
              "ticks": ""
             }
            },
            "marker": {
             "colorbar": {
              "outlinewidth": 0,
              "ticks": ""
             }
            },
            "type": "scatter3d"
           }
          ],
          "scattercarpet": [
           {
            "marker": {
             "colorbar": {
              "outlinewidth": 0,
              "ticks": ""
             }
            },
            "type": "scattercarpet"
           }
          ],
          "scattergeo": [
           {
            "marker": {
             "colorbar": {
              "outlinewidth": 0,
              "ticks": ""
             }
            },
            "type": "scattergeo"
           }
          ],
          "scattergl": [
           {
            "marker": {
             "colorbar": {
              "outlinewidth": 0,
              "ticks": ""
             }
            },
            "type": "scattergl"
           }
          ],
          "scattermapbox": [
           {
            "marker": {
             "colorbar": {
              "outlinewidth": 0,
              "ticks": ""
             }
            },
            "type": "scattermapbox"
           }
          ],
          "scatterpolar": [
           {
            "marker": {
             "colorbar": {
              "outlinewidth": 0,
              "ticks": ""
             }
            },
            "type": "scatterpolar"
           }
          ],
          "scatterpolargl": [
           {
            "marker": {
             "colorbar": {
              "outlinewidth": 0,
              "ticks": ""
             }
            },
            "type": "scatterpolargl"
           }
          ],
          "scatterternary": [
           {
            "marker": {
             "colorbar": {
              "outlinewidth": 0,
              "ticks": ""
             }
            },
            "type": "scatterternary"
           }
          ],
          "surface": [
           {
            "colorbar": {
             "outlinewidth": 0,
             "ticks": ""
            },
            "colorscale": [
             [
              0,
              "#0d0887"
             ],
             [
              0.1111111111111111,
              "#46039f"
             ],
             [
              0.2222222222222222,
              "#7201a8"
             ],
             [
              0.3333333333333333,
              "#9c179e"
             ],
             [
              0.4444444444444444,
              "#bd3786"
             ],
             [
              0.5555555555555556,
              "#d8576b"
             ],
             [
              0.6666666666666666,
              "#ed7953"
             ],
             [
              0.7777777777777778,
              "#fb9f3a"
             ],
             [
              0.8888888888888888,
              "#fdca26"
             ],
             [
              1,
              "#f0f921"
             ]
            ],
            "type": "surface"
           }
          ],
          "table": [
           {
            "cells": {
             "fill": {
              "color": "#EBF0F8"
             },
             "line": {
              "color": "white"
             }
            },
            "header": {
             "fill": {
              "color": "#C8D4E3"
             },
             "line": {
              "color": "white"
             }
            },
            "type": "table"
           }
          ]
         },
         "layout": {
          "annotationdefaults": {
           "arrowcolor": "#2a3f5f",
           "arrowhead": 0,
           "arrowwidth": 1
          },
          "colorscale": {
           "diverging": [
            [
             0,
             "#8e0152"
            ],
            [
             0.1,
             "#c51b7d"
            ],
            [
             0.2,
             "#de77ae"
            ],
            [
             0.3,
             "#f1b6da"
            ],
            [
             0.4,
             "#fde0ef"
            ],
            [
             0.5,
             "#f7f7f7"
            ],
            [
             0.6,
             "#e6f5d0"
            ],
            [
             0.7,
             "#b8e186"
            ],
            [
             0.8,
             "#7fbc41"
            ],
            [
             0.9,
             "#4d9221"
            ],
            [
             1,
             "#276419"
            ]
           ],
           "sequential": [
            [
             0,
             "#0d0887"
            ],
            [
             0.1111111111111111,
             "#46039f"
            ],
            [
             0.2222222222222222,
             "#7201a8"
            ],
            [
             0.3333333333333333,
             "#9c179e"
            ],
            [
             0.4444444444444444,
             "#bd3786"
            ],
            [
             0.5555555555555556,
             "#d8576b"
            ],
            [
             0.6666666666666666,
             "#ed7953"
            ],
            [
             0.7777777777777778,
             "#fb9f3a"
            ],
            [
             0.8888888888888888,
             "#fdca26"
            ],
            [
             1,
             "#f0f921"
            ]
           ],
           "sequentialminus": [
            [
             0,
             "#0d0887"
            ],
            [
             0.1111111111111111,
             "#46039f"
            ],
            [
             0.2222222222222222,
             "#7201a8"
            ],
            [
             0.3333333333333333,
             "#9c179e"
            ],
            [
             0.4444444444444444,
             "#bd3786"
            ],
            [
             0.5555555555555556,
             "#d8576b"
            ],
            [
             0.6666666666666666,
             "#ed7953"
            ],
            [
             0.7777777777777778,
             "#fb9f3a"
            ],
            [
             0.8888888888888888,
             "#fdca26"
            ],
            [
             1,
             "#f0f921"
            ]
           ]
          },
          "colorway": [
           "#636efa",
           "#EF553B",
           "#00cc96",
           "#ab63fa",
           "#FFA15A",
           "#19d3f3",
           "#FF6692",
           "#B6E880",
           "#FF97FF",
           "#FECB52"
          ],
          "font": {
           "color": "#2a3f5f"
          },
          "geo": {
           "bgcolor": "white",
           "lakecolor": "white",
           "landcolor": "#E5ECF6",
           "showlakes": true,
           "showland": true,
           "subunitcolor": "white"
          },
          "hoverlabel": {
           "align": "left"
          },
          "hovermode": "closest",
          "mapbox": {
           "style": "light"
          },
          "paper_bgcolor": "white",
          "plot_bgcolor": "#E5ECF6",
          "polar": {
           "angularaxis": {
            "gridcolor": "white",
            "linecolor": "white",
            "ticks": ""
           },
           "bgcolor": "#E5ECF6",
           "radialaxis": {
            "gridcolor": "white",
            "linecolor": "white",
            "ticks": ""
           }
          },
          "scene": {
           "xaxis": {
            "backgroundcolor": "#E5ECF6",
            "gridcolor": "white",
            "gridwidth": 2,
            "linecolor": "white",
            "showbackground": true,
            "ticks": "",
            "zerolinecolor": "white"
           },
           "yaxis": {
            "backgroundcolor": "#E5ECF6",
            "gridcolor": "white",
            "gridwidth": 2,
            "linecolor": "white",
            "showbackground": true,
            "ticks": "",
            "zerolinecolor": "white"
           },
           "zaxis": {
            "backgroundcolor": "#E5ECF6",
            "gridcolor": "white",
            "gridwidth": 2,
            "linecolor": "white",
            "showbackground": true,
            "ticks": "",
            "zerolinecolor": "white"
           }
          },
          "shapedefaults": {
           "line": {
            "color": "#2a3f5f"
           }
          },
          "ternary": {
           "aaxis": {
            "gridcolor": "white",
            "linecolor": "white",
            "ticks": ""
           },
           "baxis": {
            "gridcolor": "white",
            "linecolor": "white",
            "ticks": ""
           },
           "bgcolor": "#E5ECF6",
           "caxis": {
            "gridcolor": "white",
            "linecolor": "white",
            "ticks": ""
           }
          },
          "title": {
           "x": 0.05
          },
          "xaxis": {
           "automargin": true,
           "gridcolor": "white",
           "linecolor": "white",
           "ticks": "",
           "zerolinecolor": "white",
           "zerolinewidth": 2
          },
          "yaxis": {
           "automargin": true,
           "gridcolor": "white",
           "linecolor": "white",
           "ticks": "",
           "zerolinecolor": "white",
           "zerolinewidth": 2
          }
         }
        },
        "title": {
         "text": "Positions and their points"
        },
        "xaxis": {
         "anchor": "y",
         "domain": [
          0,
          0.98
         ],
         "title": {
          "text": "Position"
         }
        },
        "yaxis": {
         "anchor": "x",
         "domain": [
          0,
          1
         ],
         "title": {
          "text": "Points"
         }
        }
       }
      },
      "text/html": [
       "<div>\n",
       "        \n",
       "        \n",
       "            <div id=\"00c4ce77-3db1-4b3e-91c7-98c6922806c9\" class=\"plotly-graph-div\" style=\"height:600px; width:100%;\"></div>\n",
       "            <script type=\"text/javascript\">\n",
       "                require([\"plotly\"], function(Plotly) {\n",
       "                    window.PLOTLYENV=window.PLOTLYENV || {};\n",
       "                    \n",
       "                if (document.getElementById(\"00c4ce77-3db1-4b3e-91c7-98c6922806c9\")) {\n",
       "                    Plotly.newPlot(\n",
       "                        '00c4ce77-3db1-4b3e-91c7-98c6922806c9',\n",
       "                        [{\"customdata\": [[\"sergio ag\\u00fcero\"], [\"raheem sterling\"], [\"kevin de bruyne\"], [\"david silva\"], [\"ederson santana de moraes\"], [\"kyle walker\"], [\"riyad mahrez\"], [\"aymeric laporte\"], [\"bernardo mota veiga de carvalho e silva\"], [\"oleksandr zinchenko\"], [\"john stones\"], [\"gabriel fernando de jesus\"], [\"nicol\\u00e1s otamendi\"], [\"ilkay g\\u00fcndogan\"], [\"rodrigo hernandez\"], [\"fernando luiz rosa\"], [\"phil foden\"], [\"jo\\u00e3o pedro cavaco cancelo\"]], \"hoverlabel\": {\"namelength\": 0}, \"hovertemplate\": \"team_name=Man City<br>Position=%{x}<br>Points=%{y}<br>Points per Cost=%{marker.size}<br>full_name=%{customdata[0]}\", \"legendgroup\": \"team_name=Man City\", \"marker\": {\"color\": \"#636efa\", \"size\": [6.6339066339066335, 7.449721865639709, 2.9835847382431226, 6.1315315315315315, 7.704918032786885, 7.130630630630631, 4.0910815939278935, 7.744391025641025, 5.552268244575938, 2.0138888888888893, 3.9407407407407407, 2.3412563667232598, 3.306878306878306, 4.929919137466307, 0.36363636363636365, 2.2798742138364783, 0.8760107816711591, 0.0], \"sizemode\": \"area\", \"sizeref\": 0.025457875457875458, \"symbol\": \"circle\"}, \"mode\": \"markers\", \"name\": \"team_name=Man City\", \"showlegend\": true, \"type\": \"scatter\", \"x\": [\"Forward\", \"Midfielder\", \"Midfielder\", \"Midfielder\", \"Goalkeeper\", \"Defender\", \"Midfielder\", \"Defender\", \"Midfielder\", \"Defender\", \"Defender\", \"Forward\", \"Defender\", \"Midfielder\", \"Midfielder\", \"Midfielder\", \"Midfielder\", \"Defender\"], \"xaxis\": \"x\", \"y\": [80.27027027027026, 91.63157894736842, 29.239130434782606, 45.986486486486484, 47.0, 42.78378378378379, 34.774193548387096, 49.56410256410256, 43.307692307692314, 11.277777777777779, 21.28, 22.241935483870968, 17.857142857142854, 26.128571428571426, 2.0, 12.083333333333334, 4.642857142857143, 0.0], \"yaxis\": \"y\"}, {\"customdata\": [[\"mohamed salah\"], [\"sadio man\\u00e9\"], [\"roberto firmino\"], [\"trent alexander-arnold\"], [\"virgil van dijk\"], [\"andrew robertson\"], [\"joel matip\"], [\"alisson ramses becker\"], [\"divock origi\"], [\"james milner\"], [\"adri\\u00e1n san miguel del castillo\"], [\"georginio wijnaldum\"], [\"fabio henrique tavares\"], [\"xherdan shaqiri\"], [\"jordan henderson\"], [\"joseph gomez\"], [\"adam lallana\"], [\"alex oxlade-chamberlain\"]], \"hoverlabel\": {\"namelength\": 0}, \"hovertemplate\": \"team_name=Liverpool<br>Position=%{x}<br>Points=%{y}<br>Points per Cost=%{marker.size}<br>full_name=%{customdata[0]}\", \"legendgroup\": \"team_name=Liverpool\", \"marker\": {\"color\": \"#EF553B\", \"size\": [7.885714285714287, 7.121739130434783, 5.626038781163435, 9.088775074690568, 10.183150183150182, 9.51449275362319, 4.725925925925925, 8.399646330680813, 2.2545454545454544, 4.877450980392156, 1.0869565217391306, 3.6270396270396272, 1.7840909090909092, 4.114285714285714, 2.04040404040404, 2.440087145969499, 0.3934624697336562, 0.0], \"sizemode\": \"area\", \"sizeref\": 0.025457875457875458, \"symbol\": \"circle\"}, \"mode\": \"markers\", \"name\": \"team_name=Liverpool\", \"showlegend\": true, \"type\": \"scatter\", \"x\": [\"Midfielder\", \"Midfielder\", \"Forward\", \"Defender\", \"Defender\", \"Defender\", \"Defender\", \"Goalkeeper\", \"Forward\", \"Midfielder\", \"Goalkeeper\", \"Midfielder\", \"Midfielder\", \"Midfielder\", \"Midfielder\", \"Defender\", \"Midfielder\", \"Midfielder\"], \"xaxis\": \"x\", \"y\": [98.57142857142858, 81.9, 53.44736842105263, 64.53030303030303, 66.19047619047619, 65.65, 25.52, 48.717948717948715, 12.4, 26.338235294117645, 5.0, 19.94871794871795, 9.8125, 25.919999999999998, 11.222222222222221, 13.176470588235293, 2.3214285714285716, 0.0], \"yaxis\": \"y\"}, {\"customdata\": [[\"teemu pukki\"], [\"todd cantwell\"], [\"emiliano buend\\u00eda\"], [\"tom trybull\"], [\"jamal lewis\"], [\"marco stiepermann\"], [\"tim krul\"], [\"moritz leitner\"], [\"christoph zimmermann\"], [\"dennis srbeny\"], [\"mario vrancic\"], [\"onel hern\\u00e1ndez\"], [\"kenny mclean\"], [\"alexander tettey\"], [\"josip drmic\"], [\"sam byram\"], [\"ibrahim amadou\"], [\"ben godfrey\"], [\"grant hanley\"], [\"maximillian aarons\"]], \"hoverlabel\": {\"namelength\": 0}, \"hovertemplate\": \"team_name=Norwich<br>Position=%{x}<br>Points=%{y}<br>Points per Cost=%{marker.size}<br>full_name=%{customdata[0]}\", \"legendgroup\": \"team_name=Norwich\", \"marker\": {\"color\": \"#00cc96\", \"size\": [4.142857142857143, 2.7083333333333335, 0.8333333333333334, 0.2222222222222222, 0.0, 0.0, 0.0, 0.0, 0.0, 0.0, 0.0, 0.0, 0.0, 0.0, 0.0, 0.0, 0.0, 0.0, 0.0, 0.0], \"sizemode\": \"area\", \"sizeref\": 0.025457875457875458, \"symbol\": \"circle\"}, \"mode\": \"markers\", \"name\": \"team_name=Norwich\", \"showlegend\": true, \"type\": \"scatter\", \"x\": [\"Forward\", \"Midfielder\", \"Midfielder\", \"Midfielder\", \"Defender\", \"Midfielder\", \"Goalkeeper\", \"Midfielder\", \"Defender\", \"Forward\", \"Midfielder\", \"Midfielder\", \"Midfielder\", \"Midfielder\", \"Forward\", \"Defender\", \"Midfielder\", \"Defender\", \"Defender\", \"Defender\"], \"xaxis\": \"x\", \"y\": [29.0, 13.0, 5.0, 1.0, 0.0, 0.0, -1.0, -1.0, 0.0, 0.0, 0.0, 0.0, 0.0, 0.0, 0.0, 0.0, 0.0, -4.0, -5.0, -6.0], \"yaxis\": \"y\"}, {\"customdata\": [[\"pierre-emerick aubameyang\"], [\"alexandre lacazette\"], [\"daniel ceballos fern\\u00e1ndez\"], [\"bernd leno\"], [\"ainsley maitland-niles\"], [\"nacho monreal\"], [\"david luiz moreira marinho\"], [\"lucas torreira\"], [\"nicolas p\\u00e9p\\u00e9\"], [\"sokratis papastathopoulos\"], [\"henrikh mkhitaryan\"], [\"calum chambers\"], [\"matteo guendouzi\"], [\"granit xhaka\"], [\"sead kolasinac\"], [\"joseph willock\"], [\"reiss nelson\"], [\"gabriel teodoro martinelli silva\"]], \"hoverlabel\": {\"namelength\": 0}, \"hovertemplate\": \"team_name=Arsenal<br>Position=%{x}<br>Points=%{y}<br>Points per Cost=%{marker.size}<br>full_name=%{customdata[0]}\", \"legendgroup\": \"team_name=Arsenal\", \"marker\": {\"color\": \"#ab63fa\", \"size\": [6.586363636363637, 5.709686450167974, 1.5789473684210527, 4.488888888888889, 1.647058823529412, 3.528, 6.831812255541069, 2.7082184225041366, 0.3191489361702127, 1.6344827586206896, 3.623188405797101, 0.5656565656565656, 0.1403508771929824, 2.7517361111111107, 3.0626780626780623, 0.2, 0.0, 0.0], \"sizemode\": \"area\", \"sizeref\": 0.025457875457875458, \"symbol\": \"circle\"}, \"mode\": \"markers\", \"name\": \"team_name=Arsenal\", \"showlegend\": true, \"type\": \"scatter\", \"x\": [\"Forward\", \"Forward\", \"Midfielder\", \"Goalkeeper\", \"Defender\", \"Defender\", \"Defender\", \"Midfielder\", \"Midfielder\", \"Defender\", \"Midfielder\", \"Defender\", \"Midfielder\", \"Midfielder\", \"Defender\", \"Midfielder\", \"Midfielder\", \"Forward\"], \"xaxis\": \"x\", \"y\": [72.45, 53.67105263157895, 9.0, 22.444444444444443, 8.4, 17.64, 40.307692307692314, 13.27027027027027, 3.0, 8.172413793103448, 25.0, 2.5454545454545454, 0.6315789473684208, 14.859375, 16.538461538461537, 1.0, 0.0, 0.0], \"yaxis\": \"y\"}, {\"customdata\": [[\"tammy abraham\"], [\"mason mount\"], [\"marcos alonso\"], [\"christian pulisic\"], [\"c\\u00e9sar azpilicueta\"], [\"pedro rodr\\u00edguez ledesma\"], [\"kepa arrizabalaga\"], [\"jorge luiz frello filho\"], [\"mateo kovacic\"], [\"willian borges da silva\"], [\"ross barkley\"], [\"n'golo kant\\u00e9\"], [\"michy batshuayi\"], [\"olivier giroud\"], [\"kurt zouma\"], [\"andreas christensen\"], [\"fikayo tomori\"], [\"billy gilmour\"], [\"emerson palmieri dos santos\"]], \"hoverlabel\": {\"namelength\": 0}, \"hovertemplate\": \"team_name=Chelsea<br>Position=%{x}<br>Points=%{y}<br>Points per Cost=%{marker.size}<br>full_name=%{customdata[0]}\", \"legendgroup\": \"team_name=Chelsea\", \"marker\": {\"color\": \"#FFA15A\", \"size\": [2.9166666666666665, 2.1875, 7.734375, 0.8, 6.194511702986278, 4.2272727272727275, 5.427272727272728, 2.204878048780488, 1.4343434343434343, 3.330612244897959, 3.1810344827586206, 4.252631578947367, 1.9154228855721391, 1.394686907020873, 3.690016547159405, 0.2, 0.0, 0.0, 0.0], \"sizemode\": \"area\", \"sizeref\": 0.025457875457875458, \"symbol\": \"circle\"}, \"mode\": \"markers\", \"name\": \"team_name=Chelsea\", \"showlegend\": true, \"type\": \"scatter\", \"x\": [\"Forward\", \"Midfielder\", \"Defender\", \"Midfielder\", \"Defender\", \"Midfielder\", \"Goalkeeper\", \"Midfielder\", \"Midfielder\", \"Midfielder\", \"Midfielder\", \"Midfielder\", \"Forward\", \"Forward\", \"Defender\", \"Defender\", \"Defender\", \"Midfielder\", \"Defender\"], \"xaxis\": \"x\", \"y\": [21.0, 14.0, 47.953125, 6.0, 36.547619047619044, 29.590909090909093, 29.85, 11.02439024390244, 7.888888888888888, 23.314285714285713, 18.45, 21.26315789473684, 12.833333333333332, 9.483870967741936, 18.081081081081084, 1.0, -1.0, 0.0, -0.7857142857142854], \"yaxis\": \"y\"}, {\"customdata\": [[\"jamie vardy\"], [\"ricardo domingos barbosa pereira\"], [\"james maddison\"], [\"youri tielemans\"], [\"benjamin chilwell\"], [\"ayoze p\\u00e9rez\"], [\"kasper schmeichel\"], [\"jonny evans\"], [\"wilfred ndidi\"], [\"\\u00e7aglar s\\u00f6y\\u00fcnc\\u00fc\"], [\"harvey barnes\"], [\"wes morgan\"], [\"hamza choudhury\"], [\"demarai gray\"], [\"marc albrighton\"], [\"nampalys mendy\"], [\"christian fuchs\"], [\"dennis praet\"]], \"hoverlabel\": {\"namelength\": 0}, \"hovertemplate\": \"team_name=Leicester<br>Position=%{x}<br>Points=%{y}<br>Points per Cost=%{marker.size}<br>full_name=%{customdata[0]}\", \"legendgroup\": \"team_name=Leicester\", \"marker\": {\"color\": \"#19d3f3\", \"size\": [6.771141336487284, 6.326923076923077, 4.929577464788733, 3.2720588235294117, 4.717348927875244, 5.383064516129032, 4.5285714285714285, 3.3428571428571425, 2.3571428571428568, 1.0222222222222221, 1.6324710080285458, 3.4782608695652173, 0.45299145299145294, 2.7493261455525606, 1.7314814814814814, 0.5381944444444444, 0.0, 0.0], \"sizemode\": \"area\", \"sizeref\": 0.025457875457875458, \"symbol\": \"circle\"}, \"mode\": \"markers\", \"name\": \"team_name=Leicester\", \"showlegend\": true, \"type\": \"scatter\", \"x\": [\"Forward\", \"Defender\", \"Midfielder\", \"Midfielder\", \"Defender\", \"Midfielder\", \"Goalkeeper\", \"Defender\", \"Midfielder\", \"Defender\", \"Midfielder\", \"Defender\", \"Midfielder\", \"Midfielder\", \"Midfielder\", \"Midfielder\", \"Defender\", \"Midfielder\"], \"xaxis\": \"x\", \"y\": [60.263157894736835, 37.96153846153846, 35.0, 20.941176470588236, 25.473684210526315, 33.375, 22.642857142857142, 16.71428571428571, 11.785714285714285, 4.6, 9.631578947368421, 15.304347826086957, 2.0384615384615383, 14.571428571428571, 9.35, 2.421875, -0.5, 0.0], \"yaxis\": \"y\"}, {\"customdata\": [[\"harry kane\"], [\"christian eriksen\"], [\"lucas rodrigues moura da silva\"], [\"heung-min son\"], [\"tanguy ndombele\"], [\"erik lamela\"], [\"hugo lloris\"], [\"moussa sissoko\"], [\"bamidele alli\"], [\"toby alderweireld\"], [\"jan vertonghen\"], [\"ben davies\"], [\"danny rose\"], [\"davinson s\\u00e1nchez\"], [\"kyle walker-peters\"], [\"harry winks\"], [\"oliver skipp\"], [\"georges-k\\u00e9vin nkoudou\"], [\"giovani lo celso\"]], \"hoverlabel\": {\"namelength\": 0}, \"hovertemplate\": \"team_name=Spurs<br>Position=%{x}<br>Points=%{y}<br>Points per Cost=%{marker.size}<br>full_name=%{customdata[0]}\", \"legendgroup\": \"team_name=Spurs\", \"marker\": {\"color\": \"#FF6692\", \"size\": [4.943181818181818, 5.270979020979021, 5.220077220077219, 5.40829346092504, 1.6666666666666667, 3.760869565217391, 6.707616707616707, 2.1818181818181817, 2.8044871794871793, 3.1445221445221447, 2.06726825266612, 1.6677115987460815, 2.73939393939394, 2.242424242424242, 1.0884353741496597, 0.5818181818181819, 0.17777777777777778, 0.15, 0.0], \"sizemode\": \"area\", \"sizeref\": 0.025457875457875458, \"symbol\": \"circle\"}, \"mode\": \"markers\", \"name\": \"team_name=Spurs\", \"showlegend\": true, \"type\": \"scatter\", \"x\": [\"Forward\", \"Midfielder\", \"Midfielder\", \"Midfielder\", \"Midfielder\", \"Midfielder\", \"Goalkeeper\", \"Midfielder\", \"Midfielder\", \"Defender\", \"Defender\", \"Defender\", \"Defender\", \"Defender\", \"Defender\", \"Midfielder\", \"Midfielder\", \"Midfielder\", \"Midfielder\"], \"xaxis\": \"x\", \"y\": [54.375, 46.38461538461539, 38.628571428571426, 51.37878787878788, 10.0, 22.565217391304348, 36.89189189189189, 10.909090909090908, 23.557692307692307, 17.294871794871796, 10.956521739130435, 9.172413793103448, 15.06666666666667, 12.333333333333332, 5.333333333333333, 3.2000000000000006, 0.8, 0.75, 0.0], \"yaxis\": \"y\"}, {\"customdata\": [[\"callum wilson\"], [\"harry wilson\"], [\"ryan fraser\"], [\"joshua king\"], [\"chris mepham\"], [\"nathan ak\\u00e9\"], [\"steve cook\"], [\"charlie daniels\"], [\"jefferson lerma\"], [\"adam smith\"], [\"philip billing\"], [\"jordon ibe\"], [\"andrew surman\"], [\"dominic solanke\"], [\"aaron ramsdale\"], [\"diego rico\"]], \"hoverlabel\": {\"namelength\": 0}, \"hovertemplate\": \"team_name=Bournemouth<br>Position=%{x}<br>Points=%{y}<br>Points per Cost=%{marker.size}<br>full_name=%{customdata[0]}\", \"legendgroup\": \"team_name=Bournemouth\", \"marker\": {\"color\": \"#B6E880\", \"size\": [7.024886877828054, 1.8333333333333333, 6.85583822570124, 5.392628205128204, 1.2430555555555556, 3.7269193391642372, 1.8142857142857143, 0.608695652173913, 1.3025210084033614, 1.7279693486590038, 0.8193548387096774, 0.738581146744412, 0.18367346938775508, 0.1984126984126984, 0.0, 0.0], \"sizemode\": \"area\", \"sizeref\": 0.025457875457875458, \"symbol\": \"circle\"}, \"mode\": \"markers\", \"name\": \"team_name=Bournemouth\", \"showlegend\": true, \"type\": \"scatter\", \"x\": [\"Forward\", \"Midfielder\", \"Midfielder\", \"Forward\", \"Defender\", \"Defender\", \"Defender\", \"Defender\", \"Midfielder\", \"Defender\", \"Midfielder\", \"Midfielder\", \"Midfielder\", \"Forward\", \"Goalkeeper\", \"Defender\"], \"xaxis\": \"x\", \"y\": [54.79411764705882, 11.0, 50.04761904761905, 34.51282051282051, 5.59375, 18.261904761904763, 9.071428571428571, 2.7391304347826084, 6.382352941176471, 7.775862068965517, 4.096774193548387, 3.619047619047619, 0.9, 1.0714285714285714, 0.0, -3.6666666666666665], \"yaxis\": \"y\"}, {\"customdata\": [[\"s\\u00e9bastien haller\"], [\"felipe anderson pereira gomes\"], [\"lukasz fabianski\"], [\"mark noble\"], [\"manuel lanzini\"], [\"javier hern\\u00e1ndez balc\\u00e1zar\"], [\"michail antonio\"], [\"arthur masuaku\"], [\"andriy yarmolenko\"], [\"issa diop\"], [\"angelo ogbonna\"], [\"ryan fredericks\"], [\"declan rice\"], [\"robert snodgrass\"], [\"jack wilshere\"], [\"carlos s\\u00e1nchez\"], [\"pablo fornals\"]], \"hoverlabel\": {\"namelength\": 0}, \"hovertemplate\": \"team_name=West Ham<br>Position=%{x}<br>Points=%{y}<br>Points per Cost=%{marker.size}<br>full_name=%{customdata[0]}\", \"legendgroup\": \"team_name=West Ham\", \"marker\": {\"color\": \"#FF97FF\", \"size\": [2.2666666666666666, 5.919732441471572, 6.60952380952381, 4.887878787878789, 1.758241758241758, 4.2407407407407405, 4.48671497584541, 1.9017094017094014, 1.5254237288135593, 2.5735735735735736, 0.7654320987654322, 1.1871345029239766, 2.2824919441460794, 2.361111111111111, 0.4081632653061224, 0.0, 0.0], \"sizemode\": \"area\", \"sizeref\": 0.025457875457875458, \"symbol\": \"circle\"}, \"mode\": \"markers\", \"name\": \"team_name=West Ham\", \"showlegend\": true, \"type\": \"scatter\", \"x\": [\"Forward\", \"Midfielder\", \"Goalkeeper\", \"Midfielder\", \"Midfielder\", \"Forward\", \"Midfielder\", \"Defender\", \"Midfielder\", \"Defender\", \"Defender\", \"Defender\", \"Midfielder\", \"Midfielder\", \"Midfielder\", \"Midfielder\", \"Midfielder\"], \"xaxis\": \"x\", \"y\": [17.0, 40.84615384615385, 33.04761904761905, 24.43939393939394, 11.428571428571427, 25.444444444444443, 30.958333333333332, 8.557692307692307, 9.0, 11.58108108108108, 3.4444444444444446, 5.342105263157895, 11.18421052631579, 12.75, 2.0, 0.0, 0.0], \"yaxis\": \"y\"}, {\"customdata\": [[\"lucas digne\"], [\"richarlison de andrade\"], [\"gylfi sigurdsson\"], [\"jordan pickford\"], [\"michael keane\"], [\"seamus coleman\"], [\"bernard an\\u00edcio caldeira duarte\"], [\"yerry mina\"], [\"alex iwobi\"], [\"moise kean\"], [\"theo walcott\"], [\"dominic calvert-lewin\"], [\"jean-philippe gbamin\"], [\"andr\\u00e9 filipe tavares gomes\"], [\"morgan schneiderlin\"], [\"tom davies\"], [\"mason holgate\"]], \"hoverlabel\": {\"namelength\": 0}, \"hovertemplate\": \"team_name=Everton<br>Position=%{x}<br>Points=%{y}<br>Points per Cost=%{marker.size}<br>full_name=%{customdata[0]}\", \"legendgroup\": \"team_name=Everton\", \"marker\": {\"color\": \"#FECB52\", \"size\": [7.976040353089535, 6.1019149626744555, 6.672771672771673, 7.648809523809525, 5.914004914004914, 5.8402203856749315, 2.82995951417004, 1.9905462184873952, 4.3128721942281265, 0.4411764705882353, 3.237688237688238, 2.872664059104737, 0.2040816326530612, 1.1051373954599761, 0.3333333333333333, 0.0, 0.0], \"sizemode\": \"area\", \"sizeref\": 0.025457875457875458, \"symbol\": \"circle\"}, \"mode\": \"markers\", \"name\": \"team_name=Everton\", \"showlegend\": true, \"type\": \"scatter\", \"x\": [\"Defender\", \"Midfielder\", \"Midfielder\", \"Goalkeeper\", \"Defender\", \"Defender\", \"Midfielder\", \"Defender\", \"Midfielder\", \"Forward\", \"Midfielder\", \"Forward\", \"Midfielder\", \"Midfielder\", \"Midfielder\", \"Midfielder\", \"Defender\"], \"xaxis\": \"x\", \"y\": [48.65384615384616, 48.205128205128204, 52.04761904761905, 42.833333333333336, 32.527027027027025, 32.121212121212125, 18.39473684210526, 11.147058823529413, 25.445945945945947, 3.0, 20.397435897435898, 16.94871794871795, 1.0, 5.967741935483871, 1.5, -0.47058823529411764, -1.6666666666666667], \"yaxis\": \"y\"}, {\"customdata\": [[\"ashley barnes\"], [\"erik pieters\"], [\"johann berg gudmundsson\"], [\"dwight mcneil\"], [\"nick pope\"], [\"ashley westwood\"], [\"chris wood\"], [\"james tarkowski\"], [\"jack cork\"], [\"ben mee\"], [\"jeff hendrick\"], [\"matthew lowton\"], [\"aaron lennon\"], [\"jay rodriguez\"]], \"hoverlabel\": {\"namelength\": 0}, \"hovertemplate\": \"team_name=Burnley<br>Position=%{x}<br>Points=%{y}<br>Points per Cost=%{marker.size}<br>full_name=%{customdata[0]}\", \"legendgroup\": \"team_name=Burnley\", \"marker\": {\"color\": \"#636efa\", \"size\": [5.597014925373134, 2.173913043478261, 4.127604166666667, 3.293333333333333, 1.5217391304347827, 3.9132553606237814, 4.433370247323736, 2.623076923076923, 1.28, 0.6720930232558139, 1.7059483726150393, 0.0, 0.8571428571428573, 0.0], \"sizemode\": \"area\", \"sizeref\": 0.025457875457875458, \"symbol\": \"circle\"}, \"mode\": \"markers\", \"name\": \"team_name=Burnley\", \"showlegend\": true, \"type\": \"scatter\", \"x\": [\"Forward\", \"Defender\", \"Midfielder\", \"Midfielder\", \"Goalkeeper\", \"Midfielder\", \"Forward\", \"Defender\", \"Midfielder\", \"Defender\", \"Midfielder\", \"Defender\", \"Midfielder\", \"Forward\"], \"xaxis\": \"x\", \"y\": [37.5, 10.0, 24.765625, 19.759999999999998, 7.0, 21.13157894736842, 27.930232558139533, 13.115384615384615, 6.4, 3.3604651162790695, 9.212121212121213, -1.36, 4.200000000000001, 0.0], \"yaxis\": \"y\"}, {\"customdata\": [[\"patrick van aanholt\"], [\"jordan ayew\"], [\"vicente guaita\"], [\"jeffrey schlupp\"], [\"joel ward\"], [\"luka milivojevic\"], [\"andros townsend\"], [\"martin kelly\"], [\"wilfried zaha\"], [\"james mcarthur\"], [\"scott dann\"], [\"gary cahill\"], [\"cheikhou kouyat\\u00e9\"], [\"mamadou sakho\"], [\"max meyer\"], [\"christian benteke\"], [\"connor wickham\"], [\"james mccarthy\"]], \"hoverlabel\": {\"namelength\": 0}, \"hovertemplate\": \"team_name=Crystal Palace<br>Position=%{x}<br>Points=%{y}<br>Points per Cost=%{marker.size}<br>full_name=%{customdata[0]}\", \"legendgroup\": \"team_name=Crystal Palace\", \"marker\": {\"color\": \"#EF553B\", \"size\": [7.11607142857143, 2.57459505541347, 4.316666666666667, 4.231404958677686, 1.5151515151515151, 5.906862745098039, 4.923325262308313, 1.2984218077474896, 4.862700228832952, 4.14021164021164, 1.0740740740740742, 0.6666666666666666, 1.5433673469387754, 3.2785714285714285, 1.4725209080047788, 0.6101694915254237, 0.25, 0.0], \"sizemode\": \"area\", \"sizeref\": 0.025457875457875458, \"symbol\": \"circle\"}, \"mode\": \"markers\", \"name\": \"team_name=Crystal Palace\", \"showlegend\": true, \"type\": \"scatter\", \"x\": [\"Defender\", \"Forward\", \"Goalkeeper\", \"Midfielder\", \"Defender\", \"Midfielder\", \"Midfielder\", \"Defender\", \"Midfielder\", \"Midfielder\", \"Defender\", \"Defender\", \"Midfielder\", \"Defender\", \"Midfielder\", \"Forward\", \"Forward\", \"Midfielder\"], \"xaxis\": \"x\", \"y\": [39.85, 13.130434782608695, 21.583333333333336, 23.272727272727273, 6.818181818181818, 40.166666666666664, 29.047619047619047, 5.3235294117647065, 33.55263157894737, 22.357142857142858, 4.833333333333334, 3.0, 7.5625, 16.392857142857142, 7.951612903225806, 3.6, 1.125, -0.8333333333333333], \"yaxis\": \"y\"}, {\"customdata\": [[\"ra\\u00fal jim\\u00e9nez\"], [\"rui pedro dos santos patr\\u00edcio\"], [\"willy boly\"], [\"matt doherty\"], [\"jo\\u00e3o filipe iria santos moutinho\"], [\"r\\u00faben diogo da silva neves\"], [\"diogo jota\"], [\"jonathan castro otto\"], [\"romain sa\\u00efss\"], [\"conor coady\"], [\"ryan bennett\"], [\"leander dendoncker\"], [\"morgan gibbs-white\"], [\"adama traor\\u00e9\"], [\"patrick cutrone\"], [\"pedro lomba neto\"]], \"hoverlabel\": {\"namelength\": 0}, \"hovertemplate\": \"team_name=Wolves<br>Position=%{x}<br>Points=%{y}<br>Points per Cost=%{marker.size}<br>full_name=%{customdata[0]}\", \"legendgroup\": \"team_name=Wolves\", \"marker\": {\"color\": \"#00cc96\", \"size\": [7.403474903474903, 5.184122429459589, 5.290000000000001, 5.91869918699187, 4.562770562770563, 3.438228438228438, 5.7335907335907335, 3.5454545454545454, 2.37012987012987, 1.9571428571428569, 1.9894736842105263, 1.3236714975845412, 0.5895691609977324, 0.90625, 0.0, 0.0], \"sizemode\": \"area\", \"sizeref\": 0.025457875457875458, \"symbol\": \"circle\"}, \"mode\": \"markers\", \"name\": \"team_name=Wolves\", \"showlegend\": true, \"type\": \"scatter\", \"x\": [\"Forward\", \"Goalkeeper\", \"Defender\", \"Defender\", \"Midfielder\", \"Midfielder\", \"Forward\", \"Defender\", \"Defender\", \"Defender\", \"Defender\", \"Midfielder\", \"Midfielder\", \"Midfielder\", \"Forward\", \"Midfielder\"], \"xaxis\": \"x\", \"y\": [54.785714285714285, 26.439024390243905, 26.450000000000003, 35.51219512195122, 25.095238095238095, 18.91025641025641, 36.12162162162162, 19.5, 10.428571428571429, 9.785714285714285, 9.947368421052632, 5.9565217391304355, 2.888888888888889, 4.53125, 0.0, -1.0], \"yaxis\": \"y\"}, {\"customdata\": [[\"daniel james\"], [\"anthony martial\"], [\"marcus rashford\"], [\"paul pogba\"], [\"david de gea\"], [\"aaron wan-bissaka\"], [\"scott mctominay\"], [\"luke shaw\"], [\"harry maguire\"], [\"victor lindel\\u00f6f\"], [\"andreas pereira\"], [\"jesse lingard\"], [\"juan mata\"], [\"ashley young\"], [\"nemanja matic\"], [\"mason greenwood\"]], \"hoverlabel\": {\"namelength\": 0}, \"hovertemplate\": \"team_name=Man Utd<br>Position=%{x}<br>Points=%{y}<br>Points per Cost=%{marker.size}<br>full_name=%{customdata[0]}\", \"legendgroup\": \"team_name=Man Utd\", \"marker\": {\"color\": \"#ab63fa\", \"size\": [2.295081967213115, 5.487012987012987, 4.467408585055644, 6.131221719457013, 4.238945578231293, 4.37995337995338, 1.9600000000000002, 3.1741898148148144, 2.8597402597402595, 2.412854030501089, 0.9666666666666668, 2.313508064516129, 2.379807692307692, 1.290509259259259, 0.40229885057471265, 0.0], \"sizemode\": \"area\", \"sizeref\": 0.025457875457875458, \"symbol\": \"circle\"}, \"mode\": \"markers\", \"name\": \"team_name=Man Utd\", \"showlegend\": true, \"type\": \"scatter\", \"x\": [\"Midfielder\", \"Midfielder\", \"Forward\", \"Midfielder\", \"Goalkeeper\", \"Defender\", \"Midfielder\", \"Defender\", \"Defender\", \"Defender\", \"Midfielder\", \"Midfielder\", \"Midfielder\", \"Defender\", \"Midfielder\", \"Forward\"], \"xaxis\": \"x\", \"y\": [14.0, 42.25, 37.972972972972975, 52.11538461538461, 23.73809523809524, 24.08974358974359, 9.8, 17.140625, 15.728571428571428, 13.029411764705882, 4.833333333333334, 14.806451612903226, 15.23076923076923, 6.96875, 1.9310344827586208, 0.0], \"yaxis\": \"y\"}, {\"customdata\": [[\"john mcginn\"], [\"douglas luiz soares de paulo\"], [\"wesley moraes\"], [\"tyrone mings\"], [\"bjorn engels\"], [\"anwar el ghazi\"], [\"jack grealish\"], [\"tom heaton\"], [\"jos\\u00e9 ignacio peleteiro romallo\"], [\"fr\\u00e9d\\u00e9ric guilbert\"], [\"ahmed el mohamady\"], [\"neil taylor\"], [\"jonathan kodjia\"], [\"conor hourihane\"], [\"keinan davis\"], [\"henri lansbury\"], [\"mahmoud ahmed ibrahim hassan\"]], \"hoverlabel\": {\"namelength\": 0}, \"hovertemplate\": \"team_name=Aston Villa<br>Position=%{x}<br>Points=%{y}<br>Points per Cost=%{marker.size}<br>full_name=%{customdata[0]}\", \"legendgroup\": \"team_name=Aston Villa\", \"marker\": {\"color\": \"#FFA15A\", \"size\": [1.6071428571428572, 1.7391304347826089, 1.1666666666666667, 1.2222222222222223, 1.1111111111111112, 0.9090909090909091, 0.6666666666666666, 2.357487922705314, 0.6779661016949152, 0.45454545454545453, 0.2222222222222222, 0.2222222222222222, 0.0, 0.0, 0.0, 0.0, 0.0], \"sizemode\": \"area\", \"sizeref\": 0.025457875457875458, \"symbol\": \"circle\"}, \"mode\": \"markers\", \"name\": \"team_name=Aston Villa\", \"showlegend\": true, \"type\": \"scatter\", \"x\": [\"Midfielder\", \"Midfielder\", \"Forward\", \"Defender\", \"Defender\", \"Midfielder\", \"Midfielder\", \"Goalkeeper\", \"Midfielder\", \"Defender\", \"Defender\", \"Defender\", \"Forward\", \"Midfielder\", \"Midfielder\", \"Midfielder\", \"Midfielder\"], \"xaxis\": \"x\", \"y\": [9.0, 8.0, 7.0, 5.5, 5.0, 5.0, 4.0, 10.608695652173912, 4.0, 2.0, 1.0, 1.0, 0.0, 0.0, 0.0, 0.0, -3.0], \"yaxis\": \"y\"}, {\"customdata\": [[\"john lundstram\"], [\"callum robinson\"], [\"enda stevens\"], [\"george baldock\"], [\"dean henderson\"], [\"billy sharp\"], [\"oliver mcburnie\"], [\"jack o'connell\"], [\"john egan\"], [\"chris basham\"], [\"oliver norwood\"], [\"phil jagielka\"], [\"lys mousset\"], [\"luke freeman\"], [\"david mcgoldrick\"], [\"ravel morrison\"], [\"ben osborn\"], [\"john fleck\"]], \"hoverlabel\": {\"namelength\": 0}, \"hovertemplate\": \"team_name=Sheffield Utd<br>Position=%{x}<br>Points=%{y}<br>Points per Cost=%{marker.size}<br>full_name=%{customdata[0]}\", \"legendgroup\": \"team_name=Sheffield Utd\", \"marker\": {\"color\": \"#19d3f3\", \"size\": [2.380952380952381, 1.6981132075471699, 1.4, 1.5555555555555556, 1.3333333333333333, 1.1864406779661016, 0.6779661016949152, 0.4444444444444444, 0.4444444444444444, 0.4444444444444444, 0.2, 1.1931818181818181, 0.2933673469387755, 0.0, 0.0, 0.0, 0.0, 0.0], \"sizemode\": \"area\", \"sizeref\": 0.025457875457875458, \"symbol\": \"circle\"}, \"mode\": \"markers\", \"name\": \"team_name=Sheffield Utd\", \"showlegend\": true, \"type\": \"scatter\", \"x\": [\"Defender\", \"Midfielder\", \"Defender\", \"Defender\", \"Goalkeeper\", \"Forward\", \"Forward\", \"Defender\", \"Defender\", \"Defender\", \"Midfielder\", \"Defender\", \"Forward\", \"Midfielder\", \"Forward\", \"Midfielder\", \"Midfielder\", \"Midfielder\"], \"xaxis\": \"x\", \"y\": [10.0, 9.0, 7.0, 7.0, 6.0, 7.0, 4.0, 2.0, 2.0, 2.0, 1.0, 5.25, 1.4375, 0.0, 0.0, 0.0, 0.0, -1.0], \"yaxis\": \"y\"}, {\"customdata\": [[\"nathan redmond\"], [\"jannik vestergaard\"], [\"danny ings\"], [\"angus gunn\"], [\"kevin danso\"], [\"james ward-prowse\"], [\"sofiane boufal\"], [\"moussa djenepo\"], [\"jan bednarek\"], [\"pierre-emile h\\u00f8jbjerg\"], [\"c\\u00e9dric soares\"], [\"shane long\"], [\"stuart armstrong\"], [\"oriol romeu vidal\"], [\"jack stephens\"], [\"yan valery\"], [\"ryan bertrand\"], [\"maya yoshida\"], [\"michael obafemi\"], [\"che adams\"]], \"hoverlabel\": {\"namelength\": 0}, \"hovertemplate\": \"team_name=Southampton<br>Position=%{x}<br>Points=%{y}<br>Points per Cost=%{marker.size}<br>full_name=%{customdata[0]}\", \"legendgroup\": \"team_name=Southampton\", \"marker\": {\"color\": \"#FF6692\", \"size\": [5.3155245838172664, 1.9481481481481482, 4.1190476190476195, 2.888888888888889, 0.8888888888888888, 3.4519774011299433, 0.5454545454545454, 0.5555555555555555, 0.47619047619047616, 2.530612244897959, 1.8367346938775508, 2.808641975308642, 2.667824074074074, 0.29523809523809524, 0.5363636363636363, 0.945839874411303, 0.533751962323391, 0.8911483253588517, 0.5142857142857142, 0.0], \"sizemode\": \"area\", \"sizeref\": 0.025457875457875458, \"symbol\": \"circle\"}, \"mode\": \"markers\", \"name\": \"team_name=Southampton\", \"showlegend\": true, \"type\": \"scatter\", \"x\": [\"Midfielder\", \"Defender\", \"Forward\", \"Goalkeeper\", \"Defender\", \"Midfielder\", \"Midfielder\", \"Midfielder\", \"Defender\", \"Midfielder\", \"Defender\", \"Forward\", \"Midfielder\", \"Midfielder\", \"Defender\", \"Defender\", \"Defender\", \"Defender\", \"Forward\", \"Forward\"], \"xaxis\": \"x\", \"y\": [33.48780487804878, 9.74074074074074, 24.714285714285715, 13.0, 4.0, 20.366666666666667, 3.0, 3.0, 2.142857142857143, 12.399999999999999, 9.0, 13.481481481481481, 14.40625, 1.3285714285714285, 2.36, 4.634615384615385, 2.615384615384616, 3.921052631578948, 2.571428571428571, 0.0], \"yaxis\": \"y\"}, {\"customdata\": [[\"fabian sch\\u00e4r\"], [\"martin dubravka\"], [\"joelinton c\\u00e1ssio apolin\\u00e1rio de lira\"], [\"matt ritchie\"], [\"jamaal lascelles\"], [\"isaac hayden\"], [\"jonjo shelvey\"], [\"emil krafth\"], [\"christian atsu\"], [\"paul dummett\"], [\"sean longstaff\"], [\"javier manquillo\"], [\"sung-yueng ki\"], [\"federico fern\\u00e1ndez\"], [\"miguel almir\\u00f3n\"], [\"yoshinori muto\"], [\"jetro willems\"], [\"allan saint-maximin\"]], \"hoverlabel\": {\"namelength\": 0}, \"hovertemplate\": \"team_name=Newcastle<br>Position=%{x}<br>Points=%{y}<br>Points per Cost=%{marker.size}<br>full_name=%{customdata[0]}\", \"legendgroup\": \"team_name=Newcastle\", \"marker\": {\"color\": \"#B6E880\", \"size\": [5.285714285714286, 5.534883720930233, 0.847457627118644, 3.6111111111111103, 3.728395061728395, 2.835249042145594, 1.911111111111111, 0.6666666666666666, 1.4320987654320985, 2.177777777777778, 1.0846153846153848, 2.4545454545454546, 0.5800214822771214, 1.3365800865800865, 0.5447941888619855, 0.23611111111111108, 0.0, 0.0], \"sizemode\": \"area\", \"sizeref\": 0.025457875457875458, \"symbol\": \"circle\"}, \"mode\": \"markers\", \"name\": \"team_name=Newcastle\", \"showlegend\": true, \"type\": \"scatter\", \"x\": [\"Defender\", \"Goalkeeper\", \"Forward\", \"Defender\", \"Defender\", \"Midfielder\", \"Midfielder\", \"Defender\", \"Midfielder\", \"Defender\", \"Midfielder\", \"Defender\", \"Midfielder\", \"Defender\", \"Midfielder\", \"Forward\", \"Defender\", \"Midfielder\"], \"xaxis\": \"x\", \"y\": [26.428571428571427, 27.674418604651162, 5.0, 19.499999999999996, 16.77777777777778, 12.758620689655173, 9.555555555555555, 3.0, 7.7333333333333325, 9.8, 5.423076923076923, 10.8, 2.8421052631578947, 5.880952380952381, 3.2142857142857144, 1.275, 0.0, 0.0], \"yaxis\": \"y\"}, {\"customdata\": [[\"will hughes\"], [\"andre gray\"], [\"ben foster\"], [\"gerard deulofeu\"], [\"troy deeney\"], [\"roberto pereyra\"], [\"abdoulaye doucour\\u00e9\"], [\"daryl janmaat\"], [\"jos\\u00e9 holebas\"], [\"etienne capoue\"], [\"tom cleverley\"], [\"craig cathcart\"], [\"francisco femen\\u00eda far\"], [\"domingos quina\"], [\"danny welbeck\"], [\"isaac success ajayi\"], [\"christian kabasele\"], [\"nathaniel chalobah\"], [\"isma\\u00efla sarr\"], [\"craig dawson\"]], \"hoverlabel\": {\"namelength\": 0}, \"hovertemplate\": \"team_name=Watford<br>Position=%{x}<br>Points=%{y}<br>Points per Cost=%{marker.size}<br>full_name=%{customdata[0]}\", \"legendgroup\": \"team_name=Watford\", \"marker\": {\"color\": \"#FF97FF\", \"size\": [3.4545454545454546, 3.697996918335901, 5.228377065111759, 5.6722689075630255, 4.257703081232493, 4.489942528735632, 4.047303271441202, 1.7224880382775116, 3.2123655913978495, 1.105442176870748, 0.6632653061224489, 1.9772727272727268, 1.34297520661157, 0.691358024691358, 0.6666666666666666, 0.2869897959183673, 0.0, 0.0, 0.0, 0.0], \"sizemode\": \"area\", \"sizeref\": 0.025457875457875458, \"symbol\": \"circle\"}, \"mode\": \"markers\", \"name\": \"team_name=Watford\", \"showlegend\": true, \"type\": \"scatter\", \"x\": [\"Midfielder\", \"Forward\", \"Goalkeeper\", \"Forward\", \"Forward\", \"Midfielder\", \"Midfielder\", \"Defender\", \"Defender\", \"Midfielder\", \"Midfielder\", \"Defender\", \"Defender\", \"Midfielder\", \"Forward\", \"Forward\", \"Defender\", \"Midfielder\", \"Midfielder\", \"Defender\"], \"xaxis\": \"x\", \"y\": [19.0, 21.818181818181817, 25.61904761904762, 35.73529411764706, 26.823529411764707, 26.041666666666664, 23.474358974358974, 7.578947368421052, 15.419354838709678, 5.416666666666666, 3.25, 8.7, 5.909090909090909, 3.1111111111111107, 4.0, 1.40625, -0.9545454545454546, -0.9, 0.0, -3.0], \"yaxis\": \"y\"}, {\"customdata\": [[\"shane duffy\"], [\"mathew ryan\"], [\"pascal gro\\u00df\"], [\"leandro trossard\"], [\"lewis dunk\"], [\"glenn murray\"], [\"neal maupay\"], [\"solomon march\"], [\"davy pr\\u00f6pper\"], [\"dale stephens\"], [\"dan burn\"], [\"florin andone\"], [\"aaron mooy\"], [\"j\\u00fcrgen locadia\"], [\"mart\\u00edn montoya\"], [\"aaron connolly\"], [\"bernardo fernandes da silva junior\"]], \"hoverlabel\": {\"namelength\": 0}, \"hovertemplate\": \"team_name=Brighton<br>Position=%{x}<br>Points=%{y}<br>Points per Cost=%{marker.size}<br>full_name=%{customdata[0]}\", \"legendgroup\": \"team_name=Brighton\", \"marker\": {\"color\": \"#FECB52\", \"size\": [4.560526315789473, 3.9816933638443937, 2.8249336870026522, 0.8333333333333334, 2.673913043478261, 5.147783251231528, 0.8333333333333334, 3.1344845630559917, 1.5941176470588236, 0.9084967320261437, 0.2222222222222222, 1.016, 2.1700680272108843, 1.1177248677248677, 0.0, 0.0, 0.0], \"sizemode\": \"area\", \"sizeref\": 0.025457875457875458, \"symbol\": \"circle\"}, \"mode\": \"markers\", \"name\": \"team_name=Brighton\", \"showlegend\": true, \"type\": \"scatter\", \"x\": [\"Defender\", \"Goalkeeper\", \"Midfielder\", \"Midfielder\", \"Defender\", \"Forward\", \"Forward\", \"Midfielder\", \"Midfielder\", \"Midfielder\", \"Defender\", \"Forward\", \"Midfielder\", \"Forward\", \"Defender\", \"Forward\", \"Defender\"], \"xaxis\": \"x\", \"y\": [22.802631578947366, 18.31578947368421, 18.36206896551724, 5.0, 12.3, 29.857142857142858, 5.0, 15.35897435897436, 7.970588235294118, 4.088235294117647, 1.0, 5.08, 10.633333333333333, 6.035714285714286, -1.7241379310344827, 0.0, -1.4583333333333333], \"yaxis\": \"y\"}],\n",
       "                        {\"height\": 600, \"legend\": {\"itemsizing\": \"constant\", \"tracegroupgap\": 0}, \"margin\": {\"t\": 60}, \"template\": {\"data\": {\"bar\": [{\"error_x\": {\"color\": \"#2a3f5f\"}, \"error_y\": {\"color\": \"#2a3f5f\"}, \"marker\": {\"line\": {\"color\": \"#E5ECF6\", \"width\": 0.5}}, \"type\": \"bar\"}], \"barpolar\": [{\"marker\": {\"line\": {\"color\": \"#E5ECF6\", \"width\": 0.5}}, \"type\": \"barpolar\"}], \"carpet\": [{\"aaxis\": {\"endlinecolor\": \"#2a3f5f\", \"gridcolor\": \"white\", \"linecolor\": \"white\", \"minorgridcolor\": \"white\", \"startlinecolor\": \"#2a3f5f\"}, \"baxis\": {\"endlinecolor\": \"#2a3f5f\", \"gridcolor\": \"white\", \"linecolor\": \"white\", \"minorgridcolor\": \"white\", \"startlinecolor\": \"#2a3f5f\"}, \"type\": \"carpet\"}], \"choropleth\": [{\"colorbar\": {\"outlinewidth\": 0, \"ticks\": \"\"}, \"type\": \"choropleth\"}], \"contour\": [{\"colorbar\": {\"outlinewidth\": 0, \"ticks\": \"\"}, \"colorscale\": [[0.0, \"#0d0887\"], [0.1111111111111111, \"#46039f\"], [0.2222222222222222, \"#7201a8\"], [0.3333333333333333, \"#9c179e\"], [0.4444444444444444, \"#bd3786\"], [0.5555555555555556, \"#d8576b\"], [0.6666666666666666, \"#ed7953\"], [0.7777777777777778, \"#fb9f3a\"], [0.8888888888888888, \"#fdca26\"], [1.0, \"#f0f921\"]], \"type\": \"contour\"}], \"contourcarpet\": [{\"colorbar\": {\"outlinewidth\": 0, \"ticks\": \"\"}, \"type\": \"contourcarpet\"}], \"heatmap\": [{\"colorbar\": {\"outlinewidth\": 0, \"ticks\": \"\"}, \"colorscale\": [[0.0, \"#0d0887\"], [0.1111111111111111, \"#46039f\"], [0.2222222222222222, \"#7201a8\"], [0.3333333333333333, \"#9c179e\"], [0.4444444444444444, \"#bd3786\"], [0.5555555555555556, \"#d8576b\"], [0.6666666666666666, \"#ed7953\"], [0.7777777777777778, \"#fb9f3a\"], [0.8888888888888888, \"#fdca26\"], [1.0, \"#f0f921\"]], \"type\": \"heatmap\"}], \"heatmapgl\": [{\"colorbar\": {\"outlinewidth\": 0, \"ticks\": \"\"}, \"colorscale\": [[0.0, \"#0d0887\"], [0.1111111111111111, \"#46039f\"], [0.2222222222222222, \"#7201a8\"], [0.3333333333333333, \"#9c179e\"], [0.4444444444444444, \"#bd3786\"], [0.5555555555555556, \"#d8576b\"], [0.6666666666666666, \"#ed7953\"], [0.7777777777777778, \"#fb9f3a\"], [0.8888888888888888, \"#fdca26\"], [1.0, \"#f0f921\"]], \"type\": \"heatmapgl\"}], \"histogram\": [{\"marker\": {\"colorbar\": {\"outlinewidth\": 0, \"ticks\": \"\"}}, \"type\": \"histogram\"}], \"histogram2d\": [{\"colorbar\": {\"outlinewidth\": 0, \"ticks\": \"\"}, \"colorscale\": [[0.0, \"#0d0887\"], [0.1111111111111111, \"#46039f\"], [0.2222222222222222, \"#7201a8\"], [0.3333333333333333, \"#9c179e\"], [0.4444444444444444, \"#bd3786\"], [0.5555555555555556, \"#d8576b\"], [0.6666666666666666, \"#ed7953\"], [0.7777777777777778, \"#fb9f3a\"], [0.8888888888888888, \"#fdca26\"], [1.0, \"#f0f921\"]], \"type\": \"histogram2d\"}], \"histogram2dcontour\": [{\"colorbar\": {\"outlinewidth\": 0, \"ticks\": \"\"}, \"colorscale\": [[0.0, \"#0d0887\"], [0.1111111111111111, \"#46039f\"], [0.2222222222222222, \"#7201a8\"], [0.3333333333333333, \"#9c179e\"], [0.4444444444444444, \"#bd3786\"], [0.5555555555555556, \"#d8576b\"], [0.6666666666666666, \"#ed7953\"], [0.7777777777777778, \"#fb9f3a\"], [0.8888888888888888, \"#fdca26\"], [1.0, \"#f0f921\"]], \"type\": \"histogram2dcontour\"}], \"mesh3d\": [{\"colorbar\": {\"outlinewidth\": 0, \"ticks\": \"\"}, \"type\": \"mesh3d\"}], \"parcoords\": [{\"line\": {\"colorbar\": {\"outlinewidth\": 0, \"ticks\": \"\"}}, \"type\": \"parcoords\"}], \"scatter\": [{\"marker\": {\"colorbar\": {\"outlinewidth\": 0, \"ticks\": \"\"}}, \"type\": \"scatter\"}], \"scatter3d\": [{\"line\": {\"colorbar\": {\"outlinewidth\": 0, \"ticks\": \"\"}}, \"marker\": {\"colorbar\": {\"outlinewidth\": 0, \"ticks\": \"\"}}, \"type\": \"scatter3d\"}], \"scattercarpet\": [{\"marker\": {\"colorbar\": {\"outlinewidth\": 0, \"ticks\": \"\"}}, \"type\": \"scattercarpet\"}], \"scattergeo\": [{\"marker\": {\"colorbar\": {\"outlinewidth\": 0, \"ticks\": \"\"}}, \"type\": \"scattergeo\"}], \"scattergl\": [{\"marker\": {\"colorbar\": {\"outlinewidth\": 0, \"ticks\": \"\"}}, \"type\": \"scattergl\"}], \"scattermapbox\": [{\"marker\": {\"colorbar\": {\"outlinewidth\": 0, \"ticks\": \"\"}}, \"type\": \"scattermapbox\"}], \"scatterpolar\": [{\"marker\": {\"colorbar\": {\"outlinewidth\": 0, \"ticks\": \"\"}}, \"type\": \"scatterpolar\"}], \"scatterpolargl\": [{\"marker\": {\"colorbar\": {\"outlinewidth\": 0, \"ticks\": \"\"}}, \"type\": \"scatterpolargl\"}], \"scatterternary\": [{\"marker\": {\"colorbar\": {\"outlinewidth\": 0, \"ticks\": \"\"}}, \"type\": \"scatterternary\"}], \"surface\": [{\"colorbar\": {\"outlinewidth\": 0, \"ticks\": \"\"}, \"colorscale\": [[0.0, \"#0d0887\"], [0.1111111111111111, \"#46039f\"], [0.2222222222222222, \"#7201a8\"], [0.3333333333333333, \"#9c179e\"], [0.4444444444444444, \"#bd3786\"], [0.5555555555555556, \"#d8576b\"], [0.6666666666666666, \"#ed7953\"], [0.7777777777777778, \"#fb9f3a\"], [0.8888888888888888, \"#fdca26\"], [1.0, \"#f0f921\"]], \"type\": \"surface\"}], \"table\": [{\"cells\": {\"fill\": {\"color\": \"#EBF0F8\"}, \"line\": {\"color\": \"white\"}}, \"header\": {\"fill\": {\"color\": \"#C8D4E3\"}, \"line\": {\"color\": \"white\"}}, \"type\": \"table\"}]}, \"layout\": {\"annotationdefaults\": {\"arrowcolor\": \"#2a3f5f\", \"arrowhead\": 0, \"arrowwidth\": 1}, \"colorscale\": {\"diverging\": [[0, \"#8e0152\"], [0.1, \"#c51b7d\"], [0.2, \"#de77ae\"], [0.3, \"#f1b6da\"], [0.4, \"#fde0ef\"], [0.5, \"#f7f7f7\"], [0.6, \"#e6f5d0\"], [0.7, \"#b8e186\"], [0.8, \"#7fbc41\"], [0.9, \"#4d9221\"], [1, \"#276419\"]], \"sequential\": [[0.0, \"#0d0887\"], [0.1111111111111111, \"#46039f\"], [0.2222222222222222, \"#7201a8\"], [0.3333333333333333, \"#9c179e\"], [0.4444444444444444, \"#bd3786\"], [0.5555555555555556, \"#d8576b\"], [0.6666666666666666, \"#ed7953\"], [0.7777777777777778, \"#fb9f3a\"], [0.8888888888888888, \"#fdca26\"], [1.0, \"#f0f921\"]], \"sequentialminus\": [[0.0, \"#0d0887\"], [0.1111111111111111, \"#46039f\"], [0.2222222222222222, \"#7201a8\"], [0.3333333333333333, \"#9c179e\"], [0.4444444444444444, \"#bd3786\"], [0.5555555555555556, \"#d8576b\"], [0.6666666666666666, \"#ed7953\"], [0.7777777777777778, \"#fb9f3a\"], [0.8888888888888888, \"#fdca26\"], [1.0, \"#f0f921\"]]}, \"colorway\": [\"#636efa\", \"#EF553B\", \"#00cc96\", \"#ab63fa\", \"#FFA15A\", \"#19d3f3\", \"#FF6692\", \"#B6E880\", \"#FF97FF\", \"#FECB52\"], \"font\": {\"color\": \"#2a3f5f\"}, \"geo\": {\"bgcolor\": \"white\", \"lakecolor\": \"white\", \"landcolor\": \"#E5ECF6\", \"showlakes\": true, \"showland\": true, \"subunitcolor\": \"white\"}, \"hoverlabel\": {\"align\": \"left\"}, \"hovermode\": \"closest\", \"mapbox\": {\"style\": \"light\"}, \"paper_bgcolor\": \"white\", \"plot_bgcolor\": \"#E5ECF6\", \"polar\": {\"angularaxis\": {\"gridcolor\": \"white\", \"linecolor\": \"white\", \"ticks\": \"\"}, \"bgcolor\": \"#E5ECF6\", \"radialaxis\": {\"gridcolor\": \"white\", \"linecolor\": \"white\", \"ticks\": \"\"}}, \"scene\": {\"xaxis\": {\"backgroundcolor\": \"#E5ECF6\", \"gridcolor\": \"white\", \"gridwidth\": 2, \"linecolor\": \"white\", \"showbackground\": true, \"ticks\": \"\", \"zerolinecolor\": \"white\"}, \"yaxis\": {\"backgroundcolor\": \"#E5ECF6\", \"gridcolor\": \"white\", \"gridwidth\": 2, \"linecolor\": \"white\", \"showbackground\": true, \"ticks\": \"\", \"zerolinecolor\": \"white\"}, \"zaxis\": {\"backgroundcolor\": \"#E5ECF6\", \"gridcolor\": \"white\", \"gridwidth\": 2, \"linecolor\": \"white\", \"showbackground\": true, \"ticks\": \"\", \"zerolinecolor\": \"white\"}}, \"shapedefaults\": {\"line\": {\"color\": \"#2a3f5f\"}}, \"ternary\": {\"aaxis\": {\"gridcolor\": \"white\", \"linecolor\": \"white\", \"ticks\": \"\"}, \"baxis\": {\"gridcolor\": \"white\", \"linecolor\": \"white\", \"ticks\": \"\"}, \"bgcolor\": \"#E5ECF6\", \"caxis\": {\"gridcolor\": \"white\", \"linecolor\": \"white\", \"ticks\": \"\"}}, \"title\": {\"x\": 0.05}, \"xaxis\": {\"automargin\": true, \"gridcolor\": \"white\", \"linecolor\": \"white\", \"ticks\": \"\", \"zerolinecolor\": \"white\", \"zerolinewidth\": 2}, \"yaxis\": {\"automargin\": true, \"gridcolor\": \"white\", \"linecolor\": \"white\", \"ticks\": \"\", \"zerolinecolor\": \"white\", \"zerolinewidth\": 2}}}, \"title\": {\"text\": \"Positions and their points\"}, \"xaxis\": {\"anchor\": \"y\", \"domain\": [0.0, 0.98], \"title\": {\"text\": \"Position\"}}, \"yaxis\": {\"anchor\": \"x\", \"domain\": [0.0, 1.0], \"title\": {\"text\": \"Points\"}}},\n",
       "                        {\"responsive\": true}\n",
       "                    ).then(function(){\n",
       "                            \n",
       "var gd = document.getElementById('00c4ce77-3db1-4b3e-91c7-98c6922806c9');\n",
       "var x = new MutationObserver(function (mutations, observer) {{\n",
       "        var display = window.getComputedStyle(gd).display;\n",
       "        if (!display || display === 'none') {{\n",
       "            console.log([gd, 'removed!']);\n",
       "            Plotly.purge(gd);\n",
       "            observer.disconnect();\n",
       "        }}\n",
       "}});\n",
       "\n",
       "// Listen for the removal of the full notebook cells\n",
       "var notebookContainer = gd.closest('#notebook-container');\n",
       "if (notebookContainer) {{\n",
       "    x.observe(notebookContainer, {childList: true});\n",
       "}}\n",
       "\n",
       "// Listen for the clearing of the current output cell\n",
       "var outputEl = gd.closest('.output');\n",
       "if (outputEl) {{\n",
       "    x.observe(outputEl, {childList: true});\n",
       "}}\n",
       "\n",
       "                        })\n",
       "                };\n",
       "                });\n",
       "            </script>\n",
       "        </div>"
      ]
     },
     "metadata": {},
     "output_type": "display_data"
    }
   ],
   "source": [
    "# which type of players are better based on effective points\n",
    "fig = px.scatter(players, y='points', x='position', color='team_name', hover_data=['full_name'], size = 'pc', labels={'points':'Points', 'position':'Position', 'pc':'Points per Cost'})\n",
    "fig.update_layout(title='Positions and their points')\n",
    "fig.show()\n",
    "\n"
   ]
  },
  {
   "cell_type": "code",
   "execution_count": 25,
   "metadata": {},
   "outputs": [
    {
     "data": {
      "application/vnd.plotly.v1+json": {
       "config": {
        "plotlyServerURL": "https://plot.ly"
       },
       "data": [
        {
         "customdata": [
          [
           "sergio agüero"
          ],
          [
           "raheem sterling"
          ],
          [
           "kevin de bruyne"
          ],
          [
           "david silva"
          ],
          [
           "ederson santana de moraes"
          ],
          [
           "kyle walker"
          ],
          [
           "riyad mahrez"
          ],
          [
           "aymeric laporte"
          ],
          [
           "bernardo mota veiga de carvalho e silva"
          ],
          [
           "oleksandr zinchenko"
          ],
          [
           "john stones"
          ],
          [
           "gabriel fernando de jesus"
          ],
          [
           "nicolás otamendi"
          ],
          [
           "ilkay gündogan"
          ],
          [
           "rodrigo hernandez"
          ],
          [
           "fernando luiz rosa"
          ],
          [
           "phil foden"
          ],
          [
           "joão pedro cavaco cancelo"
          ]
         ],
         "hoverlabel": {
          "namelength": 0
         },
         "hovertemplate": "team_name=Man City<br>Position=%{x}<br>Points per Cost=%{marker.size}<br>full_name=%{customdata[0]}",
         "legendgroup": "team_name=Man City",
         "marker": {
          "color": "#636efa",
          "size": [
           6.6339066339066335,
           7.449721865639709,
           2.9835847382431226,
           6.1315315315315315,
           7.704918032786885,
           7.130630630630631,
           4.0910815939278935,
           7.744391025641025,
           5.552268244575938,
           2.0138888888888893,
           3.9407407407407407,
           2.3412563667232598,
           3.306878306878306,
           4.929919137466307,
           0.36363636363636365,
           2.2798742138364783,
           0.8760107816711591,
           0
          ],
          "sizemode": "area",
          "sizeref": 0.025457875457875458,
          "symbol": "circle"
         },
         "mode": "markers",
         "name": "team_name=Man City",
         "showlegend": true,
         "type": "scatter",
         "x": [
          "Forward",
          "Midfielder",
          "Midfielder",
          "Midfielder",
          "Goalkeeper",
          "Defender",
          "Midfielder",
          "Defender",
          "Midfielder",
          "Defender",
          "Defender",
          "Forward",
          "Defender",
          "Midfielder",
          "Midfielder",
          "Midfielder",
          "Midfielder",
          "Defender"
         ],
         "xaxis": "x",
         "y": [
          6.6339066339066335,
          7.449721865639709,
          2.9835847382431226,
          6.1315315315315315,
          7.704918032786885,
          7.130630630630631,
          4.0910815939278935,
          7.744391025641025,
          5.552268244575938,
          2.0138888888888893,
          3.9407407407407407,
          2.3412563667232598,
          3.306878306878306,
          4.929919137466307,
          0.36363636363636365,
          2.2798742138364783,
          0.8760107816711591,
          0
         ],
         "yaxis": "y"
        },
        {
         "customdata": [
          [
           "mohamed salah"
          ],
          [
           "sadio mané"
          ],
          [
           "roberto firmino"
          ],
          [
           "trent alexander-arnold"
          ],
          [
           "virgil van dijk"
          ],
          [
           "andrew robertson"
          ],
          [
           "joel matip"
          ],
          [
           "alisson ramses becker"
          ],
          [
           "divock origi"
          ],
          [
           "james milner"
          ],
          [
           "adrián san miguel del castillo"
          ],
          [
           "georginio wijnaldum"
          ],
          [
           "fabio henrique tavares"
          ],
          [
           "xherdan shaqiri"
          ],
          [
           "jordan henderson"
          ],
          [
           "joseph gomez"
          ],
          [
           "adam lallana"
          ],
          [
           "alex oxlade-chamberlain"
          ]
         ],
         "hoverlabel": {
          "namelength": 0
         },
         "hovertemplate": "team_name=Liverpool<br>Position=%{x}<br>Points per Cost=%{marker.size}<br>full_name=%{customdata[0]}",
         "legendgroup": "team_name=Liverpool",
         "marker": {
          "color": "#EF553B",
          "size": [
           7.885714285714287,
           7.121739130434783,
           5.626038781163435,
           9.088775074690568,
           10.183150183150182,
           9.51449275362319,
           4.725925925925925,
           8.399646330680813,
           2.2545454545454544,
           4.877450980392156,
           1.0869565217391306,
           3.6270396270396272,
           1.7840909090909092,
           4.114285714285714,
           2.04040404040404,
           2.440087145969499,
           0.3934624697336562,
           0
          ],
          "sizemode": "area",
          "sizeref": 0.025457875457875458,
          "symbol": "circle"
         },
         "mode": "markers",
         "name": "team_name=Liverpool",
         "showlegend": true,
         "type": "scatter",
         "x": [
          "Midfielder",
          "Midfielder",
          "Forward",
          "Defender",
          "Defender",
          "Defender",
          "Defender",
          "Goalkeeper",
          "Forward",
          "Midfielder",
          "Goalkeeper",
          "Midfielder",
          "Midfielder",
          "Midfielder",
          "Midfielder",
          "Defender",
          "Midfielder",
          "Midfielder"
         ],
         "xaxis": "x",
         "y": [
          7.885714285714287,
          7.121739130434783,
          5.626038781163435,
          9.088775074690568,
          10.183150183150182,
          9.51449275362319,
          4.725925925925925,
          8.399646330680813,
          2.2545454545454544,
          4.877450980392156,
          1.0869565217391306,
          3.6270396270396272,
          1.7840909090909092,
          4.114285714285714,
          2.04040404040404,
          2.440087145969499,
          0.3934624697336562,
          0
         ],
         "yaxis": "y"
        },
        {
         "customdata": [
          [
           "teemu pukki"
          ],
          [
           "todd cantwell"
          ],
          [
           "emiliano buendía"
          ],
          [
           "tom trybull"
          ],
          [
           "jamal lewis"
          ],
          [
           "marco stiepermann"
          ],
          [
           "tim krul"
          ],
          [
           "moritz leitner"
          ],
          [
           "christoph zimmermann"
          ],
          [
           "dennis srbeny"
          ],
          [
           "mario vrancic"
          ],
          [
           "onel hernández"
          ],
          [
           "kenny mclean"
          ],
          [
           "alexander tettey"
          ],
          [
           "josip drmic"
          ],
          [
           "sam byram"
          ],
          [
           "ibrahim amadou"
          ],
          [
           "ben godfrey"
          ],
          [
           "grant hanley"
          ],
          [
           "maximillian aarons"
          ]
         ],
         "hoverlabel": {
          "namelength": 0
         },
         "hovertemplate": "team_name=Norwich<br>Position=%{x}<br>Points per Cost=%{marker.size}<br>full_name=%{customdata[0]}",
         "legendgroup": "team_name=Norwich",
         "marker": {
          "color": "#00cc96",
          "size": [
           4.142857142857143,
           2.7083333333333335,
           0.8333333333333334,
           0.2222222222222222,
           0,
           0,
           0,
           0,
           0,
           0,
           0,
           0,
           0,
           0,
           0,
           0,
           0,
           0,
           0,
           0
          ],
          "sizemode": "area",
          "sizeref": 0.025457875457875458,
          "symbol": "circle"
         },
         "mode": "markers",
         "name": "team_name=Norwich",
         "showlegend": true,
         "type": "scatter",
         "x": [
          "Forward",
          "Midfielder",
          "Midfielder",
          "Midfielder",
          "Defender",
          "Midfielder",
          "Goalkeeper",
          "Midfielder",
          "Defender",
          "Forward",
          "Midfielder",
          "Midfielder",
          "Midfielder",
          "Midfielder",
          "Forward",
          "Defender",
          "Midfielder",
          "Defender",
          "Defender",
          "Defender"
         ],
         "xaxis": "x",
         "y": [
          4.142857142857143,
          2.7083333333333335,
          0.8333333333333334,
          0.2222222222222222,
          0,
          0,
          0,
          0,
          0,
          0,
          0,
          0,
          0,
          0,
          0,
          0,
          0,
          0,
          0,
          0
         ],
         "yaxis": "y"
        },
        {
         "customdata": [
          [
           "pierre-emerick aubameyang"
          ],
          [
           "alexandre lacazette"
          ],
          [
           "daniel ceballos fernández"
          ],
          [
           "bernd leno"
          ],
          [
           "ainsley maitland-niles"
          ],
          [
           "nacho monreal"
          ],
          [
           "david luiz moreira marinho"
          ],
          [
           "lucas torreira"
          ],
          [
           "nicolas pépé"
          ],
          [
           "sokratis papastathopoulos"
          ],
          [
           "henrikh mkhitaryan"
          ],
          [
           "calum chambers"
          ],
          [
           "matteo guendouzi"
          ],
          [
           "granit xhaka"
          ],
          [
           "sead kolasinac"
          ],
          [
           "joseph willock"
          ],
          [
           "reiss nelson"
          ],
          [
           "gabriel teodoro martinelli silva"
          ]
         ],
         "hoverlabel": {
          "namelength": 0
         },
         "hovertemplate": "team_name=Arsenal<br>Position=%{x}<br>Points per Cost=%{marker.size}<br>full_name=%{customdata[0]}",
         "legendgroup": "team_name=Arsenal",
         "marker": {
          "color": "#ab63fa",
          "size": [
           6.586363636363637,
           5.709686450167974,
           1.5789473684210527,
           4.488888888888889,
           1.647058823529412,
           3.528,
           6.831812255541069,
           2.7082184225041366,
           0.3191489361702127,
           1.6344827586206896,
           3.623188405797101,
           0.5656565656565656,
           0.1403508771929824,
           2.7517361111111107,
           3.0626780626780623,
           0.2,
           0,
           0
          ],
          "sizemode": "area",
          "sizeref": 0.025457875457875458,
          "symbol": "circle"
         },
         "mode": "markers",
         "name": "team_name=Arsenal",
         "showlegend": true,
         "type": "scatter",
         "x": [
          "Forward",
          "Forward",
          "Midfielder",
          "Goalkeeper",
          "Defender",
          "Defender",
          "Defender",
          "Midfielder",
          "Midfielder",
          "Defender",
          "Midfielder",
          "Defender",
          "Midfielder",
          "Midfielder",
          "Defender",
          "Midfielder",
          "Midfielder",
          "Forward"
         ],
         "xaxis": "x",
         "y": [
          6.586363636363637,
          5.709686450167974,
          1.5789473684210527,
          4.488888888888889,
          1.647058823529412,
          3.528,
          6.831812255541069,
          2.7082184225041366,
          0.3191489361702127,
          1.6344827586206896,
          3.623188405797101,
          0.5656565656565656,
          0.1403508771929824,
          2.7517361111111107,
          3.0626780626780623,
          0.2,
          0,
          0
         ],
         "yaxis": "y"
        },
        {
         "customdata": [
          [
           "tammy abraham"
          ],
          [
           "mason mount"
          ],
          [
           "marcos alonso"
          ],
          [
           "christian pulisic"
          ],
          [
           "césar azpilicueta"
          ],
          [
           "pedro rodríguez ledesma"
          ],
          [
           "kepa arrizabalaga"
          ],
          [
           "jorge luiz frello filho"
          ],
          [
           "mateo kovacic"
          ],
          [
           "willian borges da silva"
          ],
          [
           "ross barkley"
          ],
          [
           "n'golo kanté"
          ],
          [
           "michy batshuayi"
          ],
          [
           "olivier giroud"
          ],
          [
           "kurt zouma"
          ],
          [
           "andreas christensen"
          ],
          [
           "fikayo tomori"
          ],
          [
           "billy gilmour"
          ],
          [
           "emerson palmieri dos santos"
          ]
         ],
         "hoverlabel": {
          "namelength": 0
         },
         "hovertemplate": "team_name=Chelsea<br>Position=%{x}<br>Points per Cost=%{marker.size}<br>full_name=%{customdata[0]}",
         "legendgroup": "team_name=Chelsea",
         "marker": {
          "color": "#FFA15A",
          "size": [
           2.9166666666666665,
           2.1875,
           7.734375,
           0.8,
           6.194511702986278,
           4.2272727272727275,
           5.427272727272728,
           2.204878048780488,
           1.4343434343434343,
           3.330612244897959,
           3.1810344827586206,
           4.252631578947367,
           1.9154228855721391,
           1.394686907020873,
           3.690016547159405,
           0.2,
           0,
           0,
           0
          ],
          "sizemode": "area",
          "sizeref": 0.025457875457875458,
          "symbol": "circle"
         },
         "mode": "markers",
         "name": "team_name=Chelsea",
         "showlegend": true,
         "type": "scatter",
         "x": [
          "Forward",
          "Midfielder",
          "Defender",
          "Midfielder",
          "Defender",
          "Midfielder",
          "Goalkeeper",
          "Midfielder",
          "Midfielder",
          "Midfielder",
          "Midfielder",
          "Midfielder",
          "Forward",
          "Forward",
          "Defender",
          "Defender",
          "Defender",
          "Midfielder",
          "Defender"
         ],
         "xaxis": "x",
         "y": [
          2.9166666666666665,
          2.1875,
          7.734375,
          0.8,
          6.194511702986278,
          4.2272727272727275,
          5.427272727272728,
          2.204878048780488,
          1.4343434343434343,
          3.330612244897959,
          3.1810344827586206,
          4.252631578947367,
          1.9154228855721391,
          1.394686907020873,
          3.690016547159405,
          0.2,
          0,
          0,
          0
         ],
         "yaxis": "y"
        },
        {
         "customdata": [
          [
           "jamie vardy"
          ],
          [
           "ricardo domingos barbosa pereira"
          ],
          [
           "james maddison"
          ],
          [
           "youri tielemans"
          ],
          [
           "benjamin chilwell"
          ],
          [
           "ayoze pérez"
          ],
          [
           "kasper schmeichel"
          ],
          [
           "jonny evans"
          ],
          [
           "wilfred ndidi"
          ],
          [
           "çaglar söyüncü"
          ],
          [
           "harvey barnes"
          ],
          [
           "wes morgan"
          ],
          [
           "hamza choudhury"
          ],
          [
           "demarai gray"
          ],
          [
           "marc albrighton"
          ],
          [
           "nampalys mendy"
          ],
          [
           "christian fuchs"
          ],
          [
           "dennis praet"
          ]
         ],
         "hoverlabel": {
          "namelength": 0
         },
         "hovertemplate": "team_name=Leicester<br>Position=%{x}<br>Points per Cost=%{marker.size}<br>full_name=%{customdata[0]}",
         "legendgroup": "team_name=Leicester",
         "marker": {
          "color": "#19d3f3",
          "size": [
           6.771141336487284,
           6.326923076923077,
           4.929577464788733,
           3.2720588235294117,
           4.717348927875244,
           5.383064516129032,
           4.5285714285714285,
           3.3428571428571425,
           2.3571428571428568,
           1.0222222222222221,
           1.6324710080285458,
           3.4782608695652173,
           0.45299145299145294,
           2.7493261455525606,
           1.7314814814814814,
           0.5381944444444444,
           0,
           0
          ],
          "sizemode": "area",
          "sizeref": 0.025457875457875458,
          "symbol": "circle"
         },
         "mode": "markers",
         "name": "team_name=Leicester",
         "showlegend": true,
         "type": "scatter",
         "x": [
          "Forward",
          "Defender",
          "Midfielder",
          "Midfielder",
          "Defender",
          "Midfielder",
          "Goalkeeper",
          "Defender",
          "Midfielder",
          "Defender",
          "Midfielder",
          "Defender",
          "Midfielder",
          "Midfielder",
          "Midfielder",
          "Midfielder",
          "Defender",
          "Midfielder"
         ],
         "xaxis": "x",
         "y": [
          6.771141336487284,
          6.326923076923077,
          4.929577464788733,
          3.2720588235294117,
          4.717348927875244,
          5.383064516129032,
          4.5285714285714285,
          3.3428571428571425,
          2.3571428571428568,
          1.0222222222222221,
          1.6324710080285458,
          3.4782608695652173,
          0.45299145299145294,
          2.7493261455525606,
          1.7314814814814814,
          0.5381944444444444,
          0,
          0
         ],
         "yaxis": "y"
        },
        {
         "customdata": [
          [
           "harry kane"
          ],
          [
           "christian eriksen"
          ],
          [
           "lucas rodrigues moura da silva"
          ],
          [
           "heung-min son"
          ],
          [
           "tanguy ndombele"
          ],
          [
           "erik lamela"
          ],
          [
           "hugo lloris"
          ],
          [
           "moussa sissoko"
          ],
          [
           "bamidele alli"
          ],
          [
           "toby alderweireld"
          ],
          [
           "jan vertonghen"
          ],
          [
           "ben davies"
          ],
          [
           "danny rose"
          ],
          [
           "davinson sánchez"
          ],
          [
           "kyle walker-peters"
          ],
          [
           "harry winks"
          ],
          [
           "oliver skipp"
          ],
          [
           "georges-kévin nkoudou"
          ],
          [
           "giovani lo celso"
          ]
         ],
         "hoverlabel": {
          "namelength": 0
         },
         "hovertemplate": "team_name=Spurs<br>Position=%{x}<br>Points per Cost=%{marker.size}<br>full_name=%{customdata[0]}",
         "legendgroup": "team_name=Spurs",
         "marker": {
          "color": "#FF6692",
          "size": [
           4.943181818181818,
           5.270979020979021,
           5.220077220077219,
           5.40829346092504,
           1.6666666666666667,
           3.760869565217391,
           6.707616707616707,
           2.1818181818181817,
           2.8044871794871793,
           3.1445221445221447,
           2.06726825266612,
           1.6677115987460815,
           2.73939393939394,
           2.242424242424242,
           1.0884353741496597,
           0.5818181818181819,
           0.17777777777777778,
           0.15,
           0
          ],
          "sizemode": "area",
          "sizeref": 0.025457875457875458,
          "symbol": "circle"
         },
         "mode": "markers",
         "name": "team_name=Spurs",
         "showlegend": true,
         "type": "scatter",
         "x": [
          "Forward",
          "Midfielder",
          "Midfielder",
          "Midfielder",
          "Midfielder",
          "Midfielder",
          "Goalkeeper",
          "Midfielder",
          "Midfielder",
          "Defender",
          "Defender",
          "Defender",
          "Defender",
          "Defender",
          "Defender",
          "Midfielder",
          "Midfielder",
          "Midfielder",
          "Midfielder"
         ],
         "xaxis": "x",
         "y": [
          4.943181818181818,
          5.270979020979021,
          5.220077220077219,
          5.40829346092504,
          1.6666666666666667,
          3.760869565217391,
          6.707616707616707,
          2.1818181818181817,
          2.8044871794871793,
          3.1445221445221447,
          2.06726825266612,
          1.6677115987460815,
          2.73939393939394,
          2.242424242424242,
          1.0884353741496597,
          0.5818181818181819,
          0.17777777777777778,
          0.15,
          0
         ],
         "yaxis": "y"
        },
        {
         "customdata": [
          [
           "callum wilson"
          ],
          [
           "harry wilson"
          ],
          [
           "ryan fraser"
          ],
          [
           "joshua king"
          ],
          [
           "chris mepham"
          ],
          [
           "nathan aké"
          ],
          [
           "steve cook"
          ],
          [
           "charlie daniels"
          ],
          [
           "jefferson lerma"
          ],
          [
           "adam smith"
          ],
          [
           "philip billing"
          ],
          [
           "jordon ibe"
          ],
          [
           "andrew surman"
          ],
          [
           "dominic solanke"
          ],
          [
           "aaron ramsdale"
          ],
          [
           "diego rico"
          ]
         ],
         "hoverlabel": {
          "namelength": 0
         },
         "hovertemplate": "team_name=Bournemouth<br>Position=%{x}<br>Points per Cost=%{marker.size}<br>full_name=%{customdata[0]}",
         "legendgroup": "team_name=Bournemouth",
         "marker": {
          "color": "#B6E880",
          "size": [
           7.024886877828054,
           1.8333333333333333,
           6.85583822570124,
           5.392628205128204,
           1.2430555555555556,
           3.7269193391642372,
           1.8142857142857143,
           0.608695652173913,
           1.3025210084033614,
           1.7279693486590038,
           0.8193548387096774,
           0.738581146744412,
           0.18367346938775508,
           0.1984126984126984,
           0,
           0
          ],
          "sizemode": "area",
          "sizeref": 0.025457875457875458,
          "symbol": "circle"
         },
         "mode": "markers",
         "name": "team_name=Bournemouth",
         "showlegend": true,
         "type": "scatter",
         "x": [
          "Forward",
          "Midfielder",
          "Midfielder",
          "Forward",
          "Defender",
          "Defender",
          "Defender",
          "Defender",
          "Midfielder",
          "Defender",
          "Midfielder",
          "Midfielder",
          "Midfielder",
          "Forward",
          "Goalkeeper",
          "Defender"
         ],
         "xaxis": "x",
         "y": [
          7.024886877828054,
          1.8333333333333333,
          6.85583822570124,
          5.392628205128204,
          1.2430555555555556,
          3.7269193391642372,
          1.8142857142857143,
          0.608695652173913,
          1.3025210084033614,
          1.7279693486590038,
          0.8193548387096774,
          0.738581146744412,
          0.18367346938775508,
          0.1984126984126984,
          0,
          0
         ],
         "yaxis": "y"
        },
        {
         "customdata": [
          [
           "sébastien haller"
          ],
          [
           "felipe anderson pereira gomes"
          ],
          [
           "lukasz fabianski"
          ],
          [
           "mark noble"
          ],
          [
           "manuel lanzini"
          ],
          [
           "javier hernández balcázar"
          ],
          [
           "michail antonio"
          ],
          [
           "arthur masuaku"
          ],
          [
           "andriy yarmolenko"
          ],
          [
           "issa diop"
          ],
          [
           "angelo ogbonna"
          ],
          [
           "ryan fredericks"
          ],
          [
           "declan rice"
          ],
          [
           "robert snodgrass"
          ],
          [
           "jack wilshere"
          ],
          [
           "carlos sánchez"
          ],
          [
           "pablo fornals"
          ]
         ],
         "hoverlabel": {
          "namelength": 0
         },
         "hovertemplate": "team_name=West Ham<br>Position=%{x}<br>Points per Cost=%{marker.size}<br>full_name=%{customdata[0]}",
         "legendgroup": "team_name=West Ham",
         "marker": {
          "color": "#FF97FF",
          "size": [
           2.2666666666666666,
           5.919732441471572,
           6.60952380952381,
           4.887878787878789,
           1.758241758241758,
           4.2407407407407405,
           4.48671497584541,
           1.9017094017094014,
           1.5254237288135593,
           2.5735735735735736,
           0.7654320987654322,
           1.1871345029239766,
           2.2824919441460794,
           2.361111111111111,
           0.4081632653061224,
           0,
           0
          ],
          "sizemode": "area",
          "sizeref": 0.025457875457875458,
          "symbol": "circle"
         },
         "mode": "markers",
         "name": "team_name=West Ham",
         "showlegend": true,
         "type": "scatter",
         "x": [
          "Forward",
          "Midfielder",
          "Goalkeeper",
          "Midfielder",
          "Midfielder",
          "Forward",
          "Midfielder",
          "Defender",
          "Midfielder",
          "Defender",
          "Defender",
          "Defender",
          "Midfielder",
          "Midfielder",
          "Midfielder",
          "Midfielder",
          "Midfielder"
         ],
         "xaxis": "x",
         "y": [
          2.2666666666666666,
          5.919732441471572,
          6.60952380952381,
          4.887878787878789,
          1.758241758241758,
          4.2407407407407405,
          4.48671497584541,
          1.9017094017094014,
          1.5254237288135593,
          2.5735735735735736,
          0.7654320987654322,
          1.1871345029239766,
          2.2824919441460794,
          2.361111111111111,
          0.4081632653061224,
          0,
          0
         ],
         "yaxis": "y"
        },
        {
         "customdata": [
          [
           "lucas digne"
          ],
          [
           "richarlison de andrade"
          ],
          [
           "gylfi sigurdsson"
          ],
          [
           "jordan pickford"
          ],
          [
           "michael keane"
          ],
          [
           "seamus coleman"
          ],
          [
           "bernard anício caldeira duarte"
          ],
          [
           "yerry mina"
          ],
          [
           "alex iwobi"
          ],
          [
           "moise kean"
          ],
          [
           "theo walcott"
          ],
          [
           "dominic calvert-lewin"
          ],
          [
           "jean-philippe gbamin"
          ],
          [
           "andré filipe tavares gomes"
          ],
          [
           "morgan schneiderlin"
          ],
          [
           "tom davies"
          ],
          [
           "mason holgate"
          ]
         ],
         "hoverlabel": {
          "namelength": 0
         },
         "hovertemplate": "team_name=Everton<br>Position=%{x}<br>Points per Cost=%{marker.size}<br>full_name=%{customdata[0]}",
         "legendgroup": "team_name=Everton",
         "marker": {
          "color": "#FECB52",
          "size": [
           7.976040353089535,
           6.1019149626744555,
           6.672771672771673,
           7.648809523809525,
           5.914004914004914,
           5.8402203856749315,
           2.82995951417004,
           1.9905462184873952,
           4.3128721942281265,
           0.4411764705882353,
           3.237688237688238,
           2.872664059104737,
           0.2040816326530612,
           1.1051373954599761,
           0.3333333333333333,
           0,
           0
          ],
          "sizemode": "area",
          "sizeref": 0.025457875457875458,
          "symbol": "circle"
         },
         "mode": "markers",
         "name": "team_name=Everton",
         "showlegend": true,
         "type": "scatter",
         "x": [
          "Defender",
          "Midfielder",
          "Midfielder",
          "Goalkeeper",
          "Defender",
          "Defender",
          "Midfielder",
          "Defender",
          "Midfielder",
          "Forward",
          "Midfielder",
          "Forward",
          "Midfielder",
          "Midfielder",
          "Midfielder",
          "Midfielder",
          "Defender"
         ],
         "xaxis": "x",
         "y": [
          7.976040353089535,
          6.1019149626744555,
          6.672771672771673,
          7.648809523809525,
          5.914004914004914,
          5.8402203856749315,
          2.82995951417004,
          1.9905462184873952,
          4.3128721942281265,
          0.4411764705882353,
          3.237688237688238,
          2.872664059104737,
          0.2040816326530612,
          1.1051373954599761,
          0.3333333333333333,
          0,
          0
         ],
         "yaxis": "y"
        },
        {
         "customdata": [
          [
           "ashley barnes"
          ],
          [
           "erik pieters"
          ],
          [
           "johann berg gudmundsson"
          ],
          [
           "dwight mcneil"
          ],
          [
           "nick pope"
          ],
          [
           "ashley westwood"
          ],
          [
           "chris wood"
          ],
          [
           "james tarkowski"
          ],
          [
           "jack cork"
          ],
          [
           "ben mee"
          ],
          [
           "jeff hendrick"
          ],
          [
           "matthew lowton"
          ],
          [
           "aaron lennon"
          ],
          [
           "jay rodriguez"
          ]
         ],
         "hoverlabel": {
          "namelength": 0
         },
         "hovertemplate": "team_name=Burnley<br>Position=%{x}<br>Points per Cost=%{marker.size}<br>full_name=%{customdata[0]}",
         "legendgroup": "team_name=Burnley",
         "marker": {
          "color": "#636efa",
          "size": [
           5.597014925373134,
           2.173913043478261,
           4.127604166666667,
           3.293333333333333,
           1.5217391304347827,
           3.9132553606237814,
           4.433370247323736,
           2.623076923076923,
           1.28,
           0.6720930232558139,
           1.7059483726150393,
           0,
           0.8571428571428573,
           0
          ],
          "sizemode": "area",
          "sizeref": 0.025457875457875458,
          "symbol": "circle"
         },
         "mode": "markers",
         "name": "team_name=Burnley",
         "showlegend": true,
         "type": "scatter",
         "x": [
          "Forward",
          "Defender",
          "Midfielder",
          "Midfielder",
          "Goalkeeper",
          "Midfielder",
          "Forward",
          "Defender",
          "Midfielder",
          "Defender",
          "Midfielder",
          "Defender",
          "Midfielder",
          "Forward"
         ],
         "xaxis": "x",
         "y": [
          5.597014925373134,
          2.173913043478261,
          4.127604166666667,
          3.293333333333333,
          1.5217391304347827,
          3.9132553606237814,
          4.433370247323736,
          2.623076923076923,
          1.28,
          0.6720930232558139,
          1.7059483726150393,
          0,
          0.8571428571428573,
          0
         ],
         "yaxis": "y"
        },
        {
         "customdata": [
          [
           "patrick van aanholt"
          ],
          [
           "jordan ayew"
          ],
          [
           "vicente guaita"
          ],
          [
           "jeffrey schlupp"
          ],
          [
           "joel ward"
          ],
          [
           "luka milivojevic"
          ],
          [
           "andros townsend"
          ],
          [
           "martin kelly"
          ],
          [
           "wilfried zaha"
          ],
          [
           "james mcarthur"
          ],
          [
           "scott dann"
          ],
          [
           "gary cahill"
          ],
          [
           "cheikhou kouyaté"
          ],
          [
           "mamadou sakho"
          ],
          [
           "max meyer"
          ],
          [
           "christian benteke"
          ],
          [
           "connor wickham"
          ],
          [
           "james mccarthy"
          ]
         ],
         "hoverlabel": {
          "namelength": 0
         },
         "hovertemplate": "team_name=Crystal Palace<br>Position=%{x}<br>Points per Cost=%{marker.size}<br>full_name=%{customdata[0]}",
         "legendgroup": "team_name=Crystal Palace",
         "marker": {
          "color": "#EF553B",
          "size": [
           7.11607142857143,
           2.57459505541347,
           4.316666666666667,
           4.231404958677686,
           1.5151515151515151,
           5.906862745098039,
           4.923325262308313,
           1.2984218077474896,
           4.862700228832952,
           4.14021164021164,
           1.0740740740740742,
           0.6666666666666666,
           1.5433673469387754,
           3.2785714285714285,
           1.4725209080047788,
           0.6101694915254237,
           0.25,
           0
          ],
          "sizemode": "area",
          "sizeref": 0.025457875457875458,
          "symbol": "circle"
         },
         "mode": "markers",
         "name": "team_name=Crystal Palace",
         "showlegend": true,
         "type": "scatter",
         "x": [
          "Defender",
          "Forward",
          "Goalkeeper",
          "Midfielder",
          "Defender",
          "Midfielder",
          "Midfielder",
          "Defender",
          "Midfielder",
          "Midfielder",
          "Defender",
          "Defender",
          "Midfielder",
          "Defender",
          "Midfielder",
          "Forward",
          "Forward",
          "Midfielder"
         ],
         "xaxis": "x",
         "y": [
          7.11607142857143,
          2.57459505541347,
          4.316666666666667,
          4.231404958677686,
          1.5151515151515151,
          5.906862745098039,
          4.923325262308313,
          1.2984218077474896,
          4.862700228832952,
          4.14021164021164,
          1.0740740740740742,
          0.6666666666666666,
          1.5433673469387754,
          3.2785714285714285,
          1.4725209080047788,
          0.6101694915254237,
          0.25,
          0
         ],
         "yaxis": "y"
        },
        {
         "customdata": [
          [
           "raúl jiménez"
          ],
          [
           "rui pedro dos santos patrício"
          ],
          [
           "willy boly"
          ],
          [
           "matt doherty"
          ],
          [
           "joão filipe iria santos moutinho"
          ],
          [
           "rúben diogo da silva neves"
          ],
          [
           "diogo jota"
          ],
          [
           "jonathan castro otto"
          ],
          [
           "romain saïss"
          ],
          [
           "conor coady"
          ],
          [
           "ryan bennett"
          ],
          [
           "leander dendoncker"
          ],
          [
           "morgan gibbs-white"
          ],
          [
           "adama traoré"
          ],
          [
           "patrick cutrone"
          ],
          [
           "pedro lomba neto"
          ]
         ],
         "hoverlabel": {
          "namelength": 0
         },
         "hovertemplate": "team_name=Wolves<br>Position=%{x}<br>Points per Cost=%{marker.size}<br>full_name=%{customdata[0]}",
         "legendgroup": "team_name=Wolves",
         "marker": {
          "color": "#00cc96",
          "size": [
           7.403474903474903,
           5.184122429459589,
           5.290000000000001,
           5.91869918699187,
           4.562770562770563,
           3.438228438228438,
           5.7335907335907335,
           3.5454545454545454,
           2.37012987012987,
           1.9571428571428569,
           1.9894736842105263,
           1.3236714975845412,
           0.5895691609977324,
           0.90625,
           0,
           0
          ],
          "sizemode": "area",
          "sizeref": 0.025457875457875458,
          "symbol": "circle"
         },
         "mode": "markers",
         "name": "team_name=Wolves",
         "showlegend": true,
         "type": "scatter",
         "x": [
          "Forward",
          "Goalkeeper",
          "Defender",
          "Defender",
          "Midfielder",
          "Midfielder",
          "Forward",
          "Defender",
          "Defender",
          "Defender",
          "Defender",
          "Midfielder",
          "Midfielder",
          "Midfielder",
          "Forward",
          "Midfielder"
         ],
         "xaxis": "x",
         "y": [
          7.403474903474903,
          5.184122429459589,
          5.290000000000001,
          5.91869918699187,
          4.562770562770563,
          3.438228438228438,
          5.7335907335907335,
          3.5454545454545454,
          2.37012987012987,
          1.9571428571428569,
          1.9894736842105263,
          1.3236714975845412,
          0.5895691609977324,
          0.90625,
          0,
          0
         ],
         "yaxis": "y"
        },
        {
         "customdata": [
          [
           "daniel james"
          ],
          [
           "anthony martial"
          ],
          [
           "marcus rashford"
          ],
          [
           "paul pogba"
          ],
          [
           "david de gea"
          ],
          [
           "aaron wan-bissaka"
          ],
          [
           "scott mctominay"
          ],
          [
           "luke shaw"
          ],
          [
           "harry maguire"
          ],
          [
           "victor lindelöf"
          ],
          [
           "andreas pereira"
          ],
          [
           "jesse lingard"
          ],
          [
           "juan mata"
          ],
          [
           "ashley young"
          ],
          [
           "nemanja matic"
          ],
          [
           "mason greenwood"
          ]
         ],
         "hoverlabel": {
          "namelength": 0
         },
         "hovertemplate": "team_name=Man Utd<br>Position=%{x}<br>Points per Cost=%{marker.size}<br>full_name=%{customdata[0]}",
         "legendgroup": "team_name=Man Utd",
         "marker": {
          "color": "#ab63fa",
          "size": [
           2.295081967213115,
           5.487012987012987,
           4.467408585055644,
           6.131221719457013,
           4.238945578231293,
           4.37995337995338,
           1.9600000000000002,
           3.1741898148148144,
           2.8597402597402595,
           2.412854030501089,
           0.9666666666666668,
           2.313508064516129,
           2.379807692307692,
           1.290509259259259,
           0.40229885057471265,
           0
          ],
          "sizemode": "area",
          "sizeref": 0.025457875457875458,
          "symbol": "circle"
         },
         "mode": "markers",
         "name": "team_name=Man Utd",
         "showlegend": true,
         "type": "scatter",
         "x": [
          "Midfielder",
          "Midfielder",
          "Forward",
          "Midfielder",
          "Goalkeeper",
          "Defender",
          "Midfielder",
          "Defender",
          "Defender",
          "Defender",
          "Midfielder",
          "Midfielder",
          "Midfielder",
          "Defender",
          "Midfielder",
          "Forward"
         ],
         "xaxis": "x",
         "y": [
          2.295081967213115,
          5.487012987012987,
          4.467408585055644,
          6.131221719457013,
          4.238945578231293,
          4.37995337995338,
          1.9600000000000002,
          3.1741898148148144,
          2.8597402597402595,
          2.412854030501089,
          0.9666666666666668,
          2.313508064516129,
          2.379807692307692,
          1.290509259259259,
          0.40229885057471265,
          0
         ],
         "yaxis": "y"
        },
        {
         "customdata": [
          [
           "john mcginn"
          ],
          [
           "douglas luiz soares de paulo"
          ],
          [
           "wesley moraes"
          ],
          [
           "tyrone mings"
          ],
          [
           "bjorn engels"
          ],
          [
           "anwar el ghazi"
          ],
          [
           "jack grealish"
          ],
          [
           "tom heaton"
          ],
          [
           "josé ignacio peleteiro romallo"
          ],
          [
           "frédéric guilbert"
          ],
          [
           "ahmed el mohamady"
          ],
          [
           "neil taylor"
          ],
          [
           "jonathan kodjia"
          ],
          [
           "conor hourihane"
          ],
          [
           "keinan davis"
          ],
          [
           "henri lansbury"
          ],
          [
           "mahmoud ahmed ibrahim hassan"
          ]
         ],
         "hoverlabel": {
          "namelength": 0
         },
         "hovertemplate": "team_name=Aston Villa<br>Position=%{x}<br>Points per Cost=%{marker.size}<br>full_name=%{customdata[0]}",
         "legendgroup": "team_name=Aston Villa",
         "marker": {
          "color": "#FFA15A",
          "size": [
           1.6071428571428572,
           1.7391304347826089,
           1.1666666666666667,
           1.2222222222222223,
           1.1111111111111112,
           0.9090909090909091,
           0.6666666666666666,
           2.357487922705314,
           0.6779661016949152,
           0.45454545454545453,
           0.2222222222222222,
           0.2222222222222222,
           0,
           0,
           0,
           0,
           0
          ],
          "sizemode": "area",
          "sizeref": 0.025457875457875458,
          "symbol": "circle"
         },
         "mode": "markers",
         "name": "team_name=Aston Villa",
         "showlegend": true,
         "type": "scatter",
         "x": [
          "Midfielder",
          "Midfielder",
          "Forward",
          "Defender",
          "Defender",
          "Midfielder",
          "Midfielder",
          "Goalkeeper",
          "Midfielder",
          "Defender",
          "Defender",
          "Defender",
          "Forward",
          "Midfielder",
          "Midfielder",
          "Midfielder",
          "Midfielder"
         ],
         "xaxis": "x",
         "y": [
          1.6071428571428572,
          1.7391304347826089,
          1.1666666666666667,
          1.2222222222222223,
          1.1111111111111112,
          0.9090909090909091,
          0.6666666666666666,
          2.357487922705314,
          0.6779661016949152,
          0.45454545454545453,
          0.2222222222222222,
          0.2222222222222222,
          0,
          0,
          0,
          0,
          0
         ],
         "yaxis": "y"
        },
        {
         "customdata": [
          [
           "john lundstram"
          ],
          [
           "callum robinson"
          ],
          [
           "enda stevens"
          ],
          [
           "george baldock"
          ],
          [
           "dean henderson"
          ],
          [
           "billy sharp"
          ],
          [
           "oliver mcburnie"
          ],
          [
           "jack o'connell"
          ],
          [
           "john egan"
          ],
          [
           "chris basham"
          ],
          [
           "oliver norwood"
          ],
          [
           "phil jagielka"
          ],
          [
           "lys mousset"
          ],
          [
           "luke freeman"
          ],
          [
           "david mcgoldrick"
          ],
          [
           "ravel morrison"
          ],
          [
           "ben osborn"
          ],
          [
           "john fleck"
          ]
         ],
         "hoverlabel": {
          "namelength": 0
         },
         "hovertemplate": "team_name=Sheffield Utd<br>Position=%{x}<br>Points per Cost=%{marker.size}<br>full_name=%{customdata[0]}",
         "legendgroup": "team_name=Sheffield Utd",
         "marker": {
          "color": "#19d3f3",
          "size": [
           2.380952380952381,
           1.6981132075471699,
           1.4,
           1.5555555555555556,
           1.3333333333333333,
           1.1864406779661016,
           0.6779661016949152,
           0.4444444444444444,
           0.4444444444444444,
           0.4444444444444444,
           0.2,
           1.1931818181818181,
           0.2933673469387755,
           0,
           0,
           0,
           0,
           0
          ],
          "sizemode": "area",
          "sizeref": 0.025457875457875458,
          "symbol": "circle"
         },
         "mode": "markers",
         "name": "team_name=Sheffield Utd",
         "showlegend": true,
         "type": "scatter",
         "x": [
          "Defender",
          "Midfielder",
          "Defender",
          "Defender",
          "Goalkeeper",
          "Forward",
          "Forward",
          "Defender",
          "Defender",
          "Defender",
          "Midfielder",
          "Defender",
          "Forward",
          "Midfielder",
          "Forward",
          "Midfielder",
          "Midfielder",
          "Midfielder"
         ],
         "xaxis": "x",
         "y": [
          2.380952380952381,
          1.6981132075471699,
          1.4,
          1.5555555555555556,
          1.3333333333333333,
          1.1864406779661016,
          0.6779661016949152,
          0.4444444444444444,
          0.4444444444444444,
          0.4444444444444444,
          0.2,
          1.1931818181818181,
          0.2933673469387755,
          0,
          0,
          0,
          0,
          0
         ],
         "yaxis": "y"
        },
        {
         "customdata": [
          [
           "nathan redmond"
          ],
          [
           "jannik vestergaard"
          ],
          [
           "danny ings"
          ],
          [
           "angus gunn"
          ],
          [
           "kevin danso"
          ],
          [
           "james ward-prowse"
          ],
          [
           "sofiane boufal"
          ],
          [
           "moussa djenepo"
          ],
          [
           "jan bednarek"
          ],
          [
           "pierre-emile højbjerg"
          ],
          [
           "cédric soares"
          ],
          [
           "shane long"
          ],
          [
           "stuart armstrong"
          ],
          [
           "oriol romeu vidal"
          ],
          [
           "jack stephens"
          ],
          [
           "yan valery"
          ],
          [
           "ryan bertrand"
          ],
          [
           "maya yoshida"
          ],
          [
           "michael obafemi"
          ],
          [
           "che adams"
          ]
         ],
         "hoverlabel": {
          "namelength": 0
         },
         "hovertemplate": "team_name=Southampton<br>Position=%{x}<br>Points per Cost=%{marker.size}<br>full_name=%{customdata[0]}",
         "legendgroup": "team_name=Southampton",
         "marker": {
          "color": "#FF6692",
          "size": [
           5.3155245838172664,
           1.9481481481481482,
           4.1190476190476195,
           2.888888888888889,
           0.8888888888888888,
           3.4519774011299433,
           0.5454545454545454,
           0.5555555555555555,
           0.47619047619047616,
           2.530612244897959,
           1.8367346938775508,
           2.808641975308642,
           2.667824074074074,
           0.29523809523809524,
           0.5363636363636363,
           0.945839874411303,
           0.533751962323391,
           0.8911483253588517,
           0.5142857142857142,
           0
          ],
          "sizemode": "area",
          "sizeref": 0.025457875457875458,
          "symbol": "circle"
         },
         "mode": "markers",
         "name": "team_name=Southampton",
         "showlegend": true,
         "type": "scatter",
         "x": [
          "Midfielder",
          "Defender",
          "Forward",
          "Goalkeeper",
          "Defender",
          "Midfielder",
          "Midfielder",
          "Midfielder",
          "Defender",
          "Midfielder",
          "Defender",
          "Forward",
          "Midfielder",
          "Midfielder",
          "Defender",
          "Defender",
          "Defender",
          "Defender",
          "Forward",
          "Forward"
         ],
         "xaxis": "x",
         "y": [
          5.3155245838172664,
          1.9481481481481482,
          4.1190476190476195,
          2.888888888888889,
          0.8888888888888888,
          3.4519774011299433,
          0.5454545454545454,
          0.5555555555555555,
          0.47619047619047616,
          2.530612244897959,
          1.8367346938775508,
          2.808641975308642,
          2.667824074074074,
          0.29523809523809524,
          0.5363636363636363,
          0.945839874411303,
          0.533751962323391,
          0.8911483253588517,
          0.5142857142857142,
          0
         ],
         "yaxis": "y"
        },
        {
         "customdata": [
          [
           "fabian schär"
          ],
          [
           "martin dubravka"
          ],
          [
           "joelinton cássio apolinário de lira"
          ],
          [
           "matt ritchie"
          ],
          [
           "jamaal lascelles"
          ],
          [
           "isaac hayden"
          ],
          [
           "jonjo shelvey"
          ],
          [
           "emil krafth"
          ],
          [
           "christian atsu"
          ],
          [
           "paul dummett"
          ],
          [
           "sean longstaff"
          ],
          [
           "javier manquillo"
          ],
          [
           "sung-yueng ki"
          ],
          [
           "federico fernández"
          ],
          [
           "miguel almirón"
          ],
          [
           "yoshinori muto"
          ],
          [
           "jetro willems"
          ],
          [
           "allan saint-maximin"
          ]
         ],
         "hoverlabel": {
          "namelength": 0
         },
         "hovertemplate": "team_name=Newcastle<br>Position=%{x}<br>Points per Cost=%{marker.size}<br>full_name=%{customdata[0]}",
         "legendgroup": "team_name=Newcastle",
         "marker": {
          "color": "#B6E880",
          "size": [
           5.285714285714286,
           5.534883720930233,
           0.847457627118644,
           3.6111111111111103,
           3.728395061728395,
           2.835249042145594,
           1.911111111111111,
           0.6666666666666666,
           1.4320987654320985,
           2.177777777777778,
           1.0846153846153848,
           2.4545454545454546,
           0.5800214822771214,
           1.3365800865800865,
           0.5447941888619855,
           0.23611111111111108,
           0,
           0
          ],
          "sizemode": "area",
          "sizeref": 0.025457875457875458,
          "symbol": "circle"
         },
         "mode": "markers",
         "name": "team_name=Newcastle",
         "showlegend": true,
         "type": "scatter",
         "x": [
          "Defender",
          "Goalkeeper",
          "Forward",
          "Defender",
          "Defender",
          "Midfielder",
          "Midfielder",
          "Defender",
          "Midfielder",
          "Defender",
          "Midfielder",
          "Defender",
          "Midfielder",
          "Defender",
          "Midfielder",
          "Forward",
          "Defender",
          "Midfielder"
         ],
         "xaxis": "x",
         "y": [
          5.285714285714286,
          5.534883720930233,
          0.847457627118644,
          3.6111111111111103,
          3.728395061728395,
          2.835249042145594,
          1.911111111111111,
          0.6666666666666666,
          1.4320987654320985,
          2.177777777777778,
          1.0846153846153848,
          2.4545454545454546,
          0.5800214822771214,
          1.3365800865800865,
          0.5447941888619855,
          0.23611111111111108,
          0,
          0
         ],
         "yaxis": "y"
        },
        {
         "customdata": [
          [
           "will hughes"
          ],
          [
           "andre gray"
          ],
          [
           "ben foster"
          ],
          [
           "gerard deulofeu"
          ],
          [
           "troy deeney"
          ],
          [
           "roberto pereyra"
          ],
          [
           "abdoulaye doucouré"
          ],
          [
           "daryl janmaat"
          ],
          [
           "josé holebas"
          ],
          [
           "etienne capoue"
          ],
          [
           "tom cleverley"
          ],
          [
           "craig cathcart"
          ],
          [
           "francisco femenía far"
          ],
          [
           "domingos quina"
          ],
          [
           "danny welbeck"
          ],
          [
           "isaac success ajayi"
          ],
          [
           "christian kabasele"
          ],
          [
           "nathaniel chalobah"
          ],
          [
           "ismaïla sarr"
          ],
          [
           "craig dawson"
          ]
         ],
         "hoverlabel": {
          "namelength": 0
         },
         "hovertemplate": "team_name=Watford<br>Position=%{x}<br>Points per Cost=%{marker.size}<br>full_name=%{customdata[0]}",
         "legendgroup": "team_name=Watford",
         "marker": {
          "color": "#FF97FF",
          "size": [
           3.4545454545454546,
           3.697996918335901,
           5.228377065111759,
           5.6722689075630255,
           4.257703081232493,
           4.489942528735632,
           4.047303271441202,
           1.7224880382775116,
           3.2123655913978495,
           1.105442176870748,
           0.6632653061224489,
           1.9772727272727268,
           1.34297520661157,
           0.691358024691358,
           0.6666666666666666,
           0.2869897959183673,
           0,
           0,
           0,
           0
          ],
          "sizemode": "area",
          "sizeref": 0.025457875457875458,
          "symbol": "circle"
         },
         "mode": "markers",
         "name": "team_name=Watford",
         "showlegend": true,
         "type": "scatter",
         "x": [
          "Midfielder",
          "Forward",
          "Goalkeeper",
          "Forward",
          "Forward",
          "Midfielder",
          "Midfielder",
          "Defender",
          "Defender",
          "Midfielder",
          "Midfielder",
          "Defender",
          "Defender",
          "Midfielder",
          "Forward",
          "Forward",
          "Defender",
          "Midfielder",
          "Midfielder",
          "Defender"
         ],
         "xaxis": "x",
         "y": [
          3.4545454545454546,
          3.697996918335901,
          5.228377065111759,
          5.6722689075630255,
          4.257703081232493,
          4.489942528735632,
          4.047303271441202,
          1.7224880382775116,
          3.2123655913978495,
          1.105442176870748,
          0.6632653061224489,
          1.9772727272727268,
          1.34297520661157,
          0.691358024691358,
          0.6666666666666666,
          0.2869897959183673,
          0,
          0,
          0,
          0
         ],
         "yaxis": "y"
        },
        {
         "customdata": [
          [
           "shane duffy"
          ],
          [
           "mathew ryan"
          ],
          [
           "pascal groß"
          ],
          [
           "leandro trossard"
          ],
          [
           "lewis dunk"
          ],
          [
           "glenn murray"
          ],
          [
           "neal maupay"
          ],
          [
           "solomon march"
          ],
          [
           "davy pröpper"
          ],
          [
           "dale stephens"
          ],
          [
           "dan burn"
          ],
          [
           "florin andone"
          ],
          [
           "aaron mooy"
          ],
          [
           "jürgen locadia"
          ],
          [
           "martín montoya"
          ],
          [
           "aaron connolly"
          ],
          [
           "bernardo fernandes da silva junior"
          ]
         ],
         "hoverlabel": {
          "namelength": 0
         },
         "hovertemplate": "team_name=Brighton<br>Position=%{x}<br>Points per Cost=%{marker.size}<br>full_name=%{customdata[0]}",
         "legendgroup": "team_name=Brighton",
         "marker": {
          "color": "#FECB52",
          "size": [
           4.560526315789473,
           3.9816933638443937,
           2.8249336870026522,
           0.8333333333333334,
           2.673913043478261,
           5.147783251231528,
           0.8333333333333334,
           3.1344845630559917,
           1.5941176470588236,
           0.9084967320261437,
           0.2222222222222222,
           1.016,
           2.1700680272108843,
           1.1177248677248677,
           0,
           0,
           0
          ],
          "sizemode": "area",
          "sizeref": 0.025457875457875458,
          "symbol": "circle"
         },
         "mode": "markers",
         "name": "team_name=Brighton",
         "showlegend": true,
         "type": "scatter",
         "x": [
          "Defender",
          "Goalkeeper",
          "Midfielder",
          "Midfielder",
          "Defender",
          "Forward",
          "Forward",
          "Midfielder",
          "Midfielder",
          "Midfielder",
          "Defender",
          "Forward",
          "Midfielder",
          "Forward",
          "Defender",
          "Forward",
          "Defender"
         ],
         "xaxis": "x",
         "y": [
          4.560526315789473,
          3.9816933638443937,
          2.8249336870026522,
          0.8333333333333334,
          2.673913043478261,
          5.147783251231528,
          0.8333333333333334,
          3.1344845630559917,
          1.5941176470588236,
          0.9084967320261437,
          0.2222222222222222,
          1.016,
          2.1700680272108843,
          1.1177248677248677,
          0,
          0,
          0
         ],
         "yaxis": "y"
        }
       ],
       "layout": {
        "height": 600,
        "legend": {
         "itemsizing": "constant",
         "tracegroupgap": 0
        },
        "margin": {
         "t": 60
        },
        "template": {
         "data": {
          "bar": [
           {
            "error_x": {
             "color": "#2a3f5f"
            },
            "error_y": {
             "color": "#2a3f5f"
            },
            "marker": {
             "line": {
              "color": "#E5ECF6",
              "width": 0.5
             }
            },
            "type": "bar"
           }
          ],
          "barpolar": [
           {
            "marker": {
             "line": {
              "color": "#E5ECF6",
              "width": 0.5
             }
            },
            "type": "barpolar"
           }
          ],
          "carpet": [
           {
            "aaxis": {
             "endlinecolor": "#2a3f5f",
             "gridcolor": "white",
             "linecolor": "white",
             "minorgridcolor": "white",
             "startlinecolor": "#2a3f5f"
            },
            "baxis": {
             "endlinecolor": "#2a3f5f",
             "gridcolor": "white",
             "linecolor": "white",
             "minorgridcolor": "white",
             "startlinecolor": "#2a3f5f"
            },
            "type": "carpet"
           }
          ],
          "choropleth": [
           {
            "colorbar": {
             "outlinewidth": 0,
             "ticks": ""
            },
            "type": "choropleth"
           }
          ],
          "contour": [
           {
            "colorbar": {
             "outlinewidth": 0,
             "ticks": ""
            },
            "colorscale": [
             [
              0,
              "#0d0887"
             ],
             [
              0.1111111111111111,
              "#46039f"
             ],
             [
              0.2222222222222222,
              "#7201a8"
             ],
             [
              0.3333333333333333,
              "#9c179e"
             ],
             [
              0.4444444444444444,
              "#bd3786"
             ],
             [
              0.5555555555555556,
              "#d8576b"
             ],
             [
              0.6666666666666666,
              "#ed7953"
             ],
             [
              0.7777777777777778,
              "#fb9f3a"
             ],
             [
              0.8888888888888888,
              "#fdca26"
             ],
             [
              1,
              "#f0f921"
             ]
            ],
            "type": "contour"
           }
          ],
          "contourcarpet": [
           {
            "colorbar": {
             "outlinewidth": 0,
             "ticks": ""
            },
            "type": "contourcarpet"
           }
          ],
          "heatmap": [
           {
            "colorbar": {
             "outlinewidth": 0,
             "ticks": ""
            },
            "colorscale": [
             [
              0,
              "#0d0887"
             ],
             [
              0.1111111111111111,
              "#46039f"
             ],
             [
              0.2222222222222222,
              "#7201a8"
             ],
             [
              0.3333333333333333,
              "#9c179e"
             ],
             [
              0.4444444444444444,
              "#bd3786"
             ],
             [
              0.5555555555555556,
              "#d8576b"
             ],
             [
              0.6666666666666666,
              "#ed7953"
             ],
             [
              0.7777777777777778,
              "#fb9f3a"
             ],
             [
              0.8888888888888888,
              "#fdca26"
             ],
             [
              1,
              "#f0f921"
             ]
            ],
            "type": "heatmap"
           }
          ],
          "heatmapgl": [
           {
            "colorbar": {
             "outlinewidth": 0,
             "ticks": ""
            },
            "colorscale": [
             [
              0,
              "#0d0887"
             ],
             [
              0.1111111111111111,
              "#46039f"
             ],
             [
              0.2222222222222222,
              "#7201a8"
             ],
             [
              0.3333333333333333,
              "#9c179e"
             ],
             [
              0.4444444444444444,
              "#bd3786"
             ],
             [
              0.5555555555555556,
              "#d8576b"
             ],
             [
              0.6666666666666666,
              "#ed7953"
             ],
             [
              0.7777777777777778,
              "#fb9f3a"
             ],
             [
              0.8888888888888888,
              "#fdca26"
             ],
             [
              1,
              "#f0f921"
             ]
            ],
            "type": "heatmapgl"
           }
          ],
          "histogram": [
           {
            "marker": {
             "colorbar": {
              "outlinewidth": 0,
              "ticks": ""
             }
            },
            "type": "histogram"
           }
          ],
          "histogram2d": [
           {
            "colorbar": {
             "outlinewidth": 0,
             "ticks": ""
            },
            "colorscale": [
             [
              0,
              "#0d0887"
             ],
             [
              0.1111111111111111,
              "#46039f"
             ],
             [
              0.2222222222222222,
              "#7201a8"
             ],
             [
              0.3333333333333333,
              "#9c179e"
             ],
             [
              0.4444444444444444,
              "#bd3786"
             ],
             [
              0.5555555555555556,
              "#d8576b"
             ],
             [
              0.6666666666666666,
              "#ed7953"
             ],
             [
              0.7777777777777778,
              "#fb9f3a"
             ],
             [
              0.8888888888888888,
              "#fdca26"
             ],
             [
              1,
              "#f0f921"
             ]
            ],
            "type": "histogram2d"
           }
          ],
          "histogram2dcontour": [
           {
            "colorbar": {
             "outlinewidth": 0,
             "ticks": ""
            },
            "colorscale": [
             [
              0,
              "#0d0887"
             ],
             [
              0.1111111111111111,
              "#46039f"
             ],
             [
              0.2222222222222222,
              "#7201a8"
             ],
             [
              0.3333333333333333,
              "#9c179e"
             ],
             [
              0.4444444444444444,
              "#bd3786"
             ],
             [
              0.5555555555555556,
              "#d8576b"
             ],
             [
              0.6666666666666666,
              "#ed7953"
             ],
             [
              0.7777777777777778,
              "#fb9f3a"
             ],
             [
              0.8888888888888888,
              "#fdca26"
             ],
             [
              1,
              "#f0f921"
             ]
            ],
            "type": "histogram2dcontour"
           }
          ],
          "mesh3d": [
           {
            "colorbar": {
             "outlinewidth": 0,
             "ticks": ""
            },
            "type": "mesh3d"
           }
          ],
          "parcoords": [
           {
            "line": {
             "colorbar": {
              "outlinewidth": 0,
              "ticks": ""
             }
            },
            "type": "parcoords"
           }
          ],
          "scatter": [
           {
            "marker": {
             "colorbar": {
              "outlinewidth": 0,
              "ticks": ""
             }
            },
            "type": "scatter"
           }
          ],
          "scatter3d": [
           {
            "line": {
             "colorbar": {
              "outlinewidth": 0,
              "ticks": ""
             }
            },
            "marker": {
             "colorbar": {
              "outlinewidth": 0,
              "ticks": ""
             }
            },
            "type": "scatter3d"
           }
          ],
          "scattercarpet": [
           {
            "marker": {
             "colorbar": {
              "outlinewidth": 0,
              "ticks": ""
             }
            },
            "type": "scattercarpet"
           }
          ],
          "scattergeo": [
           {
            "marker": {
             "colorbar": {
              "outlinewidth": 0,
              "ticks": ""
             }
            },
            "type": "scattergeo"
           }
          ],
          "scattergl": [
           {
            "marker": {
             "colorbar": {
              "outlinewidth": 0,
              "ticks": ""
             }
            },
            "type": "scattergl"
           }
          ],
          "scattermapbox": [
           {
            "marker": {
             "colorbar": {
              "outlinewidth": 0,
              "ticks": ""
             }
            },
            "type": "scattermapbox"
           }
          ],
          "scatterpolar": [
           {
            "marker": {
             "colorbar": {
              "outlinewidth": 0,
              "ticks": ""
             }
            },
            "type": "scatterpolar"
           }
          ],
          "scatterpolargl": [
           {
            "marker": {
             "colorbar": {
              "outlinewidth": 0,
              "ticks": ""
             }
            },
            "type": "scatterpolargl"
           }
          ],
          "scatterternary": [
           {
            "marker": {
             "colorbar": {
              "outlinewidth": 0,
              "ticks": ""
             }
            },
            "type": "scatterternary"
           }
          ],
          "surface": [
           {
            "colorbar": {
             "outlinewidth": 0,
             "ticks": ""
            },
            "colorscale": [
             [
              0,
              "#0d0887"
             ],
             [
              0.1111111111111111,
              "#46039f"
             ],
             [
              0.2222222222222222,
              "#7201a8"
             ],
             [
              0.3333333333333333,
              "#9c179e"
             ],
             [
              0.4444444444444444,
              "#bd3786"
             ],
             [
              0.5555555555555556,
              "#d8576b"
             ],
             [
              0.6666666666666666,
              "#ed7953"
             ],
             [
              0.7777777777777778,
              "#fb9f3a"
             ],
             [
              0.8888888888888888,
              "#fdca26"
             ],
             [
              1,
              "#f0f921"
             ]
            ],
            "type": "surface"
           }
          ],
          "table": [
           {
            "cells": {
             "fill": {
              "color": "#EBF0F8"
             },
             "line": {
              "color": "white"
             }
            },
            "header": {
             "fill": {
              "color": "#C8D4E3"
             },
             "line": {
              "color": "white"
             }
            },
            "type": "table"
           }
          ]
         },
         "layout": {
          "annotationdefaults": {
           "arrowcolor": "#2a3f5f",
           "arrowhead": 0,
           "arrowwidth": 1
          },
          "colorscale": {
           "diverging": [
            [
             0,
             "#8e0152"
            ],
            [
             0.1,
             "#c51b7d"
            ],
            [
             0.2,
             "#de77ae"
            ],
            [
             0.3,
             "#f1b6da"
            ],
            [
             0.4,
             "#fde0ef"
            ],
            [
             0.5,
             "#f7f7f7"
            ],
            [
             0.6,
             "#e6f5d0"
            ],
            [
             0.7,
             "#b8e186"
            ],
            [
             0.8,
             "#7fbc41"
            ],
            [
             0.9,
             "#4d9221"
            ],
            [
             1,
             "#276419"
            ]
           ],
           "sequential": [
            [
             0,
             "#0d0887"
            ],
            [
             0.1111111111111111,
             "#46039f"
            ],
            [
             0.2222222222222222,
             "#7201a8"
            ],
            [
             0.3333333333333333,
             "#9c179e"
            ],
            [
             0.4444444444444444,
             "#bd3786"
            ],
            [
             0.5555555555555556,
             "#d8576b"
            ],
            [
             0.6666666666666666,
             "#ed7953"
            ],
            [
             0.7777777777777778,
             "#fb9f3a"
            ],
            [
             0.8888888888888888,
             "#fdca26"
            ],
            [
             1,
             "#f0f921"
            ]
           ],
           "sequentialminus": [
            [
             0,
             "#0d0887"
            ],
            [
             0.1111111111111111,
             "#46039f"
            ],
            [
             0.2222222222222222,
             "#7201a8"
            ],
            [
             0.3333333333333333,
             "#9c179e"
            ],
            [
             0.4444444444444444,
             "#bd3786"
            ],
            [
             0.5555555555555556,
             "#d8576b"
            ],
            [
             0.6666666666666666,
             "#ed7953"
            ],
            [
             0.7777777777777778,
             "#fb9f3a"
            ],
            [
             0.8888888888888888,
             "#fdca26"
            ],
            [
             1,
             "#f0f921"
            ]
           ]
          },
          "colorway": [
           "#636efa",
           "#EF553B",
           "#00cc96",
           "#ab63fa",
           "#FFA15A",
           "#19d3f3",
           "#FF6692",
           "#B6E880",
           "#FF97FF",
           "#FECB52"
          ],
          "font": {
           "color": "#2a3f5f"
          },
          "geo": {
           "bgcolor": "white",
           "lakecolor": "white",
           "landcolor": "#E5ECF6",
           "showlakes": true,
           "showland": true,
           "subunitcolor": "white"
          },
          "hoverlabel": {
           "align": "left"
          },
          "hovermode": "closest",
          "mapbox": {
           "style": "light"
          },
          "paper_bgcolor": "white",
          "plot_bgcolor": "#E5ECF6",
          "polar": {
           "angularaxis": {
            "gridcolor": "white",
            "linecolor": "white",
            "ticks": ""
           },
           "bgcolor": "#E5ECF6",
           "radialaxis": {
            "gridcolor": "white",
            "linecolor": "white",
            "ticks": ""
           }
          },
          "scene": {
           "xaxis": {
            "backgroundcolor": "#E5ECF6",
            "gridcolor": "white",
            "gridwidth": 2,
            "linecolor": "white",
            "showbackground": true,
            "ticks": "",
            "zerolinecolor": "white"
           },
           "yaxis": {
            "backgroundcolor": "#E5ECF6",
            "gridcolor": "white",
            "gridwidth": 2,
            "linecolor": "white",
            "showbackground": true,
            "ticks": "",
            "zerolinecolor": "white"
           },
           "zaxis": {
            "backgroundcolor": "#E5ECF6",
            "gridcolor": "white",
            "gridwidth": 2,
            "linecolor": "white",
            "showbackground": true,
            "ticks": "",
            "zerolinecolor": "white"
           }
          },
          "shapedefaults": {
           "line": {
            "color": "#2a3f5f"
           }
          },
          "ternary": {
           "aaxis": {
            "gridcolor": "white",
            "linecolor": "white",
            "ticks": ""
           },
           "baxis": {
            "gridcolor": "white",
            "linecolor": "white",
            "ticks": ""
           },
           "bgcolor": "#E5ECF6",
           "caxis": {
            "gridcolor": "white",
            "linecolor": "white",
            "ticks": ""
           }
          },
          "title": {
           "x": 0.05
          },
          "xaxis": {
           "automargin": true,
           "gridcolor": "white",
           "linecolor": "white",
           "ticks": "",
           "zerolinecolor": "white",
           "zerolinewidth": 2
          },
          "yaxis": {
           "automargin": true,
           "gridcolor": "white",
           "linecolor": "white",
           "ticks": "",
           "zerolinecolor": "white",
           "zerolinewidth": 2
          }
         }
        },
        "title": {
         "text": "Positions and their points per cost"
        },
        "xaxis": {
         "anchor": "y",
         "domain": [
          0,
          0.98
         ],
         "title": {
          "text": "Position"
         }
        },
        "yaxis": {
         "anchor": "x",
         "domain": [
          0,
          1
         ],
         "title": {
          "text": "Points per Cost"
         }
        }
       }
      },
      "text/html": [
       "<div>\n",
       "        \n",
       "        \n",
       "            <div id=\"709c7026-272d-45b7-9fe1-efa0d8da31c3\" class=\"plotly-graph-div\" style=\"height:600px; width:100%;\"></div>\n",
       "            <script type=\"text/javascript\">\n",
       "                require([\"plotly\"], function(Plotly) {\n",
       "                    window.PLOTLYENV=window.PLOTLYENV || {};\n",
       "                    \n",
       "                if (document.getElementById(\"709c7026-272d-45b7-9fe1-efa0d8da31c3\")) {\n",
       "                    Plotly.newPlot(\n",
       "                        '709c7026-272d-45b7-9fe1-efa0d8da31c3',\n",
       "                        [{\"customdata\": [[\"sergio ag\\u00fcero\"], [\"raheem sterling\"], [\"kevin de bruyne\"], [\"david silva\"], [\"ederson santana de moraes\"], [\"kyle walker\"], [\"riyad mahrez\"], [\"aymeric laporte\"], [\"bernardo mota veiga de carvalho e silva\"], [\"oleksandr zinchenko\"], [\"john stones\"], [\"gabriel fernando de jesus\"], [\"nicol\\u00e1s otamendi\"], [\"ilkay g\\u00fcndogan\"], [\"rodrigo hernandez\"], [\"fernando luiz rosa\"], [\"phil foden\"], [\"jo\\u00e3o pedro cavaco cancelo\"]], \"hoverlabel\": {\"namelength\": 0}, \"hovertemplate\": \"team_name=Man City<br>Position=%{x}<br>Points per Cost=%{marker.size}<br>full_name=%{customdata[0]}\", \"legendgroup\": \"team_name=Man City\", \"marker\": {\"color\": \"#636efa\", \"size\": [6.6339066339066335, 7.449721865639709, 2.9835847382431226, 6.1315315315315315, 7.704918032786885, 7.130630630630631, 4.0910815939278935, 7.744391025641025, 5.552268244575938, 2.0138888888888893, 3.9407407407407407, 2.3412563667232598, 3.306878306878306, 4.929919137466307, 0.36363636363636365, 2.2798742138364783, 0.8760107816711591, 0.0], \"sizemode\": \"area\", \"sizeref\": 0.025457875457875458, \"symbol\": \"circle\"}, \"mode\": \"markers\", \"name\": \"team_name=Man City\", \"showlegend\": true, \"type\": \"scatter\", \"x\": [\"Forward\", \"Midfielder\", \"Midfielder\", \"Midfielder\", \"Goalkeeper\", \"Defender\", \"Midfielder\", \"Defender\", \"Midfielder\", \"Defender\", \"Defender\", \"Forward\", \"Defender\", \"Midfielder\", \"Midfielder\", \"Midfielder\", \"Midfielder\", \"Defender\"], \"xaxis\": \"x\", \"y\": [6.6339066339066335, 7.449721865639709, 2.9835847382431226, 6.1315315315315315, 7.704918032786885, 7.130630630630631, 4.0910815939278935, 7.744391025641025, 5.552268244575938, 2.0138888888888893, 3.9407407407407407, 2.3412563667232598, 3.306878306878306, 4.929919137466307, 0.36363636363636365, 2.2798742138364783, 0.8760107816711591, 0.0], \"yaxis\": \"y\"}, {\"customdata\": [[\"mohamed salah\"], [\"sadio man\\u00e9\"], [\"roberto firmino\"], [\"trent alexander-arnold\"], [\"virgil van dijk\"], [\"andrew robertson\"], [\"joel matip\"], [\"alisson ramses becker\"], [\"divock origi\"], [\"james milner\"], [\"adri\\u00e1n san miguel del castillo\"], [\"georginio wijnaldum\"], [\"fabio henrique tavares\"], [\"xherdan shaqiri\"], [\"jordan henderson\"], [\"joseph gomez\"], [\"adam lallana\"], [\"alex oxlade-chamberlain\"]], \"hoverlabel\": {\"namelength\": 0}, \"hovertemplate\": \"team_name=Liverpool<br>Position=%{x}<br>Points per Cost=%{marker.size}<br>full_name=%{customdata[0]}\", \"legendgroup\": \"team_name=Liverpool\", \"marker\": {\"color\": \"#EF553B\", \"size\": [7.885714285714287, 7.121739130434783, 5.626038781163435, 9.088775074690568, 10.183150183150182, 9.51449275362319, 4.725925925925925, 8.399646330680813, 2.2545454545454544, 4.877450980392156, 1.0869565217391306, 3.6270396270396272, 1.7840909090909092, 4.114285714285714, 2.04040404040404, 2.440087145969499, 0.3934624697336562, 0.0], \"sizemode\": \"area\", \"sizeref\": 0.025457875457875458, \"symbol\": \"circle\"}, \"mode\": \"markers\", \"name\": \"team_name=Liverpool\", \"showlegend\": true, \"type\": \"scatter\", \"x\": [\"Midfielder\", \"Midfielder\", \"Forward\", \"Defender\", \"Defender\", \"Defender\", \"Defender\", \"Goalkeeper\", \"Forward\", \"Midfielder\", \"Goalkeeper\", \"Midfielder\", \"Midfielder\", \"Midfielder\", \"Midfielder\", \"Defender\", \"Midfielder\", \"Midfielder\"], \"xaxis\": \"x\", \"y\": [7.885714285714287, 7.121739130434783, 5.626038781163435, 9.088775074690568, 10.183150183150182, 9.51449275362319, 4.725925925925925, 8.399646330680813, 2.2545454545454544, 4.877450980392156, 1.0869565217391306, 3.6270396270396272, 1.7840909090909092, 4.114285714285714, 2.04040404040404, 2.440087145969499, 0.3934624697336562, 0.0], \"yaxis\": \"y\"}, {\"customdata\": [[\"teemu pukki\"], [\"todd cantwell\"], [\"emiliano buend\\u00eda\"], [\"tom trybull\"], [\"jamal lewis\"], [\"marco stiepermann\"], [\"tim krul\"], [\"moritz leitner\"], [\"christoph zimmermann\"], [\"dennis srbeny\"], [\"mario vrancic\"], [\"onel hern\\u00e1ndez\"], [\"kenny mclean\"], [\"alexander tettey\"], [\"josip drmic\"], [\"sam byram\"], [\"ibrahim amadou\"], [\"ben godfrey\"], [\"grant hanley\"], [\"maximillian aarons\"]], \"hoverlabel\": {\"namelength\": 0}, \"hovertemplate\": \"team_name=Norwich<br>Position=%{x}<br>Points per Cost=%{marker.size}<br>full_name=%{customdata[0]}\", \"legendgroup\": \"team_name=Norwich\", \"marker\": {\"color\": \"#00cc96\", \"size\": [4.142857142857143, 2.7083333333333335, 0.8333333333333334, 0.2222222222222222, 0.0, 0.0, 0.0, 0.0, 0.0, 0.0, 0.0, 0.0, 0.0, 0.0, 0.0, 0.0, 0.0, 0.0, 0.0, 0.0], \"sizemode\": \"area\", \"sizeref\": 0.025457875457875458, \"symbol\": \"circle\"}, \"mode\": \"markers\", \"name\": \"team_name=Norwich\", \"showlegend\": true, \"type\": \"scatter\", \"x\": [\"Forward\", \"Midfielder\", \"Midfielder\", \"Midfielder\", \"Defender\", \"Midfielder\", \"Goalkeeper\", \"Midfielder\", \"Defender\", \"Forward\", \"Midfielder\", \"Midfielder\", \"Midfielder\", \"Midfielder\", \"Forward\", \"Defender\", \"Midfielder\", \"Defender\", \"Defender\", \"Defender\"], \"xaxis\": \"x\", \"y\": [4.142857142857143, 2.7083333333333335, 0.8333333333333334, 0.2222222222222222, 0.0, 0.0, 0.0, 0.0, 0.0, 0.0, 0.0, 0.0, 0.0, 0.0, 0.0, 0.0, 0.0, 0.0, 0.0, 0.0], \"yaxis\": \"y\"}, {\"customdata\": [[\"pierre-emerick aubameyang\"], [\"alexandre lacazette\"], [\"daniel ceballos fern\\u00e1ndez\"], [\"bernd leno\"], [\"ainsley maitland-niles\"], [\"nacho monreal\"], [\"david luiz moreira marinho\"], [\"lucas torreira\"], [\"nicolas p\\u00e9p\\u00e9\"], [\"sokratis papastathopoulos\"], [\"henrikh mkhitaryan\"], [\"calum chambers\"], [\"matteo guendouzi\"], [\"granit xhaka\"], [\"sead kolasinac\"], [\"joseph willock\"], [\"reiss nelson\"], [\"gabriel teodoro martinelli silva\"]], \"hoverlabel\": {\"namelength\": 0}, \"hovertemplate\": \"team_name=Arsenal<br>Position=%{x}<br>Points per Cost=%{marker.size}<br>full_name=%{customdata[0]}\", \"legendgroup\": \"team_name=Arsenal\", \"marker\": {\"color\": \"#ab63fa\", \"size\": [6.586363636363637, 5.709686450167974, 1.5789473684210527, 4.488888888888889, 1.647058823529412, 3.528, 6.831812255541069, 2.7082184225041366, 0.3191489361702127, 1.6344827586206896, 3.623188405797101, 0.5656565656565656, 0.1403508771929824, 2.7517361111111107, 3.0626780626780623, 0.2, 0.0, 0.0], \"sizemode\": \"area\", \"sizeref\": 0.025457875457875458, \"symbol\": \"circle\"}, \"mode\": \"markers\", \"name\": \"team_name=Arsenal\", \"showlegend\": true, \"type\": \"scatter\", \"x\": [\"Forward\", \"Forward\", \"Midfielder\", \"Goalkeeper\", \"Defender\", \"Defender\", \"Defender\", \"Midfielder\", \"Midfielder\", \"Defender\", \"Midfielder\", \"Defender\", \"Midfielder\", \"Midfielder\", \"Defender\", \"Midfielder\", \"Midfielder\", \"Forward\"], \"xaxis\": \"x\", \"y\": [6.586363636363637, 5.709686450167974, 1.5789473684210527, 4.488888888888889, 1.647058823529412, 3.528, 6.831812255541069, 2.7082184225041366, 0.3191489361702127, 1.6344827586206896, 3.623188405797101, 0.5656565656565656, 0.1403508771929824, 2.7517361111111107, 3.0626780626780623, 0.2, 0.0, 0.0], \"yaxis\": \"y\"}, {\"customdata\": [[\"tammy abraham\"], [\"mason mount\"], [\"marcos alonso\"], [\"christian pulisic\"], [\"c\\u00e9sar azpilicueta\"], [\"pedro rodr\\u00edguez ledesma\"], [\"kepa arrizabalaga\"], [\"jorge luiz frello filho\"], [\"mateo kovacic\"], [\"willian borges da silva\"], [\"ross barkley\"], [\"n'golo kant\\u00e9\"], [\"michy batshuayi\"], [\"olivier giroud\"], [\"kurt zouma\"], [\"andreas christensen\"], [\"fikayo tomori\"], [\"billy gilmour\"], [\"emerson palmieri dos santos\"]], \"hoverlabel\": {\"namelength\": 0}, \"hovertemplate\": \"team_name=Chelsea<br>Position=%{x}<br>Points per Cost=%{marker.size}<br>full_name=%{customdata[0]}\", \"legendgroup\": \"team_name=Chelsea\", \"marker\": {\"color\": \"#FFA15A\", \"size\": [2.9166666666666665, 2.1875, 7.734375, 0.8, 6.194511702986278, 4.2272727272727275, 5.427272727272728, 2.204878048780488, 1.4343434343434343, 3.330612244897959, 3.1810344827586206, 4.252631578947367, 1.9154228855721391, 1.394686907020873, 3.690016547159405, 0.2, 0.0, 0.0, 0.0], \"sizemode\": \"area\", \"sizeref\": 0.025457875457875458, \"symbol\": \"circle\"}, \"mode\": \"markers\", \"name\": \"team_name=Chelsea\", \"showlegend\": true, \"type\": \"scatter\", \"x\": [\"Forward\", \"Midfielder\", \"Defender\", \"Midfielder\", \"Defender\", \"Midfielder\", \"Goalkeeper\", \"Midfielder\", \"Midfielder\", \"Midfielder\", \"Midfielder\", \"Midfielder\", \"Forward\", \"Forward\", \"Defender\", \"Defender\", \"Defender\", \"Midfielder\", \"Defender\"], \"xaxis\": \"x\", \"y\": [2.9166666666666665, 2.1875, 7.734375, 0.8, 6.194511702986278, 4.2272727272727275, 5.427272727272728, 2.204878048780488, 1.4343434343434343, 3.330612244897959, 3.1810344827586206, 4.252631578947367, 1.9154228855721391, 1.394686907020873, 3.690016547159405, 0.2, 0.0, 0.0, 0.0], \"yaxis\": \"y\"}, {\"customdata\": [[\"jamie vardy\"], [\"ricardo domingos barbosa pereira\"], [\"james maddison\"], [\"youri tielemans\"], [\"benjamin chilwell\"], [\"ayoze p\\u00e9rez\"], [\"kasper schmeichel\"], [\"jonny evans\"], [\"wilfred ndidi\"], [\"\\u00e7aglar s\\u00f6y\\u00fcnc\\u00fc\"], [\"harvey barnes\"], [\"wes morgan\"], [\"hamza choudhury\"], [\"demarai gray\"], [\"marc albrighton\"], [\"nampalys mendy\"], [\"christian fuchs\"], [\"dennis praet\"]], \"hoverlabel\": {\"namelength\": 0}, \"hovertemplate\": \"team_name=Leicester<br>Position=%{x}<br>Points per Cost=%{marker.size}<br>full_name=%{customdata[0]}\", \"legendgroup\": \"team_name=Leicester\", \"marker\": {\"color\": \"#19d3f3\", \"size\": [6.771141336487284, 6.326923076923077, 4.929577464788733, 3.2720588235294117, 4.717348927875244, 5.383064516129032, 4.5285714285714285, 3.3428571428571425, 2.3571428571428568, 1.0222222222222221, 1.6324710080285458, 3.4782608695652173, 0.45299145299145294, 2.7493261455525606, 1.7314814814814814, 0.5381944444444444, 0.0, 0.0], \"sizemode\": \"area\", \"sizeref\": 0.025457875457875458, \"symbol\": \"circle\"}, \"mode\": \"markers\", \"name\": \"team_name=Leicester\", \"showlegend\": true, \"type\": \"scatter\", \"x\": [\"Forward\", \"Defender\", \"Midfielder\", \"Midfielder\", \"Defender\", \"Midfielder\", \"Goalkeeper\", \"Defender\", \"Midfielder\", \"Defender\", \"Midfielder\", \"Defender\", \"Midfielder\", \"Midfielder\", \"Midfielder\", \"Midfielder\", \"Defender\", \"Midfielder\"], \"xaxis\": \"x\", \"y\": [6.771141336487284, 6.326923076923077, 4.929577464788733, 3.2720588235294117, 4.717348927875244, 5.383064516129032, 4.5285714285714285, 3.3428571428571425, 2.3571428571428568, 1.0222222222222221, 1.6324710080285458, 3.4782608695652173, 0.45299145299145294, 2.7493261455525606, 1.7314814814814814, 0.5381944444444444, 0.0, 0.0], \"yaxis\": \"y\"}, {\"customdata\": [[\"harry kane\"], [\"christian eriksen\"], [\"lucas rodrigues moura da silva\"], [\"heung-min son\"], [\"tanguy ndombele\"], [\"erik lamela\"], [\"hugo lloris\"], [\"moussa sissoko\"], [\"bamidele alli\"], [\"toby alderweireld\"], [\"jan vertonghen\"], [\"ben davies\"], [\"danny rose\"], [\"davinson s\\u00e1nchez\"], [\"kyle walker-peters\"], [\"harry winks\"], [\"oliver skipp\"], [\"georges-k\\u00e9vin nkoudou\"], [\"giovani lo celso\"]], \"hoverlabel\": {\"namelength\": 0}, \"hovertemplate\": \"team_name=Spurs<br>Position=%{x}<br>Points per Cost=%{marker.size}<br>full_name=%{customdata[0]}\", \"legendgroup\": \"team_name=Spurs\", \"marker\": {\"color\": \"#FF6692\", \"size\": [4.943181818181818, 5.270979020979021, 5.220077220077219, 5.40829346092504, 1.6666666666666667, 3.760869565217391, 6.707616707616707, 2.1818181818181817, 2.8044871794871793, 3.1445221445221447, 2.06726825266612, 1.6677115987460815, 2.73939393939394, 2.242424242424242, 1.0884353741496597, 0.5818181818181819, 0.17777777777777778, 0.15, 0.0], \"sizemode\": \"area\", \"sizeref\": 0.025457875457875458, \"symbol\": \"circle\"}, \"mode\": \"markers\", \"name\": \"team_name=Spurs\", \"showlegend\": true, \"type\": \"scatter\", \"x\": [\"Forward\", \"Midfielder\", \"Midfielder\", \"Midfielder\", \"Midfielder\", \"Midfielder\", \"Goalkeeper\", \"Midfielder\", \"Midfielder\", \"Defender\", \"Defender\", \"Defender\", \"Defender\", \"Defender\", \"Defender\", \"Midfielder\", \"Midfielder\", \"Midfielder\", \"Midfielder\"], \"xaxis\": \"x\", \"y\": [4.943181818181818, 5.270979020979021, 5.220077220077219, 5.40829346092504, 1.6666666666666667, 3.760869565217391, 6.707616707616707, 2.1818181818181817, 2.8044871794871793, 3.1445221445221447, 2.06726825266612, 1.6677115987460815, 2.73939393939394, 2.242424242424242, 1.0884353741496597, 0.5818181818181819, 0.17777777777777778, 0.15, 0.0], \"yaxis\": \"y\"}, {\"customdata\": [[\"callum wilson\"], [\"harry wilson\"], [\"ryan fraser\"], [\"joshua king\"], [\"chris mepham\"], [\"nathan ak\\u00e9\"], [\"steve cook\"], [\"charlie daniels\"], [\"jefferson lerma\"], [\"adam smith\"], [\"philip billing\"], [\"jordon ibe\"], [\"andrew surman\"], [\"dominic solanke\"], [\"aaron ramsdale\"], [\"diego rico\"]], \"hoverlabel\": {\"namelength\": 0}, \"hovertemplate\": \"team_name=Bournemouth<br>Position=%{x}<br>Points per Cost=%{marker.size}<br>full_name=%{customdata[0]}\", \"legendgroup\": \"team_name=Bournemouth\", \"marker\": {\"color\": \"#B6E880\", \"size\": [7.024886877828054, 1.8333333333333333, 6.85583822570124, 5.392628205128204, 1.2430555555555556, 3.7269193391642372, 1.8142857142857143, 0.608695652173913, 1.3025210084033614, 1.7279693486590038, 0.8193548387096774, 0.738581146744412, 0.18367346938775508, 0.1984126984126984, 0.0, 0.0], \"sizemode\": \"area\", \"sizeref\": 0.025457875457875458, \"symbol\": \"circle\"}, \"mode\": \"markers\", \"name\": \"team_name=Bournemouth\", \"showlegend\": true, \"type\": \"scatter\", \"x\": [\"Forward\", \"Midfielder\", \"Midfielder\", \"Forward\", \"Defender\", \"Defender\", \"Defender\", \"Defender\", \"Midfielder\", \"Defender\", \"Midfielder\", \"Midfielder\", \"Midfielder\", \"Forward\", \"Goalkeeper\", \"Defender\"], \"xaxis\": \"x\", \"y\": [7.024886877828054, 1.8333333333333333, 6.85583822570124, 5.392628205128204, 1.2430555555555556, 3.7269193391642372, 1.8142857142857143, 0.608695652173913, 1.3025210084033614, 1.7279693486590038, 0.8193548387096774, 0.738581146744412, 0.18367346938775508, 0.1984126984126984, 0.0, 0.0], \"yaxis\": \"y\"}, {\"customdata\": [[\"s\\u00e9bastien haller\"], [\"felipe anderson pereira gomes\"], [\"lukasz fabianski\"], [\"mark noble\"], [\"manuel lanzini\"], [\"javier hern\\u00e1ndez balc\\u00e1zar\"], [\"michail antonio\"], [\"arthur masuaku\"], [\"andriy yarmolenko\"], [\"issa diop\"], [\"angelo ogbonna\"], [\"ryan fredericks\"], [\"declan rice\"], [\"robert snodgrass\"], [\"jack wilshere\"], [\"carlos s\\u00e1nchez\"], [\"pablo fornals\"]], \"hoverlabel\": {\"namelength\": 0}, \"hovertemplate\": \"team_name=West Ham<br>Position=%{x}<br>Points per Cost=%{marker.size}<br>full_name=%{customdata[0]}\", \"legendgroup\": \"team_name=West Ham\", \"marker\": {\"color\": \"#FF97FF\", \"size\": [2.2666666666666666, 5.919732441471572, 6.60952380952381, 4.887878787878789, 1.758241758241758, 4.2407407407407405, 4.48671497584541, 1.9017094017094014, 1.5254237288135593, 2.5735735735735736, 0.7654320987654322, 1.1871345029239766, 2.2824919441460794, 2.361111111111111, 0.4081632653061224, 0.0, 0.0], \"sizemode\": \"area\", \"sizeref\": 0.025457875457875458, \"symbol\": \"circle\"}, \"mode\": \"markers\", \"name\": \"team_name=West Ham\", \"showlegend\": true, \"type\": \"scatter\", \"x\": [\"Forward\", \"Midfielder\", \"Goalkeeper\", \"Midfielder\", \"Midfielder\", \"Forward\", \"Midfielder\", \"Defender\", \"Midfielder\", \"Defender\", \"Defender\", \"Defender\", \"Midfielder\", \"Midfielder\", \"Midfielder\", \"Midfielder\", \"Midfielder\"], \"xaxis\": \"x\", \"y\": [2.2666666666666666, 5.919732441471572, 6.60952380952381, 4.887878787878789, 1.758241758241758, 4.2407407407407405, 4.48671497584541, 1.9017094017094014, 1.5254237288135593, 2.5735735735735736, 0.7654320987654322, 1.1871345029239766, 2.2824919441460794, 2.361111111111111, 0.4081632653061224, 0.0, 0.0], \"yaxis\": \"y\"}, {\"customdata\": [[\"lucas digne\"], [\"richarlison de andrade\"], [\"gylfi sigurdsson\"], [\"jordan pickford\"], [\"michael keane\"], [\"seamus coleman\"], [\"bernard an\\u00edcio caldeira duarte\"], [\"yerry mina\"], [\"alex iwobi\"], [\"moise kean\"], [\"theo walcott\"], [\"dominic calvert-lewin\"], [\"jean-philippe gbamin\"], [\"andr\\u00e9 filipe tavares gomes\"], [\"morgan schneiderlin\"], [\"tom davies\"], [\"mason holgate\"]], \"hoverlabel\": {\"namelength\": 0}, \"hovertemplate\": \"team_name=Everton<br>Position=%{x}<br>Points per Cost=%{marker.size}<br>full_name=%{customdata[0]}\", \"legendgroup\": \"team_name=Everton\", \"marker\": {\"color\": \"#FECB52\", \"size\": [7.976040353089535, 6.1019149626744555, 6.672771672771673, 7.648809523809525, 5.914004914004914, 5.8402203856749315, 2.82995951417004, 1.9905462184873952, 4.3128721942281265, 0.4411764705882353, 3.237688237688238, 2.872664059104737, 0.2040816326530612, 1.1051373954599761, 0.3333333333333333, 0.0, 0.0], \"sizemode\": \"area\", \"sizeref\": 0.025457875457875458, \"symbol\": \"circle\"}, \"mode\": \"markers\", \"name\": \"team_name=Everton\", \"showlegend\": true, \"type\": \"scatter\", \"x\": [\"Defender\", \"Midfielder\", \"Midfielder\", \"Goalkeeper\", \"Defender\", \"Defender\", \"Midfielder\", \"Defender\", \"Midfielder\", \"Forward\", \"Midfielder\", \"Forward\", \"Midfielder\", \"Midfielder\", \"Midfielder\", \"Midfielder\", \"Defender\"], \"xaxis\": \"x\", \"y\": [7.976040353089535, 6.1019149626744555, 6.672771672771673, 7.648809523809525, 5.914004914004914, 5.8402203856749315, 2.82995951417004, 1.9905462184873952, 4.3128721942281265, 0.4411764705882353, 3.237688237688238, 2.872664059104737, 0.2040816326530612, 1.1051373954599761, 0.3333333333333333, 0.0, 0.0], \"yaxis\": \"y\"}, {\"customdata\": [[\"ashley barnes\"], [\"erik pieters\"], [\"johann berg gudmundsson\"], [\"dwight mcneil\"], [\"nick pope\"], [\"ashley westwood\"], [\"chris wood\"], [\"james tarkowski\"], [\"jack cork\"], [\"ben mee\"], [\"jeff hendrick\"], [\"matthew lowton\"], [\"aaron lennon\"], [\"jay rodriguez\"]], \"hoverlabel\": {\"namelength\": 0}, \"hovertemplate\": \"team_name=Burnley<br>Position=%{x}<br>Points per Cost=%{marker.size}<br>full_name=%{customdata[0]}\", \"legendgroup\": \"team_name=Burnley\", \"marker\": {\"color\": \"#636efa\", \"size\": [5.597014925373134, 2.173913043478261, 4.127604166666667, 3.293333333333333, 1.5217391304347827, 3.9132553606237814, 4.433370247323736, 2.623076923076923, 1.28, 0.6720930232558139, 1.7059483726150393, 0.0, 0.8571428571428573, 0.0], \"sizemode\": \"area\", \"sizeref\": 0.025457875457875458, \"symbol\": \"circle\"}, \"mode\": \"markers\", \"name\": \"team_name=Burnley\", \"showlegend\": true, \"type\": \"scatter\", \"x\": [\"Forward\", \"Defender\", \"Midfielder\", \"Midfielder\", \"Goalkeeper\", \"Midfielder\", \"Forward\", \"Defender\", \"Midfielder\", \"Defender\", \"Midfielder\", \"Defender\", \"Midfielder\", \"Forward\"], \"xaxis\": \"x\", \"y\": [5.597014925373134, 2.173913043478261, 4.127604166666667, 3.293333333333333, 1.5217391304347827, 3.9132553606237814, 4.433370247323736, 2.623076923076923, 1.28, 0.6720930232558139, 1.7059483726150393, 0.0, 0.8571428571428573, 0.0], \"yaxis\": \"y\"}, {\"customdata\": [[\"patrick van aanholt\"], [\"jordan ayew\"], [\"vicente guaita\"], [\"jeffrey schlupp\"], [\"joel ward\"], [\"luka milivojevic\"], [\"andros townsend\"], [\"martin kelly\"], [\"wilfried zaha\"], [\"james mcarthur\"], [\"scott dann\"], [\"gary cahill\"], [\"cheikhou kouyat\\u00e9\"], [\"mamadou sakho\"], [\"max meyer\"], [\"christian benteke\"], [\"connor wickham\"], [\"james mccarthy\"]], \"hoverlabel\": {\"namelength\": 0}, \"hovertemplate\": \"team_name=Crystal Palace<br>Position=%{x}<br>Points per Cost=%{marker.size}<br>full_name=%{customdata[0]}\", \"legendgroup\": \"team_name=Crystal Palace\", \"marker\": {\"color\": \"#EF553B\", \"size\": [7.11607142857143, 2.57459505541347, 4.316666666666667, 4.231404958677686, 1.5151515151515151, 5.906862745098039, 4.923325262308313, 1.2984218077474896, 4.862700228832952, 4.14021164021164, 1.0740740740740742, 0.6666666666666666, 1.5433673469387754, 3.2785714285714285, 1.4725209080047788, 0.6101694915254237, 0.25, 0.0], \"sizemode\": \"area\", \"sizeref\": 0.025457875457875458, \"symbol\": \"circle\"}, \"mode\": \"markers\", \"name\": \"team_name=Crystal Palace\", \"showlegend\": true, \"type\": \"scatter\", \"x\": [\"Defender\", \"Forward\", \"Goalkeeper\", \"Midfielder\", \"Defender\", \"Midfielder\", \"Midfielder\", \"Defender\", \"Midfielder\", \"Midfielder\", \"Defender\", \"Defender\", \"Midfielder\", \"Defender\", \"Midfielder\", \"Forward\", \"Forward\", \"Midfielder\"], \"xaxis\": \"x\", \"y\": [7.11607142857143, 2.57459505541347, 4.316666666666667, 4.231404958677686, 1.5151515151515151, 5.906862745098039, 4.923325262308313, 1.2984218077474896, 4.862700228832952, 4.14021164021164, 1.0740740740740742, 0.6666666666666666, 1.5433673469387754, 3.2785714285714285, 1.4725209080047788, 0.6101694915254237, 0.25, 0.0], \"yaxis\": \"y\"}, {\"customdata\": [[\"ra\\u00fal jim\\u00e9nez\"], [\"rui pedro dos santos patr\\u00edcio\"], [\"willy boly\"], [\"matt doherty\"], [\"jo\\u00e3o filipe iria santos moutinho\"], [\"r\\u00faben diogo da silva neves\"], [\"diogo jota\"], [\"jonathan castro otto\"], [\"romain sa\\u00efss\"], [\"conor coady\"], [\"ryan bennett\"], [\"leander dendoncker\"], [\"morgan gibbs-white\"], [\"adama traor\\u00e9\"], [\"patrick cutrone\"], [\"pedro lomba neto\"]], \"hoverlabel\": {\"namelength\": 0}, \"hovertemplate\": \"team_name=Wolves<br>Position=%{x}<br>Points per Cost=%{marker.size}<br>full_name=%{customdata[0]}\", \"legendgroup\": \"team_name=Wolves\", \"marker\": {\"color\": \"#00cc96\", \"size\": [7.403474903474903, 5.184122429459589, 5.290000000000001, 5.91869918699187, 4.562770562770563, 3.438228438228438, 5.7335907335907335, 3.5454545454545454, 2.37012987012987, 1.9571428571428569, 1.9894736842105263, 1.3236714975845412, 0.5895691609977324, 0.90625, 0.0, 0.0], \"sizemode\": \"area\", \"sizeref\": 0.025457875457875458, \"symbol\": \"circle\"}, \"mode\": \"markers\", \"name\": \"team_name=Wolves\", \"showlegend\": true, \"type\": \"scatter\", \"x\": [\"Forward\", \"Goalkeeper\", \"Defender\", \"Defender\", \"Midfielder\", \"Midfielder\", \"Forward\", \"Defender\", \"Defender\", \"Defender\", \"Defender\", \"Midfielder\", \"Midfielder\", \"Midfielder\", \"Forward\", \"Midfielder\"], \"xaxis\": \"x\", \"y\": [7.403474903474903, 5.184122429459589, 5.290000000000001, 5.91869918699187, 4.562770562770563, 3.438228438228438, 5.7335907335907335, 3.5454545454545454, 2.37012987012987, 1.9571428571428569, 1.9894736842105263, 1.3236714975845412, 0.5895691609977324, 0.90625, 0.0, 0.0], \"yaxis\": \"y\"}, {\"customdata\": [[\"daniel james\"], [\"anthony martial\"], [\"marcus rashford\"], [\"paul pogba\"], [\"david de gea\"], [\"aaron wan-bissaka\"], [\"scott mctominay\"], [\"luke shaw\"], [\"harry maguire\"], [\"victor lindel\\u00f6f\"], [\"andreas pereira\"], [\"jesse lingard\"], [\"juan mata\"], [\"ashley young\"], [\"nemanja matic\"], [\"mason greenwood\"]], \"hoverlabel\": {\"namelength\": 0}, \"hovertemplate\": \"team_name=Man Utd<br>Position=%{x}<br>Points per Cost=%{marker.size}<br>full_name=%{customdata[0]}\", \"legendgroup\": \"team_name=Man Utd\", \"marker\": {\"color\": \"#ab63fa\", \"size\": [2.295081967213115, 5.487012987012987, 4.467408585055644, 6.131221719457013, 4.238945578231293, 4.37995337995338, 1.9600000000000002, 3.1741898148148144, 2.8597402597402595, 2.412854030501089, 0.9666666666666668, 2.313508064516129, 2.379807692307692, 1.290509259259259, 0.40229885057471265, 0.0], \"sizemode\": \"area\", \"sizeref\": 0.025457875457875458, \"symbol\": \"circle\"}, \"mode\": \"markers\", \"name\": \"team_name=Man Utd\", \"showlegend\": true, \"type\": \"scatter\", \"x\": [\"Midfielder\", \"Midfielder\", \"Forward\", \"Midfielder\", \"Goalkeeper\", \"Defender\", \"Midfielder\", \"Defender\", \"Defender\", \"Defender\", \"Midfielder\", \"Midfielder\", \"Midfielder\", \"Defender\", \"Midfielder\", \"Forward\"], \"xaxis\": \"x\", \"y\": [2.295081967213115, 5.487012987012987, 4.467408585055644, 6.131221719457013, 4.238945578231293, 4.37995337995338, 1.9600000000000002, 3.1741898148148144, 2.8597402597402595, 2.412854030501089, 0.9666666666666668, 2.313508064516129, 2.379807692307692, 1.290509259259259, 0.40229885057471265, 0.0], \"yaxis\": \"y\"}, {\"customdata\": [[\"john mcginn\"], [\"douglas luiz soares de paulo\"], [\"wesley moraes\"], [\"tyrone mings\"], [\"bjorn engels\"], [\"anwar el ghazi\"], [\"jack grealish\"], [\"tom heaton\"], [\"jos\\u00e9 ignacio peleteiro romallo\"], [\"fr\\u00e9d\\u00e9ric guilbert\"], [\"ahmed el mohamady\"], [\"neil taylor\"], [\"jonathan kodjia\"], [\"conor hourihane\"], [\"keinan davis\"], [\"henri lansbury\"], [\"mahmoud ahmed ibrahim hassan\"]], \"hoverlabel\": {\"namelength\": 0}, \"hovertemplate\": \"team_name=Aston Villa<br>Position=%{x}<br>Points per Cost=%{marker.size}<br>full_name=%{customdata[0]}\", \"legendgroup\": \"team_name=Aston Villa\", \"marker\": {\"color\": \"#FFA15A\", \"size\": [1.6071428571428572, 1.7391304347826089, 1.1666666666666667, 1.2222222222222223, 1.1111111111111112, 0.9090909090909091, 0.6666666666666666, 2.357487922705314, 0.6779661016949152, 0.45454545454545453, 0.2222222222222222, 0.2222222222222222, 0.0, 0.0, 0.0, 0.0, 0.0], \"sizemode\": \"area\", \"sizeref\": 0.025457875457875458, \"symbol\": \"circle\"}, \"mode\": \"markers\", \"name\": \"team_name=Aston Villa\", \"showlegend\": true, \"type\": \"scatter\", \"x\": [\"Midfielder\", \"Midfielder\", \"Forward\", \"Defender\", \"Defender\", \"Midfielder\", \"Midfielder\", \"Goalkeeper\", \"Midfielder\", \"Defender\", \"Defender\", \"Defender\", \"Forward\", \"Midfielder\", \"Midfielder\", \"Midfielder\", \"Midfielder\"], \"xaxis\": \"x\", \"y\": [1.6071428571428572, 1.7391304347826089, 1.1666666666666667, 1.2222222222222223, 1.1111111111111112, 0.9090909090909091, 0.6666666666666666, 2.357487922705314, 0.6779661016949152, 0.45454545454545453, 0.2222222222222222, 0.2222222222222222, 0.0, 0.0, 0.0, 0.0, 0.0], \"yaxis\": \"y\"}, {\"customdata\": [[\"john lundstram\"], [\"callum robinson\"], [\"enda stevens\"], [\"george baldock\"], [\"dean henderson\"], [\"billy sharp\"], [\"oliver mcburnie\"], [\"jack o'connell\"], [\"john egan\"], [\"chris basham\"], [\"oliver norwood\"], [\"phil jagielka\"], [\"lys mousset\"], [\"luke freeman\"], [\"david mcgoldrick\"], [\"ravel morrison\"], [\"ben osborn\"], [\"john fleck\"]], \"hoverlabel\": {\"namelength\": 0}, \"hovertemplate\": \"team_name=Sheffield Utd<br>Position=%{x}<br>Points per Cost=%{marker.size}<br>full_name=%{customdata[0]}\", \"legendgroup\": \"team_name=Sheffield Utd\", \"marker\": {\"color\": \"#19d3f3\", \"size\": [2.380952380952381, 1.6981132075471699, 1.4, 1.5555555555555556, 1.3333333333333333, 1.1864406779661016, 0.6779661016949152, 0.4444444444444444, 0.4444444444444444, 0.4444444444444444, 0.2, 1.1931818181818181, 0.2933673469387755, 0.0, 0.0, 0.0, 0.0, 0.0], \"sizemode\": \"area\", \"sizeref\": 0.025457875457875458, \"symbol\": \"circle\"}, \"mode\": \"markers\", \"name\": \"team_name=Sheffield Utd\", \"showlegend\": true, \"type\": \"scatter\", \"x\": [\"Defender\", \"Midfielder\", \"Defender\", \"Defender\", \"Goalkeeper\", \"Forward\", \"Forward\", \"Defender\", \"Defender\", \"Defender\", \"Midfielder\", \"Defender\", \"Forward\", \"Midfielder\", \"Forward\", \"Midfielder\", \"Midfielder\", \"Midfielder\"], \"xaxis\": \"x\", \"y\": [2.380952380952381, 1.6981132075471699, 1.4, 1.5555555555555556, 1.3333333333333333, 1.1864406779661016, 0.6779661016949152, 0.4444444444444444, 0.4444444444444444, 0.4444444444444444, 0.2, 1.1931818181818181, 0.2933673469387755, 0.0, 0.0, 0.0, 0.0, 0.0], \"yaxis\": \"y\"}, {\"customdata\": [[\"nathan redmond\"], [\"jannik vestergaard\"], [\"danny ings\"], [\"angus gunn\"], [\"kevin danso\"], [\"james ward-prowse\"], [\"sofiane boufal\"], [\"moussa djenepo\"], [\"jan bednarek\"], [\"pierre-emile h\\u00f8jbjerg\"], [\"c\\u00e9dric soares\"], [\"shane long\"], [\"stuart armstrong\"], [\"oriol romeu vidal\"], [\"jack stephens\"], [\"yan valery\"], [\"ryan bertrand\"], [\"maya yoshida\"], [\"michael obafemi\"], [\"che adams\"]], \"hoverlabel\": {\"namelength\": 0}, \"hovertemplate\": \"team_name=Southampton<br>Position=%{x}<br>Points per Cost=%{marker.size}<br>full_name=%{customdata[0]}\", \"legendgroup\": \"team_name=Southampton\", \"marker\": {\"color\": \"#FF6692\", \"size\": [5.3155245838172664, 1.9481481481481482, 4.1190476190476195, 2.888888888888889, 0.8888888888888888, 3.4519774011299433, 0.5454545454545454, 0.5555555555555555, 0.47619047619047616, 2.530612244897959, 1.8367346938775508, 2.808641975308642, 2.667824074074074, 0.29523809523809524, 0.5363636363636363, 0.945839874411303, 0.533751962323391, 0.8911483253588517, 0.5142857142857142, 0.0], \"sizemode\": \"area\", \"sizeref\": 0.025457875457875458, \"symbol\": \"circle\"}, \"mode\": \"markers\", \"name\": \"team_name=Southampton\", \"showlegend\": true, \"type\": \"scatter\", \"x\": [\"Midfielder\", \"Defender\", \"Forward\", \"Goalkeeper\", \"Defender\", \"Midfielder\", \"Midfielder\", \"Midfielder\", \"Defender\", \"Midfielder\", \"Defender\", \"Forward\", \"Midfielder\", \"Midfielder\", \"Defender\", \"Defender\", \"Defender\", \"Defender\", \"Forward\", \"Forward\"], \"xaxis\": \"x\", \"y\": [5.3155245838172664, 1.9481481481481482, 4.1190476190476195, 2.888888888888889, 0.8888888888888888, 3.4519774011299433, 0.5454545454545454, 0.5555555555555555, 0.47619047619047616, 2.530612244897959, 1.8367346938775508, 2.808641975308642, 2.667824074074074, 0.29523809523809524, 0.5363636363636363, 0.945839874411303, 0.533751962323391, 0.8911483253588517, 0.5142857142857142, 0.0], \"yaxis\": \"y\"}, {\"customdata\": [[\"fabian sch\\u00e4r\"], [\"martin dubravka\"], [\"joelinton c\\u00e1ssio apolin\\u00e1rio de lira\"], [\"matt ritchie\"], [\"jamaal lascelles\"], [\"isaac hayden\"], [\"jonjo shelvey\"], [\"emil krafth\"], [\"christian atsu\"], [\"paul dummett\"], [\"sean longstaff\"], [\"javier manquillo\"], [\"sung-yueng ki\"], [\"federico fern\\u00e1ndez\"], [\"miguel almir\\u00f3n\"], [\"yoshinori muto\"], [\"jetro willems\"], [\"allan saint-maximin\"]], \"hoverlabel\": {\"namelength\": 0}, \"hovertemplate\": \"team_name=Newcastle<br>Position=%{x}<br>Points per Cost=%{marker.size}<br>full_name=%{customdata[0]}\", \"legendgroup\": \"team_name=Newcastle\", \"marker\": {\"color\": \"#B6E880\", \"size\": [5.285714285714286, 5.534883720930233, 0.847457627118644, 3.6111111111111103, 3.728395061728395, 2.835249042145594, 1.911111111111111, 0.6666666666666666, 1.4320987654320985, 2.177777777777778, 1.0846153846153848, 2.4545454545454546, 0.5800214822771214, 1.3365800865800865, 0.5447941888619855, 0.23611111111111108, 0.0, 0.0], \"sizemode\": \"area\", \"sizeref\": 0.025457875457875458, \"symbol\": \"circle\"}, \"mode\": \"markers\", \"name\": \"team_name=Newcastle\", \"showlegend\": true, \"type\": \"scatter\", \"x\": [\"Defender\", \"Goalkeeper\", \"Forward\", \"Defender\", \"Defender\", \"Midfielder\", \"Midfielder\", \"Defender\", \"Midfielder\", \"Defender\", \"Midfielder\", \"Defender\", \"Midfielder\", \"Defender\", \"Midfielder\", \"Forward\", \"Defender\", \"Midfielder\"], \"xaxis\": \"x\", \"y\": [5.285714285714286, 5.534883720930233, 0.847457627118644, 3.6111111111111103, 3.728395061728395, 2.835249042145594, 1.911111111111111, 0.6666666666666666, 1.4320987654320985, 2.177777777777778, 1.0846153846153848, 2.4545454545454546, 0.5800214822771214, 1.3365800865800865, 0.5447941888619855, 0.23611111111111108, 0.0, 0.0], \"yaxis\": \"y\"}, {\"customdata\": [[\"will hughes\"], [\"andre gray\"], [\"ben foster\"], [\"gerard deulofeu\"], [\"troy deeney\"], [\"roberto pereyra\"], [\"abdoulaye doucour\\u00e9\"], [\"daryl janmaat\"], [\"jos\\u00e9 holebas\"], [\"etienne capoue\"], [\"tom cleverley\"], [\"craig cathcart\"], [\"francisco femen\\u00eda far\"], [\"domingos quina\"], [\"danny welbeck\"], [\"isaac success ajayi\"], [\"christian kabasele\"], [\"nathaniel chalobah\"], [\"isma\\u00efla sarr\"], [\"craig dawson\"]], \"hoverlabel\": {\"namelength\": 0}, \"hovertemplate\": \"team_name=Watford<br>Position=%{x}<br>Points per Cost=%{marker.size}<br>full_name=%{customdata[0]}\", \"legendgroup\": \"team_name=Watford\", \"marker\": {\"color\": \"#FF97FF\", \"size\": [3.4545454545454546, 3.697996918335901, 5.228377065111759, 5.6722689075630255, 4.257703081232493, 4.489942528735632, 4.047303271441202, 1.7224880382775116, 3.2123655913978495, 1.105442176870748, 0.6632653061224489, 1.9772727272727268, 1.34297520661157, 0.691358024691358, 0.6666666666666666, 0.2869897959183673, 0.0, 0.0, 0.0, 0.0], \"sizemode\": \"area\", \"sizeref\": 0.025457875457875458, \"symbol\": \"circle\"}, \"mode\": \"markers\", \"name\": \"team_name=Watford\", \"showlegend\": true, \"type\": \"scatter\", \"x\": [\"Midfielder\", \"Forward\", \"Goalkeeper\", \"Forward\", \"Forward\", \"Midfielder\", \"Midfielder\", \"Defender\", \"Defender\", \"Midfielder\", \"Midfielder\", \"Defender\", \"Defender\", \"Midfielder\", \"Forward\", \"Forward\", \"Defender\", \"Midfielder\", \"Midfielder\", \"Defender\"], \"xaxis\": \"x\", \"y\": [3.4545454545454546, 3.697996918335901, 5.228377065111759, 5.6722689075630255, 4.257703081232493, 4.489942528735632, 4.047303271441202, 1.7224880382775116, 3.2123655913978495, 1.105442176870748, 0.6632653061224489, 1.9772727272727268, 1.34297520661157, 0.691358024691358, 0.6666666666666666, 0.2869897959183673, 0.0, 0.0, 0.0, 0.0], \"yaxis\": \"y\"}, {\"customdata\": [[\"shane duffy\"], [\"mathew ryan\"], [\"pascal gro\\u00df\"], [\"leandro trossard\"], [\"lewis dunk\"], [\"glenn murray\"], [\"neal maupay\"], [\"solomon march\"], [\"davy pr\\u00f6pper\"], [\"dale stephens\"], [\"dan burn\"], [\"florin andone\"], [\"aaron mooy\"], [\"j\\u00fcrgen locadia\"], [\"mart\\u00edn montoya\"], [\"aaron connolly\"], [\"bernardo fernandes da silva junior\"]], \"hoverlabel\": {\"namelength\": 0}, \"hovertemplate\": \"team_name=Brighton<br>Position=%{x}<br>Points per Cost=%{marker.size}<br>full_name=%{customdata[0]}\", \"legendgroup\": \"team_name=Brighton\", \"marker\": {\"color\": \"#FECB52\", \"size\": [4.560526315789473, 3.9816933638443937, 2.8249336870026522, 0.8333333333333334, 2.673913043478261, 5.147783251231528, 0.8333333333333334, 3.1344845630559917, 1.5941176470588236, 0.9084967320261437, 0.2222222222222222, 1.016, 2.1700680272108843, 1.1177248677248677, 0.0, 0.0, 0.0], \"sizemode\": \"area\", \"sizeref\": 0.025457875457875458, \"symbol\": \"circle\"}, \"mode\": \"markers\", \"name\": \"team_name=Brighton\", \"showlegend\": true, \"type\": \"scatter\", \"x\": [\"Defender\", \"Goalkeeper\", \"Midfielder\", \"Midfielder\", \"Defender\", \"Forward\", \"Forward\", \"Midfielder\", \"Midfielder\", \"Midfielder\", \"Defender\", \"Forward\", \"Midfielder\", \"Forward\", \"Defender\", \"Forward\", \"Defender\"], \"xaxis\": \"x\", \"y\": [4.560526315789473, 3.9816933638443937, 2.8249336870026522, 0.8333333333333334, 2.673913043478261, 5.147783251231528, 0.8333333333333334, 3.1344845630559917, 1.5941176470588236, 0.9084967320261437, 0.2222222222222222, 1.016, 2.1700680272108843, 1.1177248677248677, 0.0, 0.0, 0.0], \"yaxis\": \"y\"}],\n",
       "                        {\"height\": 600, \"legend\": {\"itemsizing\": \"constant\", \"tracegroupgap\": 0}, \"margin\": {\"t\": 60}, \"template\": {\"data\": {\"bar\": [{\"error_x\": {\"color\": \"#2a3f5f\"}, \"error_y\": {\"color\": \"#2a3f5f\"}, \"marker\": {\"line\": {\"color\": \"#E5ECF6\", \"width\": 0.5}}, \"type\": \"bar\"}], \"barpolar\": [{\"marker\": {\"line\": {\"color\": \"#E5ECF6\", \"width\": 0.5}}, \"type\": \"barpolar\"}], \"carpet\": [{\"aaxis\": {\"endlinecolor\": \"#2a3f5f\", \"gridcolor\": \"white\", \"linecolor\": \"white\", \"minorgridcolor\": \"white\", \"startlinecolor\": \"#2a3f5f\"}, \"baxis\": {\"endlinecolor\": \"#2a3f5f\", \"gridcolor\": \"white\", \"linecolor\": \"white\", \"minorgridcolor\": \"white\", \"startlinecolor\": \"#2a3f5f\"}, \"type\": \"carpet\"}], \"choropleth\": [{\"colorbar\": {\"outlinewidth\": 0, \"ticks\": \"\"}, \"type\": \"choropleth\"}], \"contour\": [{\"colorbar\": {\"outlinewidth\": 0, \"ticks\": \"\"}, \"colorscale\": [[0.0, \"#0d0887\"], [0.1111111111111111, \"#46039f\"], [0.2222222222222222, \"#7201a8\"], [0.3333333333333333, \"#9c179e\"], [0.4444444444444444, \"#bd3786\"], [0.5555555555555556, \"#d8576b\"], [0.6666666666666666, \"#ed7953\"], [0.7777777777777778, \"#fb9f3a\"], [0.8888888888888888, \"#fdca26\"], [1.0, \"#f0f921\"]], \"type\": \"contour\"}], \"contourcarpet\": [{\"colorbar\": {\"outlinewidth\": 0, \"ticks\": \"\"}, \"type\": \"contourcarpet\"}], \"heatmap\": [{\"colorbar\": {\"outlinewidth\": 0, \"ticks\": \"\"}, \"colorscale\": [[0.0, \"#0d0887\"], [0.1111111111111111, \"#46039f\"], [0.2222222222222222, \"#7201a8\"], [0.3333333333333333, \"#9c179e\"], [0.4444444444444444, \"#bd3786\"], [0.5555555555555556, \"#d8576b\"], [0.6666666666666666, \"#ed7953\"], [0.7777777777777778, \"#fb9f3a\"], [0.8888888888888888, \"#fdca26\"], [1.0, \"#f0f921\"]], \"type\": \"heatmap\"}], \"heatmapgl\": [{\"colorbar\": {\"outlinewidth\": 0, \"ticks\": \"\"}, \"colorscale\": [[0.0, \"#0d0887\"], [0.1111111111111111, \"#46039f\"], [0.2222222222222222, \"#7201a8\"], [0.3333333333333333, \"#9c179e\"], [0.4444444444444444, \"#bd3786\"], [0.5555555555555556, \"#d8576b\"], [0.6666666666666666, \"#ed7953\"], [0.7777777777777778, \"#fb9f3a\"], [0.8888888888888888, \"#fdca26\"], [1.0, \"#f0f921\"]], \"type\": \"heatmapgl\"}], \"histogram\": [{\"marker\": {\"colorbar\": {\"outlinewidth\": 0, \"ticks\": \"\"}}, \"type\": \"histogram\"}], \"histogram2d\": [{\"colorbar\": {\"outlinewidth\": 0, \"ticks\": \"\"}, \"colorscale\": [[0.0, \"#0d0887\"], [0.1111111111111111, \"#46039f\"], [0.2222222222222222, \"#7201a8\"], [0.3333333333333333, \"#9c179e\"], [0.4444444444444444, \"#bd3786\"], [0.5555555555555556, \"#d8576b\"], [0.6666666666666666, \"#ed7953\"], [0.7777777777777778, \"#fb9f3a\"], [0.8888888888888888, \"#fdca26\"], [1.0, \"#f0f921\"]], \"type\": \"histogram2d\"}], \"histogram2dcontour\": [{\"colorbar\": {\"outlinewidth\": 0, \"ticks\": \"\"}, \"colorscale\": [[0.0, \"#0d0887\"], [0.1111111111111111, \"#46039f\"], [0.2222222222222222, \"#7201a8\"], [0.3333333333333333, \"#9c179e\"], [0.4444444444444444, \"#bd3786\"], [0.5555555555555556, \"#d8576b\"], [0.6666666666666666, \"#ed7953\"], [0.7777777777777778, \"#fb9f3a\"], [0.8888888888888888, \"#fdca26\"], [1.0, \"#f0f921\"]], \"type\": \"histogram2dcontour\"}], \"mesh3d\": [{\"colorbar\": {\"outlinewidth\": 0, \"ticks\": \"\"}, \"type\": \"mesh3d\"}], \"parcoords\": [{\"line\": {\"colorbar\": {\"outlinewidth\": 0, \"ticks\": \"\"}}, \"type\": \"parcoords\"}], \"scatter\": [{\"marker\": {\"colorbar\": {\"outlinewidth\": 0, \"ticks\": \"\"}}, \"type\": \"scatter\"}], \"scatter3d\": [{\"line\": {\"colorbar\": {\"outlinewidth\": 0, \"ticks\": \"\"}}, \"marker\": {\"colorbar\": {\"outlinewidth\": 0, \"ticks\": \"\"}}, \"type\": \"scatter3d\"}], \"scattercarpet\": [{\"marker\": {\"colorbar\": {\"outlinewidth\": 0, \"ticks\": \"\"}}, \"type\": \"scattercarpet\"}], \"scattergeo\": [{\"marker\": {\"colorbar\": {\"outlinewidth\": 0, \"ticks\": \"\"}}, \"type\": \"scattergeo\"}], \"scattergl\": [{\"marker\": {\"colorbar\": {\"outlinewidth\": 0, \"ticks\": \"\"}}, \"type\": \"scattergl\"}], \"scattermapbox\": [{\"marker\": {\"colorbar\": {\"outlinewidth\": 0, \"ticks\": \"\"}}, \"type\": \"scattermapbox\"}], \"scatterpolar\": [{\"marker\": {\"colorbar\": {\"outlinewidth\": 0, \"ticks\": \"\"}}, \"type\": \"scatterpolar\"}], \"scatterpolargl\": [{\"marker\": {\"colorbar\": {\"outlinewidth\": 0, \"ticks\": \"\"}}, \"type\": \"scatterpolargl\"}], \"scatterternary\": [{\"marker\": {\"colorbar\": {\"outlinewidth\": 0, \"ticks\": \"\"}}, \"type\": \"scatterternary\"}], \"surface\": [{\"colorbar\": {\"outlinewidth\": 0, \"ticks\": \"\"}, \"colorscale\": [[0.0, \"#0d0887\"], [0.1111111111111111, \"#46039f\"], [0.2222222222222222, \"#7201a8\"], [0.3333333333333333, \"#9c179e\"], [0.4444444444444444, \"#bd3786\"], [0.5555555555555556, \"#d8576b\"], [0.6666666666666666, \"#ed7953\"], [0.7777777777777778, \"#fb9f3a\"], [0.8888888888888888, \"#fdca26\"], [1.0, \"#f0f921\"]], \"type\": \"surface\"}], \"table\": [{\"cells\": {\"fill\": {\"color\": \"#EBF0F8\"}, \"line\": {\"color\": \"white\"}}, \"header\": {\"fill\": {\"color\": \"#C8D4E3\"}, \"line\": {\"color\": \"white\"}}, \"type\": \"table\"}]}, \"layout\": {\"annotationdefaults\": {\"arrowcolor\": \"#2a3f5f\", \"arrowhead\": 0, \"arrowwidth\": 1}, \"colorscale\": {\"diverging\": [[0, \"#8e0152\"], [0.1, \"#c51b7d\"], [0.2, \"#de77ae\"], [0.3, \"#f1b6da\"], [0.4, \"#fde0ef\"], [0.5, \"#f7f7f7\"], [0.6, \"#e6f5d0\"], [0.7, \"#b8e186\"], [0.8, \"#7fbc41\"], [0.9, \"#4d9221\"], [1, \"#276419\"]], \"sequential\": [[0.0, \"#0d0887\"], [0.1111111111111111, \"#46039f\"], [0.2222222222222222, \"#7201a8\"], [0.3333333333333333, \"#9c179e\"], [0.4444444444444444, \"#bd3786\"], [0.5555555555555556, \"#d8576b\"], [0.6666666666666666, \"#ed7953\"], [0.7777777777777778, \"#fb9f3a\"], [0.8888888888888888, \"#fdca26\"], [1.0, \"#f0f921\"]], \"sequentialminus\": [[0.0, \"#0d0887\"], [0.1111111111111111, \"#46039f\"], [0.2222222222222222, \"#7201a8\"], [0.3333333333333333, \"#9c179e\"], [0.4444444444444444, \"#bd3786\"], [0.5555555555555556, \"#d8576b\"], [0.6666666666666666, \"#ed7953\"], [0.7777777777777778, \"#fb9f3a\"], [0.8888888888888888, \"#fdca26\"], [1.0, \"#f0f921\"]]}, \"colorway\": [\"#636efa\", \"#EF553B\", \"#00cc96\", \"#ab63fa\", \"#FFA15A\", \"#19d3f3\", \"#FF6692\", \"#B6E880\", \"#FF97FF\", \"#FECB52\"], \"font\": {\"color\": \"#2a3f5f\"}, \"geo\": {\"bgcolor\": \"white\", \"lakecolor\": \"white\", \"landcolor\": \"#E5ECF6\", \"showlakes\": true, \"showland\": true, \"subunitcolor\": \"white\"}, \"hoverlabel\": {\"align\": \"left\"}, \"hovermode\": \"closest\", \"mapbox\": {\"style\": \"light\"}, \"paper_bgcolor\": \"white\", \"plot_bgcolor\": \"#E5ECF6\", \"polar\": {\"angularaxis\": {\"gridcolor\": \"white\", \"linecolor\": \"white\", \"ticks\": \"\"}, \"bgcolor\": \"#E5ECF6\", \"radialaxis\": {\"gridcolor\": \"white\", \"linecolor\": \"white\", \"ticks\": \"\"}}, \"scene\": {\"xaxis\": {\"backgroundcolor\": \"#E5ECF6\", \"gridcolor\": \"white\", \"gridwidth\": 2, \"linecolor\": \"white\", \"showbackground\": true, \"ticks\": \"\", \"zerolinecolor\": \"white\"}, \"yaxis\": {\"backgroundcolor\": \"#E5ECF6\", \"gridcolor\": \"white\", \"gridwidth\": 2, \"linecolor\": \"white\", \"showbackground\": true, \"ticks\": \"\", \"zerolinecolor\": \"white\"}, \"zaxis\": {\"backgroundcolor\": \"#E5ECF6\", \"gridcolor\": \"white\", \"gridwidth\": 2, \"linecolor\": \"white\", \"showbackground\": true, \"ticks\": \"\", \"zerolinecolor\": \"white\"}}, \"shapedefaults\": {\"line\": {\"color\": \"#2a3f5f\"}}, \"ternary\": {\"aaxis\": {\"gridcolor\": \"white\", \"linecolor\": \"white\", \"ticks\": \"\"}, \"baxis\": {\"gridcolor\": \"white\", \"linecolor\": \"white\", \"ticks\": \"\"}, \"bgcolor\": \"#E5ECF6\", \"caxis\": {\"gridcolor\": \"white\", \"linecolor\": \"white\", \"ticks\": \"\"}}, \"title\": {\"x\": 0.05}, \"xaxis\": {\"automargin\": true, \"gridcolor\": \"white\", \"linecolor\": \"white\", \"ticks\": \"\", \"zerolinecolor\": \"white\", \"zerolinewidth\": 2}, \"yaxis\": {\"automargin\": true, \"gridcolor\": \"white\", \"linecolor\": \"white\", \"ticks\": \"\", \"zerolinecolor\": \"white\", \"zerolinewidth\": 2}}}, \"title\": {\"text\": \"Positions and their points per cost\"}, \"xaxis\": {\"anchor\": \"y\", \"domain\": [0.0, 0.98], \"title\": {\"text\": \"Position\"}}, \"yaxis\": {\"anchor\": \"x\", \"domain\": [0.0, 1.0], \"title\": {\"text\": \"Points per Cost\"}}},\n",
       "                        {\"responsive\": true}\n",
       "                    ).then(function(){\n",
       "                            \n",
       "var gd = document.getElementById('709c7026-272d-45b7-9fe1-efa0d8da31c3');\n",
       "var x = new MutationObserver(function (mutations, observer) {{\n",
       "        var display = window.getComputedStyle(gd).display;\n",
       "        if (!display || display === 'none') {{\n",
       "            console.log([gd, 'removed!']);\n",
       "            Plotly.purge(gd);\n",
       "            observer.disconnect();\n",
       "        }}\n",
       "}});\n",
       "\n",
       "// Listen for the removal of the full notebook cells\n",
       "var notebookContainer = gd.closest('#notebook-container');\n",
       "if (notebookContainer) {{\n",
       "    x.observe(notebookContainer, {childList: true});\n",
       "}}\n",
       "\n",
       "// Listen for the clearing of the current output cell\n",
       "var outputEl = gd.closest('.output');\n",
       "if (outputEl) {{\n",
       "    x.observe(outputEl, {childList: true});\n",
       "}}\n",
       "\n",
       "                        })\n",
       "                };\n",
       "                });\n",
       "            </script>\n",
       "        </div>"
      ]
     },
     "metadata": {},
     "output_type": "display_data"
    }
   ],
   "source": [
    "# which type of players are better based on effective points per cost\n",
    "fig = px.scatter(players, y='pc', x='position', color='team_name', hover_data=['full_name'], size = 'pc', labels={'points':'Points', 'position':'Position', 'pc':'Points per Cost'})\n",
    "fig.update_layout(title='Positions and their points per cost')\n",
    "fig.show()\n",
    "\n"
   ]
  },
  {
   "cell_type": "code",
   "execution_count": 26,
   "metadata": {},
   "outputs": [],
   "source": [
    "positions = [\n",
    "    {\n",
    "        'type': 'Forward',\n",
    "        'mean_points': forward_effective_points,\n",
    "        'mean_points_per_cost': forward_effective_points_per_cost,\n",
    "        'mean_cost': forward_cost,\n",
    "    },\n",
    "    {\n",
    "        'type': 'Midfielder',\n",
    "        'mean_points': midfielder_effective_points,\n",
    "        'mean_points_per_cost': midfielder_effective_points_per_cost,\n",
    "        'mean_cost': midfielder_cost,\n",
    "    },\n",
    "    {\n",
    "        'type': 'Defender',\n",
    "        'mean_points': defender_effective_points,\n",
    "        'mean_points_per_cost': defender_effective_points_per_cost,\n",
    "        'mean_cost': defender_cost,\n",
    "    },\n",
    "    {\n",
    "        'type': 'Goalkeeper',\n",
    "        'mean_points': goalkeeper_effective_points,\n",
    "        'mean_points_per_cost': goalkeeper_effective_points_per_cost,\n",
    "        'mean_cost': goalkeeper_cost,\n",
    "    }\n",
    "]\n",
    "\n"
   ]
  },
  {
   "cell_type": "code",
   "execution_count": 27,
   "metadata": {},
   "outputs": [
    {
     "data": {
      "application/vnd.plotly.v1+json": {
       "config": {
        "plotlyServerURL": "https://plot.ly"
       },
       "data": [
        {
         "alignmentgroup": "True",
         "hoverlabel": {
          "namelength": 0
         },
         "hovertemplate": "Position=%{x}<br>Avg. Points=%{y}",
         "legendgroup": "Position=Forward",
         "marker": {
          "color": "#636efa"
         },
         "name": "Position=Forward",
         "offsetgroup": "Position=Forward",
         "orientation": "v",
         "showlegend": true,
         "textposition": "auto",
         "type": "bar",
         "x": [
          "Forward"
         ],
         "xaxis": "x",
         "y": [
          19.06562368374107
         ],
         "yaxis": "y"
        },
        {
         "alignmentgroup": "True",
         "hoverlabel": {
          "namelength": 0
         },
         "hovertemplate": "Position=%{x}<br>Avg. Points=%{y}",
         "legendgroup": "Position=Midfielder",
         "marker": {
          "color": "#EF553B"
         },
         "name": "Position=Midfielder",
         "offsetgroup": "Position=Midfielder",
         "orientation": "v",
         "showlegend": true,
         "textposition": "auto",
         "type": "bar",
         "x": [
          "Midfielder"
         ],
         "xaxis": "x",
         "y": [
          14.115865515645078
         ],
         "yaxis": "y"
        },
        {
         "alignmentgroup": "True",
         "hoverlabel": {
          "namelength": 0
         },
         "hovertemplate": "Position=%{x}<br>Avg. Points=%{y}",
         "legendgroup": "Position=Defender",
         "marker": {
          "color": "#00cc96"
         },
         "name": "Position=Defender",
         "offsetgroup": "Position=Defender",
         "orientation": "v",
         "showlegend": true,
         "textposition": "auto",
         "type": "bar",
         "x": [
          "Defender"
         ],
         "xaxis": "x",
         "y": [
          12.554000508404997
         ],
         "yaxis": "y"
        },
        {
         "alignmentgroup": "True",
         "hoverlabel": {
          "namelength": 0
         },
         "hovertemplate": "Position=%{x}<br>Avg. Points=%{y}",
         "legendgroup": "Position=Goalkeeper",
         "marker": {
          "color": "#ab63fa"
         },
         "name": "Position=Goalkeeper",
         "offsetgroup": "Position=Goalkeeper",
         "orientation": "v",
         "showlegend": true,
         "textposition": "auto",
         "type": "bar",
         "x": [
          "Goalkeeper"
         ],
         "xaxis": "x",
         "y": [
          22.257452328063046
         ],
         "yaxis": "y"
        }
       ],
       "layout": {
        "barmode": "relative",
        "height": 500,
        "legend": {
         "tracegroupgap": 0
        },
        "margin": {
         "t": 60
        },
        "template": {
         "data": {
          "bar": [
           {
            "error_x": {
             "color": "#2a3f5f"
            },
            "error_y": {
             "color": "#2a3f5f"
            },
            "marker": {
             "line": {
              "color": "#E5ECF6",
              "width": 0.5
             }
            },
            "type": "bar"
           }
          ],
          "barpolar": [
           {
            "marker": {
             "line": {
              "color": "#E5ECF6",
              "width": 0.5
             }
            },
            "type": "barpolar"
           }
          ],
          "carpet": [
           {
            "aaxis": {
             "endlinecolor": "#2a3f5f",
             "gridcolor": "white",
             "linecolor": "white",
             "minorgridcolor": "white",
             "startlinecolor": "#2a3f5f"
            },
            "baxis": {
             "endlinecolor": "#2a3f5f",
             "gridcolor": "white",
             "linecolor": "white",
             "minorgridcolor": "white",
             "startlinecolor": "#2a3f5f"
            },
            "type": "carpet"
           }
          ],
          "choropleth": [
           {
            "colorbar": {
             "outlinewidth": 0,
             "ticks": ""
            },
            "type": "choropleth"
           }
          ],
          "contour": [
           {
            "colorbar": {
             "outlinewidth": 0,
             "ticks": ""
            },
            "colorscale": [
             [
              0,
              "#0d0887"
             ],
             [
              0.1111111111111111,
              "#46039f"
             ],
             [
              0.2222222222222222,
              "#7201a8"
             ],
             [
              0.3333333333333333,
              "#9c179e"
             ],
             [
              0.4444444444444444,
              "#bd3786"
             ],
             [
              0.5555555555555556,
              "#d8576b"
             ],
             [
              0.6666666666666666,
              "#ed7953"
             ],
             [
              0.7777777777777778,
              "#fb9f3a"
             ],
             [
              0.8888888888888888,
              "#fdca26"
             ],
             [
              1,
              "#f0f921"
             ]
            ],
            "type": "contour"
           }
          ],
          "contourcarpet": [
           {
            "colorbar": {
             "outlinewidth": 0,
             "ticks": ""
            },
            "type": "contourcarpet"
           }
          ],
          "heatmap": [
           {
            "colorbar": {
             "outlinewidth": 0,
             "ticks": ""
            },
            "colorscale": [
             [
              0,
              "#0d0887"
             ],
             [
              0.1111111111111111,
              "#46039f"
             ],
             [
              0.2222222222222222,
              "#7201a8"
             ],
             [
              0.3333333333333333,
              "#9c179e"
             ],
             [
              0.4444444444444444,
              "#bd3786"
             ],
             [
              0.5555555555555556,
              "#d8576b"
             ],
             [
              0.6666666666666666,
              "#ed7953"
             ],
             [
              0.7777777777777778,
              "#fb9f3a"
             ],
             [
              0.8888888888888888,
              "#fdca26"
             ],
             [
              1,
              "#f0f921"
             ]
            ],
            "type": "heatmap"
           }
          ],
          "heatmapgl": [
           {
            "colorbar": {
             "outlinewidth": 0,
             "ticks": ""
            },
            "colorscale": [
             [
              0,
              "#0d0887"
             ],
             [
              0.1111111111111111,
              "#46039f"
             ],
             [
              0.2222222222222222,
              "#7201a8"
             ],
             [
              0.3333333333333333,
              "#9c179e"
             ],
             [
              0.4444444444444444,
              "#bd3786"
             ],
             [
              0.5555555555555556,
              "#d8576b"
             ],
             [
              0.6666666666666666,
              "#ed7953"
             ],
             [
              0.7777777777777778,
              "#fb9f3a"
             ],
             [
              0.8888888888888888,
              "#fdca26"
             ],
             [
              1,
              "#f0f921"
             ]
            ],
            "type": "heatmapgl"
           }
          ],
          "histogram": [
           {
            "marker": {
             "colorbar": {
              "outlinewidth": 0,
              "ticks": ""
             }
            },
            "type": "histogram"
           }
          ],
          "histogram2d": [
           {
            "colorbar": {
             "outlinewidth": 0,
             "ticks": ""
            },
            "colorscale": [
             [
              0,
              "#0d0887"
             ],
             [
              0.1111111111111111,
              "#46039f"
             ],
             [
              0.2222222222222222,
              "#7201a8"
             ],
             [
              0.3333333333333333,
              "#9c179e"
             ],
             [
              0.4444444444444444,
              "#bd3786"
             ],
             [
              0.5555555555555556,
              "#d8576b"
             ],
             [
              0.6666666666666666,
              "#ed7953"
             ],
             [
              0.7777777777777778,
              "#fb9f3a"
             ],
             [
              0.8888888888888888,
              "#fdca26"
             ],
             [
              1,
              "#f0f921"
             ]
            ],
            "type": "histogram2d"
           }
          ],
          "histogram2dcontour": [
           {
            "colorbar": {
             "outlinewidth": 0,
             "ticks": ""
            },
            "colorscale": [
             [
              0,
              "#0d0887"
             ],
             [
              0.1111111111111111,
              "#46039f"
             ],
             [
              0.2222222222222222,
              "#7201a8"
             ],
             [
              0.3333333333333333,
              "#9c179e"
             ],
             [
              0.4444444444444444,
              "#bd3786"
             ],
             [
              0.5555555555555556,
              "#d8576b"
             ],
             [
              0.6666666666666666,
              "#ed7953"
             ],
             [
              0.7777777777777778,
              "#fb9f3a"
             ],
             [
              0.8888888888888888,
              "#fdca26"
             ],
             [
              1,
              "#f0f921"
             ]
            ],
            "type": "histogram2dcontour"
           }
          ],
          "mesh3d": [
           {
            "colorbar": {
             "outlinewidth": 0,
             "ticks": ""
            },
            "type": "mesh3d"
           }
          ],
          "parcoords": [
           {
            "line": {
             "colorbar": {
              "outlinewidth": 0,
              "ticks": ""
             }
            },
            "type": "parcoords"
           }
          ],
          "scatter": [
           {
            "marker": {
             "colorbar": {
              "outlinewidth": 0,
              "ticks": ""
             }
            },
            "type": "scatter"
           }
          ],
          "scatter3d": [
           {
            "line": {
             "colorbar": {
              "outlinewidth": 0,
              "ticks": ""
             }
            },
            "marker": {
             "colorbar": {
              "outlinewidth": 0,
              "ticks": ""
             }
            },
            "type": "scatter3d"
           }
          ],
          "scattercarpet": [
           {
            "marker": {
             "colorbar": {
              "outlinewidth": 0,
              "ticks": ""
             }
            },
            "type": "scattercarpet"
           }
          ],
          "scattergeo": [
           {
            "marker": {
             "colorbar": {
              "outlinewidth": 0,
              "ticks": ""
             }
            },
            "type": "scattergeo"
           }
          ],
          "scattergl": [
           {
            "marker": {
             "colorbar": {
              "outlinewidth": 0,
              "ticks": ""
             }
            },
            "type": "scattergl"
           }
          ],
          "scattermapbox": [
           {
            "marker": {
             "colorbar": {
              "outlinewidth": 0,
              "ticks": ""
             }
            },
            "type": "scattermapbox"
           }
          ],
          "scatterpolar": [
           {
            "marker": {
             "colorbar": {
              "outlinewidth": 0,
              "ticks": ""
             }
            },
            "type": "scatterpolar"
           }
          ],
          "scatterpolargl": [
           {
            "marker": {
             "colorbar": {
              "outlinewidth": 0,
              "ticks": ""
             }
            },
            "type": "scatterpolargl"
           }
          ],
          "scatterternary": [
           {
            "marker": {
             "colorbar": {
              "outlinewidth": 0,
              "ticks": ""
             }
            },
            "type": "scatterternary"
           }
          ],
          "surface": [
           {
            "colorbar": {
             "outlinewidth": 0,
             "ticks": ""
            },
            "colorscale": [
             [
              0,
              "#0d0887"
             ],
             [
              0.1111111111111111,
              "#46039f"
             ],
             [
              0.2222222222222222,
              "#7201a8"
             ],
             [
              0.3333333333333333,
              "#9c179e"
             ],
             [
              0.4444444444444444,
              "#bd3786"
             ],
             [
              0.5555555555555556,
              "#d8576b"
             ],
             [
              0.6666666666666666,
              "#ed7953"
             ],
             [
              0.7777777777777778,
              "#fb9f3a"
             ],
             [
              0.8888888888888888,
              "#fdca26"
             ],
             [
              1,
              "#f0f921"
             ]
            ],
            "type": "surface"
           }
          ],
          "table": [
           {
            "cells": {
             "fill": {
              "color": "#EBF0F8"
             },
             "line": {
              "color": "white"
             }
            },
            "header": {
             "fill": {
              "color": "#C8D4E3"
             },
             "line": {
              "color": "white"
             }
            },
            "type": "table"
           }
          ]
         },
         "layout": {
          "annotationdefaults": {
           "arrowcolor": "#2a3f5f",
           "arrowhead": 0,
           "arrowwidth": 1
          },
          "colorscale": {
           "diverging": [
            [
             0,
             "#8e0152"
            ],
            [
             0.1,
             "#c51b7d"
            ],
            [
             0.2,
             "#de77ae"
            ],
            [
             0.3,
             "#f1b6da"
            ],
            [
             0.4,
             "#fde0ef"
            ],
            [
             0.5,
             "#f7f7f7"
            ],
            [
             0.6,
             "#e6f5d0"
            ],
            [
             0.7,
             "#b8e186"
            ],
            [
             0.8,
             "#7fbc41"
            ],
            [
             0.9,
             "#4d9221"
            ],
            [
             1,
             "#276419"
            ]
           ],
           "sequential": [
            [
             0,
             "#0d0887"
            ],
            [
             0.1111111111111111,
             "#46039f"
            ],
            [
             0.2222222222222222,
             "#7201a8"
            ],
            [
             0.3333333333333333,
             "#9c179e"
            ],
            [
             0.4444444444444444,
             "#bd3786"
            ],
            [
             0.5555555555555556,
             "#d8576b"
            ],
            [
             0.6666666666666666,
             "#ed7953"
            ],
            [
             0.7777777777777778,
             "#fb9f3a"
            ],
            [
             0.8888888888888888,
             "#fdca26"
            ],
            [
             1,
             "#f0f921"
            ]
           ],
           "sequentialminus": [
            [
             0,
             "#0d0887"
            ],
            [
             0.1111111111111111,
             "#46039f"
            ],
            [
             0.2222222222222222,
             "#7201a8"
            ],
            [
             0.3333333333333333,
             "#9c179e"
            ],
            [
             0.4444444444444444,
             "#bd3786"
            ],
            [
             0.5555555555555556,
             "#d8576b"
            ],
            [
             0.6666666666666666,
             "#ed7953"
            ],
            [
             0.7777777777777778,
             "#fb9f3a"
            ],
            [
             0.8888888888888888,
             "#fdca26"
            ],
            [
             1,
             "#f0f921"
            ]
           ]
          },
          "colorway": [
           "#636efa",
           "#EF553B",
           "#00cc96",
           "#ab63fa",
           "#FFA15A",
           "#19d3f3",
           "#FF6692",
           "#B6E880",
           "#FF97FF",
           "#FECB52"
          ],
          "font": {
           "color": "#2a3f5f"
          },
          "geo": {
           "bgcolor": "white",
           "lakecolor": "white",
           "landcolor": "#E5ECF6",
           "showlakes": true,
           "showland": true,
           "subunitcolor": "white"
          },
          "hoverlabel": {
           "align": "left"
          },
          "hovermode": "closest",
          "mapbox": {
           "style": "light"
          },
          "paper_bgcolor": "white",
          "plot_bgcolor": "#E5ECF6",
          "polar": {
           "angularaxis": {
            "gridcolor": "white",
            "linecolor": "white",
            "ticks": ""
           },
           "bgcolor": "#E5ECF6",
           "radialaxis": {
            "gridcolor": "white",
            "linecolor": "white",
            "ticks": ""
           }
          },
          "scene": {
           "xaxis": {
            "backgroundcolor": "#E5ECF6",
            "gridcolor": "white",
            "gridwidth": 2,
            "linecolor": "white",
            "showbackground": true,
            "ticks": "",
            "zerolinecolor": "white"
           },
           "yaxis": {
            "backgroundcolor": "#E5ECF6",
            "gridcolor": "white",
            "gridwidth": 2,
            "linecolor": "white",
            "showbackground": true,
            "ticks": "",
            "zerolinecolor": "white"
           },
           "zaxis": {
            "backgroundcolor": "#E5ECF6",
            "gridcolor": "white",
            "gridwidth": 2,
            "linecolor": "white",
            "showbackground": true,
            "ticks": "",
            "zerolinecolor": "white"
           }
          },
          "shapedefaults": {
           "line": {
            "color": "#2a3f5f"
           }
          },
          "ternary": {
           "aaxis": {
            "gridcolor": "white",
            "linecolor": "white",
            "ticks": ""
           },
           "baxis": {
            "gridcolor": "white",
            "linecolor": "white",
            "ticks": ""
           },
           "bgcolor": "#E5ECF6",
           "caxis": {
            "gridcolor": "white",
            "linecolor": "white",
            "ticks": ""
           }
          },
          "title": {
           "x": 0.05
          },
          "xaxis": {
           "automargin": true,
           "gridcolor": "white",
           "linecolor": "white",
           "ticks": "",
           "zerolinecolor": "white",
           "zerolinewidth": 2
          },
          "yaxis": {
           "automargin": true,
           "gridcolor": "white",
           "linecolor": "white",
           "ticks": "",
           "zerolinecolor": "white",
           "zerolinewidth": 2
          }
         }
        },
        "title": {
         "text": "Positions and their Avg. Points"
        },
        "xaxis": {
         "anchor": "y",
         "categoryarray": [
          "Forward",
          "Midfielder",
          "Defender",
          "Goalkeeper"
         ],
         "categoryorder": "array",
         "domain": [
          0,
          0.98
         ],
         "title": {
          "text": "Position"
         }
        },
        "yaxis": {
         "anchor": "x",
         "domain": [
          0,
          1
         ],
         "title": {
          "text": "Avg. Points"
         }
        }
       }
      },
      "text/html": [
       "<div>\n",
       "        \n",
       "        \n",
       "            <div id=\"7e2451bc-58d0-479b-9041-aa27954f8011\" class=\"plotly-graph-div\" style=\"height:500px; width:100%;\"></div>\n",
       "            <script type=\"text/javascript\">\n",
       "                require([\"plotly\"], function(Plotly) {\n",
       "                    window.PLOTLYENV=window.PLOTLYENV || {};\n",
       "                    \n",
       "                if (document.getElementById(\"7e2451bc-58d0-479b-9041-aa27954f8011\")) {\n",
       "                    Plotly.newPlot(\n",
       "                        '7e2451bc-58d0-479b-9041-aa27954f8011',\n",
       "                        [{\"alignmentgroup\": \"True\", \"hoverlabel\": {\"namelength\": 0}, \"hovertemplate\": \"Position=%{x}<br>Avg. Points=%{y}\", \"legendgroup\": \"Position=Forward\", \"marker\": {\"color\": \"#636efa\"}, \"name\": \"Position=Forward\", \"offsetgroup\": \"Position=Forward\", \"orientation\": \"v\", \"showlegend\": true, \"textposition\": \"auto\", \"type\": \"bar\", \"x\": [\"Forward\"], \"xaxis\": \"x\", \"y\": [19.06562368374107], \"yaxis\": \"y\"}, {\"alignmentgroup\": \"True\", \"hoverlabel\": {\"namelength\": 0}, \"hovertemplate\": \"Position=%{x}<br>Avg. Points=%{y}\", \"legendgroup\": \"Position=Midfielder\", \"marker\": {\"color\": \"#EF553B\"}, \"name\": \"Position=Midfielder\", \"offsetgroup\": \"Position=Midfielder\", \"orientation\": \"v\", \"showlegend\": true, \"textposition\": \"auto\", \"type\": \"bar\", \"x\": [\"Midfielder\"], \"xaxis\": \"x\", \"y\": [14.115865515645078], \"yaxis\": \"y\"}, {\"alignmentgroup\": \"True\", \"hoverlabel\": {\"namelength\": 0}, \"hovertemplate\": \"Position=%{x}<br>Avg. Points=%{y}\", \"legendgroup\": \"Position=Defender\", \"marker\": {\"color\": \"#00cc96\"}, \"name\": \"Position=Defender\", \"offsetgroup\": \"Position=Defender\", \"orientation\": \"v\", \"showlegend\": true, \"textposition\": \"auto\", \"type\": \"bar\", \"x\": [\"Defender\"], \"xaxis\": \"x\", \"y\": [12.554000508404997], \"yaxis\": \"y\"}, {\"alignmentgroup\": \"True\", \"hoverlabel\": {\"namelength\": 0}, \"hovertemplate\": \"Position=%{x}<br>Avg. Points=%{y}\", \"legendgroup\": \"Position=Goalkeeper\", \"marker\": {\"color\": \"#ab63fa\"}, \"name\": \"Position=Goalkeeper\", \"offsetgroup\": \"Position=Goalkeeper\", \"orientation\": \"v\", \"showlegend\": true, \"textposition\": \"auto\", \"type\": \"bar\", \"x\": [\"Goalkeeper\"], \"xaxis\": \"x\", \"y\": [22.257452328063046], \"yaxis\": \"y\"}],\n",
       "                        {\"barmode\": \"relative\", \"height\": 500, \"legend\": {\"tracegroupgap\": 0}, \"margin\": {\"t\": 60}, \"template\": {\"data\": {\"bar\": [{\"error_x\": {\"color\": \"#2a3f5f\"}, \"error_y\": {\"color\": \"#2a3f5f\"}, \"marker\": {\"line\": {\"color\": \"#E5ECF6\", \"width\": 0.5}}, \"type\": \"bar\"}], \"barpolar\": [{\"marker\": {\"line\": {\"color\": \"#E5ECF6\", \"width\": 0.5}}, \"type\": \"barpolar\"}], \"carpet\": [{\"aaxis\": {\"endlinecolor\": \"#2a3f5f\", \"gridcolor\": \"white\", \"linecolor\": \"white\", \"minorgridcolor\": \"white\", \"startlinecolor\": \"#2a3f5f\"}, \"baxis\": {\"endlinecolor\": \"#2a3f5f\", \"gridcolor\": \"white\", \"linecolor\": \"white\", \"minorgridcolor\": \"white\", \"startlinecolor\": \"#2a3f5f\"}, \"type\": \"carpet\"}], \"choropleth\": [{\"colorbar\": {\"outlinewidth\": 0, \"ticks\": \"\"}, \"type\": \"choropleth\"}], \"contour\": [{\"colorbar\": {\"outlinewidth\": 0, \"ticks\": \"\"}, \"colorscale\": [[0.0, \"#0d0887\"], [0.1111111111111111, \"#46039f\"], [0.2222222222222222, \"#7201a8\"], [0.3333333333333333, \"#9c179e\"], [0.4444444444444444, \"#bd3786\"], [0.5555555555555556, \"#d8576b\"], [0.6666666666666666, \"#ed7953\"], [0.7777777777777778, \"#fb9f3a\"], [0.8888888888888888, \"#fdca26\"], [1.0, \"#f0f921\"]], \"type\": \"contour\"}], \"contourcarpet\": [{\"colorbar\": {\"outlinewidth\": 0, \"ticks\": \"\"}, \"type\": \"contourcarpet\"}], \"heatmap\": [{\"colorbar\": {\"outlinewidth\": 0, \"ticks\": \"\"}, \"colorscale\": [[0.0, \"#0d0887\"], [0.1111111111111111, \"#46039f\"], [0.2222222222222222, \"#7201a8\"], [0.3333333333333333, \"#9c179e\"], [0.4444444444444444, \"#bd3786\"], [0.5555555555555556, \"#d8576b\"], [0.6666666666666666, \"#ed7953\"], [0.7777777777777778, \"#fb9f3a\"], [0.8888888888888888, \"#fdca26\"], [1.0, \"#f0f921\"]], \"type\": \"heatmap\"}], \"heatmapgl\": [{\"colorbar\": {\"outlinewidth\": 0, \"ticks\": \"\"}, \"colorscale\": [[0.0, \"#0d0887\"], [0.1111111111111111, \"#46039f\"], [0.2222222222222222, \"#7201a8\"], [0.3333333333333333, \"#9c179e\"], [0.4444444444444444, \"#bd3786\"], [0.5555555555555556, \"#d8576b\"], [0.6666666666666666, \"#ed7953\"], [0.7777777777777778, \"#fb9f3a\"], [0.8888888888888888, \"#fdca26\"], [1.0, \"#f0f921\"]], \"type\": \"heatmapgl\"}], \"histogram\": [{\"marker\": {\"colorbar\": {\"outlinewidth\": 0, \"ticks\": \"\"}}, \"type\": \"histogram\"}], \"histogram2d\": [{\"colorbar\": {\"outlinewidth\": 0, \"ticks\": \"\"}, \"colorscale\": [[0.0, \"#0d0887\"], [0.1111111111111111, \"#46039f\"], [0.2222222222222222, \"#7201a8\"], [0.3333333333333333, \"#9c179e\"], [0.4444444444444444, \"#bd3786\"], [0.5555555555555556, \"#d8576b\"], [0.6666666666666666, \"#ed7953\"], [0.7777777777777778, \"#fb9f3a\"], [0.8888888888888888, \"#fdca26\"], [1.0, \"#f0f921\"]], \"type\": \"histogram2d\"}], \"histogram2dcontour\": [{\"colorbar\": {\"outlinewidth\": 0, \"ticks\": \"\"}, \"colorscale\": [[0.0, \"#0d0887\"], [0.1111111111111111, \"#46039f\"], [0.2222222222222222, \"#7201a8\"], [0.3333333333333333, \"#9c179e\"], [0.4444444444444444, \"#bd3786\"], [0.5555555555555556, \"#d8576b\"], [0.6666666666666666, \"#ed7953\"], [0.7777777777777778, \"#fb9f3a\"], [0.8888888888888888, \"#fdca26\"], [1.0, \"#f0f921\"]], \"type\": \"histogram2dcontour\"}], \"mesh3d\": [{\"colorbar\": {\"outlinewidth\": 0, \"ticks\": \"\"}, \"type\": \"mesh3d\"}], \"parcoords\": [{\"line\": {\"colorbar\": {\"outlinewidth\": 0, \"ticks\": \"\"}}, \"type\": \"parcoords\"}], \"scatter\": [{\"marker\": {\"colorbar\": {\"outlinewidth\": 0, \"ticks\": \"\"}}, \"type\": \"scatter\"}], \"scatter3d\": [{\"line\": {\"colorbar\": {\"outlinewidth\": 0, \"ticks\": \"\"}}, \"marker\": {\"colorbar\": {\"outlinewidth\": 0, \"ticks\": \"\"}}, \"type\": \"scatter3d\"}], \"scattercarpet\": [{\"marker\": {\"colorbar\": {\"outlinewidth\": 0, \"ticks\": \"\"}}, \"type\": \"scattercarpet\"}], \"scattergeo\": [{\"marker\": {\"colorbar\": {\"outlinewidth\": 0, \"ticks\": \"\"}}, \"type\": \"scattergeo\"}], \"scattergl\": [{\"marker\": {\"colorbar\": {\"outlinewidth\": 0, \"ticks\": \"\"}}, \"type\": \"scattergl\"}], \"scattermapbox\": [{\"marker\": {\"colorbar\": {\"outlinewidth\": 0, \"ticks\": \"\"}}, \"type\": \"scattermapbox\"}], \"scatterpolar\": [{\"marker\": {\"colorbar\": {\"outlinewidth\": 0, \"ticks\": \"\"}}, \"type\": \"scatterpolar\"}], \"scatterpolargl\": [{\"marker\": {\"colorbar\": {\"outlinewidth\": 0, \"ticks\": \"\"}}, \"type\": \"scatterpolargl\"}], \"scatterternary\": [{\"marker\": {\"colorbar\": {\"outlinewidth\": 0, \"ticks\": \"\"}}, \"type\": \"scatterternary\"}], \"surface\": [{\"colorbar\": {\"outlinewidth\": 0, \"ticks\": \"\"}, \"colorscale\": [[0.0, \"#0d0887\"], [0.1111111111111111, \"#46039f\"], [0.2222222222222222, \"#7201a8\"], [0.3333333333333333, \"#9c179e\"], [0.4444444444444444, \"#bd3786\"], [0.5555555555555556, \"#d8576b\"], [0.6666666666666666, \"#ed7953\"], [0.7777777777777778, \"#fb9f3a\"], [0.8888888888888888, \"#fdca26\"], [1.0, \"#f0f921\"]], \"type\": \"surface\"}], \"table\": [{\"cells\": {\"fill\": {\"color\": \"#EBF0F8\"}, \"line\": {\"color\": \"white\"}}, \"header\": {\"fill\": {\"color\": \"#C8D4E3\"}, \"line\": {\"color\": \"white\"}}, \"type\": \"table\"}]}, \"layout\": {\"annotationdefaults\": {\"arrowcolor\": \"#2a3f5f\", \"arrowhead\": 0, \"arrowwidth\": 1}, \"colorscale\": {\"diverging\": [[0, \"#8e0152\"], [0.1, \"#c51b7d\"], [0.2, \"#de77ae\"], [0.3, \"#f1b6da\"], [0.4, \"#fde0ef\"], [0.5, \"#f7f7f7\"], [0.6, \"#e6f5d0\"], [0.7, \"#b8e186\"], [0.8, \"#7fbc41\"], [0.9, \"#4d9221\"], [1, \"#276419\"]], \"sequential\": [[0.0, \"#0d0887\"], [0.1111111111111111, \"#46039f\"], [0.2222222222222222, \"#7201a8\"], [0.3333333333333333, \"#9c179e\"], [0.4444444444444444, \"#bd3786\"], [0.5555555555555556, \"#d8576b\"], [0.6666666666666666, \"#ed7953\"], [0.7777777777777778, \"#fb9f3a\"], [0.8888888888888888, \"#fdca26\"], [1.0, \"#f0f921\"]], \"sequentialminus\": [[0.0, \"#0d0887\"], [0.1111111111111111, \"#46039f\"], [0.2222222222222222, \"#7201a8\"], [0.3333333333333333, \"#9c179e\"], [0.4444444444444444, \"#bd3786\"], [0.5555555555555556, \"#d8576b\"], [0.6666666666666666, \"#ed7953\"], [0.7777777777777778, \"#fb9f3a\"], [0.8888888888888888, \"#fdca26\"], [1.0, \"#f0f921\"]]}, \"colorway\": [\"#636efa\", \"#EF553B\", \"#00cc96\", \"#ab63fa\", \"#FFA15A\", \"#19d3f3\", \"#FF6692\", \"#B6E880\", \"#FF97FF\", \"#FECB52\"], \"font\": {\"color\": \"#2a3f5f\"}, \"geo\": {\"bgcolor\": \"white\", \"lakecolor\": \"white\", \"landcolor\": \"#E5ECF6\", \"showlakes\": true, \"showland\": true, \"subunitcolor\": \"white\"}, \"hoverlabel\": {\"align\": \"left\"}, \"hovermode\": \"closest\", \"mapbox\": {\"style\": \"light\"}, \"paper_bgcolor\": \"white\", \"plot_bgcolor\": \"#E5ECF6\", \"polar\": {\"angularaxis\": {\"gridcolor\": \"white\", \"linecolor\": \"white\", \"ticks\": \"\"}, \"bgcolor\": \"#E5ECF6\", \"radialaxis\": {\"gridcolor\": \"white\", \"linecolor\": \"white\", \"ticks\": \"\"}}, \"scene\": {\"xaxis\": {\"backgroundcolor\": \"#E5ECF6\", \"gridcolor\": \"white\", \"gridwidth\": 2, \"linecolor\": \"white\", \"showbackground\": true, \"ticks\": \"\", \"zerolinecolor\": \"white\"}, \"yaxis\": {\"backgroundcolor\": \"#E5ECF6\", \"gridcolor\": \"white\", \"gridwidth\": 2, \"linecolor\": \"white\", \"showbackground\": true, \"ticks\": \"\", \"zerolinecolor\": \"white\"}, \"zaxis\": {\"backgroundcolor\": \"#E5ECF6\", \"gridcolor\": \"white\", \"gridwidth\": 2, \"linecolor\": \"white\", \"showbackground\": true, \"ticks\": \"\", \"zerolinecolor\": \"white\"}}, \"shapedefaults\": {\"line\": {\"color\": \"#2a3f5f\"}}, \"ternary\": {\"aaxis\": {\"gridcolor\": \"white\", \"linecolor\": \"white\", \"ticks\": \"\"}, \"baxis\": {\"gridcolor\": \"white\", \"linecolor\": \"white\", \"ticks\": \"\"}, \"bgcolor\": \"#E5ECF6\", \"caxis\": {\"gridcolor\": \"white\", \"linecolor\": \"white\", \"ticks\": \"\"}}, \"title\": {\"x\": 0.05}, \"xaxis\": {\"automargin\": true, \"gridcolor\": \"white\", \"linecolor\": \"white\", \"ticks\": \"\", \"zerolinecolor\": \"white\", \"zerolinewidth\": 2}, \"yaxis\": {\"automargin\": true, \"gridcolor\": \"white\", \"linecolor\": \"white\", \"ticks\": \"\", \"zerolinecolor\": \"white\", \"zerolinewidth\": 2}}}, \"title\": {\"text\": \"Positions and their Avg. Points\"}, \"xaxis\": {\"anchor\": \"y\", \"categoryarray\": [\"Forward\", \"Midfielder\", \"Defender\", \"Goalkeeper\"], \"categoryorder\": \"array\", \"domain\": [0.0, 0.98], \"title\": {\"text\": \"Position\"}}, \"yaxis\": {\"anchor\": \"x\", \"domain\": [0.0, 1.0], \"title\": {\"text\": \"Avg. Points\"}}},\n",
       "                        {\"responsive\": true}\n",
       "                    ).then(function(){\n",
       "                            \n",
       "var gd = document.getElementById('7e2451bc-58d0-479b-9041-aa27954f8011');\n",
       "var x = new MutationObserver(function (mutations, observer) {{\n",
       "        var display = window.getComputedStyle(gd).display;\n",
       "        if (!display || display === 'none') {{\n",
       "            console.log([gd, 'removed!']);\n",
       "            Plotly.purge(gd);\n",
       "            observer.disconnect();\n",
       "        }}\n",
       "}});\n",
       "\n",
       "// Listen for the removal of the full notebook cells\n",
       "var notebookContainer = gd.closest('#notebook-container');\n",
       "if (notebookContainer) {{\n",
       "    x.observe(notebookContainer, {childList: true});\n",
       "}}\n",
       "\n",
       "// Listen for the clearing of the current output cell\n",
       "var outputEl = gd.closest('.output');\n",
       "if (outputEl) {{\n",
       "    x.observe(outputEl, {childList: true});\n",
       "}}\n",
       "\n",
       "                        })\n",
       "                };\n",
       "                });\n",
       "            </script>\n",
       "        </div>"
      ]
     },
     "metadata": {},
     "output_type": "display_data"
    }
   ],
   "source": [
    "# compare positions based on average effective points\n",
    "positions = pd.DataFrame(positions)\n",
    "fig = px.bar(positions, x='type', y='mean_points', color='type', labels={'mean_points':'Avg. Points', 'type':'Position'}, height=500)\n",
    "fig.update_layout(title='Positions and their Avg. Points')\n",
    "fig.show()\n",
    "\n"
   ]
  },
  {
   "cell_type": "code",
   "execution_count": 28,
   "metadata": {},
   "outputs": [
    {
     "data": {
      "application/vnd.plotly.v1+json": {
       "config": {
        "plotlyServerURL": "https://plot.ly"
       },
       "data": [
        {
         "alignmentgroup": "True",
         "hoverlabel": {
          "namelength": 0
         },
         "hovertemplate": "Position=%{x}<br>Avg. Points per Cost=%{y}",
         "legendgroup": "Position=Forward",
         "marker": {
          "color": "#636efa"
         },
         "name": "Position=Forward",
         "offsetgroup": "Position=Forward",
         "orientation": "v",
         "showlegend": true,
         "textposition": "auto",
         "type": "bar",
         "x": [
          "Forward"
         ],
         "xaxis": "x",
         "y": [
          2.5325273709459464
         ],
         "yaxis": "y"
        },
        {
         "alignmentgroup": "True",
         "hoverlabel": {
          "namelength": 0
         },
         "hovertemplate": "Position=%{x}<br>Avg. Points per Cost=%{y}",
         "legendgroup": "Position=Midfielder",
         "marker": {
          "color": "#EF553B"
         },
         "name": "Position=Midfielder",
         "offsetgroup": "Position=Midfielder",
         "orientation": "v",
         "showlegend": true,
         "textposition": "auto",
         "type": "bar",
         "x": [
          "Midfielder"
         ],
         "xaxis": "x",
         "y": [
          2.134658788722543
         ],
         "yaxis": "y"
        },
        {
         "alignmentgroup": "True",
         "hoverlabel": {
          "namelength": 0
         },
         "hovertemplate": "Position=%{x}<br>Avg. Points per Cost=%{y}",
         "legendgroup": "Position=Defender",
         "marker": {
          "color": "#00cc96"
         },
         "name": "Position=Defender",
         "offsetgroup": "Position=Defender",
         "orientation": "v",
         "showlegend": true,
         "textposition": "auto",
         "type": "bar",
         "x": [
          "Defender"
         ],
         "xaxis": "x",
         "y": [
          2.362203965134458
         ],
         "yaxis": "y"
        },
        {
         "alignmentgroup": "True",
         "hoverlabel": {
          "namelength": 0
         },
         "hovertemplate": "Position=%{x}<br>Avg. Points per Cost=%{y}",
         "legendgroup": "Position=Goalkeeper",
         "marker": {
          "color": "#ab63fa"
         },
         "name": "Position=Goalkeeper",
         "offsetgroup": "Position=Goalkeeper",
         "orientation": "v",
         "showlegend": true,
         "textposition": "auto",
         "type": "bar",
         "x": [
          "Goalkeeper"
         ],
         "xaxis": "x",
         "y": [
          4.247063908118865
         ],
         "yaxis": "y"
        }
       ],
       "layout": {
        "barmode": "relative",
        "height": 500,
        "legend": {
         "tracegroupgap": 0
        },
        "margin": {
         "t": 60
        },
        "template": {
         "data": {
          "bar": [
           {
            "error_x": {
             "color": "#2a3f5f"
            },
            "error_y": {
             "color": "#2a3f5f"
            },
            "marker": {
             "line": {
              "color": "#E5ECF6",
              "width": 0.5
             }
            },
            "type": "bar"
           }
          ],
          "barpolar": [
           {
            "marker": {
             "line": {
              "color": "#E5ECF6",
              "width": 0.5
             }
            },
            "type": "barpolar"
           }
          ],
          "carpet": [
           {
            "aaxis": {
             "endlinecolor": "#2a3f5f",
             "gridcolor": "white",
             "linecolor": "white",
             "minorgridcolor": "white",
             "startlinecolor": "#2a3f5f"
            },
            "baxis": {
             "endlinecolor": "#2a3f5f",
             "gridcolor": "white",
             "linecolor": "white",
             "minorgridcolor": "white",
             "startlinecolor": "#2a3f5f"
            },
            "type": "carpet"
           }
          ],
          "choropleth": [
           {
            "colorbar": {
             "outlinewidth": 0,
             "ticks": ""
            },
            "type": "choropleth"
           }
          ],
          "contour": [
           {
            "colorbar": {
             "outlinewidth": 0,
             "ticks": ""
            },
            "colorscale": [
             [
              0,
              "#0d0887"
             ],
             [
              0.1111111111111111,
              "#46039f"
             ],
             [
              0.2222222222222222,
              "#7201a8"
             ],
             [
              0.3333333333333333,
              "#9c179e"
             ],
             [
              0.4444444444444444,
              "#bd3786"
             ],
             [
              0.5555555555555556,
              "#d8576b"
             ],
             [
              0.6666666666666666,
              "#ed7953"
             ],
             [
              0.7777777777777778,
              "#fb9f3a"
             ],
             [
              0.8888888888888888,
              "#fdca26"
             ],
             [
              1,
              "#f0f921"
             ]
            ],
            "type": "contour"
           }
          ],
          "contourcarpet": [
           {
            "colorbar": {
             "outlinewidth": 0,
             "ticks": ""
            },
            "type": "contourcarpet"
           }
          ],
          "heatmap": [
           {
            "colorbar": {
             "outlinewidth": 0,
             "ticks": ""
            },
            "colorscale": [
             [
              0,
              "#0d0887"
             ],
             [
              0.1111111111111111,
              "#46039f"
             ],
             [
              0.2222222222222222,
              "#7201a8"
             ],
             [
              0.3333333333333333,
              "#9c179e"
             ],
             [
              0.4444444444444444,
              "#bd3786"
             ],
             [
              0.5555555555555556,
              "#d8576b"
             ],
             [
              0.6666666666666666,
              "#ed7953"
             ],
             [
              0.7777777777777778,
              "#fb9f3a"
             ],
             [
              0.8888888888888888,
              "#fdca26"
             ],
             [
              1,
              "#f0f921"
             ]
            ],
            "type": "heatmap"
           }
          ],
          "heatmapgl": [
           {
            "colorbar": {
             "outlinewidth": 0,
             "ticks": ""
            },
            "colorscale": [
             [
              0,
              "#0d0887"
             ],
             [
              0.1111111111111111,
              "#46039f"
             ],
             [
              0.2222222222222222,
              "#7201a8"
             ],
             [
              0.3333333333333333,
              "#9c179e"
             ],
             [
              0.4444444444444444,
              "#bd3786"
             ],
             [
              0.5555555555555556,
              "#d8576b"
             ],
             [
              0.6666666666666666,
              "#ed7953"
             ],
             [
              0.7777777777777778,
              "#fb9f3a"
             ],
             [
              0.8888888888888888,
              "#fdca26"
             ],
             [
              1,
              "#f0f921"
             ]
            ],
            "type": "heatmapgl"
           }
          ],
          "histogram": [
           {
            "marker": {
             "colorbar": {
              "outlinewidth": 0,
              "ticks": ""
             }
            },
            "type": "histogram"
           }
          ],
          "histogram2d": [
           {
            "colorbar": {
             "outlinewidth": 0,
             "ticks": ""
            },
            "colorscale": [
             [
              0,
              "#0d0887"
             ],
             [
              0.1111111111111111,
              "#46039f"
             ],
             [
              0.2222222222222222,
              "#7201a8"
             ],
             [
              0.3333333333333333,
              "#9c179e"
             ],
             [
              0.4444444444444444,
              "#bd3786"
             ],
             [
              0.5555555555555556,
              "#d8576b"
             ],
             [
              0.6666666666666666,
              "#ed7953"
             ],
             [
              0.7777777777777778,
              "#fb9f3a"
             ],
             [
              0.8888888888888888,
              "#fdca26"
             ],
             [
              1,
              "#f0f921"
             ]
            ],
            "type": "histogram2d"
           }
          ],
          "histogram2dcontour": [
           {
            "colorbar": {
             "outlinewidth": 0,
             "ticks": ""
            },
            "colorscale": [
             [
              0,
              "#0d0887"
             ],
             [
              0.1111111111111111,
              "#46039f"
             ],
             [
              0.2222222222222222,
              "#7201a8"
             ],
             [
              0.3333333333333333,
              "#9c179e"
             ],
             [
              0.4444444444444444,
              "#bd3786"
             ],
             [
              0.5555555555555556,
              "#d8576b"
             ],
             [
              0.6666666666666666,
              "#ed7953"
             ],
             [
              0.7777777777777778,
              "#fb9f3a"
             ],
             [
              0.8888888888888888,
              "#fdca26"
             ],
             [
              1,
              "#f0f921"
             ]
            ],
            "type": "histogram2dcontour"
           }
          ],
          "mesh3d": [
           {
            "colorbar": {
             "outlinewidth": 0,
             "ticks": ""
            },
            "type": "mesh3d"
           }
          ],
          "parcoords": [
           {
            "line": {
             "colorbar": {
              "outlinewidth": 0,
              "ticks": ""
             }
            },
            "type": "parcoords"
           }
          ],
          "scatter": [
           {
            "marker": {
             "colorbar": {
              "outlinewidth": 0,
              "ticks": ""
             }
            },
            "type": "scatter"
           }
          ],
          "scatter3d": [
           {
            "line": {
             "colorbar": {
              "outlinewidth": 0,
              "ticks": ""
             }
            },
            "marker": {
             "colorbar": {
              "outlinewidth": 0,
              "ticks": ""
             }
            },
            "type": "scatter3d"
           }
          ],
          "scattercarpet": [
           {
            "marker": {
             "colorbar": {
              "outlinewidth": 0,
              "ticks": ""
             }
            },
            "type": "scattercarpet"
           }
          ],
          "scattergeo": [
           {
            "marker": {
             "colorbar": {
              "outlinewidth": 0,
              "ticks": ""
             }
            },
            "type": "scattergeo"
           }
          ],
          "scattergl": [
           {
            "marker": {
             "colorbar": {
              "outlinewidth": 0,
              "ticks": ""
             }
            },
            "type": "scattergl"
           }
          ],
          "scattermapbox": [
           {
            "marker": {
             "colorbar": {
              "outlinewidth": 0,
              "ticks": ""
             }
            },
            "type": "scattermapbox"
           }
          ],
          "scatterpolar": [
           {
            "marker": {
             "colorbar": {
              "outlinewidth": 0,
              "ticks": ""
             }
            },
            "type": "scatterpolar"
           }
          ],
          "scatterpolargl": [
           {
            "marker": {
             "colorbar": {
              "outlinewidth": 0,
              "ticks": ""
             }
            },
            "type": "scatterpolargl"
           }
          ],
          "scatterternary": [
           {
            "marker": {
             "colorbar": {
              "outlinewidth": 0,
              "ticks": ""
             }
            },
            "type": "scatterternary"
           }
          ],
          "surface": [
           {
            "colorbar": {
             "outlinewidth": 0,
             "ticks": ""
            },
            "colorscale": [
             [
              0,
              "#0d0887"
             ],
             [
              0.1111111111111111,
              "#46039f"
             ],
             [
              0.2222222222222222,
              "#7201a8"
             ],
             [
              0.3333333333333333,
              "#9c179e"
             ],
             [
              0.4444444444444444,
              "#bd3786"
             ],
             [
              0.5555555555555556,
              "#d8576b"
             ],
             [
              0.6666666666666666,
              "#ed7953"
             ],
             [
              0.7777777777777778,
              "#fb9f3a"
             ],
             [
              0.8888888888888888,
              "#fdca26"
             ],
             [
              1,
              "#f0f921"
             ]
            ],
            "type": "surface"
           }
          ],
          "table": [
           {
            "cells": {
             "fill": {
              "color": "#EBF0F8"
             },
             "line": {
              "color": "white"
             }
            },
            "header": {
             "fill": {
              "color": "#C8D4E3"
             },
             "line": {
              "color": "white"
             }
            },
            "type": "table"
           }
          ]
         },
         "layout": {
          "annotationdefaults": {
           "arrowcolor": "#2a3f5f",
           "arrowhead": 0,
           "arrowwidth": 1
          },
          "colorscale": {
           "diverging": [
            [
             0,
             "#8e0152"
            ],
            [
             0.1,
             "#c51b7d"
            ],
            [
             0.2,
             "#de77ae"
            ],
            [
             0.3,
             "#f1b6da"
            ],
            [
             0.4,
             "#fde0ef"
            ],
            [
             0.5,
             "#f7f7f7"
            ],
            [
             0.6,
             "#e6f5d0"
            ],
            [
             0.7,
             "#b8e186"
            ],
            [
             0.8,
             "#7fbc41"
            ],
            [
             0.9,
             "#4d9221"
            ],
            [
             1,
             "#276419"
            ]
           ],
           "sequential": [
            [
             0,
             "#0d0887"
            ],
            [
             0.1111111111111111,
             "#46039f"
            ],
            [
             0.2222222222222222,
             "#7201a8"
            ],
            [
             0.3333333333333333,
             "#9c179e"
            ],
            [
             0.4444444444444444,
             "#bd3786"
            ],
            [
             0.5555555555555556,
             "#d8576b"
            ],
            [
             0.6666666666666666,
             "#ed7953"
            ],
            [
             0.7777777777777778,
             "#fb9f3a"
            ],
            [
             0.8888888888888888,
             "#fdca26"
            ],
            [
             1,
             "#f0f921"
            ]
           ],
           "sequentialminus": [
            [
             0,
             "#0d0887"
            ],
            [
             0.1111111111111111,
             "#46039f"
            ],
            [
             0.2222222222222222,
             "#7201a8"
            ],
            [
             0.3333333333333333,
             "#9c179e"
            ],
            [
             0.4444444444444444,
             "#bd3786"
            ],
            [
             0.5555555555555556,
             "#d8576b"
            ],
            [
             0.6666666666666666,
             "#ed7953"
            ],
            [
             0.7777777777777778,
             "#fb9f3a"
            ],
            [
             0.8888888888888888,
             "#fdca26"
            ],
            [
             1,
             "#f0f921"
            ]
           ]
          },
          "colorway": [
           "#636efa",
           "#EF553B",
           "#00cc96",
           "#ab63fa",
           "#FFA15A",
           "#19d3f3",
           "#FF6692",
           "#B6E880",
           "#FF97FF",
           "#FECB52"
          ],
          "font": {
           "color": "#2a3f5f"
          },
          "geo": {
           "bgcolor": "white",
           "lakecolor": "white",
           "landcolor": "#E5ECF6",
           "showlakes": true,
           "showland": true,
           "subunitcolor": "white"
          },
          "hoverlabel": {
           "align": "left"
          },
          "hovermode": "closest",
          "mapbox": {
           "style": "light"
          },
          "paper_bgcolor": "white",
          "plot_bgcolor": "#E5ECF6",
          "polar": {
           "angularaxis": {
            "gridcolor": "white",
            "linecolor": "white",
            "ticks": ""
           },
           "bgcolor": "#E5ECF6",
           "radialaxis": {
            "gridcolor": "white",
            "linecolor": "white",
            "ticks": ""
           }
          },
          "scene": {
           "xaxis": {
            "backgroundcolor": "#E5ECF6",
            "gridcolor": "white",
            "gridwidth": 2,
            "linecolor": "white",
            "showbackground": true,
            "ticks": "",
            "zerolinecolor": "white"
           },
           "yaxis": {
            "backgroundcolor": "#E5ECF6",
            "gridcolor": "white",
            "gridwidth": 2,
            "linecolor": "white",
            "showbackground": true,
            "ticks": "",
            "zerolinecolor": "white"
           },
           "zaxis": {
            "backgroundcolor": "#E5ECF6",
            "gridcolor": "white",
            "gridwidth": 2,
            "linecolor": "white",
            "showbackground": true,
            "ticks": "",
            "zerolinecolor": "white"
           }
          },
          "shapedefaults": {
           "line": {
            "color": "#2a3f5f"
           }
          },
          "ternary": {
           "aaxis": {
            "gridcolor": "white",
            "linecolor": "white",
            "ticks": ""
           },
           "baxis": {
            "gridcolor": "white",
            "linecolor": "white",
            "ticks": ""
           },
           "bgcolor": "#E5ECF6",
           "caxis": {
            "gridcolor": "white",
            "linecolor": "white",
            "ticks": ""
           }
          },
          "title": {
           "x": 0.05
          },
          "xaxis": {
           "automargin": true,
           "gridcolor": "white",
           "linecolor": "white",
           "ticks": "",
           "zerolinecolor": "white",
           "zerolinewidth": 2
          },
          "yaxis": {
           "automargin": true,
           "gridcolor": "white",
           "linecolor": "white",
           "ticks": "",
           "zerolinecolor": "white",
           "zerolinewidth": 2
          }
         }
        },
        "title": {
         "text": "Positions and their Avg. Points per Cost"
        },
        "xaxis": {
         "anchor": "y",
         "categoryarray": [
          "Forward",
          "Midfielder",
          "Defender",
          "Goalkeeper"
         ],
         "categoryorder": "array",
         "domain": [
          0,
          0.98
         ],
         "title": {
          "text": "Position"
         }
        },
        "yaxis": {
         "anchor": "x",
         "domain": [
          0,
          1
         ],
         "title": {
          "text": "Avg. Points per Cost"
         }
        }
       }
      },
      "text/html": [
       "<div>\n",
       "        \n",
       "        \n",
       "            <div id=\"e16b028f-d48a-41fc-8d50-762d71bd2ca1\" class=\"plotly-graph-div\" style=\"height:500px; width:100%;\"></div>\n",
       "            <script type=\"text/javascript\">\n",
       "                require([\"plotly\"], function(Plotly) {\n",
       "                    window.PLOTLYENV=window.PLOTLYENV || {};\n",
       "                    \n",
       "                if (document.getElementById(\"e16b028f-d48a-41fc-8d50-762d71bd2ca1\")) {\n",
       "                    Plotly.newPlot(\n",
       "                        'e16b028f-d48a-41fc-8d50-762d71bd2ca1',\n",
       "                        [{\"alignmentgroup\": \"True\", \"hoverlabel\": {\"namelength\": 0}, \"hovertemplate\": \"Position=%{x}<br>Avg. Points per Cost=%{y}\", \"legendgroup\": \"Position=Forward\", \"marker\": {\"color\": \"#636efa\"}, \"name\": \"Position=Forward\", \"offsetgroup\": \"Position=Forward\", \"orientation\": \"v\", \"showlegend\": true, \"textposition\": \"auto\", \"type\": \"bar\", \"x\": [\"Forward\"], \"xaxis\": \"x\", \"y\": [2.5325273709459464], \"yaxis\": \"y\"}, {\"alignmentgroup\": \"True\", \"hoverlabel\": {\"namelength\": 0}, \"hovertemplate\": \"Position=%{x}<br>Avg. Points per Cost=%{y}\", \"legendgroup\": \"Position=Midfielder\", \"marker\": {\"color\": \"#EF553B\"}, \"name\": \"Position=Midfielder\", \"offsetgroup\": \"Position=Midfielder\", \"orientation\": \"v\", \"showlegend\": true, \"textposition\": \"auto\", \"type\": \"bar\", \"x\": [\"Midfielder\"], \"xaxis\": \"x\", \"y\": [2.134658788722543], \"yaxis\": \"y\"}, {\"alignmentgroup\": \"True\", \"hoverlabel\": {\"namelength\": 0}, \"hovertemplate\": \"Position=%{x}<br>Avg. Points per Cost=%{y}\", \"legendgroup\": \"Position=Defender\", \"marker\": {\"color\": \"#00cc96\"}, \"name\": \"Position=Defender\", \"offsetgroup\": \"Position=Defender\", \"orientation\": \"v\", \"showlegend\": true, \"textposition\": \"auto\", \"type\": \"bar\", \"x\": [\"Defender\"], \"xaxis\": \"x\", \"y\": [2.362203965134458], \"yaxis\": \"y\"}, {\"alignmentgroup\": \"True\", \"hoverlabel\": {\"namelength\": 0}, \"hovertemplate\": \"Position=%{x}<br>Avg. Points per Cost=%{y}\", \"legendgroup\": \"Position=Goalkeeper\", \"marker\": {\"color\": \"#ab63fa\"}, \"name\": \"Position=Goalkeeper\", \"offsetgroup\": \"Position=Goalkeeper\", \"orientation\": \"v\", \"showlegend\": true, \"textposition\": \"auto\", \"type\": \"bar\", \"x\": [\"Goalkeeper\"], \"xaxis\": \"x\", \"y\": [4.247063908118865], \"yaxis\": \"y\"}],\n",
       "                        {\"barmode\": \"relative\", \"height\": 500, \"legend\": {\"tracegroupgap\": 0}, \"margin\": {\"t\": 60}, \"template\": {\"data\": {\"bar\": [{\"error_x\": {\"color\": \"#2a3f5f\"}, \"error_y\": {\"color\": \"#2a3f5f\"}, \"marker\": {\"line\": {\"color\": \"#E5ECF6\", \"width\": 0.5}}, \"type\": \"bar\"}], \"barpolar\": [{\"marker\": {\"line\": {\"color\": \"#E5ECF6\", \"width\": 0.5}}, \"type\": \"barpolar\"}], \"carpet\": [{\"aaxis\": {\"endlinecolor\": \"#2a3f5f\", \"gridcolor\": \"white\", \"linecolor\": \"white\", \"minorgridcolor\": \"white\", \"startlinecolor\": \"#2a3f5f\"}, \"baxis\": {\"endlinecolor\": \"#2a3f5f\", \"gridcolor\": \"white\", \"linecolor\": \"white\", \"minorgridcolor\": \"white\", \"startlinecolor\": \"#2a3f5f\"}, \"type\": \"carpet\"}], \"choropleth\": [{\"colorbar\": {\"outlinewidth\": 0, \"ticks\": \"\"}, \"type\": \"choropleth\"}], \"contour\": [{\"colorbar\": {\"outlinewidth\": 0, \"ticks\": \"\"}, \"colorscale\": [[0.0, \"#0d0887\"], [0.1111111111111111, \"#46039f\"], [0.2222222222222222, \"#7201a8\"], [0.3333333333333333, \"#9c179e\"], [0.4444444444444444, \"#bd3786\"], [0.5555555555555556, \"#d8576b\"], [0.6666666666666666, \"#ed7953\"], [0.7777777777777778, \"#fb9f3a\"], [0.8888888888888888, \"#fdca26\"], [1.0, \"#f0f921\"]], \"type\": \"contour\"}], \"contourcarpet\": [{\"colorbar\": {\"outlinewidth\": 0, \"ticks\": \"\"}, \"type\": \"contourcarpet\"}], \"heatmap\": [{\"colorbar\": {\"outlinewidth\": 0, \"ticks\": \"\"}, \"colorscale\": [[0.0, \"#0d0887\"], [0.1111111111111111, \"#46039f\"], [0.2222222222222222, \"#7201a8\"], [0.3333333333333333, \"#9c179e\"], [0.4444444444444444, \"#bd3786\"], [0.5555555555555556, \"#d8576b\"], [0.6666666666666666, \"#ed7953\"], [0.7777777777777778, \"#fb9f3a\"], [0.8888888888888888, \"#fdca26\"], [1.0, \"#f0f921\"]], \"type\": \"heatmap\"}], \"heatmapgl\": [{\"colorbar\": {\"outlinewidth\": 0, \"ticks\": \"\"}, \"colorscale\": [[0.0, \"#0d0887\"], [0.1111111111111111, \"#46039f\"], [0.2222222222222222, \"#7201a8\"], [0.3333333333333333, \"#9c179e\"], [0.4444444444444444, \"#bd3786\"], [0.5555555555555556, \"#d8576b\"], [0.6666666666666666, \"#ed7953\"], [0.7777777777777778, \"#fb9f3a\"], [0.8888888888888888, \"#fdca26\"], [1.0, \"#f0f921\"]], \"type\": \"heatmapgl\"}], \"histogram\": [{\"marker\": {\"colorbar\": {\"outlinewidth\": 0, \"ticks\": \"\"}}, \"type\": \"histogram\"}], \"histogram2d\": [{\"colorbar\": {\"outlinewidth\": 0, \"ticks\": \"\"}, \"colorscale\": [[0.0, \"#0d0887\"], [0.1111111111111111, \"#46039f\"], [0.2222222222222222, \"#7201a8\"], [0.3333333333333333, \"#9c179e\"], [0.4444444444444444, \"#bd3786\"], [0.5555555555555556, \"#d8576b\"], [0.6666666666666666, \"#ed7953\"], [0.7777777777777778, \"#fb9f3a\"], [0.8888888888888888, \"#fdca26\"], [1.0, \"#f0f921\"]], \"type\": \"histogram2d\"}], \"histogram2dcontour\": [{\"colorbar\": {\"outlinewidth\": 0, \"ticks\": \"\"}, \"colorscale\": [[0.0, \"#0d0887\"], [0.1111111111111111, \"#46039f\"], [0.2222222222222222, \"#7201a8\"], [0.3333333333333333, \"#9c179e\"], [0.4444444444444444, \"#bd3786\"], [0.5555555555555556, \"#d8576b\"], [0.6666666666666666, \"#ed7953\"], [0.7777777777777778, \"#fb9f3a\"], [0.8888888888888888, \"#fdca26\"], [1.0, \"#f0f921\"]], \"type\": \"histogram2dcontour\"}], \"mesh3d\": [{\"colorbar\": {\"outlinewidth\": 0, \"ticks\": \"\"}, \"type\": \"mesh3d\"}], \"parcoords\": [{\"line\": {\"colorbar\": {\"outlinewidth\": 0, \"ticks\": \"\"}}, \"type\": \"parcoords\"}], \"scatter\": [{\"marker\": {\"colorbar\": {\"outlinewidth\": 0, \"ticks\": \"\"}}, \"type\": \"scatter\"}], \"scatter3d\": [{\"line\": {\"colorbar\": {\"outlinewidth\": 0, \"ticks\": \"\"}}, \"marker\": {\"colorbar\": {\"outlinewidth\": 0, \"ticks\": \"\"}}, \"type\": \"scatter3d\"}], \"scattercarpet\": [{\"marker\": {\"colorbar\": {\"outlinewidth\": 0, \"ticks\": \"\"}}, \"type\": \"scattercarpet\"}], \"scattergeo\": [{\"marker\": {\"colorbar\": {\"outlinewidth\": 0, \"ticks\": \"\"}}, \"type\": \"scattergeo\"}], \"scattergl\": [{\"marker\": {\"colorbar\": {\"outlinewidth\": 0, \"ticks\": \"\"}}, \"type\": \"scattergl\"}], \"scattermapbox\": [{\"marker\": {\"colorbar\": {\"outlinewidth\": 0, \"ticks\": \"\"}}, \"type\": \"scattermapbox\"}], \"scatterpolar\": [{\"marker\": {\"colorbar\": {\"outlinewidth\": 0, \"ticks\": \"\"}}, \"type\": \"scatterpolar\"}], \"scatterpolargl\": [{\"marker\": {\"colorbar\": {\"outlinewidth\": 0, \"ticks\": \"\"}}, \"type\": \"scatterpolargl\"}], \"scatterternary\": [{\"marker\": {\"colorbar\": {\"outlinewidth\": 0, \"ticks\": \"\"}}, \"type\": \"scatterternary\"}], \"surface\": [{\"colorbar\": {\"outlinewidth\": 0, \"ticks\": \"\"}, \"colorscale\": [[0.0, \"#0d0887\"], [0.1111111111111111, \"#46039f\"], [0.2222222222222222, \"#7201a8\"], [0.3333333333333333, \"#9c179e\"], [0.4444444444444444, \"#bd3786\"], [0.5555555555555556, \"#d8576b\"], [0.6666666666666666, \"#ed7953\"], [0.7777777777777778, \"#fb9f3a\"], [0.8888888888888888, \"#fdca26\"], [1.0, \"#f0f921\"]], \"type\": \"surface\"}], \"table\": [{\"cells\": {\"fill\": {\"color\": \"#EBF0F8\"}, \"line\": {\"color\": \"white\"}}, \"header\": {\"fill\": {\"color\": \"#C8D4E3\"}, \"line\": {\"color\": \"white\"}}, \"type\": \"table\"}]}, \"layout\": {\"annotationdefaults\": {\"arrowcolor\": \"#2a3f5f\", \"arrowhead\": 0, \"arrowwidth\": 1}, \"colorscale\": {\"diverging\": [[0, \"#8e0152\"], [0.1, \"#c51b7d\"], [0.2, \"#de77ae\"], [0.3, \"#f1b6da\"], [0.4, \"#fde0ef\"], [0.5, \"#f7f7f7\"], [0.6, \"#e6f5d0\"], [0.7, \"#b8e186\"], [0.8, \"#7fbc41\"], [0.9, \"#4d9221\"], [1, \"#276419\"]], \"sequential\": [[0.0, \"#0d0887\"], [0.1111111111111111, \"#46039f\"], [0.2222222222222222, \"#7201a8\"], [0.3333333333333333, \"#9c179e\"], [0.4444444444444444, \"#bd3786\"], [0.5555555555555556, \"#d8576b\"], [0.6666666666666666, \"#ed7953\"], [0.7777777777777778, \"#fb9f3a\"], [0.8888888888888888, \"#fdca26\"], [1.0, \"#f0f921\"]], \"sequentialminus\": [[0.0, \"#0d0887\"], [0.1111111111111111, \"#46039f\"], [0.2222222222222222, \"#7201a8\"], [0.3333333333333333, \"#9c179e\"], [0.4444444444444444, \"#bd3786\"], [0.5555555555555556, \"#d8576b\"], [0.6666666666666666, \"#ed7953\"], [0.7777777777777778, \"#fb9f3a\"], [0.8888888888888888, \"#fdca26\"], [1.0, \"#f0f921\"]]}, \"colorway\": [\"#636efa\", \"#EF553B\", \"#00cc96\", \"#ab63fa\", \"#FFA15A\", \"#19d3f3\", \"#FF6692\", \"#B6E880\", \"#FF97FF\", \"#FECB52\"], \"font\": {\"color\": \"#2a3f5f\"}, \"geo\": {\"bgcolor\": \"white\", \"lakecolor\": \"white\", \"landcolor\": \"#E5ECF6\", \"showlakes\": true, \"showland\": true, \"subunitcolor\": \"white\"}, \"hoverlabel\": {\"align\": \"left\"}, \"hovermode\": \"closest\", \"mapbox\": {\"style\": \"light\"}, \"paper_bgcolor\": \"white\", \"plot_bgcolor\": \"#E5ECF6\", \"polar\": {\"angularaxis\": {\"gridcolor\": \"white\", \"linecolor\": \"white\", \"ticks\": \"\"}, \"bgcolor\": \"#E5ECF6\", \"radialaxis\": {\"gridcolor\": \"white\", \"linecolor\": \"white\", \"ticks\": \"\"}}, \"scene\": {\"xaxis\": {\"backgroundcolor\": \"#E5ECF6\", \"gridcolor\": \"white\", \"gridwidth\": 2, \"linecolor\": \"white\", \"showbackground\": true, \"ticks\": \"\", \"zerolinecolor\": \"white\"}, \"yaxis\": {\"backgroundcolor\": \"#E5ECF6\", \"gridcolor\": \"white\", \"gridwidth\": 2, \"linecolor\": \"white\", \"showbackground\": true, \"ticks\": \"\", \"zerolinecolor\": \"white\"}, \"zaxis\": {\"backgroundcolor\": \"#E5ECF6\", \"gridcolor\": \"white\", \"gridwidth\": 2, \"linecolor\": \"white\", \"showbackground\": true, \"ticks\": \"\", \"zerolinecolor\": \"white\"}}, \"shapedefaults\": {\"line\": {\"color\": \"#2a3f5f\"}}, \"ternary\": {\"aaxis\": {\"gridcolor\": \"white\", \"linecolor\": \"white\", \"ticks\": \"\"}, \"baxis\": {\"gridcolor\": \"white\", \"linecolor\": \"white\", \"ticks\": \"\"}, \"bgcolor\": \"#E5ECF6\", \"caxis\": {\"gridcolor\": \"white\", \"linecolor\": \"white\", \"ticks\": \"\"}}, \"title\": {\"x\": 0.05}, \"xaxis\": {\"automargin\": true, \"gridcolor\": \"white\", \"linecolor\": \"white\", \"ticks\": \"\", \"zerolinecolor\": \"white\", \"zerolinewidth\": 2}, \"yaxis\": {\"automargin\": true, \"gridcolor\": \"white\", \"linecolor\": \"white\", \"ticks\": \"\", \"zerolinecolor\": \"white\", \"zerolinewidth\": 2}}}, \"title\": {\"text\": \"Positions and their Avg. Points per Cost\"}, \"xaxis\": {\"anchor\": \"y\", \"categoryarray\": [\"Forward\", \"Midfielder\", \"Defender\", \"Goalkeeper\"], \"categoryorder\": \"array\", \"domain\": [0.0, 0.98], \"title\": {\"text\": \"Position\"}}, \"yaxis\": {\"anchor\": \"x\", \"domain\": [0.0, 1.0], \"title\": {\"text\": \"Avg. Points per Cost\"}}},\n",
       "                        {\"responsive\": true}\n",
       "                    ).then(function(){\n",
       "                            \n",
       "var gd = document.getElementById('e16b028f-d48a-41fc-8d50-762d71bd2ca1');\n",
       "var x = new MutationObserver(function (mutations, observer) {{\n",
       "        var display = window.getComputedStyle(gd).display;\n",
       "        if (!display || display === 'none') {{\n",
       "            console.log([gd, 'removed!']);\n",
       "            Plotly.purge(gd);\n",
       "            observer.disconnect();\n",
       "        }}\n",
       "}});\n",
       "\n",
       "// Listen for the removal of the full notebook cells\n",
       "var notebookContainer = gd.closest('#notebook-container');\n",
       "if (notebookContainer) {{\n",
       "    x.observe(notebookContainer, {childList: true});\n",
       "}}\n",
       "\n",
       "// Listen for the clearing of the current output cell\n",
       "var outputEl = gd.closest('.output');\n",
       "if (outputEl) {{\n",
       "    x.observe(outputEl, {childList: true});\n",
       "}}\n",
       "\n",
       "                        })\n",
       "                };\n",
       "                });\n",
       "            </script>\n",
       "        </div>"
      ]
     },
     "metadata": {},
     "output_type": "display_data"
    }
   ],
   "source": [
    "# compare positions based on their average effective points per cost\n",
    "fig = px.bar(positions, x='type', y='mean_points_per_cost', color='type', labels={'mean_points_per_cost':'Avg. Points per Cost', 'type':'Position'}, height=500)\n",
    "fig.update_layout(title='Positions and their Avg. Points per Cost')\n",
    "fig.show()\n",
    "\n"
   ]
  },
  {
   "cell_type": "code",
   "execution_count": 29,
   "metadata": {},
   "outputs": [
    {
     "data": {
      "application/vnd.plotly.v1+json": {
       "config": {
        "plotlyServerURL": "https://plot.ly"
       },
       "data": [
        {
         "alignmentgroup": "True",
         "hoverlabel": {
          "namelength": 0
         },
         "hovertemplate": "Position=%{x}<br>Avg. Cost=%{y}",
         "legendgroup": "Position=Forward",
         "marker": {
          "color": "#636efa"
         },
         "name": "Position=Forward",
         "offsetgroup": "Position=Forward",
         "orientation": "v",
         "showlegend": true,
         "textposition": "auto",
         "type": "bar",
         "x": [
          "Forward"
         ],
         "xaxis": "x",
         "y": [
          6.456363636363637
         ],
         "yaxis": "y"
        },
        {
         "alignmentgroup": "True",
         "hoverlabel": {
          "namelength": 0
         },
         "hovertemplate": "Position=%{x}<br>Avg. Cost=%{y}",
         "legendgroup": "Position=Midfielder",
         "marker": {
          "color": "#EF553B"
         },
         "name": "Position=Midfielder",
         "offsetgroup": "Position=Midfielder",
         "orientation": "v",
         "showlegend": true,
         "textposition": "auto",
         "type": "bar",
         "x": [
          "Midfielder"
         ],
         "xaxis": "x",
         "y": [
          5.814814814814814
         ],
         "yaxis": "y"
        },
        {
         "alignmentgroup": "True",
         "hoverlabel": {
          "namelength": 0
         },
         "hovertemplate": "Position=%{x}<br>Avg. Cost=%{y}",
         "legendgroup": "Position=Defender",
         "marker": {
          "color": "#00cc96"
         },
         "name": "Position=Defender",
         "offsetgroup": "Position=Defender",
         "orientation": "v",
         "showlegend": true,
         "textposition": "auto",
         "type": "bar",
         "x": [
          "Defender"
         ],
         "xaxis": "x",
         "y": [
          4.94655172413793
         ],
         "yaxis": "y"
        },
        {
         "alignmentgroup": "True",
         "hoverlabel": {
          "namelength": 0
         },
         "hovertemplate": "Position=%{x}<br>Avg. Cost=%{y}",
         "legendgroup": "Position=Goalkeeper",
         "marker": {
          "color": "#ab63fa"
         },
         "name": "Position=Goalkeeper",
         "offsetgroup": "Position=Goalkeeper",
         "orientation": "v",
         "showlegend": true,
         "textposition": "auto",
         "type": "bar",
         "x": [
          "Goalkeeper"
         ],
         "xaxis": "x",
         "y": [
          5.019047619047619
         ],
         "yaxis": "y"
        }
       ],
       "layout": {
        "barmode": "relative",
        "height": 500,
        "legend": {
         "tracegroupgap": 0
        },
        "margin": {
         "t": 60
        },
        "template": {
         "data": {
          "bar": [
           {
            "error_x": {
             "color": "#2a3f5f"
            },
            "error_y": {
             "color": "#2a3f5f"
            },
            "marker": {
             "line": {
              "color": "#E5ECF6",
              "width": 0.5
             }
            },
            "type": "bar"
           }
          ],
          "barpolar": [
           {
            "marker": {
             "line": {
              "color": "#E5ECF6",
              "width": 0.5
             }
            },
            "type": "barpolar"
           }
          ],
          "carpet": [
           {
            "aaxis": {
             "endlinecolor": "#2a3f5f",
             "gridcolor": "white",
             "linecolor": "white",
             "minorgridcolor": "white",
             "startlinecolor": "#2a3f5f"
            },
            "baxis": {
             "endlinecolor": "#2a3f5f",
             "gridcolor": "white",
             "linecolor": "white",
             "minorgridcolor": "white",
             "startlinecolor": "#2a3f5f"
            },
            "type": "carpet"
           }
          ],
          "choropleth": [
           {
            "colorbar": {
             "outlinewidth": 0,
             "ticks": ""
            },
            "type": "choropleth"
           }
          ],
          "contour": [
           {
            "colorbar": {
             "outlinewidth": 0,
             "ticks": ""
            },
            "colorscale": [
             [
              0,
              "#0d0887"
             ],
             [
              0.1111111111111111,
              "#46039f"
             ],
             [
              0.2222222222222222,
              "#7201a8"
             ],
             [
              0.3333333333333333,
              "#9c179e"
             ],
             [
              0.4444444444444444,
              "#bd3786"
             ],
             [
              0.5555555555555556,
              "#d8576b"
             ],
             [
              0.6666666666666666,
              "#ed7953"
             ],
             [
              0.7777777777777778,
              "#fb9f3a"
             ],
             [
              0.8888888888888888,
              "#fdca26"
             ],
             [
              1,
              "#f0f921"
             ]
            ],
            "type": "contour"
           }
          ],
          "contourcarpet": [
           {
            "colorbar": {
             "outlinewidth": 0,
             "ticks": ""
            },
            "type": "contourcarpet"
           }
          ],
          "heatmap": [
           {
            "colorbar": {
             "outlinewidth": 0,
             "ticks": ""
            },
            "colorscale": [
             [
              0,
              "#0d0887"
             ],
             [
              0.1111111111111111,
              "#46039f"
             ],
             [
              0.2222222222222222,
              "#7201a8"
             ],
             [
              0.3333333333333333,
              "#9c179e"
             ],
             [
              0.4444444444444444,
              "#bd3786"
             ],
             [
              0.5555555555555556,
              "#d8576b"
             ],
             [
              0.6666666666666666,
              "#ed7953"
             ],
             [
              0.7777777777777778,
              "#fb9f3a"
             ],
             [
              0.8888888888888888,
              "#fdca26"
             ],
             [
              1,
              "#f0f921"
             ]
            ],
            "type": "heatmap"
           }
          ],
          "heatmapgl": [
           {
            "colorbar": {
             "outlinewidth": 0,
             "ticks": ""
            },
            "colorscale": [
             [
              0,
              "#0d0887"
             ],
             [
              0.1111111111111111,
              "#46039f"
             ],
             [
              0.2222222222222222,
              "#7201a8"
             ],
             [
              0.3333333333333333,
              "#9c179e"
             ],
             [
              0.4444444444444444,
              "#bd3786"
             ],
             [
              0.5555555555555556,
              "#d8576b"
             ],
             [
              0.6666666666666666,
              "#ed7953"
             ],
             [
              0.7777777777777778,
              "#fb9f3a"
             ],
             [
              0.8888888888888888,
              "#fdca26"
             ],
             [
              1,
              "#f0f921"
             ]
            ],
            "type": "heatmapgl"
           }
          ],
          "histogram": [
           {
            "marker": {
             "colorbar": {
              "outlinewidth": 0,
              "ticks": ""
             }
            },
            "type": "histogram"
           }
          ],
          "histogram2d": [
           {
            "colorbar": {
             "outlinewidth": 0,
             "ticks": ""
            },
            "colorscale": [
             [
              0,
              "#0d0887"
             ],
             [
              0.1111111111111111,
              "#46039f"
             ],
             [
              0.2222222222222222,
              "#7201a8"
             ],
             [
              0.3333333333333333,
              "#9c179e"
             ],
             [
              0.4444444444444444,
              "#bd3786"
             ],
             [
              0.5555555555555556,
              "#d8576b"
             ],
             [
              0.6666666666666666,
              "#ed7953"
             ],
             [
              0.7777777777777778,
              "#fb9f3a"
             ],
             [
              0.8888888888888888,
              "#fdca26"
             ],
             [
              1,
              "#f0f921"
             ]
            ],
            "type": "histogram2d"
           }
          ],
          "histogram2dcontour": [
           {
            "colorbar": {
             "outlinewidth": 0,
             "ticks": ""
            },
            "colorscale": [
             [
              0,
              "#0d0887"
             ],
             [
              0.1111111111111111,
              "#46039f"
             ],
             [
              0.2222222222222222,
              "#7201a8"
             ],
             [
              0.3333333333333333,
              "#9c179e"
             ],
             [
              0.4444444444444444,
              "#bd3786"
             ],
             [
              0.5555555555555556,
              "#d8576b"
             ],
             [
              0.6666666666666666,
              "#ed7953"
             ],
             [
              0.7777777777777778,
              "#fb9f3a"
             ],
             [
              0.8888888888888888,
              "#fdca26"
             ],
             [
              1,
              "#f0f921"
             ]
            ],
            "type": "histogram2dcontour"
           }
          ],
          "mesh3d": [
           {
            "colorbar": {
             "outlinewidth": 0,
             "ticks": ""
            },
            "type": "mesh3d"
           }
          ],
          "parcoords": [
           {
            "line": {
             "colorbar": {
              "outlinewidth": 0,
              "ticks": ""
             }
            },
            "type": "parcoords"
           }
          ],
          "scatter": [
           {
            "marker": {
             "colorbar": {
              "outlinewidth": 0,
              "ticks": ""
             }
            },
            "type": "scatter"
           }
          ],
          "scatter3d": [
           {
            "line": {
             "colorbar": {
              "outlinewidth": 0,
              "ticks": ""
             }
            },
            "marker": {
             "colorbar": {
              "outlinewidth": 0,
              "ticks": ""
             }
            },
            "type": "scatter3d"
           }
          ],
          "scattercarpet": [
           {
            "marker": {
             "colorbar": {
              "outlinewidth": 0,
              "ticks": ""
             }
            },
            "type": "scattercarpet"
           }
          ],
          "scattergeo": [
           {
            "marker": {
             "colorbar": {
              "outlinewidth": 0,
              "ticks": ""
             }
            },
            "type": "scattergeo"
           }
          ],
          "scattergl": [
           {
            "marker": {
             "colorbar": {
              "outlinewidth": 0,
              "ticks": ""
             }
            },
            "type": "scattergl"
           }
          ],
          "scattermapbox": [
           {
            "marker": {
             "colorbar": {
              "outlinewidth": 0,
              "ticks": ""
             }
            },
            "type": "scattermapbox"
           }
          ],
          "scatterpolar": [
           {
            "marker": {
             "colorbar": {
              "outlinewidth": 0,
              "ticks": ""
             }
            },
            "type": "scatterpolar"
           }
          ],
          "scatterpolargl": [
           {
            "marker": {
             "colorbar": {
              "outlinewidth": 0,
              "ticks": ""
             }
            },
            "type": "scatterpolargl"
           }
          ],
          "scatterternary": [
           {
            "marker": {
             "colorbar": {
              "outlinewidth": 0,
              "ticks": ""
             }
            },
            "type": "scatterternary"
           }
          ],
          "surface": [
           {
            "colorbar": {
             "outlinewidth": 0,
             "ticks": ""
            },
            "colorscale": [
             [
              0,
              "#0d0887"
             ],
             [
              0.1111111111111111,
              "#46039f"
             ],
             [
              0.2222222222222222,
              "#7201a8"
             ],
             [
              0.3333333333333333,
              "#9c179e"
             ],
             [
              0.4444444444444444,
              "#bd3786"
             ],
             [
              0.5555555555555556,
              "#d8576b"
             ],
             [
              0.6666666666666666,
              "#ed7953"
             ],
             [
              0.7777777777777778,
              "#fb9f3a"
             ],
             [
              0.8888888888888888,
              "#fdca26"
             ],
             [
              1,
              "#f0f921"
             ]
            ],
            "type": "surface"
           }
          ],
          "table": [
           {
            "cells": {
             "fill": {
              "color": "#EBF0F8"
             },
             "line": {
              "color": "white"
             }
            },
            "header": {
             "fill": {
              "color": "#C8D4E3"
             },
             "line": {
              "color": "white"
             }
            },
            "type": "table"
           }
          ]
         },
         "layout": {
          "annotationdefaults": {
           "arrowcolor": "#2a3f5f",
           "arrowhead": 0,
           "arrowwidth": 1
          },
          "colorscale": {
           "diverging": [
            [
             0,
             "#8e0152"
            ],
            [
             0.1,
             "#c51b7d"
            ],
            [
             0.2,
             "#de77ae"
            ],
            [
             0.3,
             "#f1b6da"
            ],
            [
             0.4,
             "#fde0ef"
            ],
            [
             0.5,
             "#f7f7f7"
            ],
            [
             0.6,
             "#e6f5d0"
            ],
            [
             0.7,
             "#b8e186"
            ],
            [
             0.8,
             "#7fbc41"
            ],
            [
             0.9,
             "#4d9221"
            ],
            [
             1,
             "#276419"
            ]
           ],
           "sequential": [
            [
             0,
             "#0d0887"
            ],
            [
             0.1111111111111111,
             "#46039f"
            ],
            [
             0.2222222222222222,
             "#7201a8"
            ],
            [
             0.3333333333333333,
             "#9c179e"
            ],
            [
             0.4444444444444444,
             "#bd3786"
            ],
            [
             0.5555555555555556,
             "#d8576b"
            ],
            [
             0.6666666666666666,
             "#ed7953"
            ],
            [
             0.7777777777777778,
             "#fb9f3a"
            ],
            [
             0.8888888888888888,
             "#fdca26"
            ],
            [
             1,
             "#f0f921"
            ]
           ],
           "sequentialminus": [
            [
             0,
             "#0d0887"
            ],
            [
             0.1111111111111111,
             "#46039f"
            ],
            [
             0.2222222222222222,
             "#7201a8"
            ],
            [
             0.3333333333333333,
             "#9c179e"
            ],
            [
             0.4444444444444444,
             "#bd3786"
            ],
            [
             0.5555555555555556,
             "#d8576b"
            ],
            [
             0.6666666666666666,
             "#ed7953"
            ],
            [
             0.7777777777777778,
             "#fb9f3a"
            ],
            [
             0.8888888888888888,
             "#fdca26"
            ],
            [
             1,
             "#f0f921"
            ]
           ]
          },
          "colorway": [
           "#636efa",
           "#EF553B",
           "#00cc96",
           "#ab63fa",
           "#FFA15A",
           "#19d3f3",
           "#FF6692",
           "#B6E880",
           "#FF97FF",
           "#FECB52"
          ],
          "font": {
           "color": "#2a3f5f"
          },
          "geo": {
           "bgcolor": "white",
           "lakecolor": "white",
           "landcolor": "#E5ECF6",
           "showlakes": true,
           "showland": true,
           "subunitcolor": "white"
          },
          "hoverlabel": {
           "align": "left"
          },
          "hovermode": "closest",
          "mapbox": {
           "style": "light"
          },
          "paper_bgcolor": "white",
          "plot_bgcolor": "#E5ECF6",
          "polar": {
           "angularaxis": {
            "gridcolor": "white",
            "linecolor": "white",
            "ticks": ""
           },
           "bgcolor": "#E5ECF6",
           "radialaxis": {
            "gridcolor": "white",
            "linecolor": "white",
            "ticks": ""
           }
          },
          "scene": {
           "xaxis": {
            "backgroundcolor": "#E5ECF6",
            "gridcolor": "white",
            "gridwidth": 2,
            "linecolor": "white",
            "showbackground": true,
            "ticks": "",
            "zerolinecolor": "white"
           },
           "yaxis": {
            "backgroundcolor": "#E5ECF6",
            "gridcolor": "white",
            "gridwidth": 2,
            "linecolor": "white",
            "showbackground": true,
            "ticks": "",
            "zerolinecolor": "white"
           },
           "zaxis": {
            "backgroundcolor": "#E5ECF6",
            "gridcolor": "white",
            "gridwidth": 2,
            "linecolor": "white",
            "showbackground": true,
            "ticks": "",
            "zerolinecolor": "white"
           }
          },
          "shapedefaults": {
           "line": {
            "color": "#2a3f5f"
           }
          },
          "ternary": {
           "aaxis": {
            "gridcolor": "white",
            "linecolor": "white",
            "ticks": ""
           },
           "baxis": {
            "gridcolor": "white",
            "linecolor": "white",
            "ticks": ""
           },
           "bgcolor": "#E5ECF6",
           "caxis": {
            "gridcolor": "white",
            "linecolor": "white",
            "ticks": ""
           }
          },
          "title": {
           "x": 0.05
          },
          "xaxis": {
           "automargin": true,
           "gridcolor": "white",
           "linecolor": "white",
           "ticks": "",
           "zerolinecolor": "white",
           "zerolinewidth": 2
          },
          "yaxis": {
           "automargin": true,
           "gridcolor": "white",
           "linecolor": "white",
           "ticks": "",
           "zerolinecolor": "white",
           "zerolinewidth": 2
          }
         }
        },
        "title": {
         "text": "Positions and their Avg. Cost"
        },
        "xaxis": {
         "anchor": "y",
         "categoryarray": [
          "Forward",
          "Midfielder",
          "Defender",
          "Goalkeeper"
         ],
         "categoryorder": "array",
         "domain": [
          0,
          0.98
         ],
         "title": {
          "text": "Position"
         }
        },
        "yaxis": {
         "anchor": "x",
         "domain": [
          0,
          1
         ],
         "title": {
          "text": "Avg. Cost"
         }
        }
       }
      },
      "text/html": [
       "<div>\n",
       "        \n",
       "        \n",
       "            <div id=\"42eee13d-c4f9-400d-97d3-60433a8247da\" class=\"plotly-graph-div\" style=\"height:500px; width:100%;\"></div>\n",
       "            <script type=\"text/javascript\">\n",
       "                require([\"plotly\"], function(Plotly) {\n",
       "                    window.PLOTLYENV=window.PLOTLYENV || {};\n",
       "                    \n",
       "                if (document.getElementById(\"42eee13d-c4f9-400d-97d3-60433a8247da\")) {\n",
       "                    Plotly.newPlot(\n",
       "                        '42eee13d-c4f9-400d-97d3-60433a8247da',\n",
       "                        [{\"alignmentgroup\": \"True\", \"hoverlabel\": {\"namelength\": 0}, \"hovertemplate\": \"Position=%{x}<br>Avg. Cost=%{y}\", \"legendgroup\": \"Position=Forward\", \"marker\": {\"color\": \"#636efa\"}, \"name\": \"Position=Forward\", \"offsetgroup\": \"Position=Forward\", \"orientation\": \"v\", \"showlegend\": true, \"textposition\": \"auto\", \"type\": \"bar\", \"x\": [\"Forward\"], \"xaxis\": \"x\", \"y\": [6.456363636363637], \"yaxis\": \"y\"}, {\"alignmentgroup\": \"True\", \"hoverlabel\": {\"namelength\": 0}, \"hovertemplate\": \"Position=%{x}<br>Avg. Cost=%{y}\", \"legendgroup\": \"Position=Midfielder\", \"marker\": {\"color\": \"#EF553B\"}, \"name\": \"Position=Midfielder\", \"offsetgroup\": \"Position=Midfielder\", \"orientation\": \"v\", \"showlegend\": true, \"textposition\": \"auto\", \"type\": \"bar\", \"x\": [\"Midfielder\"], \"xaxis\": \"x\", \"y\": [5.814814814814814], \"yaxis\": \"y\"}, {\"alignmentgroup\": \"True\", \"hoverlabel\": {\"namelength\": 0}, \"hovertemplate\": \"Position=%{x}<br>Avg. Cost=%{y}\", \"legendgroup\": \"Position=Defender\", \"marker\": {\"color\": \"#00cc96\"}, \"name\": \"Position=Defender\", \"offsetgroup\": \"Position=Defender\", \"orientation\": \"v\", \"showlegend\": true, \"textposition\": \"auto\", \"type\": \"bar\", \"x\": [\"Defender\"], \"xaxis\": \"x\", \"y\": [4.94655172413793], \"yaxis\": \"y\"}, {\"alignmentgroup\": \"True\", \"hoverlabel\": {\"namelength\": 0}, \"hovertemplate\": \"Position=%{x}<br>Avg. Cost=%{y}\", \"legendgroup\": \"Position=Goalkeeper\", \"marker\": {\"color\": \"#ab63fa\"}, \"name\": \"Position=Goalkeeper\", \"offsetgroup\": \"Position=Goalkeeper\", \"orientation\": \"v\", \"showlegend\": true, \"textposition\": \"auto\", \"type\": \"bar\", \"x\": [\"Goalkeeper\"], \"xaxis\": \"x\", \"y\": [5.019047619047619], \"yaxis\": \"y\"}],\n",
       "                        {\"barmode\": \"relative\", \"height\": 500, \"legend\": {\"tracegroupgap\": 0}, \"margin\": {\"t\": 60}, \"template\": {\"data\": {\"bar\": [{\"error_x\": {\"color\": \"#2a3f5f\"}, \"error_y\": {\"color\": \"#2a3f5f\"}, \"marker\": {\"line\": {\"color\": \"#E5ECF6\", \"width\": 0.5}}, \"type\": \"bar\"}], \"barpolar\": [{\"marker\": {\"line\": {\"color\": \"#E5ECF6\", \"width\": 0.5}}, \"type\": \"barpolar\"}], \"carpet\": [{\"aaxis\": {\"endlinecolor\": \"#2a3f5f\", \"gridcolor\": \"white\", \"linecolor\": \"white\", \"minorgridcolor\": \"white\", \"startlinecolor\": \"#2a3f5f\"}, \"baxis\": {\"endlinecolor\": \"#2a3f5f\", \"gridcolor\": \"white\", \"linecolor\": \"white\", \"minorgridcolor\": \"white\", \"startlinecolor\": \"#2a3f5f\"}, \"type\": \"carpet\"}], \"choropleth\": [{\"colorbar\": {\"outlinewidth\": 0, \"ticks\": \"\"}, \"type\": \"choropleth\"}], \"contour\": [{\"colorbar\": {\"outlinewidth\": 0, \"ticks\": \"\"}, \"colorscale\": [[0.0, \"#0d0887\"], [0.1111111111111111, \"#46039f\"], [0.2222222222222222, \"#7201a8\"], [0.3333333333333333, \"#9c179e\"], [0.4444444444444444, \"#bd3786\"], [0.5555555555555556, \"#d8576b\"], [0.6666666666666666, \"#ed7953\"], [0.7777777777777778, \"#fb9f3a\"], [0.8888888888888888, \"#fdca26\"], [1.0, \"#f0f921\"]], \"type\": \"contour\"}], \"contourcarpet\": [{\"colorbar\": {\"outlinewidth\": 0, \"ticks\": \"\"}, \"type\": \"contourcarpet\"}], \"heatmap\": [{\"colorbar\": {\"outlinewidth\": 0, \"ticks\": \"\"}, \"colorscale\": [[0.0, \"#0d0887\"], [0.1111111111111111, \"#46039f\"], [0.2222222222222222, \"#7201a8\"], [0.3333333333333333, \"#9c179e\"], [0.4444444444444444, \"#bd3786\"], [0.5555555555555556, \"#d8576b\"], [0.6666666666666666, \"#ed7953\"], [0.7777777777777778, \"#fb9f3a\"], [0.8888888888888888, \"#fdca26\"], [1.0, \"#f0f921\"]], \"type\": \"heatmap\"}], \"heatmapgl\": [{\"colorbar\": {\"outlinewidth\": 0, \"ticks\": \"\"}, \"colorscale\": [[0.0, \"#0d0887\"], [0.1111111111111111, \"#46039f\"], [0.2222222222222222, \"#7201a8\"], [0.3333333333333333, \"#9c179e\"], [0.4444444444444444, \"#bd3786\"], [0.5555555555555556, \"#d8576b\"], [0.6666666666666666, \"#ed7953\"], [0.7777777777777778, \"#fb9f3a\"], [0.8888888888888888, \"#fdca26\"], [1.0, \"#f0f921\"]], \"type\": \"heatmapgl\"}], \"histogram\": [{\"marker\": {\"colorbar\": {\"outlinewidth\": 0, \"ticks\": \"\"}}, \"type\": \"histogram\"}], \"histogram2d\": [{\"colorbar\": {\"outlinewidth\": 0, \"ticks\": \"\"}, \"colorscale\": [[0.0, \"#0d0887\"], [0.1111111111111111, \"#46039f\"], [0.2222222222222222, \"#7201a8\"], [0.3333333333333333, \"#9c179e\"], [0.4444444444444444, \"#bd3786\"], [0.5555555555555556, \"#d8576b\"], [0.6666666666666666, \"#ed7953\"], [0.7777777777777778, \"#fb9f3a\"], [0.8888888888888888, \"#fdca26\"], [1.0, \"#f0f921\"]], \"type\": \"histogram2d\"}], \"histogram2dcontour\": [{\"colorbar\": {\"outlinewidth\": 0, \"ticks\": \"\"}, \"colorscale\": [[0.0, \"#0d0887\"], [0.1111111111111111, \"#46039f\"], [0.2222222222222222, \"#7201a8\"], [0.3333333333333333, \"#9c179e\"], [0.4444444444444444, \"#bd3786\"], [0.5555555555555556, \"#d8576b\"], [0.6666666666666666, \"#ed7953\"], [0.7777777777777778, \"#fb9f3a\"], [0.8888888888888888, \"#fdca26\"], [1.0, \"#f0f921\"]], \"type\": \"histogram2dcontour\"}], \"mesh3d\": [{\"colorbar\": {\"outlinewidth\": 0, \"ticks\": \"\"}, \"type\": \"mesh3d\"}], \"parcoords\": [{\"line\": {\"colorbar\": {\"outlinewidth\": 0, \"ticks\": \"\"}}, \"type\": \"parcoords\"}], \"scatter\": [{\"marker\": {\"colorbar\": {\"outlinewidth\": 0, \"ticks\": \"\"}}, \"type\": \"scatter\"}], \"scatter3d\": [{\"line\": {\"colorbar\": {\"outlinewidth\": 0, \"ticks\": \"\"}}, \"marker\": {\"colorbar\": {\"outlinewidth\": 0, \"ticks\": \"\"}}, \"type\": \"scatter3d\"}], \"scattercarpet\": [{\"marker\": {\"colorbar\": {\"outlinewidth\": 0, \"ticks\": \"\"}}, \"type\": \"scattercarpet\"}], \"scattergeo\": [{\"marker\": {\"colorbar\": {\"outlinewidth\": 0, \"ticks\": \"\"}}, \"type\": \"scattergeo\"}], \"scattergl\": [{\"marker\": {\"colorbar\": {\"outlinewidth\": 0, \"ticks\": \"\"}}, \"type\": \"scattergl\"}], \"scattermapbox\": [{\"marker\": {\"colorbar\": {\"outlinewidth\": 0, \"ticks\": \"\"}}, \"type\": \"scattermapbox\"}], \"scatterpolar\": [{\"marker\": {\"colorbar\": {\"outlinewidth\": 0, \"ticks\": \"\"}}, \"type\": \"scatterpolar\"}], \"scatterpolargl\": [{\"marker\": {\"colorbar\": {\"outlinewidth\": 0, \"ticks\": \"\"}}, \"type\": \"scatterpolargl\"}], \"scatterternary\": [{\"marker\": {\"colorbar\": {\"outlinewidth\": 0, \"ticks\": \"\"}}, \"type\": \"scatterternary\"}], \"surface\": [{\"colorbar\": {\"outlinewidth\": 0, \"ticks\": \"\"}, \"colorscale\": [[0.0, \"#0d0887\"], [0.1111111111111111, \"#46039f\"], [0.2222222222222222, \"#7201a8\"], [0.3333333333333333, \"#9c179e\"], [0.4444444444444444, \"#bd3786\"], [0.5555555555555556, \"#d8576b\"], [0.6666666666666666, \"#ed7953\"], [0.7777777777777778, \"#fb9f3a\"], [0.8888888888888888, \"#fdca26\"], [1.0, \"#f0f921\"]], \"type\": \"surface\"}], \"table\": [{\"cells\": {\"fill\": {\"color\": \"#EBF0F8\"}, \"line\": {\"color\": \"white\"}}, \"header\": {\"fill\": {\"color\": \"#C8D4E3\"}, \"line\": {\"color\": \"white\"}}, \"type\": \"table\"}]}, \"layout\": {\"annotationdefaults\": {\"arrowcolor\": \"#2a3f5f\", \"arrowhead\": 0, \"arrowwidth\": 1}, \"colorscale\": {\"diverging\": [[0, \"#8e0152\"], [0.1, \"#c51b7d\"], [0.2, \"#de77ae\"], [0.3, \"#f1b6da\"], [0.4, \"#fde0ef\"], [0.5, \"#f7f7f7\"], [0.6, \"#e6f5d0\"], [0.7, \"#b8e186\"], [0.8, \"#7fbc41\"], [0.9, \"#4d9221\"], [1, \"#276419\"]], \"sequential\": [[0.0, \"#0d0887\"], [0.1111111111111111, \"#46039f\"], [0.2222222222222222, \"#7201a8\"], [0.3333333333333333, \"#9c179e\"], [0.4444444444444444, \"#bd3786\"], [0.5555555555555556, \"#d8576b\"], [0.6666666666666666, \"#ed7953\"], [0.7777777777777778, \"#fb9f3a\"], [0.8888888888888888, \"#fdca26\"], [1.0, \"#f0f921\"]], \"sequentialminus\": [[0.0, \"#0d0887\"], [0.1111111111111111, \"#46039f\"], [0.2222222222222222, \"#7201a8\"], [0.3333333333333333, \"#9c179e\"], [0.4444444444444444, \"#bd3786\"], [0.5555555555555556, \"#d8576b\"], [0.6666666666666666, \"#ed7953\"], [0.7777777777777778, \"#fb9f3a\"], [0.8888888888888888, \"#fdca26\"], [1.0, \"#f0f921\"]]}, \"colorway\": [\"#636efa\", \"#EF553B\", \"#00cc96\", \"#ab63fa\", \"#FFA15A\", \"#19d3f3\", \"#FF6692\", \"#B6E880\", \"#FF97FF\", \"#FECB52\"], \"font\": {\"color\": \"#2a3f5f\"}, \"geo\": {\"bgcolor\": \"white\", \"lakecolor\": \"white\", \"landcolor\": \"#E5ECF6\", \"showlakes\": true, \"showland\": true, \"subunitcolor\": \"white\"}, \"hoverlabel\": {\"align\": \"left\"}, \"hovermode\": \"closest\", \"mapbox\": {\"style\": \"light\"}, \"paper_bgcolor\": \"white\", \"plot_bgcolor\": \"#E5ECF6\", \"polar\": {\"angularaxis\": {\"gridcolor\": \"white\", \"linecolor\": \"white\", \"ticks\": \"\"}, \"bgcolor\": \"#E5ECF6\", \"radialaxis\": {\"gridcolor\": \"white\", \"linecolor\": \"white\", \"ticks\": \"\"}}, \"scene\": {\"xaxis\": {\"backgroundcolor\": \"#E5ECF6\", \"gridcolor\": \"white\", \"gridwidth\": 2, \"linecolor\": \"white\", \"showbackground\": true, \"ticks\": \"\", \"zerolinecolor\": \"white\"}, \"yaxis\": {\"backgroundcolor\": \"#E5ECF6\", \"gridcolor\": \"white\", \"gridwidth\": 2, \"linecolor\": \"white\", \"showbackground\": true, \"ticks\": \"\", \"zerolinecolor\": \"white\"}, \"zaxis\": {\"backgroundcolor\": \"#E5ECF6\", \"gridcolor\": \"white\", \"gridwidth\": 2, \"linecolor\": \"white\", \"showbackground\": true, \"ticks\": \"\", \"zerolinecolor\": \"white\"}}, \"shapedefaults\": {\"line\": {\"color\": \"#2a3f5f\"}}, \"ternary\": {\"aaxis\": {\"gridcolor\": \"white\", \"linecolor\": \"white\", \"ticks\": \"\"}, \"baxis\": {\"gridcolor\": \"white\", \"linecolor\": \"white\", \"ticks\": \"\"}, \"bgcolor\": \"#E5ECF6\", \"caxis\": {\"gridcolor\": \"white\", \"linecolor\": \"white\", \"ticks\": \"\"}}, \"title\": {\"x\": 0.05}, \"xaxis\": {\"automargin\": true, \"gridcolor\": \"white\", \"linecolor\": \"white\", \"ticks\": \"\", \"zerolinecolor\": \"white\", \"zerolinewidth\": 2}, \"yaxis\": {\"automargin\": true, \"gridcolor\": \"white\", \"linecolor\": \"white\", \"ticks\": \"\", \"zerolinecolor\": \"white\", \"zerolinewidth\": 2}}}, \"title\": {\"text\": \"Positions and their Avg. Cost\"}, \"xaxis\": {\"anchor\": \"y\", \"categoryarray\": [\"Forward\", \"Midfielder\", \"Defender\", \"Goalkeeper\"], \"categoryorder\": \"array\", \"domain\": [0.0, 0.98], \"title\": {\"text\": \"Position\"}}, \"yaxis\": {\"anchor\": \"x\", \"domain\": [0.0, 1.0], \"title\": {\"text\": \"Avg. Cost\"}}},\n",
       "                        {\"responsive\": true}\n",
       "                    ).then(function(){\n",
       "                            \n",
       "var gd = document.getElementById('42eee13d-c4f9-400d-97d3-60433a8247da');\n",
       "var x = new MutationObserver(function (mutations, observer) {{\n",
       "        var display = window.getComputedStyle(gd).display;\n",
       "        if (!display || display === 'none') {{\n",
       "            console.log([gd, 'removed!']);\n",
       "            Plotly.purge(gd);\n",
       "            observer.disconnect();\n",
       "        }}\n",
       "}});\n",
       "\n",
       "// Listen for the removal of the full notebook cells\n",
       "var notebookContainer = gd.closest('#notebook-container');\n",
       "if (notebookContainer) {{\n",
       "    x.observe(notebookContainer, {childList: true});\n",
       "}}\n",
       "\n",
       "// Listen for the clearing of the current output cell\n",
       "var outputEl = gd.closest('.output');\n",
       "if (outputEl) {{\n",
       "    x.observe(outputEl, {childList: true});\n",
       "}}\n",
       "\n",
       "                        })\n",
       "                };\n",
       "                });\n",
       "            </script>\n",
       "        </div>"
      ]
     },
     "metadata": {},
     "output_type": "display_data"
    }
   ],
   "source": [
    "# compare positions based on average cost\n",
    "fig = px.bar(positions, x='type', y='mean_cost', color='type', labels={'mean_cost':'Avg. Cost', 'type':'Position'}, height=500)\n",
    "fig.update_layout(title='Positions and their Avg. Cost')\n",
    "fig.show()\n",
    "\n"
   ]
  },
  {
   "cell_type": "code",
   "execution_count": 35,
   "metadata": {},
   "outputs": [
    {
     "data": {
      "application/vnd.plotly.v1+json": {
       "config": {
        "plotlyServerURL": "https://plot.ly"
       },
       "data": [
        {
         "mode": "lines",
         "name": "Mine",
         "type": "scatter",
         "x": [
          "gw1",
          "gw2",
          "gw3",
          "gw4"
         ],
         "y": [
          63,
          95,
          149,
          199
         ]
        },
        {
         "mode": "lines",
         "name": "Highest",
         "type": "scatter",
         "x": [
          "gw1",
          "gw2",
          "gw3",
          "gw4"
         ],
         "y": [
          142,
          224,
          286,
          358
         ]
        },
        {
         "mode": "lines",
         "name": "Average",
         "type": "scatter",
         "x": [
          "gw1",
          "gw2",
          "gw3",
          "gw4"
         ],
         "y": [
          65,
          106,
          150,
          207
         ]
        }
       ],
       "layout": {
        "template": {
         "data": {
          "bar": [
           {
            "error_x": {
             "color": "#2a3f5f"
            },
            "error_y": {
             "color": "#2a3f5f"
            },
            "marker": {
             "line": {
              "color": "#E5ECF6",
              "width": 0.5
             }
            },
            "type": "bar"
           }
          ],
          "barpolar": [
           {
            "marker": {
             "line": {
              "color": "#E5ECF6",
              "width": 0.5
             }
            },
            "type": "barpolar"
           }
          ],
          "carpet": [
           {
            "aaxis": {
             "endlinecolor": "#2a3f5f",
             "gridcolor": "white",
             "linecolor": "white",
             "minorgridcolor": "white",
             "startlinecolor": "#2a3f5f"
            },
            "baxis": {
             "endlinecolor": "#2a3f5f",
             "gridcolor": "white",
             "linecolor": "white",
             "minorgridcolor": "white",
             "startlinecolor": "#2a3f5f"
            },
            "type": "carpet"
           }
          ],
          "choropleth": [
           {
            "colorbar": {
             "outlinewidth": 0,
             "ticks": ""
            },
            "type": "choropleth"
           }
          ],
          "contour": [
           {
            "colorbar": {
             "outlinewidth": 0,
             "ticks": ""
            },
            "colorscale": [
             [
              0,
              "#0d0887"
             ],
             [
              0.1111111111111111,
              "#46039f"
             ],
             [
              0.2222222222222222,
              "#7201a8"
             ],
             [
              0.3333333333333333,
              "#9c179e"
             ],
             [
              0.4444444444444444,
              "#bd3786"
             ],
             [
              0.5555555555555556,
              "#d8576b"
             ],
             [
              0.6666666666666666,
              "#ed7953"
             ],
             [
              0.7777777777777778,
              "#fb9f3a"
             ],
             [
              0.8888888888888888,
              "#fdca26"
             ],
             [
              1,
              "#f0f921"
             ]
            ],
            "type": "contour"
           }
          ],
          "contourcarpet": [
           {
            "colorbar": {
             "outlinewidth": 0,
             "ticks": ""
            },
            "type": "contourcarpet"
           }
          ],
          "heatmap": [
           {
            "colorbar": {
             "outlinewidth": 0,
             "ticks": ""
            },
            "colorscale": [
             [
              0,
              "#0d0887"
             ],
             [
              0.1111111111111111,
              "#46039f"
             ],
             [
              0.2222222222222222,
              "#7201a8"
             ],
             [
              0.3333333333333333,
              "#9c179e"
             ],
             [
              0.4444444444444444,
              "#bd3786"
             ],
             [
              0.5555555555555556,
              "#d8576b"
             ],
             [
              0.6666666666666666,
              "#ed7953"
             ],
             [
              0.7777777777777778,
              "#fb9f3a"
             ],
             [
              0.8888888888888888,
              "#fdca26"
             ],
             [
              1,
              "#f0f921"
             ]
            ],
            "type": "heatmap"
           }
          ],
          "heatmapgl": [
           {
            "colorbar": {
             "outlinewidth": 0,
             "ticks": ""
            },
            "colorscale": [
             [
              0,
              "#0d0887"
             ],
             [
              0.1111111111111111,
              "#46039f"
             ],
             [
              0.2222222222222222,
              "#7201a8"
             ],
             [
              0.3333333333333333,
              "#9c179e"
             ],
             [
              0.4444444444444444,
              "#bd3786"
             ],
             [
              0.5555555555555556,
              "#d8576b"
             ],
             [
              0.6666666666666666,
              "#ed7953"
             ],
             [
              0.7777777777777778,
              "#fb9f3a"
             ],
             [
              0.8888888888888888,
              "#fdca26"
             ],
             [
              1,
              "#f0f921"
             ]
            ],
            "type": "heatmapgl"
           }
          ],
          "histogram": [
           {
            "marker": {
             "colorbar": {
              "outlinewidth": 0,
              "ticks": ""
             }
            },
            "type": "histogram"
           }
          ],
          "histogram2d": [
           {
            "colorbar": {
             "outlinewidth": 0,
             "ticks": ""
            },
            "colorscale": [
             [
              0,
              "#0d0887"
             ],
             [
              0.1111111111111111,
              "#46039f"
             ],
             [
              0.2222222222222222,
              "#7201a8"
             ],
             [
              0.3333333333333333,
              "#9c179e"
             ],
             [
              0.4444444444444444,
              "#bd3786"
             ],
             [
              0.5555555555555556,
              "#d8576b"
             ],
             [
              0.6666666666666666,
              "#ed7953"
             ],
             [
              0.7777777777777778,
              "#fb9f3a"
             ],
             [
              0.8888888888888888,
              "#fdca26"
             ],
             [
              1,
              "#f0f921"
             ]
            ],
            "type": "histogram2d"
           }
          ],
          "histogram2dcontour": [
           {
            "colorbar": {
             "outlinewidth": 0,
             "ticks": ""
            },
            "colorscale": [
             [
              0,
              "#0d0887"
             ],
             [
              0.1111111111111111,
              "#46039f"
             ],
             [
              0.2222222222222222,
              "#7201a8"
             ],
             [
              0.3333333333333333,
              "#9c179e"
             ],
             [
              0.4444444444444444,
              "#bd3786"
             ],
             [
              0.5555555555555556,
              "#d8576b"
             ],
             [
              0.6666666666666666,
              "#ed7953"
             ],
             [
              0.7777777777777778,
              "#fb9f3a"
             ],
             [
              0.8888888888888888,
              "#fdca26"
             ],
             [
              1,
              "#f0f921"
             ]
            ],
            "type": "histogram2dcontour"
           }
          ],
          "mesh3d": [
           {
            "colorbar": {
             "outlinewidth": 0,
             "ticks": ""
            },
            "type": "mesh3d"
           }
          ],
          "parcoords": [
           {
            "line": {
             "colorbar": {
              "outlinewidth": 0,
              "ticks": ""
             }
            },
            "type": "parcoords"
           }
          ],
          "scatter": [
           {
            "marker": {
             "colorbar": {
              "outlinewidth": 0,
              "ticks": ""
             }
            },
            "type": "scatter"
           }
          ],
          "scatter3d": [
           {
            "line": {
             "colorbar": {
              "outlinewidth": 0,
              "ticks": ""
             }
            },
            "marker": {
             "colorbar": {
              "outlinewidth": 0,
              "ticks": ""
             }
            },
            "type": "scatter3d"
           }
          ],
          "scattercarpet": [
           {
            "marker": {
             "colorbar": {
              "outlinewidth": 0,
              "ticks": ""
             }
            },
            "type": "scattercarpet"
           }
          ],
          "scattergeo": [
           {
            "marker": {
             "colorbar": {
              "outlinewidth": 0,
              "ticks": ""
             }
            },
            "type": "scattergeo"
           }
          ],
          "scattergl": [
           {
            "marker": {
             "colorbar": {
              "outlinewidth": 0,
              "ticks": ""
             }
            },
            "type": "scattergl"
           }
          ],
          "scattermapbox": [
           {
            "marker": {
             "colorbar": {
              "outlinewidth": 0,
              "ticks": ""
             }
            },
            "type": "scattermapbox"
           }
          ],
          "scatterpolar": [
           {
            "marker": {
             "colorbar": {
              "outlinewidth": 0,
              "ticks": ""
             }
            },
            "type": "scatterpolar"
           }
          ],
          "scatterpolargl": [
           {
            "marker": {
             "colorbar": {
              "outlinewidth": 0,
              "ticks": ""
             }
            },
            "type": "scatterpolargl"
           }
          ],
          "scatterternary": [
           {
            "marker": {
             "colorbar": {
              "outlinewidth": 0,
              "ticks": ""
             }
            },
            "type": "scatterternary"
           }
          ],
          "surface": [
           {
            "colorbar": {
             "outlinewidth": 0,
             "ticks": ""
            },
            "colorscale": [
             [
              0,
              "#0d0887"
             ],
             [
              0.1111111111111111,
              "#46039f"
             ],
             [
              0.2222222222222222,
              "#7201a8"
             ],
             [
              0.3333333333333333,
              "#9c179e"
             ],
             [
              0.4444444444444444,
              "#bd3786"
             ],
             [
              0.5555555555555556,
              "#d8576b"
             ],
             [
              0.6666666666666666,
              "#ed7953"
             ],
             [
              0.7777777777777778,
              "#fb9f3a"
             ],
             [
              0.8888888888888888,
              "#fdca26"
             ],
             [
              1,
              "#f0f921"
             ]
            ],
            "type": "surface"
           }
          ],
          "table": [
           {
            "cells": {
             "fill": {
              "color": "#EBF0F8"
             },
             "line": {
              "color": "white"
             }
            },
            "header": {
             "fill": {
              "color": "#C8D4E3"
             },
             "line": {
              "color": "white"
             }
            },
            "type": "table"
           }
          ]
         },
         "layout": {
          "annotationdefaults": {
           "arrowcolor": "#2a3f5f",
           "arrowhead": 0,
           "arrowwidth": 1
          },
          "colorscale": {
           "diverging": [
            [
             0,
             "#8e0152"
            ],
            [
             0.1,
             "#c51b7d"
            ],
            [
             0.2,
             "#de77ae"
            ],
            [
             0.3,
             "#f1b6da"
            ],
            [
             0.4,
             "#fde0ef"
            ],
            [
             0.5,
             "#f7f7f7"
            ],
            [
             0.6,
             "#e6f5d0"
            ],
            [
             0.7,
             "#b8e186"
            ],
            [
             0.8,
             "#7fbc41"
            ],
            [
             0.9,
             "#4d9221"
            ],
            [
             1,
             "#276419"
            ]
           ],
           "sequential": [
            [
             0,
             "#0d0887"
            ],
            [
             0.1111111111111111,
             "#46039f"
            ],
            [
             0.2222222222222222,
             "#7201a8"
            ],
            [
             0.3333333333333333,
             "#9c179e"
            ],
            [
             0.4444444444444444,
             "#bd3786"
            ],
            [
             0.5555555555555556,
             "#d8576b"
            ],
            [
             0.6666666666666666,
             "#ed7953"
            ],
            [
             0.7777777777777778,
             "#fb9f3a"
            ],
            [
             0.8888888888888888,
             "#fdca26"
            ],
            [
             1,
             "#f0f921"
            ]
           ],
           "sequentialminus": [
            [
             0,
             "#0d0887"
            ],
            [
             0.1111111111111111,
             "#46039f"
            ],
            [
             0.2222222222222222,
             "#7201a8"
            ],
            [
             0.3333333333333333,
             "#9c179e"
            ],
            [
             0.4444444444444444,
             "#bd3786"
            ],
            [
             0.5555555555555556,
             "#d8576b"
            ],
            [
             0.6666666666666666,
             "#ed7953"
            ],
            [
             0.7777777777777778,
             "#fb9f3a"
            ],
            [
             0.8888888888888888,
             "#fdca26"
            ],
            [
             1,
             "#f0f921"
            ]
           ]
          },
          "colorway": [
           "#636efa",
           "#EF553B",
           "#00cc96",
           "#ab63fa",
           "#FFA15A",
           "#19d3f3",
           "#FF6692",
           "#B6E880",
           "#FF97FF",
           "#FECB52"
          ],
          "font": {
           "color": "#2a3f5f"
          },
          "geo": {
           "bgcolor": "white",
           "lakecolor": "white",
           "landcolor": "#E5ECF6",
           "showlakes": true,
           "showland": true,
           "subunitcolor": "white"
          },
          "hoverlabel": {
           "align": "left"
          },
          "hovermode": "closest",
          "mapbox": {
           "style": "light"
          },
          "paper_bgcolor": "white",
          "plot_bgcolor": "#E5ECF6",
          "polar": {
           "angularaxis": {
            "gridcolor": "white",
            "linecolor": "white",
            "ticks": ""
           },
           "bgcolor": "#E5ECF6",
           "radialaxis": {
            "gridcolor": "white",
            "linecolor": "white",
            "ticks": ""
           }
          },
          "scene": {
           "xaxis": {
            "backgroundcolor": "#E5ECF6",
            "gridcolor": "white",
            "gridwidth": 2,
            "linecolor": "white",
            "showbackground": true,
            "ticks": "",
            "zerolinecolor": "white"
           },
           "yaxis": {
            "backgroundcolor": "#E5ECF6",
            "gridcolor": "white",
            "gridwidth": 2,
            "linecolor": "white",
            "showbackground": true,
            "ticks": "",
            "zerolinecolor": "white"
           },
           "zaxis": {
            "backgroundcolor": "#E5ECF6",
            "gridcolor": "white",
            "gridwidth": 2,
            "linecolor": "white",
            "showbackground": true,
            "ticks": "",
            "zerolinecolor": "white"
           }
          },
          "shapedefaults": {
           "line": {
            "color": "#2a3f5f"
           }
          },
          "ternary": {
           "aaxis": {
            "gridcolor": "white",
            "linecolor": "white",
            "ticks": ""
           },
           "baxis": {
            "gridcolor": "white",
            "linecolor": "white",
            "ticks": ""
           },
           "bgcolor": "#E5ECF6",
           "caxis": {
            "gridcolor": "white",
            "linecolor": "white",
            "ticks": ""
           }
          },
          "title": {
           "x": 0.05
          },
          "xaxis": {
           "automargin": true,
           "gridcolor": "white",
           "linecolor": "white",
           "ticks": "",
           "zerolinecolor": "white",
           "zerolinewidth": 2
          },
          "yaxis": {
           "automargin": true,
           "gridcolor": "white",
           "linecolor": "white",
           "ticks": "",
           "zerolinecolor": "white",
           "zerolinewidth": 2
          }
         }
        },
        "title": {
         "text": "Performance Comparison"
        },
        "xaxis": {
         "title": {
          "text": "Gameweek"
         }
        },
        "yaxis": {
         "title": {
          "text": "Points"
         }
        }
       }
      },
      "text/html": [
       "<div>\n",
       "        \n",
       "        \n",
       "            <div id=\"dc569e8b-060d-4d12-bfed-6fcb5dbb65c0\" class=\"plotly-graph-div\" style=\"height:525px; width:100%;\"></div>\n",
       "            <script type=\"text/javascript\">\n",
       "                require([\"plotly\"], function(Plotly) {\n",
       "                    window.PLOTLYENV=window.PLOTLYENV || {};\n",
       "                    \n",
       "                if (document.getElementById(\"dc569e8b-060d-4d12-bfed-6fcb5dbb65c0\")) {\n",
       "                    Plotly.newPlot(\n",
       "                        'dc569e8b-060d-4d12-bfed-6fcb5dbb65c0',\n",
       "                        [{\"mode\": \"lines\", \"name\": \"Mine\", \"type\": \"scatter\", \"x\": [\"gw1\", \"gw2\", \"gw3\", \"gw4\"], \"y\": [63, 95, 149, 199]}, {\"mode\": \"lines\", \"name\": \"Highest\", \"type\": \"scatter\", \"x\": [\"gw1\", \"gw2\", \"gw3\", \"gw4\"], \"y\": [142, 224, 286, 358]}, {\"mode\": \"lines\", \"name\": \"Average\", \"type\": \"scatter\", \"x\": [\"gw1\", \"gw2\", \"gw3\", \"gw4\"], \"y\": [65, 106, 150, 207]}],\n",
       "                        {\"template\": {\"data\": {\"bar\": [{\"error_x\": {\"color\": \"#2a3f5f\"}, \"error_y\": {\"color\": \"#2a3f5f\"}, \"marker\": {\"line\": {\"color\": \"#E5ECF6\", \"width\": 0.5}}, \"type\": \"bar\"}], \"barpolar\": [{\"marker\": {\"line\": {\"color\": \"#E5ECF6\", \"width\": 0.5}}, \"type\": \"barpolar\"}], \"carpet\": [{\"aaxis\": {\"endlinecolor\": \"#2a3f5f\", \"gridcolor\": \"white\", \"linecolor\": \"white\", \"minorgridcolor\": \"white\", \"startlinecolor\": \"#2a3f5f\"}, \"baxis\": {\"endlinecolor\": \"#2a3f5f\", \"gridcolor\": \"white\", \"linecolor\": \"white\", \"minorgridcolor\": \"white\", \"startlinecolor\": \"#2a3f5f\"}, \"type\": \"carpet\"}], \"choropleth\": [{\"colorbar\": {\"outlinewidth\": 0, \"ticks\": \"\"}, \"type\": \"choropleth\"}], \"contour\": [{\"colorbar\": {\"outlinewidth\": 0, \"ticks\": \"\"}, \"colorscale\": [[0.0, \"#0d0887\"], [0.1111111111111111, \"#46039f\"], [0.2222222222222222, \"#7201a8\"], [0.3333333333333333, \"#9c179e\"], [0.4444444444444444, \"#bd3786\"], [0.5555555555555556, \"#d8576b\"], [0.6666666666666666, \"#ed7953\"], [0.7777777777777778, \"#fb9f3a\"], [0.8888888888888888, \"#fdca26\"], [1.0, \"#f0f921\"]], \"type\": \"contour\"}], \"contourcarpet\": [{\"colorbar\": {\"outlinewidth\": 0, \"ticks\": \"\"}, \"type\": \"contourcarpet\"}], \"heatmap\": [{\"colorbar\": {\"outlinewidth\": 0, \"ticks\": \"\"}, \"colorscale\": [[0.0, \"#0d0887\"], [0.1111111111111111, \"#46039f\"], [0.2222222222222222, \"#7201a8\"], [0.3333333333333333, \"#9c179e\"], [0.4444444444444444, \"#bd3786\"], [0.5555555555555556, \"#d8576b\"], [0.6666666666666666, \"#ed7953\"], [0.7777777777777778, \"#fb9f3a\"], [0.8888888888888888, \"#fdca26\"], [1.0, \"#f0f921\"]], \"type\": \"heatmap\"}], \"heatmapgl\": [{\"colorbar\": {\"outlinewidth\": 0, \"ticks\": \"\"}, \"colorscale\": [[0.0, \"#0d0887\"], [0.1111111111111111, \"#46039f\"], [0.2222222222222222, \"#7201a8\"], [0.3333333333333333, \"#9c179e\"], [0.4444444444444444, \"#bd3786\"], [0.5555555555555556, \"#d8576b\"], [0.6666666666666666, \"#ed7953\"], [0.7777777777777778, \"#fb9f3a\"], [0.8888888888888888, \"#fdca26\"], [1.0, \"#f0f921\"]], \"type\": \"heatmapgl\"}], \"histogram\": [{\"marker\": {\"colorbar\": {\"outlinewidth\": 0, \"ticks\": \"\"}}, \"type\": \"histogram\"}], \"histogram2d\": [{\"colorbar\": {\"outlinewidth\": 0, \"ticks\": \"\"}, \"colorscale\": [[0.0, \"#0d0887\"], [0.1111111111111111, \"#46039f\"], [0.2222222222222222, \"#7201a8\"], [0.3333333333333333, \"#9c179e\"], [0.4444444444444444, \"#bd3786\"], [0.5555555555555556, \"#d8576b\"], [0.6666666666666666, \"#ed7953\"], [0.7777777777777778, \"#fb9f3a\"], [0.8888888888888888, \"#fdca26\"], [1.0, \"#f0f921\"]], \"type\": \"histogram2d\"}], \"histogram2dcontour\": [{\"colorbar\": {\"outlinewidth\": 0, \"ticks\": \"\"}, \"colorscale\": [[0.0, \"#0d0887\"], [0.1111111111111111, \"#46039f\"], [0.2222222222222222, \"#7201a8\"], [0.3333333333333333, \"#9c179e\"], [0.4444444444444444, \"#bd3786\"], [0.5555555555555556, \"#d8576b\"], [0.6666666666666666, \"#ed7953\"], [0.7777777777777778, \"#fb9f3a\"], [0.8888888888888888, \"#fdca26\"], [1.0, \"#f0f921\"]], \"type\": \"histogram2dcontour\"}], \"mesh3d\": [{\"colorbar\": {\"outlinewidth\": 0, \"ticks\": \"\"}, \"type\": \"mesh3d\"}], \"parcoords\": [{\"line\": {\"colorbar\": {\"outlinewidth\": 0, \"ticks\": \"\"}}, \"type\": \"parcoords\"}], \"scatter\": [{\"marker\": {\"colorbar\": {\"outlinewidth\": 0, \"ticks\": \"\"}}, \"type\": \"scatter\"}], \"scatter3d\": [{\"line\": {\"colorbar\": {\"outlinewidth\": 0, \"ticks\": \"\"}}, \"marker\": {\"colorbar\": {\"outlinewidth\": 0, \"ticks\": \"\"}}, \"type\": \"scatter3d\"}], \"scattercarpet\": [{\"marker\": {\"colorbar\": {\"outlinewidth\": 0, \"ticks\": \"\"}}, \"type\": \"scattercarpet\"}], \"scattergeo\": [{\"marker\": {\"colorbar\": {\"outlinewidth\": 0, \"ticks\": \"\"}}, \"type\": \"scattergeo\"}], \"scattergl\": [{\"marker\": {\"colorbar\": {\"outlinewidth\": 0, \"ticks\": \"\"}}, \"type\": \"scattergl\"}], \"scattermapbox\": [{\"marker\": {\"colorbar\": {\"outlinewidth\": 0, \"ticks\": \"\"}}, \"type\": \"scattermapbox\"}], \"scatterpolar\": [{\"marker\": {\"colorbar\": {\"outlinewidth\": 0, \"ticks\": \"\"}}, \"type\": \"scatterpolar\"}], \"scatterpolargl\": [{\"marker\": {\"colorbar\": {\"outlinewidth\": 0, \"ticks\": \"\"}}, \"type\": \"scatterpolargl\"}], \"scatterternary\": [{\"marker\": {\"colorbar\": {\"outlinewidth\": 0, \"ticks\": \"\"}}, \"type\": \"scatterternary\"}], \"surface\": [{\"colorbar\": {\"outlinewidth\": 0, \"ticks\": \"\"}, \"colorscale\": [[0.0, \"#0d0887\"], [0.1111111111111111, \"#46039f\"], [0.2222222222222222, \"#7201a8\"], [0.3333333333333333, \"#9c179e\"], [0.4444444444444444, \"#bd3786\"], [0.5555555555555556, \"#d8576b\"], [0.6666666666666666, \"#ed7953\"], [0.7777777777777778, \"#fb9f3a\"], [0.8888888888888888, \"#fdca26\"], [1.0, \"#f0f921\"]], \"type\": \"surface\"}], \"table\": [{\"cells\": {\"fill\": {\"color\": \"#EBF0F8\"}, \"line\": {\"color\": \"white\"}}, \"header\": {\"fill\": {\"color\": \"#C8D4E3\"}, \"line\": {\"color\": \"white\"}}, \"type\": \"table\"}]}, \"layout\": {\"annotationdefaults\": {\"arrowcolor\": \"#2a3f5f\", \"arrowhead\": 0, \"arrowwidth\": 1}, \"colorscale\": {\"diverging\": [[0, \"#8e0152\"], [0.1, \"#c51b7d\"], [0.2, \"#de77ae\"], [0.3, \"#f1b6da\"], [0.4, \"#fde0ef\"], [0.5, \"#f7f7f7\"], [0.6, \"#e6f5d0\"], [0.7, \"#b8e186\"], [0.8, \"#7fbc41\"], [0.9, \"#4d9221\"], [1, \"#276419\"]], \"sequential\": [[0.0, \"#0d0887\"], [0.1111111111111111, \"#46039f\"], [0.2222222222222222, \"#7201a8\"], [0.3333333333333333, \"#9c179e\"], [0.4444444444444444, \"#bd3786\"], [0.5555555555555556, \"#d8576b\"], [0.6666666666666666, \"#ed7953\"], [0.7777777777777778, \"#fb9f3a\"], [0.8888888888888888, \"#fdca26\"], [1.0, \"#f0f921\"]], \"sequentialminus\": [[0.0, \"#0d0887\"], [0.1111111111111111, \"#46039f\"], [0.2222222222222222, \"#7201a8\"], [0.3333333333333333, \"#9c179e\"], [0.4444444444444444, \"#bd3786\"], [0.5555555555555556, \"#d8576b\"], [0.6666666666666666, \"#ed7953\"], [0.7777777777777778, \"#fb9f3a\"], [0.8888888888888888, \"#fdca26\"], [1.0, \"#f0f921\"]]}, \"colorway\": [\"#636efa\", \"#EF553B\", \"#00cc96\", \"#ab63fa\", \"#FFA15A\", \"#19d3f3\", \"#FF6692\", \"#B6E880\", \"#FF97FF\", \"#FECB52\"], \"font\": {\"color\": \"#2a3f5f\"}, \"geo\": {\"bgcolor\": \"white\", \"lakecolor\": \"white\", \"landcolor\": \"#E5ECF6\", \"showlakes\": true, \"showland\": true, \"subunitcolor\": \"white\"}, \"hoverlabel\": {\"align\": \"left\"}, \"hovermode\": \"closest\", \"mapbox\": {\"style\": \"light\"}, \"paper_bgcolor\": \"white\", \"plot_bgcolor\": \"#E5ECF6\", \"polar\": {\"angularaxis\": {\"gridcolor\": \"white\", \"linecolor\": \"white\", \"ticks\": \"\"}, \"bgcolor\": \"#E5ECF6\", \"radialaxis\": {\"gridcolor\": \"white\", \"linecolor\": \"white\", \"ticks\": \"\"}}, \"scene\": {\"xaxis\": {\"backgroundcolor\": \"#E5ECF6\", \"gridcolor\": \"white\", \"gridwidth\": 2, \"linecolor\": \"white\", \"showbackground\": true, \"ticks\": \"\", \"zerolinecolor\": \"white\"}, \"yaxis\": {\"backgroundcolor\": \"#E5ECF6\", \"gridcolor\": \"white\", \"gridwidth\": 2, \"linecolor\": \"white\", \"showbackground\": true, \"ticks\": \"\", \"zerolinecolor\": \"white\"}, \"zaxis\": {\"backgroundcolor\": \"#E5ECF6\", \"gridcolor\": \"white\", \"gridwidth\": 2, \"linecolor\": \"white\", \"showbackground\": true, \"ticks\": \"\", \"zerolinecolor\": \"white\"}}, \"shapedefaults\": {\"line\": {\"color\": \"#2a3f5f\"}}, \"ternary\": {\"aaxis\": {\"gridcolor\": \"white\", \"linecolor\": \"white\", \"ticks\": \"\"}, \"baxis\": {\"gridcolor\": \"white\", \"linecolor\": \"white\", \"ticks\": \"\"}, \"bgcolor\": \"#E5ECF6\", \"caxis\": {\"gridcolor\": \"white\", \"linecolor\": \"white\", \"ticks\": \"\"}}, \"title\": {\"x\": 0.05}, \"xaxis\": {\"automargin\": true, \"gridcolor\": \"white\", \"linecolor\": \"white\", \"ticks\": \"\", \"zerolinecolor\": \"white\", \"zerolinewidth\": 2}, \"yaxis\": {\"automargin\": true, \"gridcolor\": \"white\", \"linecolor\": \"white\", \"ticks\": \"\", \"zerolinecolor\": \"white\", \"zerolinewidth\": 2}}}, \"title\": {\"text\": \"Performance Comparison\"}, \"xaxis\": {\"title\": {\"text\": \"Gameweek\"}}, \"yaxis\": {\"title\": {\"text\": \"Points\"}}},\n",
       "                        {\"responsive\": true}\n",
       "                    ).then(function(){\n",
       "                            \n",
       "var gd = document.getElementById('dc569e8b-060d-4d12-bfed-6fcb5dbb65c0');\n",
       "var x = new MutationObserver(function (mutations, observer) {{\n",
       "        var display = window.getComputedStyle(gd).display;\n",
       "        if (!display || display === 'none') {{\n",
       "            console.log([gd, 'removed!']);\n",
       "            Plotly.purge(gd);\n",
       "            observer.disconnect();\n",
       "        }}\n",
       "}});\n",
       "\n",
       "// Listen for the removal of the full notebook cells\n",
       "var notebookContainer = gd.closest('#notebook-container');\n",
       "if (notebookContainer) {{\n",
       "    x.observe(notebookContainer, {childList: true});\n",
       "}}\n",
       "\n",
       "// Listen for the clearing of the current output cell\n",
       "var outputEl = gd.closest('.output');\n",
       "if (outputEl) {{\n",
       "    x.observe(outputEl, {childList: true});\n",
       "}}\n",
       "\n",
       "                        })\n",
       "                };\n",
       "                });\n",
       "            </script>\n",
       "        </div>"
      ]
     },
     "metadata": {},
     "output_type": "display_data"
    }
   ],
   "source": [
    "# compare your progress\n",
    "progress = variables.progress()\n",
    "fig = go.Figure()\n",
    "for p in progress:\n",
    "    fig.add_trace(go.Scatter(x=p['gameweek'], y=p['points'], mode='lines', name=p['type']))\n",
    "fig.update_layout(yaxis_title='Points', xaxis_title='Gameweek', title='Performance Comparison')\n",
    "fig.show()\n",
    "\n"
   ]
  },
  {
   "cell_type": "code",
   "execution_count": 31,
   "metadata": {},
   "outputs": [
    {
     "data": {
      "application/vnd.plotly.v1+json": {
       "config": {
        "plotlyServerURL": "https://plot.ly"
       },
       "data": [
        {
         "customdata": [
          [
           "sergio agüero"
          ],
          [
           "teemu pukki"
          ],
          [
           "pierre-emerick aubameyang"
          ],
          [
           "tammy abraham"
          ],
          [
           "jamie vardy"
          ],
          [
           "roberto firmino"
          ],
          [
           "harry kane"
          ],
          [
           "callum wilson"
          ],
          [
           "sébastien haller"
          ],
          [
           "ashley barnes"
          ],
          [
           "alexandre lacazette"
          ],
          [
           "raúl jiménez"
          ],
          [
           "marcus rashford"
          ],
          [
           "joshua king"
          ],
          [
           "jordan ayew"
          ],
          [
           "wesley moraes"
          ],
          [
           "danny ings"
          ],
          [
           "andre gray"
          ],
          [
           "javier hernández balcázar"
          ],
          [
           "divock origi"
          ],
          [
           "gabriel fernando de jesus"
          ],
          [
           "billy sharp"
          ],
          [
           "diogo jota"
          ],
          [
           "joelinton cássio apolinário de lira"
          ],
          [
           "chris wood"
          ],
          [
           "gerard deulofeu"
          ],
          [
           "glenn murray"
          ],
          [
           "neal maupay"
          ],
          [
           "troy deeney"
          ],
          [
           "moise kean"
          ],
          [
           "oliver mcburnie"
          ],
          [
           "dominic calvert-lewin"
          ],
          [
           "michy batshuayi"
          ],
          [
           "florin andone"
          ],
          [
           "olivier giroud"
          ],
          [
           "shane long"
          ],
          [
           "dominic solanke"
          ],
          [
           "jürgen locadia"
          ],
          [
           "christian benteke"
          ],
          [
           "danny welbeck"
          ],
          [
           "isaac success ajayi"
          ],
          [
           "michael obafemi"
          ],
          [
           "jay rodriguez"
          ],
          [
           "yoshinori muto"
          ],
          [
           "jonathan kodjia"
          ],
          [
           "lys mousset"
          ],
          [
           "gabriel teodoro martinelli silva"
          ],
          [
           "dennis srbeny"
          ],
          [
           "josip drmic"
          ],
          [
           "che adams"
          ],
          [
           "connor wickham"
          ],
          [
           "david mcgoldrick"
          ],
          [
           "mason greenwood"
          ],
          [
           "aaron connolly"
          ],
          [
           "patrick cutrone"
          ]
         ],
         "hoverlabel": {
          "namelength": 0
         },
         "hovertemplate": "Position=Forward<br>Cost=%{x}<br>Points=%{y}<br>Points per Cost=%{marker.size}<br>Full Name=%{customdata[0]}",
         "legendgroup": "Position=Forward",
         "marker": {
          "color": "#636efa",
          "size": [
           6.6339066339066335,
           4.142857142857143,
           6.586363636363637,
           2.9166666666666665,
           6.771141336487284,
           5.626038781163435,
           4.943181818181818,
           7.024886877828054,
           2.2666666666666666,
           5.597014925373134,
           5.709686450167974,
           7.403474903474903,
           4.467408585055644,
           5.392628205128204,
           2.57459505541347,
           1.1666666666666667,
           4.1190476190476195,
           3.697996918335901,
           4.2407407407407405,
           2.2545454545454544,
           2.3412563667232598,
           1.1864406779661016,
           5.7335907335907335,
           0.847457627118644,
           4.433370247323736,
           5.6722689075630255,
           5.147783251231528,
           0.8333333333333334,
           4.257703081232493,
           0.4411764705882353,
           0.6779661016949152,
           2.872664059104737,
           1.9154228855721391,
           1.016,
           1.394686907020873,
           2.808641975308642,
           0.1984126984126984,
           1.1177248677248677,
           0.6101694915254237,
           0.6666666666666666,
           0.2869897959183673,
           0.5142857142857142,
           0,
           0.23611111111111108,
           0,
           0.2933673469387755,
           0,
           0,
           0,
           0,
           0.25,
           0,
           0,
           0,
           0
          ],
          "sizemode": "area",
          "sizeref": 0.025457875457875458,
          "symbol": "circle"
         },
         "mode": "markers",
         "name": "Position=Forward",
         "showlegend": true,
         "type": "scatter",
         "x": [
          12.1,
          7,
          11,
          7.2,
          8.9,
          9.5,
          11,
          7.8,
          7.5,
          6.7,
          9.4,
          7.4,
          8.5,
          6.4,
          5.1,
          6,
          6,
          5.9,
          6,
          5.5,
          9.5,
          5.9,
          6.3,
          5.9,
          6.3,
          6.3,
          5.8,
          6,
          6.3,
          6.8,
          5.9,
          5.9,
          6.7,
          5,
          6.8,
          4.8,
          5.4,
          5.4,
          5.9,
          6,
          4.9,
          5,
          5.8,
          5.4,
          5.4,
          4.9,
          4.5,
          5.4,
          5.4,
          5.8,
          4.5,
          5.5,
          4.5,
          4.5,
          5.8
         ],
         "xaxis": "x",
         "y": [
          80.27027027027026,
          29,
          72.45,
          21,
          60.263157894736835,
          53.44736842105263,
          54.375,
          54.79411764705882,
          17,
          37.5,
          53.67105263157895,
          54.785714285714285,
          37.972972972972975,
          34.51282051282051,
          13.130434782608695,
          7,
          24.714285714285715,
          21.818181818181817,
          25.444444444444443,
          12.4,
          22.241935483870968,
          7,
          36.12162162162162,
          5,
          27.930232558139533,
          35.73529411764706,
          29.857142857142858,
          5,
          26.823529411764707,
          3,
          4,
          16.94871794871795,
          12.833333333333332,
          5.08,
          9.483870967741936,
          13.481481481481481,
          1.0714285714285714,
          6.035714285714286,
          3.6,
          4,
          1.40625,
          2.571428571428571,
          0,
          1.275,
          0,
          1.4375,
          0,
          0,
          0,
          0,
          1.125,
          0,
          0,
          0,
          0
         ],
         "yaxis": "y"
        },
        {
         "customdata": [
          [
           "raheem sterling"
          ],
          [
           "mohamed salah"
          ],
          [
           "sadio mané"
          ],
          [
           "kevin de bruyne"
          ],
          [
           "david silva"
          ],
          [
           "richarlison de andrade"
          ],
          [
           "mason mount"
          ],
          [
           "todd cantwell"
          ],
          [
           "daniel james"
          ],
          [
           "anthony martial"
          ],
          [
           "gylfi sigurdsson"
          ],
          [
           "riyad mahrez"
          ],
          [
           "harry wilson"
          ],
          [
           "christian eriksen"
          ],
          [
           "lucas rodrigues moura da silva"
          ],
          [
           "heung-min son"
          ],
          [
           "ryan fraser"
          ],
          [
           "paul pogba"
          ],
          [
           "tanguy ndombele"
          ],
          [
           "bernardo mota veiga de carvalho e silva"
          ],
          [
           "erik lamela"
          ],
          [
           "john mcginn"
          ],
          [
           "james maddison"
          ],
          [
           "youri tielemans"
          ],
          [
           "nathan redmond"
          ],
          [
           "johann berg gudmundsson"
          ],
          [
           "douglas luiz soares de paulo"
          ],
          [
           "daniel ceballos fernández"
          ],
          [
           "callum robinson"
          ],
          [
           "dwight mcneil"
          ],
          [
           "bernard anício caldeira duarte"
          ],
          [
           "felipe anderson pereira gomes"
          ],
          [
           "will hughes"
          ],
          [
           "alex iwobi"
          ],
          [
           "mark noble"
          ],
          [
           "joão filipe iria santos moutinho"
          ],
          [
           "christian pulisic"
          ],
          [
           "manuel lanzini"
          ],
          [
           "jeffrey schlupp"
          ],
          [
           "ayoze pérez"
          ],
          [
           "michail antonio"
          ],
          [
           "emiliano buendía"
          ],
          [
           "wilfred ndidi"
          ],
          [
           "ashley westwood"
          ],
          [
           "luka milivojevic"
          ],
          [
           "rúben diogo da silva neves"
          ],
          [
           "james milner"
          ],
          [
           "anwar el ghazi"
          ],
          [
           "pedro rodríguez ledesma"
          ],
          [
           "andros townsend"
          ],
          [
           "jack grealish"
          ],
          [
           "lucas torreira"
          ],
          [
           "scott mctominay"
          ],
          [
           "pascal groß"
          ],
          [
           "wilfried zaha"
          ],
          [
           "james mcarthur"
          ],
          [
           "leandro trossard"
          ],
          [
           "georginio wijnaldum"
          ],
          [
           "moussa sissoko"
          ],
          [
           "isaac hayden"
          ],
          [
           "jonjo shelvey"
          ],
          [
           "nicolas pépé"
          ],
          [
           "jorge luiz frello filho"
          ],
          [
           "ilkay gündogan"
          ],
          [
           "josé ignacio peleteiro romallo"
          ],
          [
           "fabio henrique tavares"
          ],
          [
           "andriy yarmolenko"
          ],
          [
           "henrikh mkhitaryan"
          ],
          [
           "bamidele alli"
          ],
          [
           "mateo kovacic"
          ],
          [
           "willian borges da silva"
          ],
          [
           "harvey barnes"
          ],
          [
           "solomon march"
          ],
          [
           "matteo guendouzi"
          ],
          [
           "ross barkley"
          ],
          [
           "rodrigo hernandez"
          ],
          [
           "davy pröpper"
          ],
          [
           "n'golo kanté"
          ],
          [
           "theo walcott"
          ],
          [
           "jack cork"
          ],
          [
           "roberto pereyra"
          ],
          [
           "xherdan shaqiri"
          ],
          [
           "christian atsu"
          ],
          [
           "james ward-prowse"
          ],
          [
           "granit xhaka"
          ],
          [
           "jordan henderson"
          ],
          [
           "sean longstaff"
          ],
          [
           "jean-philippe gbamin"
          ],
          [
           "tom trybull"
          ],
          [
           "joseph willock"
          ],
          [
           "sofiane boufal"
          ],
          [
           "moussa djenepo"
          ],
          [
           "cheikhou kouyaté"
          ],
          [
           "andreas pereira"
          ],
          [
           "abdoulaye doucouré"
          ],
          [
           "fernando luiz rosa"
          ],
          [
           "leander dendoncker"
          ],
          [
           "jesse lingard"
          ],
          [
           "jeff hendrick"
          ],
          [
           "dale stephens"
          ],
          [
           "oliver norwood"
          ],
          [
           "pierre-emile højbjerg"
          ],
          [
           "hamza choudhury"
          ],
          [
           "demarai gray"
          ],
          [
           "declan rice"
          ],
          [
           "andré filipe tavares gomes"
          ],
          [
           "juan mata"
          ],
          [
           "jefferson lerma"
          ],
          [
           "stuart armstrong"
          ],
          [
           "aaron mooy"
          ],
          [
           "robert snodgrass"
          ],
          [
           "max meyer"
          ],
          [
           "philip billing"
          ],
          [
           "jordon ibe"
          ],
          [
           "harry winks"
          ],
          [
           "phil foden"
          ],
          [
           "andrew surman"
          ],
          [
           "aaron lennon"
          ],
          [
           "sung-yueng ki"
          ],
          [
           "etienne capoue"
          ],
          [
           "oliver skipp"
          ],
          [
           "morgan schneiderlin"
          ],
          [
           "miguel almirón"
          ],
          [
           "marco stiepermann"
          ],
          [
           "oriol romeu vidal"
          ],
          [
           "marc albrighton"
          ],
          [
           "tom cleverley"
          ],
          [
           "morgan gibbs-white"
          ],
          [
           "adama traoré"
          ],
          [
           "nampalys mendy"
          ],
          [
           "georges-kévin nkoudou"
          ],
          [
           "nemanja matic"
          ],
          [
           "reiss nelson"
          ],
          [
           "adam lallana"
          ],
          [
           "tom davies"
          ],
          [
           "domingos quina"
          ],
          [
           "jack wilshere"
          ],
          [
           "moritz leitner"
          ],
          [
           "conor hourihane"
          ],
          [
           "keinan davis"
          ],
          [
           "henri lansbury"
          ],
          [
           "giovani lo celso"
          ],
          [
           "billy gilmour"
          ],
          [
           "mario vrancic"
          ],
          [
           "onel hernández"
          ],
          [
           "kenny mclean"
          ],
          [
           "alexander tettey"
          ],
          [
           "ibrahim amadou"
          ],
          [
           "luke freeman"
          ],
          [
           "carlos sánchez"
          ],
          [
           "alex oxlade-chamberlain"
          ],
          [
           "nathaniel chalobah"
          ],
          [
           "pablo fornals"
          ],
          [
           "ravel morrison"
          ],
          [
           "ben osborn"
          ],
          [
           "dennis praet"
          ],
          [
           "allan saint-maximin"
          ],
          [
           "ismaïla sarr"
          ],
          [
           "mahmoud ahmed ibrahim hassan"
          ],
          [
           "john fleck"
          ],
          [
           "james mccarthy"
          ],
          [
           "pedro lomba neto"
          ]
         ],
         "hoverlabel": {
          "namelength": 0
         },
         "hovertemplate": "Position=Midfielder<br>Cost=%{x}<br>Points=%{y}<br>Points per Cost=%{marker.size}<br>Full Name=%{customdata[0]}",
         "legendgroup": "Position=Midfielder",
         "marker": {
          "color": "#EF553B",
          "size": [
           7.449721865639709,
           7.885714285714287,
           7.121739130434783,
           2.9835847382431226,
           6.1315315315315315,
           6.1019149626744555,
           2.1875,
           2.7083333333333335,
           2.295081967213115,
           5.487012987012987,
           6.672771672771673,
           4.0910815939278935,
           1.8333333333333333,
           5.270979020979021,
           5.220077220077219,
           5.40829346092504,
           6.85583822570124,
           6.131221719457013,
           1.6666666666666667,
           5.552268244575938,
           3.760869565217391,
           1.6071428571428572,
           4.929577464788733,
           3.2720588235294117,
           5.3155245838172664,
           4.127604166666667,
           1.7391304347826089,
           1.5789473684210527,
           1.6981132075471699,
           3.293333333333333,
           2.82995951417004,
           5.919732441471572,
           3.4545454545454546,
           4.3128721942281265,
           4.887878787878789,
           4.562770562770563,
           0.8,
           1.758241758241758,
           4.231404958677686,
           5.383064516129032,
           4.48671497584541,
           0.8333333333333334,
           2.3571428571428568,
           3.9132553606237814,
           5.906862745098039,
           3.438228438228438,
           4.877450980392156,
           0.9090909090909091,
           4.2272727272727275,
           4.923325262308313,
           0.6666666666666666,
           2.7082184225041366,
           1.9600000000000002,
           2.8249336870026522,
           4.862700228832952,
           4.14021164021164,
           0.8333333333333334,
           3.6270396270396272,
           2.1818181818181817,
           2.835249042145594,
           1.911111111111111,
           0.3191489361702127,
           2.204878048780488,
           4.929919137466307,
           0.6779661016949152,
           1.7840909090909092,
           1.5254237288135593,
           3.623188405797101,
           2.8044871794871793,
           1.4343434343434343,
           3.330612244897959,
           1.6324710080285458,
           3.1344845630559917,
           0.1403508771929824,
           3.1810344827586206,
           0.36363636363636365,
           1.5941176470588236,
           4.252631578947367,
           3.237688237688238,
           1.28,
           4.489942528735632,
           4.114285714285714,
           1.4320987654320985,
           3.4519774011299433,
           2.7517361111111107,
           2.04040404040404,
           1.0846153846153848,
           0.2040816326530612,
           0.2222222222222222,
           0.2,
           0.5454545454545454,
           0.5555555555555555,
           1.5433673469387754,
           0.9666666666666668,
           4.047303271441202,
           2.2798742138364783,
           1.3236714975845412,
           2.313508064516129,
           1.7059483726150393,
           0.9084967320261437,
           0.2,
           2.530612244897959,
           0.45299145299145294,
           2.7493261455525606,
           2.2824919441460794,
           1.1051373954599761,
           2.379807692307692,
           1.3025210084033614,
           2.667824074074074,
           2.1700680272108843,
           2.361111111111111,
           1.4725209080047788,
           0.8193548387096774,
           0.738581146744412,
           0.5818181818181819,
           0.8760107816711591,
           0.18367346938775508,
           0.8571428571428573,
           0.5800214822771214,
           1.105442176870748,
           0.17777777777777778,
           0.3333333333333333,
           0.5447941888619855,
           0,
           0.29523809523809524,
           1.7314814814814814,
           0.6632653061224489,
           0.5895691609977324,
           0.90625,
           0.5381944444444444,
           0.15,
           0.40229885057471265,
           0,
           0.3934624697336562,
           0,
           0.691358024691358,
           0.4081632653061224,
           0,
           0,
           0,
           0,
           0,
           0,
           0,
           0,
           0,
           0,
           0,
           0,
           0,
           0,
           0,
           0,
           0,
           0,
           0,
           0,
           0,
           0,
           0,
           0,
           0
          ],
          "sizemode": "area",
          "sizeref": 0.025457875457875458,
          "symbol": "circle"
         },
         "mode": "markers",
         "name": "Position=Midfielder",
         "showlegend": true,
         "type": "scatter",
         "x": [
          12.3,
          12.5,
          11.5,
          9.8,
          7.5,
          7.9,
          6.4,
          4.8,
          6.1,
          7.7,
          7.8,
          8.5,
          6,
          8.8,
          7.4,
          9.5,
          7.3,
          8.5,
          6,
          7.8,
          6,
          5.6,
          7.1,
          6.4,
          6.3,
          6,
          4.6,
          5.7,
          5.3,
          6,
          6.5,
          6.9,
          5.5,
          5.9,
          5,
          5.5,
          7.5,
          6.5,
          5.5,
          6.2,
          6.9,
          6,
          5,
          5.4,
          6.8,
          5.5,
          5.4,
          5.5,
          7,
          5.9,
          6,
          4.9,
          5,
          6.5,
          6.9,
          5.4,
          6,
          5.5,
          5,
          4.5,
          5,
          9.4,
          5,
          5.3,
          5.9,
          5.5,
          5.9,
          6.9,
          8.4,
          5.5,
          7,
          5.9,
          4.9,
          4.5,
          5.8,
          5.5,
          5,
          5,
          6.3,
          5,
          5.8,
          6.3,
          5.4,
          5.9,
          5.4,
          5.5,
          5,
          4.9,
          4.5,
          5,
          5.5,
          5.4,
          4.9,
          5,
          5.8,
          5.3,
          4.5,
          6.4,
          5.4,
          4.5,
          5,
          4.9,
          4.5,
          5.3,
          4.9,
          5.4,
          6.4,
          4.9,
          5.4,
          4.9,
          5.4,
          5.4,
          5,
          4.9,
          5.5,
          5.3,
          4.9,
          4.9,
          4.9,
          4.9,
          4.5,
          4.5,
          5.9,
          5.5,
          4.5,
          5.4,
          4.9,
          4.9,
          5,
          4.5,
          5,
          4.8,
          5.4,
          5.9,
          5.4,
          4.5,
          4.9,
          4.5,
          5.8,
          4.5,
          4.4,
          7.4,
          4.5,
          6.3,
          5.3,
          4.9,
          4.5,
          4.5,
          5.4,
          4.5,
          6.4,
          4.5,
          6.3,
          4.9,
          4.9,
          5.4,
          5.4,
          6.4,
          5.4,
          4.9,
          4.5,
          5
         ],
         "xaxis": "x",
         "y": [
          91.63157894736842,
          98.57142857142858,
          81.9,
          29.239130434782606,
          45.986486486486484,
          48.205128205128204,
          14,
          13,
          14,
          42.25,
          52.04761904761905,
          34.774193548387096,
          11,
          46.38461538461539,
          38.628571428571426,
          51.37878787878788,
          50.04761904761905,
          52.11538461538461,
          10,
          43.307692307692314,
          22.565217391304348,
          9,
          35,
          20.941176470588236,
          33.48780487804878,
          24.765625,
          8,
          9,
          9,
          19.759999999999998,
          18.39473684210526,
          40.84615384615385,
          19,
          25.445945945945947,
          24.43939393939394,
          25.095238095238095,
          6,
          11.428571428571427,
          23.272727272727273,
          33.375,
          30.958333333333332,
          5,
          11.785714285714285,
          21.13157894736842,
          40.166666666666664,
          18.91025641025641,
          26.338235294117645,
          5,
          29.590909090909093,
          29.047619047619047,
          4,
          13.27027027027027,
          9.8,
          18.36206896551724,
          33.55263157894737,
          22.357142857142858,
          5,
          19.94871794871795,
          10.909090909090908,
          12.758620689655173,
          9.555555555555555,
          3,
          11.02439024390244,
          26.128571428571426,
          4,
          9.8125,
          9,
          25,
          23.557692307692307,
          7.888888888888888,
          23.314285714285713,
          9.631578947368421,
          15.35897435897436,
          0.6315789473684208,
          18.45,
          2,
          7.970588235294118,
          21.26315789473684,
          20.397435897435898,
          6.4,
          26.041666666666664,
          25.919999999999998,
          7.7333333333333325,
          20.366666666666667,
          14.859375,
          11.222222222222221,
          5.423076923076923,
          1,
          1,
          1,
          3,
          3,
          7.5625,
          4.833333333333334,
          23.474358974358974,
          12.083333333333334,
          5.9565217391304355,
          14.806451612903226,
          9.212121212121213,
          4.088235294117647,
          1,
          12.399999999999999,
          2.0384615384615383,
          14.571428571428571,
          11.18421052631579,
          5.967741935483871,
          15.23076923076923,
          6.382352941176471,
          14.40625,
          10.633333333333333,
          12.75,
          7.951612903225806,
          4.096774193548387,
          3.619047619047619,
          3.2000000000000006,
          4.642857142857143,
          0.9,
          4.200000000000001,
          2.8421052631578947,
          5.416666666666666,
          0.8,
          1.5,
          3.2142857142857144,
          0,
          1.3285714285714285,
          9.35,
          3.25,
          2.888888888888889,
          4.53125,
          2.421875,
          0.75,
          1.9310344827586208,
          0,
          2.3214285714285716,
          -0.47058823529411764,
          3.1111111111111107,
          2,
          -1,
          0,
          0,
          0,
          0,
          0,
          0,
          0,
          0,
          0,
          0,
          0,
          0,
          0,
          -0.9,
          0,
          0,
          0,
          0,
          0,
          0,
          -3,
          -1,
          -0.8333333333333333,
          -1
         ],
         "yaxis": "y"
        },
        {
         "customdata": [
          [
           "trent alexander-arnold"
          ],
          [
           "lucas digne"
          ],
          [
           "virgil van dijk"
          ],
          [
           "patrick van aanholt"
          ],
          [
           "andrew robertson"
          ],
          [
           "kyle walker"
          ],
          [
           "erik pieters"
          ],
          [
           "aymeric laporte"
          ],
          [
           "michael keane"
          ],
          [
           "ricardo domingos barbosa pereira"
          ],
          [
           "john lundstram"
          ],
          [
           "fabian schär"
          ],
          [
           "joel matip"
          ],
          [
           "seamus coleman"
          ],
          [
           "jannik vestergaard"
          ],
          [
           "willy boly"
          ],
          [
           "marcos alonso"
          ],
          [
           "yerry mina"
          ],
          [
           "matt doherty"
          ],
          [
           "benjamin chilwell"
          ],
          [
           "enda stevens"
          ],
          [
           "george baldock"
          ],
          [
           "oleksandr zinchenko"
          ],
          [
           "ainsley maitland-niles"
          ],
          [
           "john stones"
          ],
          [
           "tyrone mings"
          ],
          [
           "césar azpilicueta"
          ],
          [
           "nacho monreal"
          ],
          [
           "joel ward"
          ],
          [
           "bjorn engels"
          ],
          [
           "jonny evans"
          ],
          [
           "david luiz moreira marinho"
          ],
          [
           "arthur masuaku"
          ],
          [
           "aaron wan-bissaka"
          ],
          [
           "shane duffy"
          ],
          [
           "nicolás otamendi"
          ],
          [
           "martin kelly"
          ],
          [
           "chris mepham"
          ],
          [
           "luke shaw"
          ],
          [
           "jonathan castro otto"
          ],
          [
           "lewis dunk"
          ],
          [
           "matt ritchie"
          ],
          [
           "jamaal lascelles"
          ],
          [
           "çaglar söyüncü"
          ],
          [
           "james tarkowski"
          ],
          [
           "sokratis papastathopoulos"
          ],
          [
           "kevin danso"
          ],
          [
           "harry maguire"
          ],
          [
           "issa diop"
          ],
          [
           "calum chambers"
          ],
          [
           "romain saïss"
          ],
          [
           "frédéric guilbert"
          ],
          [
           "victor lindelöf"
          ],
          [
           "conor coady"
          ],
          [
           "ben mee"
          ],
          [
           "emil krafth"
          ],
          [
           "scott dann"
          ],
          [
           "paul dummett"
          ],
          [
           "toby alderweireld"
          ],
          [
           "ahmed el mohamady"
          ],
          [
           "neil taylor"
          ],
          [
           "nathan aké"
          ],
          [
           "ryan bennett"
          ],
          [
           "sead kolasinac"
          ],
          [
           "gary cahill"
          ],
          [
           "angelo ogbonna"
          ],
          [
           "jack o'connell"
          ],
          [
           "john egan"
          ],
          [
           "chris basham"
          ],
          [
           "jan bednarek"
          ],
          [
           "jan vertonghen"
          ],
          [
           "ryan fredericks"
          ],
          [
           "mamadou sakho"
          ],
          [
           "matthew lowton"
          ],
          [
           "ben davies"
          ],
          [
           "joseph gomez"
          ],
          [
           "danny rose"
          ],
          [
           "wes morgan"
          ],
          [
           "dan burn"
          ],
          [
           "davinson sánchez"
          ],
          [
           "steve cook"
          ],
          [
           "charlie daniels"
          ],
          [
           "cédric soares"
          ],
          [
           "kurt zouma"
          ],
          [
           "kyle walker-peters"
          ],
          [
           "adam smith"
          ],
          [
           "daryl janmaat"
          ],
          [
           "javier manquillo"
          ],
          [
           "josé holebas"
          ],
          [
           "ashley young"
          ],
          [
           "federico fernández"
          ],
          [
           "jamal lewis"
          ],
          [
           "jack stephens"
          ],
          [
           "craig cathcart"
          ],
          [
           "francisco femenía far"
          ],
          [
           "yan valery"
          ],
          [
           "phil jagielka"
          ],
          [
           "andreas christensen"
          ],
          [
           "ryan bertrand"
          ],
          [
           "maya yoshida"
          ],
          [
           "diego rico"
          ],
          [
           "fikayo tomori"
          ],
          [
           "mason holgate"
          ],
          [
           "christoph zimmermann"
          ],
          [
           "sam byram"
          ],
          [
           "joão pedro cavaco cancelo"
          ],
          [
           "emerson palmieri dos santos"
          ],
          [
           "jetro willems"
          ],
          [
           "christian fuchs"
          ],
          [
           "martín montoya"
          ],
          [
           "christian kabasele"
          ],
          [
           "bernardo fernandes da silva junior"
          ],
          [
           "ben godfrey"
          ],
          [
           "craig dawson"
          ],
          [
           "grant hanley"
          ],
          [
           "maximillian aarons"
          ]
         ],
         "hoverlabel": {
          "namelength": 0
         },
         "hovertemplate": "Position=Defender<br>Cost=%{x}<br>Points=%{y}<br>Points per Cost=%{marker.size}<br>Full Name=%{customdata[0]}",
         "legendgroup": "Position=Defender",
         "marker": {
          "color": "#00cc96",
          "size": [
           9.088775074690568,
           7.976040353089535,
           10.183150183150182,
           7.11607142857143,
           9.51449275362319,
           7.130630630630631,
           2.173913043478261,
           7.744391025641025,
           5.914004914004914,
           6.326923076923077,
           2.380952380952381,
           5.285714285714286,
           4.725925925925925,
           5.8402203856749315,
           1.9481481481481482,
           5.290000000000001,
           7.734375,
           1.9905462184873952,
           5.91869918699187,
           4.717348927875244,
           1.4,
           1.5555555555555556,
           2.0138888888888893,
           1.647058823529412,
           3.9407407407407407,
           1.2222222222222223,
           6.194511702986278,
           3.528,
           1.5151515151515151,
           1.1111111111111112,
           3.3428571428571425,
           6.831812255541069,
           1.9017094017094014,
           4.37995337995338,
           4.560526315789473,
           3.306878306878306,
           1.2984218077474896,
           1.2430555555555556,
           3.1741898148148144,
           3.5454545454545454,
           2.673913043478261,
           3.6111111111111103,
           3.728395061728395,
           1.0222222222222221,
           2.623076923076923,
           1.6344827586206896,
           0.8888888888888888,
           2.8597402597402595,
           2.5735735735735736,
           0.5656565656565656,
           2.37012987012987,
           0.45454545454545453,
           2.412854030501089,
           1.9571428571428569,
           0.6720930232558139,
           0.6666666666666666,
           1.0740740740740742,
           2.177777777777778,
           3.1445221445221447,
           0.2222222222222222,
           0.2222222222222222,
           3.7269193391642372,
           1.9894736842105263,
           3.0626780626780623,
           0.6666666666666666,
           0.7654320987654322,
           0.4444444444444444,
           0.4444444444444444,
           0.4444444444444444,
           0.47619047619047616,
           2.06726825266612,
           1.1871345029239766,
           3.2785714285714285,
           0,
           1.6677115987460815,
           2.440087145969499,
           2.73939393939394,
           3.4782608695652173,
           0.2222222222222222,
           2.242424242424242,
           1.8142857142857143,
           0.608695652173913,
           1.8367346938775508,
           3.690016547159405,
           1.0884353741496597,
           1.7279693486590038,
           1.7224880382775116,
           2.4545454545454546,
           3.2123655913978495,
           1.290509259259259,
           1.3365800865800865,
           0,
           0.5363636363636363,
           1.9772727272727268,
           1.34297520661157,
           0.945839874411303,
           1.1931818181818181,
           0.2,
           0.533751962323391,
           0.8911483253588517,
           0,
           0,
           0,
           0,
           0,
           0,
           0,
           0,
           0,
           0,
           0,
           0,
           0,
           0,
           0,
           0
          ],
          "sizemode": "area",
          "sizeref": 0.025457875457875458,
          "symbol": "circle"
         },
         "mode": "markers",
         "name": "Position=Defender",
         "showlegend": true,
         "type": "scatter",
         "x": [
          7.1,
          6.1,
          6.5,
          5.6,
          6.9,
          6,
          4.6,
          6.4,
          5.5,
          6,
          4.2,
          5,
          5.4,
          5.5,
          5,
          5,
          6.2,
          5.6,
          6,
          5.4,
          5,
          4.5,
          5.6,
          5.1,
          5.4,
          4.5,
          5.9,
          5,
          4.5,
          4.5,
          5,
          5.9,
          4.5,
          5.5,
          5,
          5.4,
          4.1,
          4.5,
          5.4,
          5.5,
          4.6,
          5.4,
          4.5,
          4.5,
          5,
          5,
          4.5,
          5.5,
          4.5,
          4.5,
          4.4,
          4.4,
          5.4,
          5,
          5,
          4.5,
          4.5,
          4.5,
          5.5,
          4.5,
          4.5,
          4.9,
          5,
          5.4,
          4.5,
          4.5,
          4.5,
          4.5,
          4.5,
          4.5,
          5.3,
          4.5,
          5,
          4.5,
          5.5,
          5.4,
          5.5,
          4.4,
          4.5,
          5.5,
          5,
          4.5,
          4.9,
          4.9,
          4.9,
          4.5,
          4.4,
          4.4,
          4.8,
          5.4,
          4.4,
          4.5,
          4.4,
          4.4,
          4.4,
          4.9,
          4.4,
          5,
          4.9,
          4.4,
          4,
          4.5,
          4.5,
          4.5,
          4.4,
          5.4,
          5.5,
          4.5,
          4.5,
          4.5,
          4.4,
          4.4,
          4.5,
          4.9,
          4,
          4.5
         ],
         "xaxis": "x",
         "y": [
          64.53030303030303,
          48.65384615384616,
          66.19047619047619,
          39.85,
          65.65,
          42.78378378378379,
          10,
          49.56410256410256,
          32.527027027027025,
          37.96153846153846,
          10,
          26.428571428571427,
          25.52,
          32.121212121212125,
          9.74074074074074,
          26.450000000000003,
          47.953125,
          11.147058823529413,
          35.51219512195122,
          25.473684210526315,
          7,
          7,
          11.277777777777779,
          8.4,
          21.28,
          5.5,
          36.547619047619044,
          17.64,
          6.818181818181818,
          5,
          16.71428571428571,
          40.307692307692314,
          8.557692307692307,
          24.08974358974359,
          22.802631578947366,
          17.857142857142854,
          5.3235294117647065,
          5.59375,
          17.140625,
          19.5,
          12.3,
          19.499999999999996,
          16.77777777777778,
          4.6,
          13.115384615384615,
          8.172413793103448,
          4,
          15.728571428571428,
          11.58108108108108,
          2.5454545454545454,
          10.428571428571429,
          2,
          13.029411764705882,
          9.785714285714285,
          3.3604651162790695,
          3,
          4.833333333333334,
          9.8,
          17.294871794871796,
          1,
          1,
          18.261904761904763,
          9.947368421052632,
          16.538461538461537,
          3,
          3.4444444444444446,
          2,
          2,
          2,
          2.142857142857143,
          10.956521739130435,
          5.342105263157895,
          16.392857142857142,
          -1.36,
          9.172413793103448,
          13.176470588235293,
          15.06666666666667,
          15.304347826086957,
          1,
          12.333333333333332,
          9.071428571428571,
          2.7391304347826084,
          9,
          18.081081081081084,
          5.333333333333333,
          7.775862068965517,
          7.578947368421052,
          10.8,
          15.419354838709678,
          6.96875,
          5.880952380952381,
          0,
          2.36,
          8.7,
          5.909090909090909,
          4.634615384615385,
          5.25,
          1,
          2.615384615384616,
          3.921052631578948,
          -3.6666666666666665,
          -1,
          -1.6666666666666667,
          0,
          0,
          0,
          -0.7857142857142854,
          0,
          -0.5,
          -1.7241379310344827,
          -0.9545454545454546,
          -1.4583333333333333,
          -4,
          -3,
          -5,
          -6
         ],
         "yaxis": "y"
        },
        {
         "customdata": [
          [
           "ederson santana de moraes"
          ],
          [
           "jordan pickford"
          ],
          [
           "rui pedro dos santos patrício"
          ],
          [
           "hugo lloris"
          ],
          [
           "nick pope"
          ],
          [
           "bernd leno"
          ],
          [
           "lukasz fabianski"
          ],
          [
           "david de gea"
          ],
          [
           "vicente guaita"
          ],
          [
           "alisson ramses becker"
          ],
          [
           "martin dubravka"
          ],
          [
           "dean henderson"
          ],
          [
           "kasper schmeichel"
          ],
          [
           "angus gunn"
          ],
          [
           "ben foster"
          ],
          [
           "mathew ryan"
          ],
          [
           "tom heaton"
          ],
          [
           "adrián san miguel del castillo"
          ],
          [
           "kepa arrizabalaga"
          ],
          [
           "aaron ramsdale"
          ],
          [
           "tim krul"
          ]
         ],
         "hoverlabel": {
          "namelength": 0
         },
         "hovertemplate": "Position=Goalkeeper<br>Cost=%{x}<br>Points=%{y}<br>Points per Cost=%{marker.size}<br>Full Name=%{customdata[0]}",
         "legendgroup": "Position=Goalkeeper",
         "marker": {
          "color": "#ab63fa",
          "size": [
           7.704918032786885,
           7.648809523809525,
           5.184122429459589,
           6.707616707616707,
           1.5217391304347827,
           4.488888888888889,
           6.60952380952381,
           4.238945578231293,
           4.316666666666667,
           8.399646330680813,
           5.534883720930233,
           1.3333333333333333,
           4.5285714285714285,
           2.888888888888889,
           5.228377065111759,
           3.9816933638443937,
           2.357487922705314,
           1.0869565217391306,
           5.427272727272728,
           0,
           0
          ],
          "sizemode": "area",
          "sizeref": 0.025457875457875458,
          "symbol": "circle"
         },
         "mode": "markers",
         "name": "Position=Goalkeeper",
         "showlegend": true,
         "type": "scatter",
         "x": [
          6.1,
          5.6,
          5.1,
          5.5,
          4.6,
          5,
          5,
          5.6,
          5,
          5.8,
          5,
          4.5,
          5,
          4.5,
          4.9,
          4.6,
          4.5,
          4.6,
          5.5,
          4.5,
          4.5
         ],
         "xaxis": "x",
         "y": [
          47,
          42.833333333333336,
          26.439024390243905,
          36.89189189189189,
          7,
          22.444444444444443,
          33.04761904761905,
          23.73809523809524,
          21.583333333333336,
          48.717948717948715,
          27.674418604651162,
          6,
          22.642857142857142,
          13,
          25.61904761904762,
          18.31578947368421,
          10.608695652173912,
          5,
          29.85,
          0,
          -1
         ],
         "yaxis": "y"
        }
       ],
       "layout": {
        "height": 600,
        "legend": {
         "itemsizing": "constant",
         "tracegroupgap": 0
        },
        "margin": {
         "t": 60
        },
        "template": {
         "data": {
          "bar": [
           {
            "error_x": {
             "color": "#2a3f5f"
            },
            "error_y": {
             "color": "#2a3f5f"
            },
            "marker": {
             "line": {
              "color": "#E5ECF6",
              "width": 0.5
             }
            },
            "type": "bar"
           }
          ],
          "barpolar": [
           {
            "marker": {
             "line": {
              "color": "#E5ECF6",
              "width": 0.5
             }
            },
            "type": "barpolar"
           }
          ],
          "carpet": [
           {
            "aaxis": {
             "endlinecolor": "#2a3f5f",
             "gridcolor": "white",
             "linecolor": "white",
             "minorgridcolor": "white",
             "startlinecolor": "#2a3f5f"
            },
            "baxis": {
             "endlinecolor": "#2a3f5f",
             "gridcolor": "white",
             "linecolor": "white",
             "minorgridcolor": "white",
             "startlinecolor": "#2a3f5f"
            },
            "type": "carpet"
           }
          ],
          "choropleth": [
           {
            "colorbar": {
             "outlinewidth": 0,
             "ticks": ""
            },
            "type": "choropleth"
           }
          ],
          "contour": [
           {
            "colorbar": {
             "outlinewidth": 0,
             "ticks": ""
            },
            "colorscale": [
             [
              0,
              "#0d0887"
             ],
             [
              0.1111111111111111,
              "#46039f"
             ],
             [
              0.2222222222222222,
              "#7201a8"
             ],
             [
              0.3333333333333333,
              "#9c179e"
             ],
             [
              0.4444444444444444,
              "#bd3786"
             ],
             [
              0.5555555555555556,
              "#d8576b"
             ],
             [
              0.6666666666666666,
              "#ed7953"
             ],
             [
              0.7777777777777778,
              "#fb9f3a"
             ],
             [
              0.8888888888888888,
              "#fdca26"
             ],
             [
              1,
              "#f0f921"
             ]
            ],
            "type": "contour"
           }
          ],
          "contourcarpet": [
           {
            "colorbar": {
             "outlinewidth": 0,
             "ticks": ""
            },
            "type": "contourcarpet"
           }
          ],
          "heatmap": [
           {
            "colorbar": {
             "outlinewidth": 0,
             "ticks": ""
            },
            "colorscale": [
             [
              0,
              "#0d0887"
             ],
             [
              0.1111111111111111,
              "#46039f"
             ],
             [
              0.2222222222222222,
              "#7201a8"
             ],
             [
              0.3333333333333333,
              "#9c179e"
             ],
             [
              0.4444444444444444,
              "#bd3786"
             ],
             [
              0.5555555555555556,
              "#d8576b"
             ],
             [
              0.6666666666666666,
              "#ed7953"
             ],
             [
              0.7777777777777778,
              "#fb9f3a"
             ],
             [
              0.8888888888888888,
              "#fdca26"
             ],
             [
              1,
              "#f0f921"
             ]
            ],
            "type": "heatmap"
           }
          ],
          "heatmapgl": [
           {
            "colorbar": {
             "outlinewidth": 0,
             "ticks": ""
            },
            "colorscale": [
             [
              0,
              "#0d0887"
             ],
             [
              0.1111111111111111,
              "#46039f"
             ],
             [
              0.2222222222222222,
              "#7201a8"
             ],
             [
              0.3333333333333333,
              "#9c179e"
             ],
             [
              0.4444444444444444,
              "#bd3786"
             ],
             [
              0.5555555555555556,
              "#d8576b"
             ],
             [
              0.6666666666666666,
              "#ed7953"
             ],
             [
              0.7777777777777778,
              "#fb9f3a"
             ],
             [
              0.8888888888888888,
              "#fdca26"
             ],
             [
              1,
              "#f0f921"
             ]
            ],
            "type": "heatmapgl"
           }
          ],
          "histogram": [
           {
            "marker": {
             "colorbar": {
              "outlinewidth": 0,
              "ticks": ""
             }
            },
            "type": "histogram"
           }
          ],
          "histogram2d": [
           {
            "colorbar": {
             "outlinewidth": 0,
             "ticks": ""
            },
            "colorscale": [
             [
              0,
              "#0d0887"
             ],
             [
              0.1111111111111111,
              "#46039f"
             ],
             [
              0.2222222222222222,
              "#7201a8"
             ],
             [
              0.3333333333333333,
              "#9c179e"
             ],
             [
              0.4444444444444444,
              "#bd3786"
             ],
             [
              0.5555555555555556,
              "#d8576b"
             ],
             [
              0.6666666666666666,
              "#ed7953"
             ],
             [
              0.7777777777777778,
              "#fb9f3a"
             ],
             [
              0.8888888888888888,
              "#fdca26"
             ],
             [
              1,
              "#f0f921"
             ]
            ],
            "type": "histogram2d"
           }
          ],
          "histogram2dcontour": [
           {
            "colorbar": {
             "outlinewidth": 0,
             "ticks": ""
            },
            "colorscale": [
             [
              0,
              "#0d0887"
             ],
             [
              0.1111111111111111,
              "#46039f"
             ],
             [
              0.2222222222222222,
              "#7201a8"
             ],
             [
              0.3333333333333333,
              "#9c179e"
             ],
             [
              0.4444444444444444,
              "#bd3786"
             ],
             [
              0.5555555555555556,
              "#d8576b"
             ],
             [
              0.6666666666666666,
              "#ed7953"
             ],
             [
              0.7777777777777778,
              "#fb9f3a"
             ],
             [
              0.8888888888888888,
              "#fdca26"
             ],
             [
              1,
              "#f0f921"
             ]
            ],
            "type": "histogram2dcontour"
           }
          ],
          "mesh3d": [
           {
            "colorbar": {
             "outlinewidth": 0,
             "ticks": ""
            },
            "type": "mesh3d"
           }
          ],
          "parcoords": [
           {
            "line": {
             "colorbar": {
              "outlinewidth": 0,
              "ticks": ""
             }
            },
            "type": "parcoords"
           }
          ],
          "scatter": [
           {
            "marker": {
             "colorbar": {
              "outlinewidth": 0,
              "ticks": ""
             }
            },
            "type": "scatter"
           }
          ],
          "scatter3d": [
           {
            "line": {
             "colorbar": {
              "outlinewidth": 0,
              "ticks": ""
             }
            },
            "marker": {
             "colorbar": {
              "outlinewidth": 0,
              "ticks": ""
             }
            },
            "type": "scatter3d"
           }
          ],
          "scattercarpet": [
           {
            "marker": {
             "colorbar": {
              "outlinewidth": 0,
              "ticks": ""
             }
            },
            "type": "scattercarpet"
           }
          ],
          "scattergeo": [
           {
            "marker": {
             "colorbar": {
              "outlinewidth": 0,
              "ticks": ""
             }
            },
            "type": "scattergeo"
           }
          ],
          "scattergl": [
           {
            "marker": {
             "colorbar": {
              "outlinewidth": 0,
              "ticks": ""
             }
            },
            "type": "scattergl"
           }
          ],
          "scattermapbox": [
           {
            "marker": {
             "colorbar": {
              "outlinewidth": 0,
              "ticks": ""
             }
            },
            "type": "scattermapbox"
           }
          ],
          "scatterpolar": [
           {
            "marker": {
             "colorbar": {
              "outlinewidth": 0,
              "ticks": ""
             }
            },
            "type": "scatterpolar"
           }
          ],
          "scatterpolargl": [
           {
            "marker": {
             "colorbar": {
              "outlinewidth": 0,
              "ticks": ""
             }
            },
            "type": "scatterpolargl"
           }
          ],
          "scatterternary": [
           {
            "marker": {
             "colorbar": {
              "outlinewidth": 0,
              "ticks": ""
             }
            },
            "type": "scatterternary"
           }
          ],
          "surface": [
           {
            "colorbar": {
             "outlinewidth": 0,
             "ticks": ""
            },
            "colorscale": [
             [
              0,
              "#0d0887"
             ],
             [
              0.1111111111111111,
              "#46039f"
             ],
             [
              0.2222222222222222,
              "#7201a8"
             ],
             [
              0.3333333333333333,
              "#9c179e"
             ],
             [
              0.4444444444444444,
              "#bd3786"
             ],
             [
              0.5555555555555556,
              "#d8576b"
             ],
             [
              0.6666666666666666,
              "#ed7953"
             ],
             [
              0.7777777777777778,
              "#fb9f3a"
             ],
             [
              0.8888888888888888,
              "#fdca26"
             ],
             [
              1,
              "#f0f921"
             ]
            ],
            "type": "surface"
           }
          ],
          "table": [
           {
            "cells": {
             "fill": {
              "color": "#EBF0F8"
             },
             "line": {
              "color": "white"
             }
            },
            "header": {
             "fill": {
              "color": "#C8D4E3"
             },
             "line": {
              "color": "white"
             }
            },
            "type": "table"
           }
          ]
         },
         "layout": {
          "annotationdefaults": {
           "arrowcolor": "#2a3f5f",
           "arrowhead": 0,
           "arrowwidth": 1
          },
          "colorscale": {
           "diverging": [
            [
             0,
             "#8e0152"
            ],
            [
             0.1,
             "#c51b7d"
            ],
            [
             0.2,
             "#de77ae"
            ],
            [
             0.3,
             "#f1b6da"
            ],
            [
             0.4,
             "#fde0ef"
            ],
            [
             0.5,
             "#f7f7f7"
            ],
            [
             0.6,
             "#e6f5d0"
            ],
            [
             0.7,
             "#b8e186"
            ],
            [
             0.8,
             "#7fbc41"
            ],
            [
             0.9,
             "#4d9221"
            ],
            [
             1,
             "#276419"
            ]
           ],
           "sequential": [
            [
             0,
             "#0d0887"
            ],
            [
             0.1111111111111111,
             "#46039f"
            ],
            [
             0.2222222222222222,
             "#7201a8"
            ],
            [
             0.3333333333333333,
             "#9c179e"
            ],
            [
             0.4444444444444444,
             "#bd3786"
            ],
            [
             0.5555555555555556,
             "#d8576b"
            ],
            [
             0.6666666666666666,
             "#ed7953"
            ],
            [
             0.7777777777777778,
             "#fb9f3a"
            ],
            [
             0.8888888888888888,
             "#fdca26"
            ],
            [
             1,
             "#f0f921"
            ]
           ],
           "sequentialminus": [
            [
             0,
             "#0d0887"
            ],
            [
             0.1111111111111111,
             "#46039f"
            ],
            [
             0.2222222222222222,
             "#7201a8"
            ],
            [
             0.3333333333333333,
             "#9c179e"
            ],
            [
             0.4444444444444444,
             "#bd3786"
            ],
            [
             0.5555555555555556,
             "#d8576b"
            ],
            [
             0.6666666666666666,
             "#ed7953"
            ],
            [
             0.7777777777777778,
             "#fb9f3a"
            ],
            [
             0.8888888888888888,
             "#fdca26"
            ],
            [
             1,
             "#f0f921"
            ]
           ]
          },
          "colorway": [
           "#636efa",
           "#EF553B",
           "#00cc96",
           "#ab63fa",
           "#FFA15A",
           "#19d3f3",
           "#FF6692",
           "#B6E880",
           "#FF97FF",
           "#FECB52"
          ],
          "font": {
           "color": "#2a3f5f"
          },
          "geo": {
           "bgcolor": "white",
           "lakecolor": "white",
           "landcolor": "#E5ECF6",
           "showlakes": true,
           "showland": true,
           "subunitcolor": "white"
          },
          "hoverlabel": {
           "align": "left"
          },
          "hovermode": "closest",
          "mapbox": {
           "style": "light"
          },
          "paper_bgcolor": "white",
          "plot_bgcolor": "#E5ECF6",
          "polar": {
           "angularaxis": {
            "gridcolor": "white",
            "linecolor": "white",
            "ticks": ""
           },
           "bgcolor": "#E5ECF6",
           "radialaxis": {
            "gridcolor": "white",
            "linecolor": "white",
            "ticks": ""
           }
          },
          "scene": {
           "xaxis": {
            "backgroundcolor": "#E5ECF6",
            "gridcolor": "white",
            "gridwidth": 2,
            "linecolor": "white",
            "showbackground": true,
            "ticks": "",
            "zerolinecolor": "white"
           },
           "yaxis": {
            "backgroundcolor": "#E5ECF6",
            "gridcolor": "white",
            "gridwidth": 2,
            "linecolor": "white",
            "showbackground": true,
            "ticks": "",
            "zerolinecolor": "white"
           },
           "zaxis": {
            "backgroundcolor": "#E5ECF6",
            "gridcolor": "white",
            "gridwidth": 2,
            "linecolor": "white",
            "showbackground": true,
            "ticks": "",
            "zerolinecolor": "white"
           }
          },
          "shapedefaults": {
           "line": {
            "color": "#2a3f5f"
           }
          },
          "ternary": {
           "aaxis": {
            "gridcolor": "white",
            "linecolor": "white",
            "ticks": ""
           },
           "baxis": {
            "gridcolor": "white",
            "linecolor": "white",
            "ticks": ""
           },
           "bgcolor": "#E5ECF6",
           "caxis": {
            "gridcolor": "white",
            "linecolor": "white",
            "ticks": ""
           }
          },
          "title": {
           "x": 0.05
          },
          "xaxis": {
           "automargin": true,
           "gridcolor": "white",
           "linecolor": "white",
           "ticks": "",
           "zerolinecolor": "white",
           "zerolinewidth": 2
          },
          "yaxis": {
           "automargin": true,
           "gridcolor": "white",
           "linecolor": "white",
           "ticks": "",
           "zerolinecolor": "white",
           "zerolinewidth": 2
          }
         }
        },
        "title": {
         "text": "Effective Points vs Cost"
        },
        "xaxis": {
         "anchor": "y",
         "domain": [
          0,
          0.98
         ],
         "title": {
          "text": "Cost"
         }
        },
        "yaxis": {
         "anchor": "x",
         "domain": [
          0,
          1
         ],
         "title": {
          "text": "Points"
         }
        }
       }
      },
      "text/html": [
       "<div>\n",
       "        \n",
       "        \n",
       "            <div id=\"3643afa7-54d2-4df9-a0b1-5d4b81ce8866\" class=\"plotly-graph-div\" style=\"height:600px; width:100%;\"></div>\n",
       "            <script type=\"text/javascript\">\n",
       "                require([\"plotly\"], function(Plotly) {\n",
       "                    window.PLOTLYENV=window.PLOTLYENV || {};\n",
       "                    \n",
       "                if (document.getElementById(\"3643afa7-54d2-4df9-a0b1-5d4b81ce8866\")) {\n",
       "                    Plotly.newPlot(\n",
       "                        '3643afa7-54d2-4df9-a0b1-5d4b81ce8866',\n",
       "                        [{\"customdata\": [[\"sergio ag\\u00fcero\"], [\"teemu pukki\"], [\"pierre-emerick aubameyang\"], [\"tammy abraham\"], [\"jamie vardy\"], [\"roberto firmino\"], [\"harry kane\"], [\"callum wilson\"], [\"s\\u00e9bastien haller\"], [\"ashley barnes\"], [\"alexandre lacazette\"], [\"ra\\u00fal jim\\u00e9nez\"], [\"marcus rashford\"], [\"joshua king\"], [\"jordan ayew\"], [\"wesley moraes\"], [\"danny ings\"], [\"andre gray\"], [\"javier hern\\u00e1ndez balc\\u00e1zar\"], [\"divock origi\"], [\"gabriel fernando de jesus\"], [\"billy sharp\"], [\"diogo jota\"], [\"joelinton c\\u00e1ssio apolin\\u00e1rio de lira\"], [\"chris wood\"], [\"gerard deulofeu\"], [\"glenn murray\"], [\"neal maupay\"], [\"troy deeney\"], [\"moise kean\"], [\"oliver mcburnie\"], [\"dominic calvert-lewin\"], [\"michy batshuayi\"], [\"florin andone\"], [\"olivier giroud\"], [\"shane long\"], [\"dominic solanke\"], [\"j\\u00fcrgen locadia\"], [\"christian benteke\"], [\"danny welbeck\"], [\"isaac success ajayi\"], [\"michael obafemi\"], [\"jay rodriguez\"], [\"yoshinori muto\"], [\"jonathan kodjia\"], [\"lys mousset\"], [\"gabriel teodoro martinelli silva\"], [\"dennis srbeny\"], [\"josip drmic\"], [\"che adams\"], [\"connor wickham\"], [\"david mcgoldrick\"], [\"mason greenwood\"], [\"aaron connolly\"], [\"patrick cutrone\"]], \"hoverlabel\": {\"namelength\": 0}, \"hovertemplate\": \"Position=Forward<br>Cost=%{x}<br>Points=%{y}<br>Points per Cost=%{marker.size}<br>Full Name=%{customdata[0]}\", \"legendgroup\": \"Position=Forward\", \"marker\": {\"color\": \"#636efa\", \"size\": [6.6339066339066335, 4.142857142857143, 6.586363636363637, 2.9166666666666665, 6.771141336487284, 5.626038781163435, 4.943181818181818, 7.024886877828054, 2.2666666666666666, 5.597014925373134, 5.709686450167974, 7.403474903474903, 4.467408585055644, 5.392628205128204, 2.57459505541347, 1.1666666666666667, 4.1190476190476195, 3.697996918335901, 4.2407407407407405, 2.2545454545454544, 2.3412563667232598, 1.1864406779661016, 5.7335907335907335, 0.847457627118644, 4.433370247323736, 5.6722689075630255, 5.147783251231528, 0.8333333333333334, 4.257703081232493, 0.4411764705882353, 0.6779661016949152, 2.872664059104737, 1.9154228855721391, 1.016, 1.394686907020873, 2.808641975308642, 0.1984126984126984, 1.1177248677248677, 0.6101694915254237, 0.6666666666666666, 0.2869897959183673, 0.5142857142857142, 0.0, 0.23611111111111108, 0.0, 0.2933673469387755, 0.0, 0.0, 0.0, 0.0, 0.25, 0.0, 0.0, 0.0, 0.0], \"sizemode\": \"area\", \"sizeref\": 0.025457875457875458, \"symbol\": \"circle\"}, \"mode\": \"markers\", \"name\": \"Position=Forward\", \"showlegend\": true, \"type\": \"scatter\", \"x\": [12.1, 7.0, 11.0, 7.2, 8.9, 9.5, 11.0, 7.8, 7.5, 6.7, 9.4, 7.4, 8.5, 6.4, 5.1, 6.0, 6.0, 5.9, 6.0, 5.5, 9.5, 5.9, 6.3, 5.9, 6.3, 6.3, 5.8, 6.0, 6.3, 6.8, 5.9, 5.9, 6.7, 5.0, 6.8, 4.8, 5.4, 5.4, 5.9, 6.0, 4.9, 5.0, 5.8, 5.4, 5.4, 4.9, 4.5, 5.4, 5.4, 5.8, 4.5, 5.5, 4.5, 4.5, 5.8], \"xaxis\": \"x\", \"y\": [80.27027027027026, 29.0, 72.45, 21.0, 60.263157894736835, 53.44736842105263, 54.375, 54.79411764705882, 17.0, 37.5, 53.67105263157895, 54.785714285714285, 37.972972972972975, 34.51282051282051, 13.130434782608695, 7.0, 24.714285714285715, 21.818181818181817, 25.444444444444443, 12.4, 22.241935483870968, 7.0, 36.12162162162162, 5.0, 27.930232558139533, 35.73529411764706, 29.857142857142858, 5.0, 26.823529411764707, 3.0, 4.0, 16.94871794871795, 12.833333333333332, 5.08, 9.483870967741936, 13.481481481481481, 1.0714285714285714, 6.035714285714286, 3.6, 4.0, 1.40625, 2.571428571428571, 0.0, 1.275, 0.0, 1.4375, 0.0, 0.0, 0.0, 0.0, 1.125, 0.0, 0.0, 0.0, 0.0], \"yaxis\": \"y\"}, {\"customdata\": [[\"raheem sterling\"], [\"mohamed salah\"], [\"sadio man\\u00e9\"], [\"kevin de bruyne\"], [\"david silva\"], [\"richarlison de andrade\"], [\"mason mount\"], [\"todd cantwell\"], [\"daniel james\"], [\"anthony martial\"], [\"gylfi sigurdsson\"], [\"riyad mahrez\"], [\"harry wilson\"], [\"christian eriksen\"], [\"lucas rodrigues moura da silva\"], [\"heung-min son\"], [\"ryan fraser\"], [\"paul pogba\"], [\"tanguy ndombele\"], [\"bernardo mota veiga de carvalho e silva\"], [\"erik lamela\"], [\"john mcginn\"], [\"james maddison\"], [\"youri tielemans\"], [\"nathan redmond\"], [\"johann berg gudmundsson\"], [\"douglas luiz soares de paulo\"], [\"daniel ceballos fern\\u00e1ndez\"], [\"callum robinson\"], [\"dwight mcneil\"], [\"bernard an\\u00edcio caldeira duarte\"], [\"felipe anderson pereira gomes\"], [\"will hughes\"], [\"alex iwobi\"], [\"mark noble\"], [\"jo\\u00e3o filipe iria santos moutinho\"], [\"christian pulisic\"], [\"manuel lanzini\"], [\"jeffrey schlupp\"], [\"ayoze p\\u00e9rez\"], [\"michail antonio\"], [\"emiliano buend\\u00eda\"], [\"wilfred ndidi\"], [\"ashley westwood\"], [\"luka milivojevic\"], [\"r\\u00faben diogo da silva neves\"], [\"james milner\"], [\"anwar el ghazi\"], [\"pedro rodr\\u00edguez ledesma\"], [\"andros townsend\"], [\"jack grealish\"], [\"lucas torreira\"], [\"scott mctominay\"], [\"pascal gro\\u00df\"], [\"wilfried zaha\"], [\"james mcarthur\"], [\"leandro trossard\"], [\"georginio wijnaldum\"], [\"moussa sissoko\"], [\"isaac hayden\"], [\"jonjo shelvey\"], [\"nicolas p\\u00e9p\\u00e9\"], [\"jorge luiz frello filho\"], [\"ilkay g\\u00fcndogan\"], [\"jos\\u00e9 ignacio peleteiro romallo\"], [\"fabio henrique tavares\"], [\"andriy yarmolenko\"], [\"henrikh mkhitaryan\"], [\"bamidele alli\"], [\"mateo kovacic\"], [\"willian borges da silva\"], [\"harvey barnes\"], [\"solomon march\"], [\"matteo guendouzi\"], [\"ross barkley\"], [\"rodrigo hernandez\"], [\"davy pr\\u00f6pper\"], [\"n'golo kant\\u00e9\"], [\"theo walcott\"], [\"jack cork\"], [\"roberto pereyra\"], [\"xherdan shaqiri\"], [\"christian atsu\"], [\"james ward-prowse\"], [\"granit xhaka\"], [\"jordan henderson\"], [\"sean longstaff\"], [\"jean-philippe gbamin\"], [\"tom trybull\"], [\"joseph willock\"], [\"sofiane boufal\"], [\"moussa djenepo\"], [\"cheikhou kouyat\\u00e9\"], [\"andreas pereira\"], [\"abdoulaye doucour\\u00e9\"], [\"fernando luiz rosa\"], [\"leander dendoncker\"], [\"jesse lingard\"], [\"jeff hendrick\"], [\"dale stephens\"], [\"oliver norwood\"], [\"pierre-emile h\\u00f8jbjerg\"], [\"hamza choudhury\"], [\"demarai gray\"], [\"declan rice\"], [\"andr\\u00e9 filipe tavares gomes\"], [\"juan mata\"], [\"jefferson lerma\"], [\"stuart armstrong\"], [\"aaron mooy\"], [\"robert snodgrass\"], [\"max meyer\"], [\"philip billing\"], [\"jordon ibe\"], [\"harry winks\"], [\"phil foden\"], [\"andrew surman\"], [\"aaron lennon\"], [\"sung-yueng ki\"], [\"etienne capoue\"], [\"oliver skipp\"], [\"morgan schneiderlin\"], [\"miguel almir\\u00f3n\"], [\"marco stiepermann\"], [\"oriol romeu vidal\"], [\"marc albrighton\"], [\"tom cleverley\"], [\"morgan gibbs-white\"], [\"adama traor\\u00e9\"], [\"nampalys mendy\"], [\"georges-k\\u00e9vin nkoudou\"], [\"nemanja matic\"], [\"reiss nelson\"], [\"adam lallana\"], [\"tom davies\"], [\"domingos quina\"], [\"jack wilshere\"], [\"moritz leitner\"], [\"conor hourihane\"], [\"keinan davis\"], [\"henri lansbury\"], [\"giovani lo celso\"], [\"billy gilmour\"], [\"mario vrancic\"], [\"onel hern\\u00e1ndez\"], [\"kenny mclean\"], [\"alexander tettey\"], [\"ibrahim amadou\"], [\"luke freeman\"], [\"carlos s\\u00e1nchez\"], [\"alex oxlade-chamberlain\"], [\"nathaniel chalobah\"], [\"pablo fornals\"], [\"ravel morrison\"], [\"ben osborn\"], [\"dennis praet\"], [\"allan saint-maximin\"], [\"isma\\u00efla sarr\"], [\"mahmoud ahmed ibrahim hassan\"], [\"john fleck\"], [\"james mccarthy\"], [\"pedro lomba neto\"]], \"hoverlabel\": {\"namelength\": 0}, \"hovertemplate\": \"Position=Midfielder<br>Cost=%{x}<br>Points=%{y}<br>Points per Cost=%{marker.size}<br>Full Name=%{customdata[0]}\", \"legendgroup\": \"Position=Midfielder\", \"marker\": {\"color\": \"#EF553B\", \"size\": [7.449721865639709, 7.885714285714287, 7.121739130434783, 2.9835847382431226, 6.1315315315315315, 6.1019149626744555, 2.1875, 2.7083333333333335, 2.295081967213115, 5.487012987012987, 6.672771672771673, 4.0910815939278935, 1.8333333333333333, 5.270979020979021, 5.220077220077219, 5.40829346092504, 6.85583822570124, 6.131221719457013, 1.6666666666666667, 5.552268244575938, 3.760869565217391, 1.6071428571428572, 4.929577464788733, 3.2720588235294117, 5.3155245838172664, 4.127604166666667, 1.7391304347826089, 1.5789473684210527, 1.6981132075471699, 3.293333333333333, 2.82995951417004, 5.919732441471572, 3.4545454545454546, 4.3128721942281265, 4.887878787878789, 4.562770562770563, 0.8, 1.758241758241758, 4.231404958677686, 5.383064516129032, 4.48671497584541, 0.8333333333333334, 2.3571428571428568, 3.9132553606237814, 5.906862745098039, 3.438228438228438, 4.877450980392156, 0.9090909090909091, 4.2272727272727275, 4.923325262308313, 0.6666666666666666, 2.7082184225041366, 1.9600000000000002, 2.8249336870026522, 4.862700228832952, 4.14021164021164, 0.8333333333333334, 3.6270396270396272, 2.1818181818181817, 2.835249042145594, 1.911111111111111, 0.3191489361702127, 2.204878048780488, 4.929919137466307, 0.6779661016949152, 1.7840909090909092, 1.5254237288135593, 3.623188405797101, 2.8044871794871793, 1.4343434343434343, 3.330612244897959, 1.6324710080285458, 3.1344845630559917, 0.1403508771929824, 3.1810344827586206, 0.36363636363636365, 1.5941176470588236, 4.252631578947367, 3.237688237688238, 1.28, 4.489942528735632, 4.114285714285714, 1.4320987654320985, 3.4519774011299433, 2.7517361111111107, 2.04040404040404, 1.0846153846153848, 0.2040816326530612, 0.2222222222222222, 0.2, 0.5454545454545454, 0.5555555555555555, 1.5433673469387754, 0.9666666666666668, 4.047303271441202, 2.2798742138364783, 1.3236714975845412, 2.313508064516129, 1.7059483726150393, 0.9084967320261437, 0.2, 2.530612244897959, 0.45299145299145294, 2.7493261455525606, 2.2824919441460794, 1.1051373954599761, 2.379807692307692, 1.3025210084033614, 2.667824074074074, 2.1700680272108843, 2.361111111111111, 1.4725209080047788, 0.8193548387096774, 0.738581146744412, 0.5818181818181819, 0.8760107816711591, 0.18367346938775508, 0.8571428571428573, 0.5800214822771214, 1.105442176870748, 0.17777777777777778, 0.3333333333333333, 0.5447941888619855, 0.0, 0.29523809523809524, 1.7314814814814814, 0.6632653061224489, 0.5895691609977324, 0.90625, 0.5381944444444444, 0.15, 0.40229885057471265, 0.0, 0.3934624697336562, 0.0, 0.691358024691358, 0.4081632653061224, 0.0, 0.0, 0.0, 0.0, 0.0, 0.0, 0.0, 0.0, 0.0, 0.0, 0.0, 0.0, 0.0, 0.0, 0.0, 0.0, 0.0, 0.0, 0.0, 0.0, 0.0, 0.0, 0.0, 0.0, 0.0], \"sizemode\": \"area\", \"sizeref\": 0.025457875457875458, \"symbol\": \"circle\"}, \"mode\": \"markers\", \"name\": \"Position=Midfielder\", \"showlegend\": true, \"type\": \"scatter\", \"x\": [12.3, 12.5, 11.5, 9.8, 7.5, 7.9, 6.4, 4.8, 6.1, 7.7, 7.8, 8.5, 6.0, 8.8, 7.4, 9.5, 7.3, 8.5, 6.0, 7.8, 6.0, 5.6, 7.1, 6.4, 6.3, 6.0, 4.6, 5.7, 5.3, 6.0, 6.5, 6.9, 5.5, 5.9, 5.0, 5.5, 7.5, 6.5, 5.5, 6.2, 6.9, 6.0, 5.0, 5.4, 6.8, 5.5, 5.4, 5.5, 7.0, 5.9, 6.0, 4.9, 5.0, 6.5, 6.9, 5.4, 6.0, 5.5, 5.0, 4.5, 5.0, 9.4, 5.0, 5.3, 5.9, 5.5, 5.9, 6.9, 8.4, 5.5, 7.0, 5.9, 4.9, 4.5, 5.8, 5.5, 5.0, 5.0, 6.3, 5.0, 5.8, 6.3, 5.4, 5.9, 5.4, 5.5, 5.0, 4.9, 4.5, 5.0, 5.5, 5.4, 4.9, 5.0, 5.8, 5.3, 4.5, 6.4, 5.4, 4.5, 5.0, 4.9, 4.5, 5.3, 4.9, 5.4, 6.4, 4.9, 5.4, 4.9, 5.4, 5.4, 5.0, 4.9, 5.5, 5.3, 4.9, 4.9, 4.9, 4.9, 4.5, 4.5, 5.9, 5.5, 4.5, 5.4, 4.9, 4.9, 5.0, 4.5, 5.0, 4.8, 5.4, 5.9, 5.4, 4.5, 4.9, 4.5, 5.8, 4.5, 4.4, 7.4, 4.5, 6.3, 5.3, 4.9, 4.5, 4.5, 5.4, 4.5, 6.4, 4.5, 6.3, 4.9, 4.9, 5.4, 5.4, 6.4, 5.4, 4.9, 4.5, 5.0], \"xaxis\": \"x\", \"y\": [91.63157894736842, 98.57142857142858, 81.9, 29.239130434782606, 45.986486486486484, 48.205128205128204, 14.0, 13.0, 14.0, 42.25, 52.04761904761905, 34.774193548387096, 11.0, 46.38461538461539, 38.628571428571426, 51.37878787878788, 50.04761904761905, 52.11538461538461, 10.0, 43.307692307692314, 22.565217391304348, 9.0, 35.0, 20.941176470588236, 33.48780487804878, 24.765625, 8.0, 9.0, 9.0, 19.759999999999998, 18.39473684210526, 40.84615384615385, 19.0, 25.445945945945947, 24.43939393939394, 25.095238095238095, 6.0, 11.428571428571427, 23.272727272727273, 33.375, 30.958333333333332, 5.0, 11.785714285714285, 21.13157894736842, 40.166666666666664, 18.91025641025641, 26.338235294117645, 5.0, 29.590909090909093, 29.047619047619047, 4.0, 13.27027027027027, 9.8, 18.36206896551724, 33.55263157894737, 22.357142857142858, 5.0, 19.94871794871795, 10.909090909090908, 12.758620689655173, 9.555555555555555, 3.0, 11.02439024390244, 26.128571428571426, 4.0, 9.8125, 9.0, 25.0, 23.557692307692307, 7.888888888888888, 23.314285714285713, 9.631578947368421, 15.35897435897436, 0.6315789473684208, 18.45, 2.0, 7.970588235294118, 21.26315789473684, 20.397435897435898, 6.4, 26.041666666666664, 25.919999999999998, 7.7333333333333325, 20.366666666666667, 14.859375, 11.222222222222221, 5.423076923076923, 1.0, 1.0, 1.0, 3.0, 3.0, 7.5625, 4.833333333333334, 23.474358974358974, 12.083333333333334, 5.9565217391304355, 14.806451612903226, 9.212121212121213, 4.088235294117647, 1.0, 12.399999999999999, 2.0384615384615383, 14.571428571428571, 11.18421052631579, 5.967741935483871, 15.23076923076923, 6.382352941176471, 14.40625, 10.633333333333333, 12.75, 7.951612903225806, 4.096774193548387, 3.619047619047619, 3.2000000000000006, 4.642857142857143, 0.9, 4.200000000000001, 2.8421052631578947, 5.416666666666666, 0.8, 1.5, 3.2142857142857144, 0.0, 1.3285714285714285, 9.35, 3.25, 2.888888888888889, 4.53125, 2.421875, 0.75, 1.9310344827586208, 0.0, 2.3214285714285716, -0.47058823529411764, 3.1111111111111107, 2.0, -1.0, 0.0, 0.0, 0.0, 0.0, 0.0, 0.0, 0.0, 0.0, 0.0, 0.0, 0.0, 0.0, 0.0, -0.9, 0.0, 0.0, 0.0, 0.0, 0.0, 0.0, -3.0, -1.0, -0.8333333333333333, -1.0], \"yaxis\": \"y\"}, {\"customdata\": [[\"trent alexander-arnold\"], [\"lucas digne\"], [\"virgil van dijk\"], [\"patrick van aanholt\"], [\"andrew robertson\"], [\"kyle walker\"], [\"erik pieters\"], [\"aymeric laporte\"], [\"michael keane\"], [\"ricardo domingos barbosa pereira\"], [\"john lundstram\"], [\"fabian sch\\u00e4r\"], [\"joel matip\"], [\"seamus coleman\"], [\"jannik vestergaard\"], [\"willy boly\"], [\"marcos alonso\"], [\"yerry mina\"], [\"matt doherty\"], [\"benjamin chilwell\"], [\"enda stevens\"], [\"george baldock\"], [\"oleksandr zinchenko\"], [\"ainsley maitland-niles\"], [\"john stones\"], [\"tyrone mings\"], [\"c\\u00e9sar azpilicueta\"], [\"nacho monreal\"], [\"joel ward\"], [\"bjorn engels\"], [\"jonny evans\"], [\"david luiz moreira marinho\"], [\"arthur masuaku\"], [\"aaron wan-bissaka\"], [\"shane duffy\"], [\"nicol\\u00e1s otamendi\"], [\"martin kelly\"], [\"chris mepham\"], [\"luke shaw\"], [\"jonathan castro otto\"], [\"lewis dunk\"], [\"matt ritchie\"], [\"jamaal lascelles\"], [\"\\u00e7aglar s\\u00f6y\\u00fcnc\\u00fc\"], [\"james tarkowski\"], [\"sokratis papastathopoulos\"], [\"kevin danso\"], [\"harry maguire\"], [\"issa diop\"], [\"calum chambers\"], [\"romain sa\\u00efss\"], [\"fr\\u00e9d\\u00e9ric guilbert\"], [\"victor lindel\\u00f6f\"], [\"conor coady\"], [\"ben mee\"], [\"emil krafth\"], [\"scott dann\"], [\"paul dummett\"], [\"toby alderweireld\"], [\"ahmed el mohamady\"], [\"neil taylor\"], [\"nathan ak\\u00e9\"], [\"ryan bennett\"], [\"sead kolasinac\"], [\"gary cahill\"], [\"angelo ogbonna\"], [\"jack o'connell\"], [\"john egan\"], [\"chris basham\"], [\"jan bednarek\"], [\"jan vertonghen\"], [\"ryan fredericks\"], [\"mamadou sakho\"], [\"matthew lowton\"], [\"ben davies\"], [\"joseph gomez\"], [\"danny rose\"], [\"wes morgan\"], [\"dan burn\"], [\"davinson s\\u00e1nchez\"], [\"steve cook\"], [\"charlie daniels\"], [\"c\\u00e9dric soares\"], [\"kurt zouma\"], [\"kyle walker-peters\"], [\"adam smith\"], [\"daryl janmaat\"], [\"javier manquillo\"], [\"jos\\u00e9 holebas\"], [\"ashley young\"], [\"federico fern\\u00e1ndez\"], [\"jamal lewis\"], [\"jack stephens\"], [\"craig cathcart\"], [\"francisco femen\\u00eda far\"], [\"yan valery\"], [\"phil jagielka\"], [\"andreas christensen\"], [\"ryan bertrand\"], [\"maya yoshida\"], [\"diego rico\"], [\"fikayo tomori\"], [\"mason holgate\"], [\"christoph zimmermann\"], [\"sam byram\"], [\"jo\\u00e3o pedro cavaco cancelo\"], [\"emerson palmieri dos santos\"], [\"jetro willems\"], [\"christian fuchs\"], [\"mart\\u00edn montoya\"], [\"christian kabasele\"], [\"bernardo fernandes da silva junior\"], [\"ben godfrey\"], [\"craig dawson\"], [\"grant hanley\"], [\"maximillian aarons\"]], \"hoverlabel\": {\"namelength\": 0}, \"hovertemplate\": \"Position=Defender<br>Cost=%{x}<br>Points=%{y}<br>Points per Cost=%{marker.size}<br>Full Name=%{customdata[0]}\", \"legendgroup\": \"Position=Defender\", \"marker\": {\"color\": \"#00cc96\", \"size\": [9.088775074690568, 7.976040353089535, 10.183150183150182, 7.11607142857143, 9.51449275362319, 7.130630630630631, 2.173913043478261, 7.744391025641025, 5.914004914004914, 6.326923076923077, 2.380952380952381, 5.285714285714286, 4.725925925925925, 5.8402203856749315, 1.9481481481481482, 5.290000000000001, 7.734375, 1.9905462184873952, 5.91869918699187, 4.717348927875244, 1.4, 1.5555555555555556, 2.0138888888888893, 1.647058823529412, 3.9407407407407407, 1.2222222222222223, 6.194511702986278, 3.528, 1.5151515151515151, 1.1111111111111112, 3.3428571428571425, 6.831812255541069, 1.9017094017094014, 4.37995337995338, 4.560526315789473, 3.306878306878306, 1.2984218077474896, 1.2430555555555556, 3.1741898148148144, 3.5454545454545454, 2.673913043478261, 3.6111111111111103, 3.728395061728395, 1.0222222222222221, 2.623076923076923, 1.6344827586206896, 0.8888888888888888, 2.8597402597402595, 2.5735735735735736, 0.5656565656565656, 2.37012987012987, 0.45454545454545453, 2.412854030501089, 1.9571428571428569, 0.6720930232558139, 0.6666666666666666, 1.0740740740740742, 2.177777777777778, 3.1445221445221447, 0.2222222222222222, 0.2222222222222222, 3.7269193391642372, 1.9894736842105263, 3.0626780626780623, 0.6666666666666666, 0.7654320987654322, 0.4444444444444444, 0.4444444444444444, 0.4444444444444444, 0.47619047619047616, 2.06726825266612, 1.1871345029239766, 3.2785714285714285, 0.0, 1.6677115987460815, 2.440087145969499, 2.73939393939394, 3.4782608695652173, 0.2222222222222222, 2.242424242424242, 1.8142857142857143, 0.608695652173913, 1.8367346938775508, 3.690016547159405, 1.0884353741496597, 1.7279693486590038, 1.7224880382775116, 2.4545454545454546, 3.2123655913978495, 1.290509259259259, 1.3365800865800865, 0.0, 0.5363636363636363, 1.9772727272727268, 1.34297520661157, 0.945839874411303, 1.1931818181818181, 0.2, 0.533751962323391, 0.8911483253588517, 0.0, 0.0, 0.0, 0.0, 0.0, 0.0, 0.0, 0.0, 0.0, 0.0, 0.0, 0.0, 0.0, 0.0, 0.0, 0.0], \"sizemode\": \"area\", \"sizeref\": 0.025457875457875458, \"symbol\": \"circle\"}, \"mode\": \"markers\", \"name\": \"Position=Defender\", \"showlegend\": true, \"type\": \"scatter\", \"x\": [7.1, 6.1, 6.5, 5.6, 6.9, 6.0, 4.6, 6.4, 5.5, 6.0, 4.2, 5.0, 5.4, 5.5, 5.0, 5.0, 6.2, 5.6, 6.0, 5.4, 5.0, 4.5, 5.6, 5.1, 5.4, 4.5, 5.9, 5.0, 4.5, 4.5, 5.0, 5.9, 4.5, 5.5, 5.0, 5.4, 4.1, 4.5, 5.4, 5.5, 4.6, 5.4, 4.5, 4.5, 5.0, 5.0, 4.5, 5.5, 4.5, 4.5, 4.4, 4.4, 5.4, 5.0, 5.0, 4.5, 4.5, 4.5, 5.5, 4.5, 4.5, 4.9, 5.0, 5.4, 4.5, 4.5, 4.5, 4.5, 4.5, 4.5, 5.3, 4.5, 5.0, 4.5, 5.5, 5.4, 5.5, 4.4, 4.5, 5.5, 5.0, 4.5, 4.9, 4.9, 4.9, 4.5, 4.4, 4.4, 4.8, 5.4, 4.4, 4.5, 4.4, 4.4, 4.4, 4.9, 4.4, 5.0, 4.9, 4.4, 4.0, 4.5, 4.5, 4.5, 4.4, 5.4, 5.5, 4.5, 4.5, 4.5, 4.4, 4.4, 4.5, 4.9, 4.0, 4.5], \"xaxis\": \"x\", \"y\": [64.53030303030303, 48.65384615384616, 66.19047619047619, 39.85, 65.65, 42.78378378378379, 10.0, 49.56410256410256, 32.527027027027025, 37.96153846153846, 10.0, 26.428571428571427, 25.52, 32.121212121212125, 9.74074074074074, 26.450000000000003, 47.953125, 11.147058823529413, 35.51219512195122, 25.473684210526315, 7.0, 7.0, 11.277777777777779, 8.4, 21.28, 5.5, 36.547619047619044, 17.64, 6.818181818181818, 5.0, 16.71428571428571, 40.307692307692314, 8.557692307692307, 24.08974358974359, 22.802631578947366, 17.857142857142854, 5.3235294117647065, 5.59375, 17.140625, 19.5, 12.3, 19.499999999999996, 16.77777777777778, 4.6, 13.115384615384615, 8.172413793103448, 4.0, 15.728571428571428, 11.58108108108108, 2.5454545454545454, 10.428571428571429, 2.0, 13.029411764705882, 9.785714285714285, 3.3604651162790695, 3.0, 4.833333333333334, 9.8, 17.294871794871796, 1.0, 1.0, 18.261904761904763, 9.947368421052632, 16.538461538461537, 3.0, 3.4444444444444446, 2.0, 2.0, 2.0, 2.142857142857143, 10.956521739130435, 5.342105263157895, 16.392857142857142, -1.36, 9.172413793103448, 13.176470588235293, 15.06666666666667, 15.304347826086957, 1.0, 12.333333333333332, 9.071428571428571, 2.7391304347826084, 9.0, 18.081081081081084, 5.333333333333333, 7.775862068965517, 7.578947368421052, 10.8, 15.419354838709678, 6.96875, 5.880952380952381, 0.0, 2.36, 8.7, 5.909090909090909, 4.634615384615385, 5.25, 1.0, 2.615384615384616, 3.921052631578948, -3.6666666666666665, -1.0, -1.6666666666666667, 0.0, 0.0, 0.0, -0.7857142857142854, 0.0, -0.5, -1.7241379310344827, -0.9545454545454546, -1.4583333333333333, -4.0, -3.0, -5.0, -6.0], \"yaxis\": \"y\"}, {\"customdata\": [[\"ederson santana de moraes\"], [\"jordan pickford\"], [\"rui pedro dos santos patr\\u00edcio\"], [\"hugo lloris\"], [\"nick pope\"], [\"bernd leno\"], [\"lukasz fabianski\"], [\"david de gea\"], [\"vicente guaita\"], [\"alisson ramses becker\"], [\"martin dubravka\"], [\"dean henderson\"], [\"kasper schmeichel\"], [\"angus gunn\"], [\"ben foster\"], [\"mathew ryan\"], [\"tom heaton\"], [\"adri\\u00e1n san miguel del castillo\"], [\"kepa arrizabalaga\"], [\"aaron ramsdale\"], [\"tim krul\"]], \"hoverlabel\": {\"namelength\": 0}, \"hovertemplate\": \"Position=Goalkeeper<br>Cost=%{x}<br>Points=%{y}<br>Points per Cost=%{marker.size}<br>Full Name=%{customdata[0]}\", \"legendgroup\": \"Position=Goalkeeper\", \"marker\": {\"color\": \"#ab63fa\", \"size\": [7.704918032786885, 7.648809523809525, 5.184122429459589, 6.707616707616707, 1.5217391304347827, 4.488888888888889, 6.60952380952381, 4.238945578231293, 4.316666666666667, 8.399646330680813, 5.534883720930233, 1.3333333333333333, 4.5285714285714285, 2.888888888888889, 5.228377065111759, 3.9816933638443937, 2.357487922705314, 1.0869565217391306, 5.427272727272728, 0.0, 0.0], \"sizemode\": \"area\", \"sizeref\": 0.025457875457875458, \"symbol\": \"circle\"}, \"mode\": \"markers\", \"name\": \"Position=Goalkeeper\", \"showlegend\": true, \"type\": \"scatter\", \"x\": [6.1, 5.6, 5.1, 5.5, 4.6, 5.0, 5.0, 5.6, 5.0, 5.8, 5.0, 4.5, 5.0, 4.5, 4.9, 4.6, 4.5, 4.6, 5.5, 4.5, 4.5], \"xaxis\": \"x\", \"y\": [47.0, 42.833333333333336, 26.439024390243905, 36.89189189189189, 7.0, 22.444444444444443, 33.04761904761905, 23.73809523809524, 21.583333333333336, 48.717948717948715, 27.674418604651162, 6.0, 22.642857142857142, 13.0, 25.61904761904762, 18.31578947368421, 10.608695652173912, 5.0, 29.85, 0.0, -1.0], \"yaxis\": \"y\"}],\n",
       "                        {\"height\": 600, \"legend\": {\"itemsizing\": \"constant\", \"tracegroupgap\": 0}, \"margin\": {\"t\": 60}, \"template\": {\"data\": {\"bar\": [{\"error_x\": {\"color\": \"#2a3f5f\"}, \"error_y\": {\"color\": \"#2a3f5f\"}, \"marker\": {\"line\": {\"color\": \"#E5ECF6\", \"width\": 0.5}}, \"type\": \"bar\"}], \"barpolar\": [{\"marker\": {\"line\": {\"color\": \"#E5ECF6\", \"width\": 0.5}}, \"type\": \"barpolar\"}], \"carpet\": [{\"aaxis\": {\"endlinecolor\": \"#2a3f5f\", \"gridcolor\": \"white\", \"linecolor\": \"white\", \"minorgridcolor\": \"white\", \"startlinecolor\": \"#2a3f5f\"}, \"baxis\": {\"endlinecolor\": \"#2a3f5f\", \"gridcolor\": \"white\", \"linecolor\": \"white\", \"minorgridcolor\": \"white\", \"startlinecolor\": \"#2a3f5f\"}, \"type\": \"carpet\"}], \"choropleth\": [{\"colorbar\": {\"outlinewidth\": 0, \"ticks\": \"\"}, \"type\": \"choropleth\"}], \"contour\": [{\"colorbar\": {\"outlinewidth\": 0, \"ticks\": \"\"}, \"colorscale\": [[0.0, \"#0d0887\"], [0.1111111111111111, \"#46039f\"], [0.2222222222222222, \"#7201a8\"], [0.3333333333333333, \"#9c179e\"], [0.4444444444444444, \"#bd3786\"], [0.5555555555555556, \"#d8576b\"], [0.6666666666666666, \"#ed7953\"], [0.7777777777777778, \"#fb9f3a\"], [0.8888888888888888, \"#fdca26\"], [1.0, \"#f0f921\"]], \"type\": \"contour\"}], \"contourcarpet\": [{\"colorbar\": {\"outlinewidth\": 0, \"ticks\": \"\"}, \"type\": \"contourcarpet\"}], \"heatmap\": [{\"colorbar\": {\"outlinewidth\": 0, \"ticks\": \"\"}, \"colorscale\": [[0.0, \"#0d0887\"], [0.1111111111111111, \"#46039f\"], [0.2222222222222222, \"#7201a8\"], [0.3333333333333333, \"#9c179e\"], [0.4444444444444444, \"#bd3786\"], [0.5555555555555556, \"#d8576b\"], [0.6666666666666666, \"#ed7953\"], [0.7777777777777778, \"#fb9f3a\"], [0.8888888888888888, \"#fdca26\"], [1.0, \"#f0f921\"]], \"type\": \"heatmap\"}], \"heatmapgl\": [{\"colorbar\": {\"outlinewidth\": 0, \"ticks\": \"\"}, \"colorscale\": [[0.0, \"#0d0887\"], [0.1111111111111111, \"#46039f\"], [0.2222222222222222, \"#7201a8\"], [0.3333333333333333, \"#9c179e\"], [0.4444444444444444, \"#bd3786\"], [0.5555555555555556, \"#d8576b\"], [0.6666666666666666, \"#ed7953\"], [0.7777777777777778, \"#fb9f3a\"], [0.8888888888888888, \"#fdca26\"], [1.0, \"#f0f921\"]], \"type\": \"heatmapgl\"}], \"histogram\": [{\"marker\": {\"colorbar\": {\"outlinewidth\": 0, \"ticks\": \"\"}}, \"type\": \"histogram\"}], \"histogram2d\": [{\"colorbar\": {\"outlinewidth\": 0, \"ticks\": \"\"}, \"colorscale\": [[0.0, \"#0d0887\"], [0.1111111111111111, \"#46039f\"], [0.2222222222222222, \"#7201a8\"], [0.3333333333333333, \"#9c179e\"], [0.4444444444444444, \"#bd3786\"], [0.5555555555555556, \"#d8576b\"], [0.6666666666666666, \"#ed7953\"], [0.7777777777777778, \"#fb9f3a\"], [0.8888888888888888, \"#fdca26\"], [1.0, \"#f0f921\"]], \"type\": \"histogram2d\"}], \"histogram2dcontour\": [{\"colorbar\": {\"outlinewidth\": 0, \"ticks\": \"\"}, \"colorscale\": [[0.0, \"#0d0887\"], [0.1111111111111111, \"#46039f\"], [0.2222222222222222, \"#7201a8\"], [0.3333333333333333, \"#9c179e\"], [0.4444444444444444, \"#bd3786\"], [0.5555555555555556, \"#d8576b\"], [0.6666666666666666, \"#ed7953\"], [0.7777777777777778, \"#fb9f3a\"], [0.8888888888888888, \"#fdca26\"], [1.0, \"#f0f921\"]], \"type\": \"histogram2dcontour\"}], \"mesh3d\": [{\"colorbar\": {\"outlinewidth\": 0, \"ticks\": \"\"}, \"type\": \"mesh3d\"}], \"parcoords\": [{\"line\": {\"colorbar\": {\"outlinewidth\": 0, \"ticks\": \"\"}}, \"type\": \"parcoords\"}], \"scatter\": [{\"marker\": {\"colorbar\": {\"outlinewidth\": 0, \"ticks\": \"\"}}, \"type\": \"scatter\"}], \"scatter3d\": [{\"line\": {\"colorbar\": {\"outlinewidth\": 0, \"ticks\": \"\"}}, \"marker\": {\"colorbar\": {\"outlinewidth\": 0, \"ticks\": \"\"}}, \"type\": \"scatter3d\"}], \"scattercarpet\": [{\"marker\": {\"colorbar\": {\"outlinewidth\": 0, \"ticks\": \"\"}}, \"type\": \"scattercarpet\"}], \"scattergeo\": [{\"marker\": {\"colorbar\": {\"outlinewidth\": 0, \"ticks\": \"\"}}, \"type\": \"scattergeo\"}], \"scattergl\": [{\"marker\": {\"colorbar\": {\"outlinewidth\": 0, \"ticks\": \"\"}}, \"type\": \"scattergl\"}], \"scattermapbox\": [{\"marker\": {\"colorbar\": {\"outlinewidth\": 0, \"ticks\": \"\"}}, \"type\": \"scattermapbox\"}], \"scatterpolar\": [{\"marker\": {\"colorbar\": {\"outlinewidth\": 0, \"ticks\": \"\"}}, \"type\": \"scatterpolar\"}], \"scatterpolargl\": [{\"marker\": {\"colorbar\": {\"outlinewidth\": 0, \"ticks\": \"\"}}, \"type\": \"scatterpolargl\"}], \"scatterternary\": [{\"marker\": {\"colorbar\": {\"outlinewidth\": 0, \"ticks\": \"\"}}, \"type\": \"scatterternary\"}], \"surface\": [{\"colorbar\": {\"outlinewidth\": 0, \"ticks\": \"\"}, \"colorscale\": [[0.0, \"#0d0887\"], [0.1111111111111111, \"#46039f\"], [0.2222222222222222, \"#7201a8\"], [0.3333333333333333, \"#9c179e\"], [0.4444444444444444, \"#bd3786\"], [0.5555555555555556, \"#d8576b\"], [0.6666666666666666, \"#ed7953\"], [0.7777777777777778, \"#fb9f3a\"], [0.8888888888888888, \"#fdca26\"], [1.0, \"#f0f921\"]], \"type\": \"surface\"}], \"table\": [{\"cells\": {\"fill\": {\"color\": \"#EBF0F8\"}, \"line\": {\"color\": \"white\"}}, \"header\": {\"fill\": {\"color\": \"#C8D4E3\"}, \"line\": {\"color\": \"white\"}}, \"type\": \"table\"}]}, \"layout\": {\"annotationdefaults\": {\"arrowcolor\": \"#2a3f5f\", \"arrowhead\": 0, \"arrowwidth\": 1}, \"colorscale\": {\"diverging\": [[0, \"#8e0152\"], [0.1, \"#c51b7d\"], [0.2, \"#de77ae\"], [0.3, \"#f1b6da\"], [0.4, \"#fde0ef\"], [0.5, \"#f7f7f7\"], [0.6, \"#e6f5d0\"], [0.7, \"#b8e186\"], [0.8, \"#7fbc41\"], [0.9, \"#4d9221\"], [1, \"#276419\"]], \"sequential\": [[0.0, \"#0d0887\"], [0.1111111111111111, \"#46039f\"], [0.2222222222222222, \"#7201a8\"], [0.3333333333333333, \"#9c179e\"], [0.4444444444444444, \"#bd3786\"], [0.5555555555555556, \"#d8576b\"], [0.6666666666666666, \"#ed7953\"], [0.7777777777777778, \"#fb9f3a\"], [0.8888888888888888, \"#fdca26\"], [1.0, \"#f0f921\"]], \"sequentialminus\": [[0.0, \"#0d0887\"], [0.1111111111111111, \"#46039f\"], [0.2222222222222222, \"#7201a8\"], [0.3333333333333333, \"#9c179e\"], [0.4444444444444444, \"#bd3786\"], [0.5555555555555556, \"#d8576b\"], [0.6666666666666666, \"#ed7953\"], [0.7777777777777778, \"#fb9f3a\"], [0.8888888888888888, \"#fdca26\"], [1.0, \"#f0f921\"]]}, \"colorway\": [\"#636efa\", \"#EF553B\", \"#00cc96\", \"#ab63fa\", \"#FFA15A\", \"#19d3f3\", \"#FF6692\", \"#B6E880\", \"#FF97FF\", \"#FECB52\"], \"font\": {\"color\": \"#2a3f5f\"}, \"geo\": {\"bgcolor\": \"white\", \"lakecolor\": \"white\", \"landcolor\": \"#E5ECF6\", \"showlakes\": true, \"showland\": true, \"subunitcolor\": \"white\"}, \"hoverlabel\": {\"align\": \"left\"}, \"hovermode\": \"closest\", \"mapbox\": {\"style\": \"light\"}, \"paper_bgcolor\": \"white\", \"plot_bgcolor\": \"#E5ECF6\", \"polar\": {\"angularaxis\": {\"gridcolor\": \"white\", \"linecolor\": \"white\", \"ticks\": \"\"}, \"bgcolor\": \"#E5ECF6\", \"radialaxis\": {\"gridcolor\": \"white\", \"linecolor\": \"white\", \"ticks\": \"\"}}, \"scene\": {\"xaxis\": {\"backgroundcolor\": \"#E5ECF6\", \"gridcolor\": \"white\", \"gridwidth\": 2, \"linecolor\": \"white\", \"showbackground\": true, \"ticks\": \"\", \"zerolinecolor\": \"white\"}, \"yaxis\": {\"backgroundcolor\": \"#E5ECF6\", \"gridcolor\": \"white\", \"gridwidth\": 2, \"linecolor\": \"white\", \"showbackground\": true, \"ticks\": \"\", \"zerolinecolor\": \"white\"}, \"zaxis\": {\"backgroundcolor\": \"#E5ECF6\", \"gridcolor\": \"white\", \"gridwidth\": 2, \"linecolor\": \"white\", \"showbackground\": true, \"ticks\": \"\", \"zerolinecolor\": \"white\"}}, \"shapedefaults\": {\"line\": {\"color\": \"#2a3f5f\"}}, \"ternary\": {\"aaxis\": {\"gridcolor\": \"white\", \"linecolor\": \"white\", \"ticks\": \"\"}, \"baxis\": {\"gridcolor\": \"white\", \"linecolor\": \"white\", \"ticks\": \"\"}, \"bgcolor\": \"#E5ECF6\", \"caxis\": {\"gridcolor\": \"white\", \"linecolor\": \"white\", \"ticks\": \"\"}}, \"title\": {\"x\": 0.05}, \"xaxis\": {\"automargin\": true, \"gridcolor\": \"white\", \"linecolor\": \"white\", \"ticks\": \"\", \"zerolinecolor\": \"white\", \"zerolinewidth\": 2}, \"yaxis\": {\"automargin\": true, \"gridcolor\": \"white\", \"linecolor\": \"white\", \"ticks\": \"\", \"zerolinecolor\": \"white\", \"zerolinewidth\": 2}}}, \"title\": {\"text\": \"Effective Points vs Cost\"}, \"xaxis\": {\"anchor\": \"y\", \"domain\": [0.0, 0.98], \"title\": {\"text\": \"Cost\"}}, \"yaxis\": {\"anchor\": \"x\", \"domain\": [0.0, 1.0], \"title\": {\"text\": \"Points\"}}},\n",
       "                        {\"responsive\": true}\n",
       "                    ).then(function(){\n",
       "                            \n",
       "var gd = document.getElementById('3643afa7-54d2-4df9-a0b1-5d4b81ce8866');\n",
       "var x = new MutationObserver(function (mutations, observer) {{\n",
       "        var display = window.getComputedStyle(gd).display;\n",
       "        if (!display || display === 'none') {{\n",
       "            console.log([gd, 'removed!']);\n",
       "            Plotly.purge(gd);\n",
       "            observer.disconnect();\n",
       "        }}\n",
       "}});\n",
       "\n",
       "// Listen for the removal of the full notebook cells\n",
       "var notebookContainer = gd.closest('#notebook-container');\n",
       "if (notebookContainer) {{\n",
       "    x.observe(notebookContainer, {childList: true});\n",
       "}}\n",
       "\n",
       "// Listen for the clearing of the current output cell\n",
       "var outputEl = gd.closest('.output');\n",
       "if (outputEl) {{\n",
       "    x.observe(outputEl, {childList: true});\n",
       "}}\n",
       "\n",
       "                        })\n",
       "                };\n",
       "                });\n",
       "            </script>\n",
       "        </div>"
      ]
     },
     "metadata": {},
     "output_type": "display_data"
    }
   ],
   "source": [
    "# distribution of players' effective points vs cost\n",
    "fig = px.scatter(players, y='points', x='cost', color='position', size='pc', hover_data=['full_name'], labels={'full_name':'Full Name', 'points':'Points', 'cost':'Cost', 'pc':'Points per Cost', 'position':'Position'})\n",
    "fig.update_layout(title='Effective Points vs Cost')\n",
    "fig.show()\n",
    "\n"
   ]
  },
  {
   "cell_type": "code",
   "execution_count": 32,
   "metadata": {},
   "outputs": [],
   "source": [
    "players = players.to_json(orient='records')\n",
    "players = json.loads(players)"
   ]
  },
  {
   "cell_type": "code",
   "execution_count": 41,
   "metadata": {},
   "outputs": [
    {
     "data": {
      "application/vnd.plotly.v1+json": {
       "config": {
        "plotlyServerURL": "https://plot.ly"
       },
       "data": [
        {
         "name": "Points",
         "type": "bar",
         "x": [
          "Liverpool",
          "Man City",
          "Everton",
          "Wolves",
          "Leicester",
          "Man Utd",
          "Spurs",
          "Crystal Palace",
          "Arsenal",
          "Chelsea",
          "West Ham",
          "Bournemouth",
          "Burnley",
          "Watford",
          "Newcastle",
          "Brighton",
          "Southampton",
          "Sheffield Utd",
          "Aston Villa",
          "Norwich"
         ],
         "y": [
          630.6670995558,
          582.0688563665999,
          358.05254837909996,
          285.35236468840003,
          321.57510606360006,
          293.63514326929993,
          369.59800785240003,
          278.73423681500003,
          308.9307434784999,
          306.49494697669996,
          247.02404966219999,
          206.199569703,
          183.01540744929994,
          228.44895404719998,
          167.6636976713,
          158.62200711830002,
          180.1711392557,
          62.6875,
          59.1086956522,
          31
         ]
        },
        {
         "name": "Cost",
         "type": "bar",
         "x": [
          "Liverpool",
          "Man City",
          "Everton",
          "Wolves",
          "Leicester",
          "Man Utd",
          "Spurs",
          "Crystal Palace",
          "Arsenal",
          "Chelsea",
          "West Ham",
          "Bournemouth",
          "Burnley",
          "Watford",
          "Newcastle",
          "Brighton",
          "Southampton",
          "Sheffield Utd",
          "Aston Villa",
          "Norwich"
         ],
         "y": [
          121.20000000000002,
          129.2,
          100.10000000000002,
          85.89999999999999,
          99.40000000000002,
          95.7,
          122.20000000000002,
          94.00000000000001,
          108.00000000000001,
          111.9,
          93.7,
          84.50000000000001,
          75.2,
          103.90000000000002,
          89.60000000000001,
          86.10000000000001,
          101.50000000000001,
          88.70000000000002,
          86.00000000000001,
          99.5
         ]
        }
       ],
       "layout": {
        "barmode": "group",
        "template": {
         "data": {
          "bar": [
           {
            "error_x": {
             "color": "#2a3f5f"
            },
            "error_y": {
             "color": "#2a3f5f"
            },
            "marker": {
             "line": {
              "color": "#E5ECF6",
              "width": 0.5
             }
            },
            "type": "bar"
           }
          ],
          "barpolar": [
           {
            "marker": {
             "line": {
              "color": "#E5ECF6",
              "width": 0.5
             }
            },
            "type": "barpolar"
           }
          ],
          "carpet": [
           {
            "aaxis": {
             "endlinecolor": "#2a3f5f",
             "gridcolor": "white",
             "linecolor": "white",
             "minorgridcolor": "white",
             "startlinecolor": "#2a3f5f"
            },
            "baxis": {
             "endlinecolor": "#2a3f5f",
             "gridcolor": "white",
             "linecolor": "white",
             "minorgridcolor": "white",
             "startlinecolor": "#2a3f5f"
            },
            "type": "carpet"
           }
          ],
          "choropleth": [
           {
            "colorbar": {
             "outlinewidth": 0,
             "ticks": ""
            },
            "type": "choropleth"
           }
          ],
          "contour": [
           {
            "colorbar": {
             "outlinewidth": 0,
             "ticks": ""
            },
            "colorscale": [
             [
              0,
              "#0d0887"
             ],
             [
              0.1111111111111111,
              "#46039f"
             ],
             [
              0.2222222222222222,
              "#7201a8"
             ],
             [
              0.3333333333333333,
              "#9c179e"
             ],
             [
              0.4444444444444444,
              "#bd3786"
             ],
             [
              0.5555555555555556,
              "#d8576b"
             ],
             [
              0.6666666666666666,
              "#ed7953"
             ],
             [
              0.7777777777777778,
              "#fb9f3a"
             ],
             [
              0.8888888888888888,
              "#fdca26"
             ],
             [
              1,
              "#f0f921"
             ]
            ],
            "type": "contour"
           }
          ],
          "contourcarpet": [
           {
            "colorbar": {
             "outlinewidth": 0,
             "ticks": ""
            },
            "type": "contourcarpet"
           }
          ],
          "heatmap": [
           {
            "colorbar": {
             "outlinewidth": 0,
             "ticks": ""
            },
            "colorscale": [
             [
              0,
              "#0d0887"
             ],
             [
              0.1111111111111111,
              "#46039f"
             ],
             [
              0.2222222222222222,
              "#7201a8"
             ],
             [
              0.3333333333333333,
              "#9c179e"
             ],
             [
              0.4444444444444444,
              "#bd3786"
             ],
             [
              0.5555555555555556,
              "#d8576b"
             ],
             [
              0.6666666666666666,
              "#ed7953"
             ],
             [
              0.7777777777777778,
              "#fb9f3a"
             ],
             [
              0.8888888888888888,
              "#fdca26"
             ],
             [
              1,
              "#f0f921"
             ]
            ],
            "type": "heatmap"
           }
          ],
          "heatmapgl": [
           {
            "colorbar": {
             "outlinewidth": 0,
             "ticks": ""
            },
            "colorscale": [
             [
              0,
              "#0d0887"
             ],
             [
              0.1111111111111111,
              "#46039f"
             ],
             [
              0.2222222222222222,
              "#7201a8"
             ],
             [
              0.3333333333333333,
              "#9c179e"
             ],
             [
              0.4444444444444444,
              "#bd3786"
             ],
             [
              0.5555555555555556,
              "#d8576b"
             ],
             [
              0.6666666666666666,
              "#ed7953"
             ],
             [
              0.7777777777777778,
              "#fb9f3a"
             ],
             [
              0.8888888888888888,
              "#fdca26"
             ],
             [
              1,
              "#f0f921"
             ]
            ],
            "type": "heatmapgl"
           }
          ],
          "histogram": [
           {
            "marker": {
             "colorbar": {
              "outlinewidth": 0,
              "ticks": ""
             }
            },
            "type": "histogram"
           }
          ],
          "histogram2d": [
           {
            "colorbar": {
             "outlinewidth": 0,
             "ticks": ""
            },
            "colorscale": [
             [
              0,
              "#0d0887"
             ],
             [
              0.1111111111111111,
              "#46039f"
             ],
             [
              0.2222222222222222,
              "#7201a8"
             ],
             [
              0.3333333333333333,
              "#9c179e"
             ],
             [
              0.4444444444444444,
              "#bd3786"
             ],
             [
              0.5555555555555556,
              "#d8576b"
             ],
             [
              0.6666666666666666,
              "#ed7953"
             ],
             [
              0.7777777777777778,
              "#fb9f3a"
             ],
             [
              0.8888888888888888,
              "#fdca26"
             ],
             [
              1,
              "#f0f921"
             ]
            ],
            "type": "histogram2d"
           }
          ],
          "histogram2dcontour": [
           {
            "colorbar": {
             "outlinewidth": 0,
             "ticks": ""
            },
            "colorscale": [
             [
              0,
              "#0d0887"
             ],
             [
              0.1111111111111111,
              "#46039f"
             ],
             [
              0.2222222222222222,
              "#7201a8"
             ],
             [
              0.3333333333333333,
              "#9c179e"
             ],
             [
              0.4444444444444444,
              "#bd3786"
             ],
             [
              0.5555555555555556,
              "#d8576b"
             ],
             [
              0.6666666666666666,
              "#ed7953"
             ],
             [
              0.7777777777777778,
              "#fb9f3a"
             ],
             [
              0.8888888888888888,
              "#fdca26"
             ],
             [
              1,
              "#f0f921"
             ]
            ],
            "type": "histogram2dcontour"
           }
          ],
          "mesh3d": [
           {
            "colorbar": {
             "outlinewidth": 0,
             "ticks": ""
            },
            "type": "mesh3d"
           }
          ],
          "parcoords": [
           {
            "line": {
             "colorbar": {
              "outlinewidth": 0,
              "ticks": ""
             }
            },
            "type": "parcoords"
           }
          ],
          "scatter": [
           {
            "marker": {
             "colorbar": {
              "outlinewidth": 0,
              "ticks": ""
             }
            },
            "type": "scatter"
           }
          ],
          "scatter3d": [
           {
            "line": {
             "colorbar": {
              "outlinewidth": 0,
              "ticks": ""
             }
            },
            "marker": {
             "colorbar": {
              "outlinewidth": 0,
              "ticks": ""
             }
            },
            "type": "scatter3d"
           }
          ],
          "scattercarpet": [
           {
            "marker": {
             "colorbar": {
              "outlinewidth": 0,
              "ticks": ""
             }
            },
            "type": "scattercarpet"
           }
          ],
          "scattergeo": [
           {
            "marker": {
             "colorbar": {
              "outlinewidth": 0,
              "ticks": ""
             }
            },
            "type": "scattergeo"
           }
          ],
          "scattergl": [
           {
            "marker": {
             "colorbar": {
              "outlinewidth": 0,
              "ticks": ""
             }
            },
            "type": "scattergl"
           }
          ],
          "scattermapbox": [
           {
            "marker": {
             "colorbar": {
              "outlinewidth": 0,
              "ticks": ""
             }
            },
            "type": "scattermapbox"
           }
          ],
          "scatterpolar": [
           {
            "marker": {
             "colorbar": {
              "outlinewidth": 0,
              "ticks": ""
             }
            },
            "type": "scatterpolar"
           }
          ],
          "scatterpolargl": [
           {
            "marker": {
             "colorbar": {
              "outlinewidth": 0,
              "ticks": ""
             }
            },
            "type": "scatterpolargl"
           }
          ],
          "scatterternary": [
           {
            "marker": {
             "colorbar": {
              "outlinewidth": 0,
              "ticks": ""
             }
            },
            "type": "scatterternary"
           }
          ],
          "surface": [
           {
            "colorbar": {
             "outlinewidth": 0,
             "ticks": ""
            },
            "colorscale": [
             [
              0,
              "#0d0887"
             ],
             [
              0.1111111111111111,
              "#46039f"
             ],
             [
              0.2222222222222222,
              "#7201a8"
             ],
             [
              0.3333333333333333,
              "#9c179e"
             ],
             [
              0.4444444444444444,
              "#bd3786"
             ],
             [
              0.5555555555555556,
              "#d8576b"
             ],
             [
              0.6666666666666666,
              "#ed7953"
             ],
             [
              0.7777777777777778,
              "#fb9f3a"
             ],
             [
              0.8888888888888888,
              "#fdca26"
             ],
             [
              1,
              "#f0f921"
             ]
            ],
            "type": "surface"
           }
          ],
          "table": [
           {
            "cells": {
             "fill": {
              "color": "#EBF0F8"
             },
             "line": {
              "color": "white"
             }
            },
            "header": {
             "fill": {
              "color": "#C8D4E3"
             },
             "line": {
              "color": "white"
             }
            },
            "type": "table"
           }
          ]
         },
         "layout": {
          "annotationdefaults": {
           "arrowcolor": "#2a3f5f",
           "arrowhead": 0,
           "arrowwidth": 1
          },
          "colorscale": {
           "diverging": [
            [
             0,
             "#8e0152"
            ],
            [
             0.1,
             "#c51b7d"
            ],
            [
             0.2,
             "#de77ae"
            ],
            [
             0.3,
             "#f1b6da"
            ],
            [
             0.4,
             "#fde0ef"
            ],
            [
             0.5,
             "#f7f7f7"
            ],
            [
             0.6,
             "#e6f5d0"
            ],
            [
             0.7,
             "#b8e186"
            ],
            [
             0.8,
             "#7fbc41"
            ],
            [
             0.9,
             "#4d9221"
            ],
            [
             1,
             "#276419"
            ]
           ],
           "sequential": [
            [
             0,
             "#0d0887"
            ],
            [
             0.1111111111111111,
             "#46039f"
            ],
            [
             0.2222222222222222,
             "#7201a8"
            ],
            [
             0.3333333333333333,
             "#9c179e"
            ],
            [
             0.4444444444444444,
             "#bd3786"
            ],
            [
             0.5555555555555556,
             "#d8576b"
            ],
            [
             0.6666666666666666,
             "#ed7953"
            ],
            [
             0.7777777777777778,
             "#fb9f3a"
            ],
            [
             0.8888888888888888,
             "#fdca26"
            ],
            [
             1,
             "#f0f921"
            ]
           ],
           "sequentialminus": [
            [
             0,
             "#0d0887"
            ],
            [
             0.1111111111111111,
             "#46039f"
            ],
            [
             0.2222222222222222,
             "#7201a8"
            ],
            [
             0.3333333333333333,
             "#9c179e"
            ],
            [
             0.4444444444444444,
             "#bd3786"
            ],
            [
             0.5555555555555556,
             "#d8576b"
            ],
            [
             0.6666666666666666,
             "#ed7953"
            ],
            [
             0.7777777777777778,
             "#fb9f3a"
            ],
            [
             0.8888888888888888,
             "#fdca26"
            ],
            [
             1,
             "#f0f921"
            ]
           ]
          },
          "colorway": [
           "#636efa",
           "#EF553B",
           "#00cc96",
           "#ab63fa",
           "#FFA15A",
           "#19d3f3",
           "#FF6692",
           "#B6E880",
           "#FF97FF",
           "#FECB52"
          ],
          "font": {
           "color": "#2a3f5f"
          },
          "geo": {
           "bgcolor": "white",
           "lakecolor": "white",
           "landcolor": "#E5ECF6",
           "showlakes": true,
           "showland": true,
           "subunitcolor": "white"
          },
          "hoverlabel": {
           "align": "left"
          },
          "hovermode": "closest",
          "mapbox": {
           "style": "light"
          },
          "paper_bgcolor": "white",
          "plot_bgcolor": "#E5ECF6",
          "polar": {
           "angularaxis": {
            "gridcolor": "white",
            "linecolor": "white",
            "ticks": ""
           },
           "bgcolor": "#E5ECF6",
           "radialaxis": {
            "gridcolor": "white",
            "linecolor": "white",
            "ticks": ""
           }
          },
          "scene": {
           "xaxis": {
            "backgroundcolor": "#E5ECF6",
            "gridcolor": "white",
            "gridwidth": 2,
            "linecolor": "white",
            "showbackground": true,
            "ticks": "",
            "zerolinecolor": "white"
           },
           "yaxis": {
            "backgroundcolor": "#E5ECF6",
            "gridcolor": "white",
            "gridwidth": 2,
            "linecolor": "white",
            "showbackground": true,
            "ticks": "",
            "zerolinecolor": "white"
           },
           "zaxis": {
            "backgroundcolor": "#E5ECF6",
            "gridcolor": "white",
            "gridwidth": 2,
            "linecolor": "white",
            "showbackground": true,
            "ticks": "",
            "zerolinecolor": "white"
           }
          },
          "shapedefaults": {
           "line": {
            "color": "#2a3f5f"
           }
          },
          "ternary": {
           "aaxis": {
            "gridcolor": "white",
            "linecolor": "white",
            "ticks": ""
           },
           "baxis": {
            "gridcolor": "white",
            "linecolor": "white",
            "ticks": ""
           },
           "bgcolor": "#E5ECF6",
           "caxis": {
            "gridcolor": "white",
            "linecolor": "white",
            "ticks": ""
           }
          },
          "title": {
           "x": 0.05
          },
          "xaxis": {
           "automargin": true,
           "gridcolor": "white",
           "linecolor": "white",
           "ticks": "",
           "zerolinecolor": "white",
           "zerolinewidth": 2
          },
          "yaxis": {
           "automargin": true,
           "gridcolor": "white",
           "linecolor": "white",
           "ticks": "",
           "zerolinecolor": "white",
           "zerolinewidth": 2
          }
         }
        },
        "title": {
         "text": "Teams' Total Effective Points and Cost"
        },
        "xaxis": {
         "title": {
          "text": "Teams"
         }
        }
       }
      },
      "text/html": [
       "<div>\n",
       "        \n",
       "        \n",
       "            <div id=\"2dc477c3-4696-4c33-b0a5-f6cd760a9ced\" class=\"plotly-graph-div\" style=\"height:525px; width:100%;\"></div>\n",
       "            <script type=\"text/javascript\">\n",
       "                require([\"plotly\"], function(Plotly) {\n",
       "                    window.PLOTLYENV=window.PLOTLYENV || {};\n",
       "                    \n",
       "                if (document.getElementById(\"2dc477c3-4696-4c33-b0a5-f6cd760a9ced\")) {\n",
       "                    Plotly.newPlot(\n",
       "                        '2dc477c3-4696-4c33-b0a5-f6cd760a9ced',\n",
       "                        [{\"name\": \"Points\", \"type\": \"bar\", \"x\": [\"Liverpool\", \"Man City\", \"Everton\", \"Wolves\", \"Leicester\", \"Man Utd\", \"Spurs\", \"Crystal Palace\", \"Arsenal\", \"Chelsea\", \"West Ham\", \"Bournemouth\", \"Burnley\", \"Watford\", \"Newcastle\", \"Brighton\", \"Southampton\", \"Sheffield Utd\", \"Aston Villa\", \"Norwich\"], \"y\": [630.6670995558, 582.0688563665999, 358.05254837909996, 285.35236468840003, 321.57510606360006, 293.63514326929993, 369.59800785240003, 278.73423681500003, 308.9307434784999, 306.49494697669996, 247.02404966219999, 206.199569703, 183.01540744929994, 228.44895404719998, 167.6636976713, 158.62200711830002, 180.1711392557, 62.6875, 59.1086956522, 31.0]}, {\"name\": \"Cost\", \"type\": \"bar\", \"x\": [\"Liverpool\", \"Man City\", \"Everton\", \"Wolves\", \"Leicester\", \"Man Utd\", \"Spurs\", \"Crystal Palace\", \"Arsenal\", \"Chelsea\", \"West Ham\", \"Bournemouth\", \"Burnley\", \"Watford\", \"Newcastle\", \"Brighton\", \"Southampton\", \"Sheffield Utd\", \"Aston Villa\", \"Norwich\"], \"y\": [121.20000000000002, 129.2, 100.10000000000002, 85.89999999999999, 99.40000000000002, 95.7, 122.20000000000002, 94.00000000000001, 108.00000000000001, 111.9, 93.7, 84.50000000000001, 75.2, 103.90000000000002, 89.60000000000001, 86.10000000000001, 101.50000000000001, 88.70000000000002, 86.00000000000001, 99.5]}],\n",
       "                        {\"barmode\": \"group\", \"template\": {\"data\": {\"bar\": [{\"error_x\": {\"color\": \"#2a3f5f\"}, \"error_y\": {\"color\": \"#2a3f5f\"}, \"marker\": {\"line\": {\"color\": \"#E5ECF6\", \"width\": 0.5}}, \"type\": \"bar\"}], \"barpolar\": [{\"marker\": {\"line\": {\"color\": \"#E5ECF6\", \"width\": 0.5}}, \"type\": \"barpolar\"}], \"carpet\": [{\"aaxis\": {\"endlinecolor\": \"#2a3f5f\", \"gridcolor\": \"white\", \"linecolor\": \"white\", \"minorgridcolor\": \"white\", \"startlinecolor\": \"#2a3f5f\"}, \"baxis\": {\"endlinecolor\": \"#2a3f5f\", \"gridcolor\": \"white\", \"linecolor\": \"white\", \"minorgridcolor\": \"white\", \"startlinecolor\": \"#2a3f5f\"}, \"type\": \"carpet\"}], \"choropleth\": [{\"colorbar\": {\"outlinewidth\": 0, \"ticks\": \"\"}, \"type\": \"choropleth\"}], \"contour\": [{\"colorbar\": {\"outlinewidth\": 0, \"ticks\": \"\"}, \"colorscale\": [[0.0, \"#0d0887\"], [0.1111111111111111, \"#46039f\"], [0.2222222222222222, \"#7201a8\"], [0.3333333333333333, \"#9c179e\"], [0.4444444444444444, \"#bd3786\"], [0.5555555555555556, \"#d8576b\"], [0.6666666666666666, \"#ed7953\"], [0.7777777777777778, \"#fb9f3a\"], [0.8888888888888888, \"#fdca26\"], [1.0, \"#f0f921\"]], \"type\": \"contour\"}], \"contourcarpet\": [{\"colorbar\": {\"outlinewidth\": 0, \"ticks\": \"\"}, \"type\": \"contourcarpet\"}], \"heatmap\": [{\"colorbar\": {\"outlinewidth\": 0, \"ticks\": \"\"}, \"colorscale\": [[0.0, \"#0d0887\"], [0.1111111111111111, \"#46039f\"], [0.2222222222222222, \"#7201a8\"], [0.3333333333333333, \"#9c179e\"], [0.4444444444444444, \"#bd3786\"], [0.5555555555555556, \"#d8576b\"], [0.6666666666666666, \"#ed7953\"], [0.7777777777777778, \"#fb9f3a\"], [0.8888888888888888, \"#fdca26\"], [1.0, \"#f0f921\"]], \"type\": \"heatmap\"}], \"heatmapgl\": [{\"colorbar\": {\"outlinewidth\": 0, \"ticks\": \"\"}, \"colorscale\": [[0.0, \"#0d0887\"], [0.1111111111111111, \"#46039f\"], [0.2222222222222222, \"#7201a8\"], [0.3333333333333333, \"#9c179e\"], [0.4444444444444444, \"#bd3786\"], [0.5555555555555556, \"#d8576b\"], [0.6666666666666666, \"#ed7953\"], [0.7777777777777778, \"#fb9f3a\"], [0.8888888888888888, \"#fdca26\"], [1.0, \"#f0f921\"]], \"type\": \"heatmapgl\"}], \"histogram\": [{\"marker\": {\"colorbar\": {\"outlinewidth\": 0, \"ticks\": \"\"}}, \"type\": \"histogram\"}], \"histogram2d\": [{\"colorbar\": {\"outlinewidth\": 0, \"ticks\": \"\"}, \"colorscale\": [[0.0, \"#0d0887\"], [0.1111111111111111, \"#46039f\"], [0.2222222222222222, \"#7201a8\"], [0.3333333333333333, \"#9c179e\"], [0.4444444444444444, \"#bd3786\"], [0.5555555555555556, \"#d8576b\"], [0.6666666666666666, \"#ed7953\"], [0.7777777777777778, \"#fb9f3a\"], [0.8888888888888888, \"#fdca26\"], [1.0, \"#f0f921\"]], \"type\": \"histogram2d\"}], \"histogram2dcontour\": [{\"colorbar\": {\"outlinewidth\": 0, \"ticks\": \"\"}, \"colorscale\": [[0.0, \"#0d0887\"], [0.1111111111111111, \"#46039f\"], [0.2222222222222222, \"#7201a8\"], [0.3333333333333333, \"#9c179e\"], [0.4444444444444444, \"#bd3786\"], [0.5555555555555556, \"#d8576b\"], [0.6666666666666666, \"#ed7953\"], [0.7777777777777778, \"#fb9f3a\"], [0.8888888888888888, \"#fdca26\"], [1.0, \"#f0f921\"]], \"type\": \"histogram2dcontour\"}], \"mesh3d\": [{\"colorbar\": {\"outlinewidth\": 0, \"ticks\": \"\"}, \"type\": \"mesh3d\"}], \"parcoords\": [{\"line\": {\"colorbar\": {\"outlinewidth\": 0, \"ticks\": \"\"}}, \"type\": \"parcoords\"}], \"scatter\": [{\"marker\": {\"colorbar\": {\"outlinewidth\": 0, \"ticks\": \"\"}}, \"type\": \"scatter\"}], \"scatter3d\": [{\"line\": {\"colorbar\": {\"outlinewidth\": 0, \"ticks\": \"\"}}, \"marker\": {\"colorbar\": {\"outlinewidth\": 0, \"ticks\": \"\"}}, \"type\": \"scatter3d\"}], \"scattercarpet\": [{\"marker\": {\"colorbar\": {\"outlinewidth\": 0, \"ticks\": \"\"}}, \"type\": \"scattercarpet\"}], \"scattergeo\": [{\"marker\": {\"colorbar\": {\"outlinewidth\": 0, \"ticks\": \"\"}}, \"type\": \"scattergeo\"}], \"scattergl\": [{\"marker\": {\"colorbar\": {\"outlinewidth\": 0, \"ticks\": \"\"}}, \"type\": \"scattergl\"}], \"scattermapbox\": [{\"marker\": {\"colorbar\": {\"outlinewidth\": 0, \"ticks\": \"\"}}, \"type\": \"scattermapbox\"}], \"scatterpolar\": [{\"marker\": {\"colorbar\": {\"outlinewidth\": 0, \"ticks\": \"\"}}, \"type\": \"scatterpolar\"}], \"scatterpolargl\": [{\"marker\": {\"colorbar\": {\"outlinewidth\": 0, \"ticks\": \"\"}}, \"type\": \"scatterpolargl\"}], \"scatterternary\": [{\"marker\": {\"colorbar\": {\"outlinewidth\": 0, \"ticks\": \"\"}}, \"type\": \"scatterternary\"}], \"surface\": [{\"colorbar\": {\"outlinewidth\": 0, \"ticks\": \"\"}, \"colorscale\": [[0.0, \"#0d0887\"], [0.1111111111111111, \"#46039f\"], [0.2222222222222222, \"#7201a8\"], [0.3333333333333333, \"#9c179e\"], [0.4444444444444444, \"#bd3786\"], [0.5555555555555556, \"#d8576b\"], [0.6666666666666666, \"#ed7953\"], [0.7777777777777778, \"#fb9f3a\"], [0.8888888888888888, \"#fdca26\"], [1.0, \"#f0f921\"]], \"type\": \"surface\"}], \"table\": [{\"cells\": {\"fill\": {\"color\": \"#EBF0F8\"}, \"line\": {\"color\": \"white\"}}, \"header\": {\"fill\": {\"color\": \"#C8D4E3\"}, \"line\": {\"color\": \"white\"}}, \"type\": \"table\"}]}, \"layout\": {\"annotationdefaults\": {\"arrowcolor\": \"#2a3f5f\", \"arrowhead\": 0, \"arrowwidth\": 1}, \"colorscale\": {\"diverging\": [[0, \"#8e0152\"], [0.1, \"#c51b7d\"], [0.2, \"#de77ae\"], [0.3, \"#f1b6da\"], [0.4, \"#fde0ef\"], [0.5, \"#f7f7f7\"], [0.6, \"#e6f5d0\"], [0.7, \"#b8e186\"], [0.8, \"#7fbc41\"], [0.9, \"#4d9221\"], [1, \"#276419\"]], \"sequential\": [[0.0, \"#0d0887\"], [0.1111111111111111, \"#46039f\"], [0.2222222222222222, \"#7201a8\"], [0.3333333333333333, \"#9c179e\"], [0.4444444444444444, \"#bd3786\"], [0.5555555555555556, \"#d8576b\"], [0.6666666666666666, \"#ed7953\"], [0.7777777777777778, \"#fb9f3a\"], [0.8888888888888888, \"#fdca26\"], [1.0, \"#f0f921\"]], \"sequentialminus\": [[0.0, \"#0d0887\"], [0.1111111111111111, \"#46039f\"], [0.2222222222222222, \"#7201a8\"], [0.3333333333333333, \"#9c179e\"], [0.4444444444444444, \"#bd3786\"], [0.5555555555555556, \"#d8576b\"], [0.6666666666666666, \"#ed7953\"], [0.7777777777777778, \"#fb9f3a\"], [0.8888888888888888, \"#fdca26\"], [1.0, \"#f0f921\"]]}, \"colorway\": [\"#636efa\", \"#EF553B\", \"#00cc96\", \"#ab63fa\", \"#FFA15A\", \"#19d3f3\", \"#FF6692\", \"#B6E880\", \"#FF97FF\", \"#FECB52\"], \"font\": {\"color\": \"#2a3f5f\"}, \"geo\": {\"bgcolor\": \"white\", \"lakecolor\": \"white\", \"landcolor\": \"#E5ECF6\", \"showlakes\": true, \"showland\": true, \"subunitcolor\": \"white\"}, \"hoverlabel\": {\"align\": \"left\"}, \"hovermode\": \"closest\", \"mapbox\": {\"style\": \"light\"}, \"paper_bgcolor\": \"white\", \"plot_bgcolor\": \"#E5ECF6\", \"polar\": {\"angularaxis\": {\"gridcolor\": \"white\", \"linecolor\": \"white\", \"ticks\": \"\"}, \"bgcolor\": \"#E5ECF6\", \"radialaxis\": {\"gridcolor\": \"white\", \"linecolor\": \"white\", \"ticks\": \"\"}}, \"scene\": {\"xaxis\": {\"backgroundcolor\": \"#E5ECF6\", \"gridcolor\": \"white\", \"gridwidth\": 2, \"linecolor\": \"white\", \"showbackground\": true, \"ticks\": \"\", \"zerolinecolor\": \"white\"}, \"yaxis\": {\"backgroundcolor\": \"#E5ECF6\", \"gridcolor\": \"white\", \"gridwidth\": 2, \"linecolor\": \"white\", \"showbackground\": true, \"ticks\": \"\", \"zerolinecolor\": \"white\"}, \"zaxis\": {\"backgroundcolor\": \"#E5ECF6\", \"gridcolor\": \"white\", \"gridwidth\": 2, \"linecolor\": \"white\", \"showbackground\": true, \"ticks\": \"\", \"zerolinecolor\": \"white\"}}, \"shapedefaults\": {\"line\": {\"color\": \"#2a3f5f\"}}, \"ternary\": {\"aaxis\": {\"gridcolor\": \"white\", \"linecolor\": \"white\", \"ticks\": \"\"}, \"baxis\": {\"gridcolor\": \"white\", \"linecolor\": \"white\", \"ticks\": \"\"}, \"bgcolor\": \"#E5ECF6\", \"caxis\": {\"gridcolor\": \"white\", \"linecolor\": \"white\", \"ticks\": \"\"}}, \"title\": {\"x\": 0.05}, \"xaxis\": {\"automargin\": true, \"gridcolor\": \"white\", \"linecolor\": \"white\", \"ticks\": \"\", \"zerolinecolor\": \"white\", \"zerolinewidth\": 2}, \"yaxis\": {\"automargin\": true, \"gridcolor\": \"white\", \"linecolor\": \"white\", \"ticks\": \"\", \"zerolinecolor\": \"white\", \"zerolinewidth\": 2}}}, \"title\": {\"text\": \"Teams' Total Effective Points and Cost\"}, \"xaxis\": {\"title\": {\"text\": \"Teams\"}}},\n",
       "                        {\"responsive\": true}\n",
       "                    ).then(function(){\n",
       "                            \n",
       "var gd = document.getElementById('2dc477c3-4696-4c33-b0a5-f6cd760a9ced');\n",
       "var x = new MutationObserver(function (mutations, observer) {{\n",
       "        var display = window.getComputedStyle(gd).display;\n",
       "        if (!display || display === 'none') {{\n",
       "            console.log([gd, 'removed!']);\n",
       "            Plotly.purge(gd);\n",
       "            observer.disconnect();\n",
       "        }}\n",
       "}});\n",
       "\n",
       "// Listen for the removal of the full notebook cells\n",
       "var notebookContainer = gd.closest('#notebook-container');\n",
       "if (notebookContainer) {{\n",
       "    x.observe(notebookContainer, {childList: true});\n",
       "}}\n",
       "\n",
       "// Listen for the clearing of the current output cell\n",
       "var outputEl = gd.closest('.output');\n",
       "if (outputEl) {{\n",
       "    x.observe(outputEl, {childList: true});\n",
       "}}\n",
       "\n",
       "                        })\n",
       "                };\n",
       "                });\n",
       "            </script>\n",
       "        </div>"
      ]
     },
     "metadata": {},
     "output_type": "display_data"
    }
   ],
   "source": [
    "teams = []\n",
    "for team in org_teams:\n",
    "    t = {'name': team['name'], 'points': 0, 'cost': 0}\n",
    "    teams.append(t)\n",
    "for player in players:\n",
    "    for team in teams:\n",
    "        if player['team_name'] == team['name']:\n",
    "            team['points'] += player['points']\n",
    "            team['cost'] += player['cost']\n",
    "\n",
    "for team in teams:\n",
    "    team['pc'] = team['points'] / team['cost']\n",
    "            \n",
    "teams = sorted(teams, key=lambda k: -k['pc'])\n",
    "teams = pd.DataFrame(teams)\n",
    "fig = go.Figure(data=[\n",
    "    go.Bar(name='Points', x=teams['name'], y=teams['points']),\n",
    "    go.Bar(name='Cost', x=teams['name'], y=teams['cost']),\n",
    "])\n",
    "fig.update_layout(xaxis_title='Teams', title='Teams\\' Total Effective Points and Cost', barmode='group')\n",
    "fig.show()\n"
   ]
  }
 ],
 "metadata": {
  "file_extension": ".py",
  "kernelspec": {
   "display_name": "Python 3",
   "language": "python",
   "name": "python3"
  },
  "language_info": {
   "codemirror_mode": {
    "name": "ipython",
    "version": 3
   },
   "file_extension": ".py",
   "mimetype": "text/x-python",
   "name": "python",
   "nbconvert_exporter": "python",
   "pygments_lexer": "ipython3",
   "version": "3.7.1"
  },
  "mimetype": "text/x-python",
  "name": "python",
  "npconvert_exporter": "python",
  "pygments_lexer": "ipython3",
  "version": 3
 },
 "nbformat": 4,
 "nbformat_minor": 2
}
